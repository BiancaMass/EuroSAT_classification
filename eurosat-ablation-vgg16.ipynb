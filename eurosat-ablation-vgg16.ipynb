{
 "cells": [
  {
   "cell_type": "markdown",
   "id": "083574c2",
   "metadata": {
    "papermill": {
     "duration": 0.014183,
     "end_time": "2022-12-02T10:39:21.234514",
     "exception": false,
     "start_time": "2022-12-02T10:39:21.220331",
     "status": "completed"
    },
    "tags": []
   },
   "source": [
    "## Import packages"
   ]
  },
  {
   "cell_type": "code",
   "execution_count": 1,
   "id": "f05e9f41",
   "metadata": {
    "execution": {
     "iopub.execute_input": "2022-12-02T10:39:21.259903Z",
     "iopub.status.busy": "2022-12-02T10:39:21.259317Z",
     "iopub.status.idle": "2022-12-02T10:39:28.742300Z",
     "shell.execute_reply": "2022-12-02T10:39:28.741331Z"
    },
    "papermill": {
     "duration": 7.494606,
     "end_time": "2022-12-02T10:39:28.744814",
     "exception": false,
     "start_time": "2022-12-02T10:39:21.250208",
     "status": "completed"
    },
    "tags": []
   },
   "outputs": [],
   "source": [
    "# Import packages\n",
    "import numpy as np\n",
    "import pandas as pd\n",
    "import matplotlib.pyplot as plt\n",
    "import seaborn as sns\n",
    "import cv2\n",
    "import os\n",
    "import random\n",
    "import tensorflow as tf\n",
    "import seaborn as sns\n",
    "import random\n",
    "import csv\n",
    "\n",
    "from sklearn.utils import shuffle\n",
    "from matplotlib import image\n",
    "from sklearn import metrics\n",
    "from sklearn.metrics import confusion_matrix\n",
    "from keras.preprocessing.image import ImageDataGenerator\n",
    "from keras.applications.vgg16 import VGG16\n",
    "from keras.models import Sequential\n",
    "from keras.layers import Dense, Flatten, Dropout, Conv2D, MaxPool2D\n",
    "from keras.callbacks import ModelCheckpoint, ReduceLROnPlateau, EarlyStopping, ReduceLROnPlateau\n",
    "from tensorflow.keras.optimizers import Adam\n",
    "\n",
    "# Suppress keras warnings\n",
    "os.environ[\"TF_CPP_MIN_LOG_LEVEL\"] = \"3\"\n",
    "random.seed(432)"
   ]
  },
  {
   "cell_type": "markdown",
   "id": "01ee5f8c",
   "metadata": {
    "papermill": {
     "duration": 0.006377,
     "end_time": "2022-12-02T10:39:28.757854",
     "exception": false,
     "start_time": "2022-12-02T10:39:28.751477",
     "status": "completed"
    },
    "tags": []
   },
   "source": [
    "## Define variables that will apply to all models:"
   ]
  },
  {
   "cell_type": "code",
   "execution_count": 2,
   "id": "2230ed84",
   "metadata": {
    "execution": {
     "iopub.execute_input": "2022-12-02T10:39:28.773110Z",
     "iopub.status.busy": "2022-12-02T10:39:28.771842Z",
     "iopub.status.idle": "2022-12-02T10:39:28.780754Z",
     "shell.execute_reply": "2022-12-02T10:39:28.779531Z"
    },
    "papermill": {
     "duration": 0.019657,
     "end_time": "2022-12-02T10:39:28.784024",
     "exception": false,
     "start_time": "2022-12-02T10:39:28.764367",
     "status": "completed"
    },
    "tags": []
   },
   "outputs": [],
   "source": [
    "# input and output folder\n",
    "input_folder = \"/kaggle/input/\"\n",
    "output_folder = \"/kaggle/working/\"\n",
    "\n",
    "n_epochs = 3\n",
    "batch_size = 128 # How big of a set of data to use for every training epoch"
   ]
  },
  {
   "cell_type": "markdown",
   "id": "acfa605c",
   "metadata": {
    "papermill": {
     "duration": 0.006214,
     "end_time": "2022-12-02T10:39:28.800377",
     "exception": false,
     "start_time": "2022-12-02T10:39:28.794163",
     "status": "completed"
    },
    "tags": []
   },
   "source": [
    "### Create a file to save test results"
   ]
  },
  {
   "cell_type": "code",
   "execution_count": 3,
   "id": "5989dfc2",
   "metadata": {
    "execution": {
     "iopub.execute_input": "2022-12-02T10:39:28.815793Z",
     "iopub.status.busy": "2022-12-02T10:39:28.815483Z",
     "iopub.status.idle": "2022-12-02T10:39:28.821688Z",
     "shell.execute_reply": "2022-12-02T10:39:28.820841Z"
    },
    "papermill": {
     "duration": 0.016966,
     "end_time": "2022-12-02T10:39:28.823600",
     "exception": false,
     "start_time": "2022-12-02T10:39:28.806634",
     "status": "completed"
    },
    "tags": []
   },
   "outputs": [],
   "source": [
    "# Open the excel file where I'll save all the test results (metrics)\n",
    "\n",
    "with open(\"./results.csv\", \"w\") as csvfile:\n",
    "    filewriter = csv.writer(csvfile, delimiter=',',\n",
    "                            quotechar='|', quoting=csv.QUOTE_MINIMAL)\n",
    "    # Create a row with the column names:\n",
    "    filewriter.writerow([\"model_name\",\n",
    "                         \"removed_layer\", \n",
    "                         \"test_loss\",\n",
    "                         \"test_accuracy\",\n",
    "                         \"wa_precision\", # wa = weighted average\n",
    "                         \"wa_recall\",\n",
    "                         \"wa_f1_score\",\n",
    "                         \"wrong_preds\",\n",
    "                         \"total_preds\",\n",
    "                         \"batch_size\",\n",
    "                         \"num_train\", # number of images in the training set\n",
    "                         \"num_val\", # number of images in the validation set\n",
    "                         \"num_test\", # number of images in the test set\n",
    "                         \"num_epochs_set\", # cap set for num epochs\n",
    "                         \"num_epochs_run\" # epoch where it stopped automatically\n",
    "                        ])\n",
    "    \n",
    "# ADD A WAY TO PROPERLY DESCRIBE THE MODEL ARCHITECTURE: MAYBE GIVE A NAME TO EACH LAYER\n",
    "# OF THE VGG, AND THEN LIST THE LAYER(S) REMOVED IN EACH SPECIFIC ITERATION."
   ]
  },
  {
   "cell_type": "markdown",
   "id": "23e6e481",
   "metadata": {
    "papermill": {
     "duration": 0.006143,
     "end_time": "2022-12-02T10:39:28.835929",
     "exception": false,
     "start_time": "2022-12-02T10:39:28.829786",
     "status": "completed"
    },
    "tags": []
   },
   "source": [
    "# TODO\n",
    "\n",
    "1. ADD A WAY TO PROPERLY DESCRIBE THE MODEL ARCHITECTURE IN THE EXCEL FILE\n",
    "2. IN THE IMAGES (TRAINING ACCURACY, TRAINING LOSS, CONFUSION MATRIX), ADD THE NAME OF THE MODEL IN THE IMAGE TITLE."
   ]
  },
  {
   "cell_type": "markdown",
   "id": "f290c662",
   "metadata": {
    "papermill": {
     "duration": 0.005961,
     "end_time": "2022-12-02T10:39:28.848180",
     "exception": false,
     "start_time": "2022-12-02T10:39:28.842219",
     "status": "completed"
    },
    "tags": []
   },
   "source": [
    "### Define functions"
   ]
  },
  {
   "cell_type": "code",
   "execution_count": 4,
   "id": "aa8a3600",
   "metadata": {
    "execution": {
     "iopub.execute_input": "2022-12-02T10:39:28.862523Z",
     "iopub.status.busy": "2022-12-02T10:39:28.861682Z",
     "iopub.status.idle": "2022-12-02T10:39:28.868972Z",
     "shell.execute_reply": "2022-12-02T10:39:28.868074Z"
    },
    "papermill": {
     "duration": 0.016639,
     "end_time": "2022-12-02T10:39:28.871054",
     "exception": false,
     "start_time": "2022-12-02T10:39:28.854415",
     "status": "completed"
    },
    "tags": []
   },
   "outputs": [],
   "source": [
    "# https://stackoverflow.com/questions/39280813/visualization-of-convolutional-layer-in-keras-model\n",
    "# Merdan Memtimin https://stackoverflow.com/users/6565409/merdan-memtimin\n",
    "def plot_conv_weights(model, layer_name):\n",
    "    W = model.get_layer(name=layer_name).get_weights()[0]\n",
    "    if len(W.shape) == 4:\n",
    "        W = np.squeeze(W)\n",
    "        W = W.reshape((W.shape[0], W.shape[1], W.shape[2]*W.shape[3])) \n",
    "        fig, axs = plt.subplots(5,5, figsize=(8,8))\n",
    "        fig.subplots_adjust(hspace = .5, wspace=.001)\n",
    "        axs = axs.ravel()\n",
    "        for i in range(25):\n",
    "            axs[i].imshow(W[:,:,i])\n",
    "            axs[i].set_title(str(i))"
   ]
  },
  {
   "cell_type": "code",
   "execution_count": 5,
   "id": "a748e0b4",
   "metadata": {
    "execution": {
     "iopub.execute_input": "2022-12-02T10:39:28.885665Z",
     "iopub.status.busy": "2022-12-02T10:39:28.884896Z",
     "iopub.status.idle": "2022-12-02T10:39:28.891291Z",
     "shell.execute_reply": "2022-12-02T10:39:28.890421Z"
    },
    "papermill": {
     "duration": 0.015895,
     "end_time": "2022-12-02T10:39:28.893244",
     "exception": false,
     "start_time": "2022-12-02T10:39:28.877349",
     "status": "completed"
    },
    "tags": []
   },
   "outputs": [],
   "source": [
    "def load_metadata(data_folder, train_file, validation_file, test_file, column_names):\n",
    "    \"\"\"Reads the .csv files containing metadata (e.g. file location, class label) about the data images.\n",
    "    \n",
    "    Parameters:\n",
    "    data_folder (str): file path to the folder containing the csv file.\n",
    "    train_file (str): file name of the file containing metadata for the training set.\n",
    "    validation_file (str): file name of the file containing metadata for the validation set.\n",
    "    test_file (str): file name of the file containing metadata for the test set.\n",
    "    column_names (list): array containing the column names for the csv files\n",
    "    \n",
    "    Returns:\n",
    "    the read trainig, validation, and test files.\n",
    "    \"\"\"\n",
    "    training_df = pd.read_csv(data_folder + train_file, names = column_names, skiprows=1)\n",
    "    validation_df = pd.read_csv(data_folder + validation_file, names = column_names, skiprows=1)\n",
    "    test_df = pd.read_csv(data_folder + test_file, names = column_names, skiprows=1)\n",
    "    \n",
    "    return training_df, validation_df, test_df\n"
   ]
  },
  {
   "cell_type": "markdown",
   "id": "98e794e4",
   "metadata": {
    "papermill": {
     "duration": 0.006241,
     "end_time": "2022-12-02T10:39:28.905713",
     "exception": false,
     "start_time": "2022-12-02T10:39:28.899472",
     "status": "completed"
    },
    "tags": []
   },
   "source": [
    "## Load data"
   ]
  },
  {
   "cell_type": "code",
   "execution_count": 6,
   "id": "20a554bc",
   "metadata": {
    "execution": {
     "iopub.execute_input": "2022-12-02T10:39:28.919450Z",
     "iopub.status.busy": "2022-12-02T10:39:28.919131Z",
     "iopub.status.idle": "2022-12-02T10:39:28.981611Z",
     "shell.execute_reply": "2022-12-02T10:39:28.980623Z"
    },
    "papermill": {
     "duration": 0.071902,
     "end_time": "2022-12-02T10:39:28.983933",
     "exception": false,
     "start_time": "2022-12-02T10:39:28.912031",
     "status": "completed"
    },
    "tags": []
   },
   "outputs": [],
   "source": [
    "dataset_folder = input_folder + \"eurosat-dataset/\" + \"EuroSAT/\"\n",
    "column_names =  [\"id\", \"path\", \"class_id\", \"class_name\"]\n",
    "\n",
    "training_df, validation_df, test_df = load_metadata(dataset_folder,\n",
    "                                                    \"train.csv\",\n",
    "                                                    \"validation.csv\",\n",
    "                                                    \"test.csv\",\n",
    "                                                    column_names)"
   ]
  },
  {
   "cell_type": "markdown",
   "id": "b350bb1d",
   "metadata": {
    "papermill": {
     "duration": 0.006249,
     "end_time": "2022-12-02T10:39:28.996981",
     "exception": false,
     "start_time": "2022-12-02T10:39:28.990732",
     "status": "completed"
    },
    "tags": []
   },
   "source": [
    "## Preprocessing"
   ]
  },
  {
   "cell_type": "code",
   "execution_count": 7,
   "id": "0375125b",
   "metadata": {
    "execution": {
     "iopub.execute_input": "2022-12-02T10:39:29.011541Z",
     "iopub.status.busy": "2022-12-02T10:39:29.011195Z",
     "iopub.status.idle": "2022-12-02T10:39:29.016543Z",
     "shell.execute_reply": "2022-12-02T10:39:29.015618Z"
    },
    "papermill": {
     "duration": 0.015002,
     "end_time": "2022-12-02T10:39:29.018549",
     "exception": false,
     "start_time": "2022-12-02T10:39:29.003547",
     "status": "completed"
    },
    "tags": []
   },
   "outputs": [],
   "source": [
    "# The data is already normalized so that pixels values range from 0,255. We can rescale pixel value between\n",
    "# [0,1] by divinding by 255.\n",
    "\n",
    "rescaling_factor = 1. / 255\n",
    "# Generate batches of tensor image data by setting up the generators.\n",
    "# If you want to perform augmentation, add parameters to the training_generatorF\n",
    "training_generator = ImageDataGenerator(rescale=rescaling_factor)\n",
    "test_generator = ImageDataGenerator(rescale=rescaling_factor)\n",
    "\n",
    "# Size of input data is 64x64 pixels\n",
    "image_width, image_height = (64, 64)"
   ]
  },
  {
   "cell_type": "code",
   "execution_count": 8,
   "id": "67d52a2d",
   "metadata": {
    "execution": {
     "iopub.execute_input": "2022-12-02T10:39:29.033123Z",
     "iopub.status.busy": "2022-12-02T10:39:29.032457Z",
     "iopub.status.idle": "2022-12-02T10:40:11.398641Z",
     "shell.execute_reply": "2022-12-02T10:40:11.397258Z"
    },
    "papermill": {
     "duration": 42.37602,
     "end_time": "2022-12-02T10:40:11.400961",
     "exception": false,
     "start_time": "2022-12-02T10:39:29.024941",
     "status": "completed"
    },
    "tags": []
   },
   "outputs": [
    {
     "name": "stdout",
     "output_type": "stream",
     "text": [
      "Building training set.\n",
      "Found 18900 validated image filenames belonging to 10 classes.\n",
      "\n",
      "Building validation set.\n",
      "Found 5400 validated image filenames belonging to 10 classes.\n",
      "\n",
      "Building test set\n",
      "Found 2700 validated image filenames belonging to 10 classes.\n"
     ]
    }
   ],
   "source": [
    "print(\"Building training set.\")\n",
    "training_set = training_generator.flow_from_dataframe(\n",
    "    dataframe=training_df,\n",
    "    x_col=\"path\",\n",
    "    y_col=\"class_name\",\n",
    "    directory=dataset_folder,\n",
    "    target_size=(image_height, image_width),\n",
    "    batch_size=batch_size,\n",
    "    class_mode=\"categorical\",\n",
    "    shuffle=False, # for replicability. Anyways they are already shuffled.\n",
    ")\n",
    "\n",
    "print(\"\\nBuilding validation set.\")\n",
    "validation_set = test_generator.flow_from_dataframe(\n",
    "    dataframe=validation_df,\n",
    "    x_col=\"path\",\n",
    "    y_col=\"class_name\",\n",
    "    directory=dataset_folder,\n",
    "    target_size=(image_height, image_width),\n",
    "    batch_size=batch_size,\n",
    "    class_mode=\"categorical\",\n",
    "    shuffle=False,\n",
    ")\n",
    "\n",
    "print(\"\\nBuilding test set\")\n",
    "test_set = test_generator.flow_from_dataframe(\n",
    "    dataframe=test_df,\n",
    "    x_col=\"path\",\n",
    "    y_col=\"class_name\",\n",
    "    directory=dataset_folder,\n",
    "    target_size=(image_height, image_width),\n",
    "    batch_size=batch_size,\n",
    "    class_mode=\"categorical\",\n",
    "    shuffle=False\n",
    ")"
   ]
  },
  {
   "cell_type": "code",
   "execution_count": 9,
   "id": "61e62861",
   "metadata": {
    "execution": {
     "iopub.execute_input": "2022-12-02T10:40:11.417366Z",
     "iopub.status.busy": "2022-12-02T10:40:11.416568Z",
     "iopub.status.idle": "2022-12-02T10:40:11.424655Z",
     "shell.execute_reply": "2022-12-02T10:40:11.423744Z"
    },
    "papermill": {
     "duration": 0.018713,
     "end_time": "2022-12-02T10:40:11.426874",
     "exception": false,
     "start_time": "2022-12-02T10:40:11.408161",
     "status": "completed"
    },
    "tags": []
   },
   "outputs": [],
   "source": [
    "class_name_list = np.array(list(training_set.class_indices.keys()))\n",
    "labels, count = np.unique(training_set.classes, return_counts=True)\n",
    "\n",
    "class_count = len(class_name_list)"
   ]
  },
  {
   "cell_type": "markdown",
   "id": "fcb10a28",
   "metadata": {
    "papermill": {
     "duration": 0.006841,
     "end_time": "2022-12-02T10:40:11.441188",
     "exception": false,
     "start_time": "2022-12-02T10:40:11.434347",
     "status": "completed"
    },
    "tags": []
   },
   "source": [
    "# Ablation\n",
    "For this ablations study, I am going to focus on VGG16, as it is a simpler model than the models proposed by the EuroSAT original paper, but still a deep model with which I achived very close to State-of-the-Art (SoA) performance."
   ]
  },
  {
   "cell_type": "markdown",
   "id": "d2cd27a7",
   "metadata": {
    "papermill": {
     "duration": 0.006773,
     "end_time": "2022-12-02T10:40:11.455087",
     "exception": false,
     "start_time": "2022-12-02T10:40:11.448314",
     "status": "completed"
    },
    "tags": []
   },
   "source": [
    "## VGG16, the Original"
   ]
  },
  {
   "cell_type": "code",
   "execution_count": 10,
   "id": "c3af567f",
   "metadata": {
    "execution": {
     "iopub.execute_input": "2022-12-02T10:40:11.471108Z",
     "iopub.status.busy": "2022-12-02T10:40:11.470110Z",
     "iopub.status.idle": "2022-12-02T10:40:15.479655Z",
     "shell.execute_reply": "2022-12-02T10:40:15.478692Z"
    },
    "papermill": {
     "duration": 4.020476,
     "end_time": "2022-12-02T10:40:15.482430",
     "exception": false,
     "start_time": "2022-12-02T10:40:11.461954",
     "status": "completed"
    },
    "tags": []
   },
   "outputs": [],
   "source": [
    "model_name = \"base_vgg16\"\n",
    "model = Sequential()\n",
    "\n",
    "# start of VGG16\n",
    "model.add(Conv2D(input_shape=(64,64,3),filters=64,kernel_size=(3,3),padding=\"same\", activation=\"relu\"))\n",
    "model.add(Conv2D(filters=64,kernel_size=(3,3),padding=\"same\", activation=\"relu\"))\n",
    "model.add(MaxPool2D(pool_size=(2,2),strides=(2,2)))\n",
    "model.add(Conv2D(filters=128, kernel_size=(3,3), padding=\"same\", activation=\"relu\"))\n",
    "model.add(Conv2D(filters=128, kernel_size=(3,3), padding=\"same\", activation=\"relu\"))\n",
    "model.add(MaxPool2D(pool_size=(2,2),strides=(2,2)))\n",
    "model.add(Conv2D(filters=256, kernel_size=(3,3), padding=\"same\", activation=\"relu\"))\n",
    "model.add(Conv2D(filters=256, kernel_size=(3,3), padding=\"same\", activation=\"relu\"))\n",
    "model.add(Conv2D(filters=256, kernel_size=(3,3), padding=\"same\", activation=\"relu\"))\n",
    "model.add(MaxPool2D(pool_size=(2,2),strides=(2,2)))\n",
    "model.add(Conv2D(filters=512, kernel_size=(3,3), padding=\"same\", activation=\"relu\"))\n",
    "model.add(Conv2D(filters=512, kernel_size=(3,3), padding=\"same\", activation=\"relu\"))\n",
    "model.add(Conv2D(filters=512, kernel_size=(3,3), padding=\"same\", activation=\"relu\"))\n",
    "model.add(MaxPool2D(pool_size=(2,2),strides=(2,2)))\n",
    "model.add(Conv2D(filters=512, kernel_size=(3,3), padding=\"same\", activation=\"relu\"))\n",
    "model.add(Conv2D(filters=512, kernel_size=(3,3), padding=\"same\", activation=\"relu\"))\n",
    "model.add(Conv2D(filters=512, kernel_size=(3,3), padding=\"same\", activation=\"relu\"))\n",
    "model.add(MaxPool2D(pool_size=(2,2),strides=(2,2)))\n",
    "# end of VGG16\n",
    "\n",
    "# add a flatten out layer, a dropout for regularization, a FC layer, and a final\n",
    "# 10-node softmax layer for the prediction.\n",
    "model.add(Flatten()) # just flattening operation, same numb. nodes kept\n",
    "model.add(Dropout(0.5)) # MY ADDITION\n",
    "# n. nodes chosen by keeping the drop in nodes ratio of the origina model (approx.)\n",
    "model.add(Dense(units=680, activation=\"relu\", kernel_initializer=\"he_normal\"))\n",
    "model.add(Dense(units=180, activation=\"relu\", kernel_initializer=\"he_normal\"))\n",
    "model.add(Dense(class_count, activation=\"softmax\"))\n"
   ]
  },
  {
   "cell_type": "code",
   "execution_count": 11,
   "id": "79c55986",
   "metadata": {
    "execution": {
     "iopub.execute_input": "2022-12-02T10:40:15.497548Z",
     "iopub.status.busy": "2022-12-02T10:40:15.497219Z",
     "iopub.status.idle": "2022-12-02T10:40:15.501410Z",
     "shell.execute_reply": "2022-12-02T10:40:15.500361Z"
    },
    "papermill": {
     "duration": 0.014636,
     "end_time": "2022-12-02T10:40:15.503890",
     "exception": false,
     "start_time": "2022-12-02T10:40:15.489254",
     "status": "completed"
    },
    "tags": []
   },
   "outputs": [],
   "source": [
    "# model.summary()"
   ]
  },
  {
   "cell_type": "code",
   "execution_count": 12,
   "id": "03610c5d",
   "metadata": {
    "execution": {
     "iopub.execute_input": "2022-12-02T10:40:15.518094Z",
     "iopub.status.busy": "2022-12-02T10:40:15.517815Z",
     "iopub.status.idle": "2022-12-02T10:40:15.524801Z",
     "shell.execute_reply": "2022-12-02T10:40:15.523965Z"
    },
    "papermill": {
     "duration": 0.016542,
     "end_time": "2022-12-02T10:40:15.526781",
     "exception": false,
     "start_time": "2022-12-02T10:40:15.510239",
     "status": "completed"
    },
    "tags": []
   },
   "outputs": [],
   "source": [
    "model_path = \"/kaggle/working/eurosat_rgb_\" + model_name + \".h5\"\n",
    "\n",
    "# Save the weigths of the best model\n",
    "checkpoint = ModelCheckpoint(filepath=model_path, monitor=\"val_loss\", save_best_only=True)\n",
    "\n",
    "# Reduce learning rate when val_loss stops improving for 5 epochs.\n",
    "reduce_lr = ReduceLROnPlateau(monitor=\"val_loss\", factor=0.1, patience=5)\n",
    "\n",
    "# Stop training if a val_loss has stopped improving for 5 epochs.\n",
    "early_stopping = EarlyStopping(monitor=\"val_loss\", patience=15, restore_best_weights=True, verbose=True)\n",
    "\n",
    "callback_list = [checkpoint, early_stopping, reduce_lr]"
   ]
  },
  {
   "cell_type": "code",
   "execution_count": 13,
   "id": "0be1409e",
   "metadata": {
    "execution": {
     "iopub.execute_input": "2022-12-02T10:40:15.540806Z",
     "iopub.status.busy": "2022-12-02T10:40:15.540553Z",
     "iopub.status.idle": "2022-12-02T10:40:15.552268Z",
     "shell.execute_reply": "2022-12-02T10:40:15.551415Z"
    },
    "papermill": {
     "duration": 0.020969,
     "end_time": "2022-12-02T10:40:15.554220",
     "exception": false,
     "start_time": "2022-12-02T10:40:15.533251",
     "status": "completed"
    },
    "tags": []
   },
   "outputs": [],
   "source": [
    "model.compile(loss=\"categorical_crossentropy\",\n",
    "              optimizer=Adam(learning_rate=1e-4),\n",
    "              metrics=['accuracy'])"
   ]
  },
  {
   "cell_type": "code",
   "execution_count": 14,
   "id": "f1b8d464",
   "metadata": {
    "execution": {
     "iopub.execute_input": "2022-12-02T10:40:15.568215Z",
     "iopub.status.busy": "2022-12-02T10:40:15.567963Z",
     "iopub.status.idle": "2022-12-02T10:43:46.362898Z",
     "shell.execute_reply": "2022-12-02T10:43:46.361861Z"
    },
    "papermill": {
     "duration": 210.804507,
     "end_time": "2022-12-02T10:43:46.365265",
     "exception": false,
     "start_time": "2022-12-02T10:40:15.560758",
     "status": "completed"
    },
    "tags": []
   },
   "outputs": [
    {
     "name": "stdout",
     "output_type": "stream",
     "text": [
      "Epoch 1/3\n",
      "148/148 [==============================] - 88s 501ms/step - loss: 1.9283 - accuracy: 0.2153 - val_loss: 1.7760 - val_accuracy: 0.2213\n",
      "Epoch 2/3\n",
      "148/148 [==============================] - 33s 223ms/step - loss: 1.4304 - accuracy: 0.3905 - val_loss: 1.2034 - val_accuracy: 0.4646\n",
      "Epoch 3/3\n",
      "148/148 [==============================] - 33s 223ms/step - loss: 1.1223 - accuracy: 0.5374 - val_loss: 0.9681 - val_accuracy: 0.6098\n"
     ]
    }
   ],
   "source": [
    "history = model.fit(\n",
    "    training_set,\n",
    "    validation_data=validation_set,\n",
    "    callbacks=callback_list,\n",
    "    epochs=n_epochs,\n",
    "    verbose=1,\n",
    ")"
   ]
  },
  {
   "cell_type": "code",
   "execution_count": 15,
   "id": "f4479989",
   "metadata": {
    "execution": {
     "iopub.execute_input": "2022-12-02T10:43:46.428221Z",
     "iopub.status.busy": "2022-12-02T10:43:46.427257Z",
     "iopub.status.idle": "2022-12-02T10:43:46.432146Z",
     "shell.execute_reply": "2022-12-02T10:43:46.431170Z"
    },
    "papermill": {
     "duration": 0.038453,
     "end_time": "2022-12-02T10:43:46.434410",
     "exception": false,
     "start_time": "2022-12-02T10:43:46.395957",
     "status": "completed"
    },
    "tags": []
   },
   "outputs": [],
   "source": [
    "#plot_conv_weights(model, \"conv2d_35\")"
   ]
  },
  {
   "cell_type": "code",
   "execution_count": 16,
   "id": "5d52d626",
   "metadata": {
    "execution": {
     "iopub.execute_input": "2022-12-02T10:43:46.495202Z",
     "iopub.status.busy": "2022-12-02T10:43:46.494855Z",
     "iopub.status.idle": "2022-12-02T10:43:46.879655Z",
     "shell.execute_reply": "2022-12-02T10:43:46.878514Z"
    },
    "papermill": {
     "duration": 0.417679,
     "end_time": "2022-12-02T10:43:46.882094",
     "exception": false,
     "start_time": "2022-12-02T10:43:46.464415",
     "status": "completed"
    },
    "tags": []
   },
   "outputs": [
    {
     "data": {
      "image/png": "[encoded data removed]",
      "text/plain": [
       "<Figure size 1296x360 with 2 Axes>"
      ]
     },
     "metadata": {
      "needs_background": "light"
     },
     "output_type": "display_data"
    },
    {
     "data": {
      "text/plain": [
       "<Figure size 432x288 with 0 Axes>"
      ]
     },
     "metadata": {},
     "output_type": "display_data"
    }
   ],
   "source": [
    "plt.figure(figsize=(18, 5))\n",
    "\n",
    "# Loss\n",
    "plt.subplot(1, 2, 1)\n",
    "plt.plot(history.history[\"loss\"])\n",
    "plt.plot(history.history[\"val_loss\"])\n",
    "plt.title(\"Loss\")\n",
    "plt.ylabel(\"loss\")\n",
    "plt.xlabel(\"epoch\")\n",
    "plt.legend([\"train\", \"validation\"], loc=\"upper left\")\n",
    "\n",
    "# Accuracy\n",
    "plt.subplot(1, 2, 2)\n",
    "plt.plot(history.history[\"accuracy\"])\n",
    "plt.plot(history.history[\"val_accuracy\"])\n",
    "plt.title(\"Accuracy\")\n",
    "plt.ylabel(\"accuracy\")\n",
    "plt.xlabel(\"epoch\")\n",
    "plt.legend([\"train\", \"validation\"], loc=\"upper left\")\n",
    "\n",
    "plt.show()\n",
    "plt.savefig(output_folder + model_name + \"training_curves.png\")"
   ]
  },
  {
   "cell_type": "markdown",
   "id": "9f664138",
   "metadata": {
    "papermill": {
     "duration": 0.029618,
     "end_time": "2022-12-02T10:43:46.942924",
     "exception": false,
     "start_time": "2022-12-02T10:43:46.913306",
     "status": "completed"
    },
    "tags": []
   },
   "source": [
    "## Predict and Evaluate Model"
   ]
  },
  {
   "cell_type": "code",
   "execution_count": 17,
   "id": "9a1d3757",
   "metadata": {
    "execution": {
     "iopub.execute_input": "2022-12-02T10:43:47.005375Z",
     "iopub.status.busy": "2022-12-02T10:43:47.003693Z",
     "iopub.status.idle": "2022-12-02T10:43:56.921086Z",
     "shell.execute_reply": "2022-12-02T10:43:56.920158Z"
    },
    "papermill": {
     "duration": 9.950743,
     "end_time": "2022-12-02T10:43:56.923232",
     "exception": false,
     "start_time": "2022-12-02T10:43:46.972489",
     "status": "completed"
    },
    "tags": []
   },
   "outputs": [
    {
     "name": "stdout",
     "output_type": "stream",
     "text": [
      "22/22 [==============================] - 9s 439ms/step - loss: 0.9392 - accuracy: 0.6174\n"
     ]
    }
   ],
   "source": [
    "loss, accuracy = model.evaluate(test_set, verbose=1)"
   ]
  },
  {
   "cell_type": "code",
   "execution_count": 18,
   "id": "50a53105",
   "metadata": {
    "execution": {
     "iopub.execute_input": "2022-12-02T10:43:56.990372Z",
     "iopub.status.busy": "2022-12-02T10:43:56.989356Z",
     "iopub.status.idle": "2022-12-02T10:44:00.653937Z",
     "shell.execute_reply": "2022-12-02T10:44:00.652963Z"
    },
    "papermill": {
     "duration": 3.699941,
     "end_time": "2022-12-02T10:44:00.656180",
     "exception": false,
     "start_time": "2022-12-02T10:43:56.956239",
     "status": "completed"
    },
    "tags": []
   },
   "outputs": [
    {
     "name": "stdout",
     "output_type": "stream",
     "text": [
      "2700/2700 [==============================] - 3s 1ms/step\n"
     ]
    }
   ],
   "source": [
    "test_set.reset()\n",
    "predicted_probabilities = model.predict(test_set, steps=test_set.n, verbose=1)\n",
    "# Computation is done in batches.\n",
    "predicted_class_ids = np.argmax(predicted_probabilities, axis=1)"
   ]
  },
  {
   "cell_type": "code",
   "execution_count": 19,
   "id": "8c92ba29",
   "metadata": {
    "execution": {
     "iopub.execute_input": "2022-12-02T10:44:00.723871Z",
     "iopub.status.busy": "2022-12-02T10:44:00.722035Z",
     "iopub.status.idle": "2022-12-02T10:44:00.738270Z",
     "shell.execute_reply": "2022-12-02T10:44:00.736873Z"
    },
    "papermill": {
     "duration": 0.051749,
     "end_time": "2022-12-02T10:44:00.740228",
     "exception": false,
     "start_time": "2022-12-02T10:44:00.688479",
     "status": "completed"
    },
    "tags": []
   },
   "outputs": [
    {
     "name": "stdout",
     "output_type": "stream",
     "text": [
      "              precision    recall  f1-score   support\n",
      "\n",
      "           0     0.8237    0.8100    0.8168       300\n",
      "           1     0.5745    0.0900    0.1556       300\n",
      "           2     0.5714    0.6000    0.5854       300\n",
      "           3     0.5329    0.3560    0.4269       250\n",
      "           4     0.6780    0.9600    0.7947       250\n",
      "           5     0.4268    0.8600    0.5705       200\n",
      "           6     0.6667    0.4800    0.5581       250\n",
      "           7     0.8519    0.7667    0.8070       300\n",
      "           8     0.6260    0.3080    0.4129       250\n",
      "           9     0.5293    0.9633    0.6832       300\n",
      "\n",
      "    accuracy                         0.6174      2700\n",
      "   macro avg     0.6281    0.6194    0.5811      2700\n",
      "weighted avg     0.6357    0.6174    0.5839      2700\n",
      "\n"
     ]
    }
   ],
   "source": [
    "print(metrics.classification_report(test_set.labels, predicted_class_ids, digits=4))"
   ]
  },
  {
   "cell_type": "code",
   "execution_count": 20,
   "id": "8e59a613",
   "metadata": {
    "execution": {
     "iopub.execute_input": "2022-12-02T10:44:00.806314Z",
     "iopub.status.busy": "2022-12-02T10:44:00.805295Z",
     "iopub.status.idle": "2022-12-02T10:44:00.812905Z",
     "shell.execute_reply": "2022-12-02T10:44:00.812018Z"
    },
    "papermill": {
     "duration": 0.042344,
     "end_time": "2022-12-02T10:44:00.814881",
     "exception": false,
     "start_time": "2022-12-02T10:44:00.772537",
     "status": "completed"
    },
    "tags": []
   },
   "outputs": [],
   "source": [
    "cf_matrix = confusion_matrix(test_set.labels, predicted_class_ids)\n",
    "confusion_matrix_df = pd.DataFrame(\n",
    "    data=cf_matrix, \n",
    "    index=class_name_list, \n",
    "    columns=class_name_list\n",
    ")\n",
    "# print(cf_matrix)"
   ]
  },
  {
   "cell_type": "code",
   "execution_count": 21,
   "id": "56083df1",
   "metadata": {
    "execution": {
     "iopub.execute_input": "2022-12-02T10:44:00.882061Z",
     "iopub.status.busy": "2022-12-02T10:44:00.880571Z",
     "iopub.status.idle": "2022-12-02T10:44:01.538388Z",
     "shell.execute_reply": "2022-12-02T10:44:01.537334Z"
    },
    "papermill": {
     "duration": 0.693586,
     "end_time": "2022-12-02T10:44:01.540754",
     "exception": false,
     "start_time": "2022-12-02T10:44:00.847168",
     "status": "completed"
    },
    "tags": []
   },
   "outputs": [
    {
     "data": {
      "image/png": "[encoded data removed]",
      "text/plain": [
       "<Figure size 720x504 with 2 Axes>"
      ]
     },
     "metadata": {
      "needs_background": "light"
     },
     "output_type": "display_data"
    },
    {
     "data": {
      "text/plain": [
       "<Figure size 432x288 with 0 Axes>"
      ]
     },
     "metadata": {},
     "output_type": "display_data"
    }
   ],
   "source": [
    "plt.figure(figsize=(10, 7))\n",
    "sns.set(font_scale=1)\n",
    "sns.heatmap(confusion_matrix_df, annot=True, cmap=\"Blues\", annot_kws={\"size\": 9}, fmt=\"g\")\n",
    "plt.ylabel(\"Label\")\n",
    "plt.xlabel(\"Prediction\")\n",
    "plt.title(\"Confusion matrix for the test set\")\n",
    "plt.show()\n",
    "plt.savefig(output_folder + model_name + \"confusion.png\")"
   ]
  },
  {
   "cell_type": "code",
   "execution_count": 22,
   "id": "011b5e37",
   "metadata": {
    "execution": {
     "iopub.execute_input": "2022-12-02T10:44:01.608222Z",
     "iopub.status.busy": "2022-12-02T10:44:01.607288Z",
     "iopub.status.idle": "2022-12-02T10:44:01.617247Z",
     "shell.execute_reply": "2022-12-02T10:44:01.615911Z"
    },
    "papermill": {
     "duration": 0.046409,
     "end_time": "2022-12-02T10:44:01.619908",
     "exception": false,
     "start_time": "2022-12-02T10:44:01.573499",
     "status": "completed"
    },
    "tags": []
   },
   "outputs": [
    {
     "name": "stdout",
     "output_type": "stream",
     "text": [
      "1033 wrong predictions out of 2700\n"
     ]
    }
   ],
   "source": [
    "results_df = pd.DataFrame(\n",
    "    {\n",
    "        \"label\": test_set.labels, \n",
    "        \"prediction\": predicted_class_ids, \n",
    "        \"path\": test_set.filepaths\n",
    "    }\n",
    ")\n",
    "\n",
    "mistakes = results_df[\"label\"] != results_df[\"prediction\"]\n",
    "mistakes_df = results_df[mistakes]\n",
    "\n",
    "print(f\"{len(mistakes_df)} wrong predictions out of {len(results_df)}\")"
   ]
  },
  {
   "cell_type": "markdown",
   "id": "c320343f",
   "metadata": {
    "papermill": {
     "duration": 0.032118,
     "end_time": "2022-12-02T10:44:01.684860",
     "exception": false,
     "start_time": "2022-12-02T10:44:01.652742",
     "status": "completed"
    },
    "tags": []
   },
   "source": [
    "## Plots - code to use if needed"
   ]
  },
  {
   "cell_type": "code",
   "execution_count": 23,
   "id": "bb1d0eb5",
   "metadata": {
    "execution": {
     "iopub.execute_input": "2022-12-02T10:44:01.753223Z",
     "iopub.status.busy": "2022-12-02T10:44:01.751206Z",
     "iopub.status.idle": "2022-12-02T10:44:01.759033Z",
     "shell.execute_reply": "2022-12-02T10:44:01.757978Z"
    },
    "papermill": {
     "duration": 0.044012,
     "end_time": "2022-12-02T10:44:01.761162",
     "exception": false,
     "start_time": "2022-12-02T10:44:01.717150",
     "status": "completed"
    },
    "tags": []
   },
   "outputs": [
    {
     "data": {
      "text/plain": [
       "'\\nconfusion_matrix_array = confusion_matrix(y_true=test_set.labels, y_pred=predicted_class_ids)\\nconfusion_matrix_df = pd.DataFrame(\\n    data=confusion_matrix_array, \\n    index=class_name_list, \\n    columns=class_name_list\\n)\\n\\nplt.figure(figsize=(10, 7))\\nsns.set(font_scale=1)\\nsns.heatmap(confusion_matrix_df/np.sum(confusion_matrix_df), annot=True,\\n           cmap=\"Blues\", annot_kws={\"size\": 9}, fmt=\\'.2%\\')\\nplt.ylabel(\"Label\")\\nplt.xlabel(\"Prediction\")\\nplt.title(\"Confusion matrix for the test set. Percentages\")\\nplt.show()\\nplt.savefig(\"/kaggle/working/exp1_confusion_percentages.png\")\\n'"
      ]
     },
     "execution_count": 23,
     "metadata": {},
     "output_type": "execute_result"
    }
   ],
   "source": [
    "# Confusion matrix with percentages per class.\n",
    "\"\"\"\n",
    "confusion_matrix_array = confusion_matrix(y_true=test_set.labels, y_pred=predicted_class_ids)\n",
    "confusion_matrix_df = pd.DataFrame(\n",
    "    data=confusion_matrix_array, \n",
    "    index=class_name_list, \n",
    "    columns=class_name_list\n",
    ")\n",
    "\n",
    "plt.figure(figsize=(10, 7))\n",
    "sns.set(font_scale=1)\n",
    "sns.heatmap(confusion_matrix_df/np.sum(confusion_matrix_df), annot=True,\n",
    "           cmap=\"Blues\", annot_kws={\"size\": 9}, fmt='.2%')\n",
    "plt.ylabel(\"Label\")\n",
    "plt.xlabel(\"Prediction\")\n",
    "plt.title(\"Confusion matrix for the test set. Percentages\")\n",
    "plt.show()\n",
    "plt.savefig(\"/kaggle/working/exp1_confusion_percentages.png\")\n",
    "\"\"\""
   ]
  },
  {
   "cell_type": "code",
   "execution_count": 24,
   "id": "cc681496",
   "metadata": {
    "execution": {
     "iopub.execute_input": "2022-12-02T10:44:01.829595Z",
     "iopub.status.busy": "2022-12-02T10:44:01.827802Z",
     "iopub.status.idle": "2022-12-02T10:44:01.835097Z",
     "shell.execute_reply": "2022-12-02T10:44:01.834143Z"
    },
    "papermill": {
     "duration": 0.043187,
     "end_time": "2022-12-02T10:44:01.837067",
     "exception": false,
     "start_time": "2022-12-02T10:44:01.793880",
     "status": "completed"
    },
    "tags": []
   },
   "outputs": [
    {
     "data": {
      "text/plain": [
       "'\\nmistaken_predictions = (class_name_list[pred] for pred in mistakes_df[\"prediction\"])\\nmistaken_labels = (class_name_list[label] for label in mistakes_df[\"label\"])\\nmistaken_images = (image.imread(path) for path in mistakes_df[\"path\"])\\n\\nfigure_height = 3\\nfigure_width = 5\\n\\nfigure_size = (18, 15)\\nplt.figure(figsize=figure_size)\\nfor index in range(figure_height * figure_width):\\n    \\n    label = next(mistaken_predictions)\\n    prediction = next(mistaken_labels)\\n    picture = next(mistaken_images)\\n    \\n    plt.subplot(figure_height, figure_width, index + 1)\\n    plt.imshow(picture)\\n    plt.title(f\"Label: {label} \\nPrediction: {prediction}\")\\n    plt.axis(\"off\")\\n\\nplt.savefig(\"/kaggle/working/exp1_mislabeled_results.png\")\\n'"
      ]
     },
     "execution_count": 24,
     "metadata": {},
     "output_type": "execute_result"
    }
   ],
   "source": [
    "\"\"\"\n",
    "mistaken_predictions = (class_name_list[pred] for pred in mistakes_df[\"prediction\"])\n",
    "mistaken_labels = (class_name_list[label] for label in mistakes_df[\"label\"])\n",
    "mistaken_images = (image.imread(path) for path in mistakes_df[\"path\"])\n",
    "\n",
    "figure_height = 3\n",
    "figure_width = 5\n",
    "\n",
    "figure_size = (18, 15)\n",
    "plt.figure(figsize=figure_size)\n",
    "for index in range(figure_height * figure_width):\n",
    "    \n",
    "    label = next(mistaken_predictions)\n",
    "    prediction = next(mistaken_labels)\n",
    "    picture = next(mistaken_images)\n",
    "    \n",
    "    plt.subplot(figure_height, figure_width, index + 1)\n",
    "    plt.imshow(picture)\n",
    "    plt.title(f\"Label: {label} \\nPrediction: {prediction}\")\n",
    "    plt.axis(\"off\")\n",
    "\n",
    "plt.savefig(\"/kaggle/working/exp1_mislabeled_results.png\")\n",
    "\"\"\""
   ]
  }
 ],
 "metadata": {
  "kernelspec": {
   "display_name": "Python 3",
   "language": "python",
   "name": "python3"
  },
  "language_info": {
   "codemirror_mode": {
    "name": "ipython",
    "version": 3
   },
   "file_extension": ".py",
   "mimetype": "text/x-python",
   "name": "python",
   "nbconvert_exporter": "python",
   "pygments_lexer": "ipython3",
   "version": "3.7.12"
  },
  "papermill": {
   "default_parameters": {},
   "duration": 292.67737,
   "end_time": "2022-12-02T10:44:05.267308",
   "environment_variables": {},
   "exception": null,
   "input_path": "__notebook__.ipynb",
   "output_path": "__notebook__.ipynb",
   "parameters": {},
   "start_time": "2022-12-02T10:39:12.589938",
   "version": "2.3.4"
  }
 },
 "nbformat": 4,
 "nbformat_minor": 5
}
