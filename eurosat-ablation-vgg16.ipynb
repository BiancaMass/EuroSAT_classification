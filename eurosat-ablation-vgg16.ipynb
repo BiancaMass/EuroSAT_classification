{
 "cells": [
  {
   "cell_type": "markdown",
   "id": "384595fc",
   "metadata": {
    "papermill": {
     "duration": 0.01002,
     "end_time": "2022-12-02T13:10:27.028458",
     "exception": false,
     "start_time": "2022-12-02T13:10:27.018438",
     "status": "completed"
    },
    "tags": []
   },
   "source": [
    "## Import packages"
   ]
  },
  {
   "cell_type": "code",
   "execution_count": 1,
   "id": "88e608d5",
   "metadata": {
    "execution": {
     "iopub.execute_input": "2022-12-02T13:10:27.049067Z",
     "iopub.status.busy": "2022-12-02T13:10:27.048473Z",
     "iopub.status.idle": "2022-12-02T13:10:34.612926Z",
     "shell.execute_reply": "2022-12-02T13:10:34.611645Z"
    },
    "papermill": {
     "duration": 7.578508,
     "end_time": "2022-12-02T13:10:34.616001",
     "exception": false,
     "start_time": "2022-12-02T13:10:27.037493",
     "status": "completed"
    },
    "tags": []
   },
   "outputs": [],
   "source": [
    "# Import packages\n",
    "import numpy as np\n",
    "import pandas as pd\n",
    "import matplotlib.pyplot as plt\n",
    "import seaborn as sns\n",
    "import cv2\n",
    "import os\n",
    "import random\n",
    "import tensorflow as tf\n",
    "import seaborn as sns\n",
    "import random\n",
    "import csv\n",
    "\n",
    "from sklearn.utils import shuffle\n",
    "from matplotlib import image\n",
    "from sklearn import metrics\n",
    "from sklearn.metrics import confusion_matrix\n",
    "from keras.preprocessing.image import ImageDataGenerator\n",
    "from keras.applications.vgg16 import VGG16\n",
    "from keras.models import Sequential\n",
    "from keras.layers import Dense, Flatten, Dropout, Conv2D, MaxPool2D\n",
    "from keras.callbacks import ModelCheckpoint, ReduceLROnPlateau, EarlyStopping, ReduceLROnPlateau\n",
    "from tensorflow.keras.optimizers import Adam\n",
    "\n",
    "# Suppress keras warnings\n",
    "os.environ[\"TF_CPP_MIN_LOG_LEVEL\"] = \"3\"\n",
    "random.seed(432)"
   ]
  },
  {
   "cell_type": "markdown",
   "id": "7b29d8f3",
   "metadata": {
    "papermill": {
     "duration": 0.00873,
     "end_time": "2022-12-02T13:10:34.634160",
     "exception": false,
     "start_time": "2022-12-02T13:10:34.625430",
     "status": "completed"
    },
    "tags": []
   },
   "source": [
    "## Define variables that will apply to all models:"
   ]
  },
  {
   "cell_type": "code",
   "execution_count": 2,
   "id": "ad754cab",
   "metadata": {
    "execution": {
     "iopub.execute_input": "2022-12-02T13:10:34.653893Z",
     "iopub.status.busy": "2022-12-02T13:10:34.652962Z",
     "iopub.status.idle": "2022-12-02T13:10:34.658411Z",
     "shell.execute_reply": "2022-12-02T13:10:34.657307Z"
    },
    "papermill": {
     "duration": 0.017587,
     "end_time": "2022-12-02T13:10:34.660579",
     "exception": false,
     "start_time": "2022-12-02T13:10:34.642992",
     "status": "completed"
    },
    "tags": []
   },
   "outputs": [],
   "source": [
    "# input and output folder\n",
    "input_folder = \"/kaggle/input/\"\n",
    "output_folder = \"/kaggle/working/\"\n",
    "\n",
    "n_epochs = 3\n",
    "batch_size = 128 # How big of a set of data to use for every training epoch"
   ]
  },
  {
   "cell_type": "markdown",
   "id": "a9a50540",
   "metadata": {
    "papermill": {
     "duration": 0.008067,
     "end_time": "2022-12-02T13:10:34.676955",
     "exception": false,
     "start_time": "2022-12-02T13:10:34.668888",
     "status": "completed"
    },
    "tags": []
   },
   "source": [
    "### Create a file to save test results"
   ]
  },
  {
   "cell_type": "code",
   "execution_count": 3,
   "id": "3e513dcb",
   "metadata": {
    "execution": {
     "iopub.execute_input": "2022-12-02T13:10:34.697856Z",
     "iopub.status.busy": "2022-12-02T13:10:34.696791Z",
     "iopub.status.idle": "2022-12-02T13:10:34.704607Z",
     "shell.execute_reply": "2022-12-02T13:10:34.703655Z"
    },
    "papermill": {
     "duration": 0.020298,
     "end_time": "2022-12-02T13:10:34.707017",
     "exception": false,
     "start_time": "2022-12-02T13:10:34.686719",
     "status": "completed"
    },
    "tags": []
   },
   "outputs": [],
   "source": [
    "# Open the excel file where I'll save all the test results (metrics)\n",
    "\n",
    "with open(\"./results.csv\", \"w\") as csvfile:\n",
    "    filewriter = csv.writer(csvfile, delimiter=',',\n",
    "                            quotechar='|', quoting=csv.QUOTE_MINIMAL)\n",
    "    # Create a row with the column names:\n",
    "    filewriter.writerow([\"model_name\",\n",
    "                         \"removed_layer\", \n",
    "                         \"test_loss\",\n",
    "                         \"test_accuracy\",\n",
    "                         \"wa_precision\", # wa = weighted average\n",
    "                         \"wa_recall\",\n",
    "                         \"wa_f1_score\",\n",
    "                         \"wrong_preds\",\n",
    "                         \"total_preds\",\n",
    "                         \"batch_size\",\n",
    "                         \"num_train\", # number of images in the training set\n",
    "                         \"num_val\", # number of images in the validation set\n",
    "                         \"num_test\", # number of images in the test set\n",
    "                         \"num_epochs_set\", # cap set for num epochs\n",
    "                         \"num_epochs_run\" # epoch where it stopped automatically\n",
    "                        ])\n",
    "    \n",
    "# ADD A WAY TO PROPERLY DESCRIBE THE MODEL ARCHITECTURE: MAYBE GIVE A NAME TO EACH LAYER\n",
    "# OF THE VGG, AND THEN LIST THE LAYER(S) REMOVED IN EACH SPECIFIC ITERATION."
   ]
  },
  {
   "cell_type": "markdown",
   "id": "d757756e",
   "metadata": {
    "papermill": {
     "duration": 0.00867,
     "end_time": "2022-12-02T13:10:34.724811",
     "exception": false,
     "start_time": "2022-12-02T13:10:34.716141",
     "status": "completed"
    },
    "tags": []
   },
   "source": [
    "# TODO\n",
    "\n",
    "1. ADD A WAY TO PROPERLY DESCRIBE THE MODEL ARCHITECTURE IN THE EXCEL FILE\n",
    "2. IN THE IMAGES (TRAINING ACCURACY, TRAINING LOSS, CONFUSION MATRIX), ADD THE NAME OF THE MODEL IN THE IMAGE TITLE."
   ]
  },
  {
   "cell_type": "markdown",
   "id": "def29b51",
   "metadata": {
    "papermill": {
     "duration": 0.008501,
     "end_time": "2022-12-02T13:10:34.742006",
     "exception": false,
     "start_time": "2022-12-02T13:10:34.733505",
     "status": "completed"
    },
    "tags": []
   },
   "source": [
    "### Define functions"
   ]
  },
  {
   "cell_type": "code",
   "execution_count": 4,
   "id": "ed14ef38",
   "metadata": {
    "execution": {
     "iopub.execute_input": "2022-12-02T13:10:34.761401Z",
     "iopub.status.busy": "2022-12-02T13:10:34.760326Z",
     "iopub.status.idle": "2022-12-02T13:10:34.768579Z",
     "shell.execute_reply": "2022-12-02T13:10:34.767561Z"
    },
    "papermill": {
     "duration": 0.020368,
     "end_time": "2022-12-02T13:10:34.770856",
     "exception": false,
     "start_time": "2022-12-02T13:10:34.750488",
     "status": "completed"
    },
    "tags": []
   },
   "outputs": [],
   "source": [
    "# https://stackoverflow.com/questions/39280813/visualization-of-convolutional-layer-in-keras-model\n",
    "# Merdan Memtimin https://stackoverflow.com/users/6565409/merdan-memtimin\n",
    "def plot_conv_weights(model, layer_name):\n",
    "    W = model.get_layer(name=layer_name).get_weights()[0]\n",
    "    if len(W.shape) == 4:\n",
    "        W = np.squeeze(W)\n",
    "        W = W.reshape((W.shape[0], W.shape[1], W.shape[2]*W.shape[3])) \n",
    "        fig, axs = plt.subplots(5,5, figsize=(8,8))\n",
    "        fig.subplots_adjust(hspace = .5, wspace=.001)\n",
    "        axs = axs.ravel()\n",
    "        for i in range(25):\n",
    "            axs[i].imshow(W[:,:,i])\n",
    "            axs[i].set_title(str(i))"
   ]
  },
  {
   "cell_type": "code",
   "execution_count": 5,
   "id": "cf3bd65e",
   "metadata": {
    "execution": {
     "iopub.execute_input": "2022-12-02T13:10:34.789292Z",
     "iopub.status.busy": "2022-12-02T13:10:34.788290Z",
     "iopub.status.idle": "2022-12-02T13:10:34.795575Z",
     "shell.execute_reply": "2022-12-02T13:10:34.794616Z"
    },
    "papermill": {
     "duration": 0.018729,
     "end_time": "2022-12-02T13:10:34.797847",
     "exception": false,
     "start_time": "2022-12-02T13:10:34.779118",
     "status": "completed"
    },
    "tags": []
   },
   "outputs": [],
   "source": [
    "def load_metadata(data_folder, train_file, validation_file, test_file, column_names):\n",
    "    \"\"\"Reads the .csv files containing metadata (e.g. file location, class label) about the data images.\n",
    "    \n",
    "    Parameters:\n",
    "    data_folder (str): file path to the folder containing the csv file.\n",
    "    train_file (str): file name of the file containing metadata for the training set.\n",
    "    validation_file (str): file name of the file containing metadata for the validation set.\n",
    "    test_file (str): file name of the file containing metadata for the test set.\n",
    "    column_names (list): array containing the column names for the csv files\n",
    "    \n",
    "    Returns:\n",
    "    the read trainig, validation, and test files.\n",
    "    \"\"\"\n",
    "    training_df = pd.read_csv(data_folder + train_file, names = column_names, skiprows=1)\n",
    "    validation_df = pd.read_csv(data_folder + validation_file, names = column_names, skiprows=1)\n",
    "    test_df = pd.read_csv(data_folder + test_file, names = column_names, skiprows=1)\n",
    "    \n",
    "    return training_df, validation_df, test_df\n"
   ]
  },
  {
   "cell_type": "code",
   "execution_count": 6,
   "id": "3785cf6d",
   "metadata": {
    "execution": {
     "iopub.execute_input": "2022-12-02T13:10:34.817668Z",
     "iopub.status.busy": "2022-12-02T13:10:34.816640Z",
     "iopub.status.idle": "2022-12-02T13:10:34.826858Z",
     "shell.execute_reply": "2022-12-02T13:10:34.825899Z"
    },
    "papermill": {
     "duration": 0.02237,
     "end_time": "2022-12-02T13:10:34.829131",
     "exception": false,
     "start_time": "2022-12-02T13:10:34.806761",
     "status": "completed"
    },
    "tags": []
   },
   "outputs": [],
   "source": [
    "def precision(confusion_matrix):\n",
    "    \"\"\"Given a confusion matrix, calculates and returns precision for all classes\"\"\"\n",
    "    precision_list = []\n",
    "    for i in range(confusion_matrix.shape[1]):\n",
    "        current_col = confusion_matrix[:,[i]]\n",
    "        current_el = confusion_matrix[i,[i]]\n",
    "        current_precision = (float(current_el/sum(current_col)[0]))\n",
    "        current_precision = round(current_precision, 4)\n",
    "        precision_list.append(current_precision)\n",
    "    return precision_list\n",
    "\n",
    "def recall(confusion_matrix):\n",
    "    \"\"\"Given a confusion matrix, calculates and returns recall for all classes\"\"\"\n",
    "    recall_list = []\n",
    "    for i in range(confusion_matrix.shape[0]):\n",
    "        current_row = confusion_matrix[i,:]\n",
    "        current_el = confusion_matrix[i,i]\n",
    "        current_recall = round(current_el/sum(current_row), 4)\n",
    "        recall_list.append(current_recall)\n",
    "    return(recall_list)\n",
    "\n",
    "def f1_score(precision, recall):\n",
    "    \"\"\"Given a list of precision and recall values for a certain matrix,\n",
    "    returns f-1 values for each class\"\"\"\n",
    "    f1_scores = []\n",
    "    if len(precision) == len(recall):\n",
    "        for i in range(len(precision)):\n",
    "            current_f1 = 2*(precision[i]*recall[i])/(precision[i]+recall[i])\n",
    "            f1_scores.append(round(current_f1, 4))\n",
    "    else:\n",
    "        print(\"Error. Precision and Recall lists should be of equal lengths.\")\n",
    "    return f1_scores"
   ]
  },
  {
   "cell_type": "markdown",
   "id": "3fb73c17",
   "metadata": {
    "papermill": {
     "duration": 0.008232,
     "end_time": "2022-12-02T13:10:34.846038",
     "exception": false,
     "start_time": "2022-12-02T13:10:34.837806",
     "status": "completed"
    },
    "tags": []
   },
   "source": [
    "## Load data"
   ]
  },
  {
   "cell_type": "code",
   "execution_count": 7,
   "id": "9bc6ab10",
   "metadata": {
    "execution": {
     "iopub.execute_input": "2022-12-02T13:10:34.864495Z",
     "iopub.status.busy": "2022-12-02T13:10:34.863584Z",
     "iopub.status.idle": "2022-12-02T13:10:34.942316Z",
     "shell.execute_reply": "2022-12-02T13:10:34.941275Z"
    },
    "papermill": {
     "duration": 0.090772,
     "end_time": "2022-12-02T13:10:34.945034",
     "exception": false,
     "start_time": "2022-12-02T13:10:34.854262",
     "status": "completed"
    },
    "tags": []
   },
   "outputs": [],
   "source": [
    "dataset_folder = input_folder + \"eurosat-dataset/\" + \"EuroSAT/\"\n",
    "column_names =  [\"id\", \"path\", \"class_id\", \"class_name\"]\n",
    "\n",
    "training_df, validation_df, test_df = load_metadata(dataset_folder,\n",
    "                                                    \"train.csv\",\n",
    "                                                    \"validation.csv\",\n",
    "                                                    \"test.csv\",\n",
    "                                                    column_names)"
   ]
  },
  {
   "cell_type": "markdown",
   "id": "d0c523db",
   "metadata": {
    "papermill": {
     "duration": 0.008573,
     "end_time": "2022-12-02T13:10:34.962643",
     "exception": false,
     "start_time": "2022-12-02T13:10:34.954070",
     "status": "completed"
    },
    "tags": []
   },
   "source": [
    "## Preprocessing"
   ]
  },
  {
   "cell_type": "code",
   "execution_count": 8,
   "id": "62c70164",
   "metadata": {
    "execution": {
     "iopub.execute_input": "2022-12-02T13:10:34.981947Z",
     "iopub.status.busy": "2022-12-02T13:10:34.981492Z",
     "iopub.status.idle": "2022-12-02T13:10:34.987339Z",
     "shell.execute_reply": "2022-12-02T13:10:34.986241Z"
    },
    "papermill": {
     "duration": 0.017979,
     "end_time": "2022-12-02T13:10:34.989480",
     "exception": false,
     "start_time": "2022-12-02T13:10:34.971501",
     "status": "completed"
    },
    "tags": []
   },
   "outputs": [],
   "source": [
    "# The data is already normalized so that pixels values range from 0,255. We can rescale pixel value between\n",
    "# [0,1] by divinding by 255.\n",
    "\n",
    "rescaling_factor = 1. / 255\n",
    "# Generate batches of tensor image data by setting up the generators.\n",
    "# If you want to perform augmentation, add parameters to the training_generatorF\n",
    "training_generator = ImageDataGenerator(rescale=rescaling_factor)\n",
    "test_generator = ImageDataGenerator(rescale=rescaling_factor)\n",
    "\n",
    "# Size of input data is 64x64 pixels\n",
    "image_width, image_height = (64, 64)"
   ]
  },
  {
   "cell_type": "code",
   "execution_count": 9,
   "id": "df2023de",
   "metadata": {
    "execution": {
     "iopub.execute_input": "2022-12-02T13:10:35.010287Z",
     "iopub.status.busy": "2022-12-02T13:10:35.008464Z",
     "iopub.status.idle": "2022-12-02T13:11:01.492719Z",
     "shell.execute_reply": "2022-12-02T13:11:01.490952Z"
    },
    "papermill": {
     "duration": 26.496895,
     "end_time": "2022-12-02T13:11:01.495317",
     "exception": false,
     "start_time": "2022-12-02T13:10:34.998422",
     "status": "completed"
    },
    "tags": []
   },
   "outputs": [
    {
     "name": "stdout",
     "output_type": "stream",
     "text": [
      "Building training set.\n",
      "Found 18900 validated image filenames belonging to 10 classes.\n",
      "\n",
      "Building validation set.\n",
      "Found 5400 validated image filenames belonging to 10 classes.\n",
      "\n",
      "Building test set\n",
      "Found 2700 validated image filenames belonging to 10 classes.\n"
     ]
    }
   ],
   "source": [
    "print(\"Building training set.\")\n",
    "training_set = training_generator.flow_from_dataframe(\n",
    "    dataframe=training_df,\n",
    "    x_col=\"path\",\n",
    "    y_col=\"class_name\",\n",
    "    directory=dataset_folder,\n",
    "    target_size=(image_height, image_width),\n",
    "    batch_size=batch_size,\n",
    "    class_mode=\"categorical\",\n",
    "    shuffle=False, # for replicability. Anyways they are already shuffled.\n",
    ")\n",
    "\n",
    "print(\"\\nBuilding validation set.\")\n",
    "validation_set = test_generator.flow_from_dataframe(\n",
    "    dataframe=validation_df,\n",
    "    x_col=\"path\",\n",
    "    y_col=\"class_name\",\n",
    "    directory=dataset_folder,\n",
    "    target_size=(image_height, image_width),\n",
    "    batch_size=batch_size,\n",
    "    class_mode=\"categorical\",\n",
    "    shuffle=False,\n",
    ")\n",
    "\n",
    "print(\"\\nBuilding test set\")\n",
    "test_set = test_generator.flow_from_dataframe(\n",
    "    dataframe=test_df,\n",
    "    x_col=\"path\",\n",
    "    y_col=\"class_name\",\n",
    "    directory=dataset_folder,\n",
    "    target_size=(image_height, image_width),\n",
    "    batch_size=batch_size,\n",
    "    class_mode=\"categorical\",\n",
    "    shuffle=False\n",
    ")"
   ]
  },
  {
   "cell_type": "code",
   "execution_count": 10,
   "id": "5e95e037",
   "metadata": {
    "execution": {
     "iopub.execute_input": "2022-12-02T13:11:01.515345Z",
     "iopub.status.busy": "2022-12-02T13:11:01.514301Z",
     "iopub.status.idle": "2022-12-02T13:11:01.522518Z",
     "shell.execute_reply": "2022-12-02T13:11:01.521499Z"
    },
    "papermill": {
     "duration": 0.02035,
     "end_time": "2022-12-02T13:11:01.524850",
     "exception": false,
     "start_time": "2022-12-02T13:11:01.504500",
     "status": "completed"
    },
    "tags": []
   },
   "outputs": [],
   "source": [
    "class_name_list = np.array(list(training_set.class_indices.keys()))\n",
    "labels, count = np.unique(training_set.classes, return_counts=True)\n",
    "\n",
    "class_count = len(class_name_list)"
   ]
  },
  {
   "cell_type": "markdown",
   "id": "b5618a6a",
   "metadata": {
    "papermill": {
     "duration": 0.008694,
     "end_time": "2022-12-02T13:11:01.542706",
     "exception": false,
     "start_time": "2022-12-02T13:11:01.534012",
     "status": "completed"
    },
    "tags": []
   },
   "source": [
    "# Ablation\n",
    "For this ablations study, I am going to focus on VGG16, as it is a simpler model than the models proposed by the EuroSAT original paper, but still a deep model with which I achived very close to State-of-the-Art (SoA) performance."
   ]
  },
  {
   "cell_type": "markdown",
   "id": "a4bf926a",
   "metadata": {
    "papermill": {
     "duration": 0.009016,
     "end_time": "2022-12-02T13:11:01.560745",
     "exception": false,
     "start_time": "2022-12-02T13:11:01.551729",
     "status": "completed"
    },
    "tags": []
   },
   "source": [
    "## VGG16, the Original"
   ]
  },
  {
   "cell_type": "code",
   "execution_count": 11,
   "id": "5037b88d",
   "metadata": {
    "execution": {
     "iopub.execute_input": "2022-12-02T13:11:01.582008Z",
     "iopub.status.busy": "2022-12-02T13:11:01.581182Z",
     "iopub.status.idle": "2022-12-02T13:11:05.795009Z",
     "shell.execute_reply": "2022-12-02T13:11:05.793976Z"
    },
    "papermill": {
     "duration": 4.227456,
     "end_time": "2022-12-02T13:11:05.797840",
     "exception": false,
     "start_time": "2022-12-02T13:11:01.570384",
     "status": "completed"
    },
    "tags": []
   },
   "outputs": [],
   "source": [
    "model_name = \"base_vgg16\"\n",
    "model = Sequential()\n",
    "\n",
    "# start of VGG16\n",
    "model.add(Conv2D(input_shape=(64,64,3),filters=64,kernel_size=(3,3),padding=\"same\", activation=\"relu\"))\n",
    "model.add(Conv2D(filters=64,kernel_size=(3,3),padding=\"same\", activation=\"relu\"))\n",
    "model.add(MaxPool2D(pool_size=(2,2),strides=(2,2)))\n",
    "model.add(Conv2D(filters=128, kernel_size=(3,3), padding=\"same\", activation=\"relu\"))\n",
    "model.add(Conv2D(filters=128, kernel_size=(3,3), padding=\"same\", activation=\"relu\"))\n",
    "model.add(MaxPool2D(pool_size=(2,2),strides=(2,2)))\n",
    "model.add(Conv2D(filters=256, kernel_size=(3,3), padding=\"same\", activation=\"relu\"))\n",
    "model.add(Conv2D(filters=256, kernel_size=(3,3), padding=\"same\", activation=\"relu\"))\n",
    "model.add(Conv2D(filters=256, kernel_size=(3,3), padding=\"same\", activation=\"relu\"))\n",
    "model.add(MaxPool2D(pool_size=(2,2),strides=(2,2)))\n",
    "model.add(Conv2D(filters=512, kernel_size=(3,3), padding=\"same\", activation=\"relu\"))\n",
    "model.add(Conv2D(filters=512, kernel_size=(3,3), padding=\"same\", activation=\"relu\"))\n",
    "model.add(Conv2D(filters=512, kernel_size=(3,3), padding=\"same\", activation=\"relu\"))\n",
    "model.add(MaxPool2D(pool_size=(2,2),strides=(2,2)))\n",
    "model.add(Conv2D(filters=512, kernel_size=(3,3), padding=\"same\", activation=\"relu\"))\n",
    "model.add(Conv2D(filters=512, kernel_size=(3,3), padding=\"same\", activation=\"relu\"))\n",
    "model.add(Conv2D(filters=512, kernel_size=(3,3), padding=\"same\", activation=\"relu\"))\n",
    "model.add(MaxPool2D(pool_size=(2,2),strides=(2,2)))\n",
    "# end of VGG16\n",
    "\n",
    "# add a flatten out layer, a dropout for regularization, a FC layer, and a final\n",
    "# 10-node softmax layer for the prediction.\n",
    "model.add(Flatten()) # just flattening operation, same numb. nodes kept\n",
    "# n. nodes chosen by keeping the drop in nodes ratio of the origina model (approx.)\n",
    "model.add(Dense(units=680, activation=\"relu\", kernel_initializer=\"he_normal\"))\n",
    "model.add(Dropout(0.5)) # MY ADDITION\n",
    "model.add(Dense(units=180, activation=\"relu\", kernel_initializer=\"he_normal\"))\n",
    "model.add(Dense(class_count, activation=\"softmax\"))\n"
   ]
  },
  {
   "cell_type": "code",
   "execution_count": 12,
   "id": "1973ccc8",
   "metadata": {
    "execution": {
     "iopub.execute_input": "2022-12-02T13:11:05.819161Z",
     "iopub.status.busy": "2022-12-02T13:11:05.818164Z",
     "iopub.status.idle": "2022-12-02T13:11:05.823289Z",
     "shell.execute_reply": "2022-12-02T13:11:05.822078Z"
    },
    "papermill": {
     "duration": 0.018493,
     "end_time": "2022-12-02T13:11:05.826173",
     "exception": false,
     "start_time": "2022-12-02T13:11:05.807680",
     "status": "completed"
    },
    "tags": []
   },
   "outputs": [],
   "source": [
    "# model.summary()"
   ]
  },
  {
   "cell_type": "code",
   "execution_count": 13,
   "id": "b867fb32",
   "metadata": {
    "execution": {
     "iopub.execute_input": "2022-12-02T13:11:05.848333Z",
     "iopub.status.busy": "2022-12-02T13:11:05.847954Z",
     "iopub.status.idle": "2022-12-02T13:11:05.854107Z",
     "shell.execute_reply": "2022-12-02T13:11:05.853014Z"
    },
    "papermill": {
     "duration": 0.019126,
     "end_time": "2022-12-02T13:11:05.856274",
     "exception": false,
     "start_time": "2022-12-02T13:11:05.837148",
     "status": "completed"
    },
    "tags": []
   },
   "outputs": [],
   "source": [
    "model_path = \"/kaggle/working/eurosat_rgb_\" + model_name + \".h5\"\n",
    "\n",
    "# Save the weigths of the best model\n",
    "checkpoint = ModelCheckpoint(filepath=model_path, monitor=\"val_loss\", save_best_only=True)\n",
    "\n",
    "# Reduce learning rate when val_loss stops improving for 5 epochs.\n",
    "reduce_lr = ReduceLROnPlateau(monitor=\"val_loss\", factor=0.1, patience=5)\n",
    "\n",
    "# Stop training if a val_loss has stopped improving for 5 epochs.\n",
    "early_stopping = EarlyStopping(monitor=\"val_loss\", patience=15, restore_best_weights=True, verbose=True)\n",
    "\n",
    "callback_list = [checkpoint, early_stopping, reduce_lr]"
   ]
  },
  {
   "cell_type": "code",
   "execution_count": 14,
   "id": "4555bbb4",
   "metadata": {
    "execution": {
     "iopub.execute_input": "2022-12-02T13:11:05.876637Z",
     "iopub.status.busy": "2022-12-02T13:11:05.875565Z",
     "iopub.status.idle": "2022-12-02T13:11:05.890112Z",
     "shell.execute_reply": "2022-12-02T13:11:05.889131Z"
    },
    "papermill": {
     "duration": 0.026793,
     "end_time": "2022-12-02T13:11:05.892282",
     "exception": false,
     "start_time": "2022-12-02T13:11:05.865489",
     "status": "completed"
    },
    "tags": []
   },
   "outputs": [],
   "source": [
    "model.compile(loss=\"categorical_crossentropy\",\n",
    "              optimizer=Adam(learning_rate=1e-4),\n",
    "              metrics=['accuracy'])"
   ]
  },
  {
   "cell_type": "code",
   "execution_count": 15,
   "id": "d9a2ead9",
   "metadata": {
    "execution": {
     "iopub.execute_input": "2022-12-02T13:11:05.913925Z",
     "iopub.status.busy": "2022-12-02T13:11:05.913537Z",
     "iopub.status.idle": "2022-12-02T13:13:29.606685Z",
     "shell.execute_reply": "2022-12-02T13:13:29.605576Z"
    },
    "papermill": {
     "duration": 143.70706,
     "end_time": "2022-12-02T13:13:29.609505",
     "exception": false,
     "start_time": "2022-12-02T13:11:05.902445",
     "status": "completed"
    },
    "tags": []
   },
   "outputs": [
    {
     "name": "stdout",
     "output_type": "stream",
     "text": [
      "Epoch 1/3\n",
      "148/148 [==============================] - 84s 474ms/step - loss: 1.9252 - accuracy: 0.2240 - val_loss: 1.6442 - val_accuracy: 0.2991\n",
      "Epoch 2/3\n",
      "148/148 [==============================] - 29s 192ms/step - loss: 1.3833 - accuracy: 0.4127 - val_loss: 1.3029 - val_accuracy: 0.4526\n",
      "Epoch 3/3\n",
      "148/148 [==============================] - 29s 195ms/step - loss: 1.0424 - accuracy: 0.6016 - val_loss: 0.7685 - val_accuracy: 0.7226\n"
     ]
    }
   ],
   "source": [
    "history = model.fit(\n",
    "    training_set,\n",
    "    validation_data=validation_set,\n",
    "    callbacks=callback_list,\n",
    "    epochs=n_epochs,\n",
    "    verbose=1,\n",
    ")\n",
    "\n",
    "# Get the number of epochs the model ran for (to track early stopping):\n",
    "n_ran_epochs = len(history.history['loss'])"
   ]
  },
  {
   "cell_type": "code",
   "execution_count": 16,
   "id": "d9e12bf3",
   "metadata": {
    "execution": {
     "iopub.execute_input": "2022-12-02T13:13:29.681910Z",
     "iopub.status.busy": "2022-12-02T13:13:29.681533Z",
     "iopub.status.idle": "2022-12-02T13:13:29.687690Z",
     "shell.execute_reply": "2022-12-02T13:13:29.686511Z"
    },
    "papermill": {
     "duration": 0.04422,
     "end_time": "2022-12-02T13:13:29.689952",
     "exception": false,
     "start_time": "2022-12-02T13:13:29.645732",
     "status": "completed"
    },
    "tags": []
   },
   "outputs": [],
   "source": [
    "#plot_conv_weights(model, \"conv2d_35\")"
   ]
  },
  {
   "cell_type": "code",
   "execution_count": 17,
   "id": "444a816e",
   "metadata": {
    "execution": {
     "iopub.execute_input": "2022-12-02T13:13:29.795591Z",
     "iopub.status.busy": "2022-12-02T13:13:29.795005Z",
     "iopub.status.idle": "2022-12-02T13:13:30.338337Z",
     "shell.execute_reply": "2022-12-02T13:13:30.337218Z"
    },
    "papermill": {
     "duration": 0.600501,
     "end_time": "2022-12-02T13:13:30.340964",
     "exception": false,
     "start_time": "2022-12-02T13:13:29.740463",
     "status": "completed"
    },
    "tags": []
   },
   "outputs": [
    {
     "data": {
      "image/png": "[encoded data removed]",
      "text/plain": [
       "<Figure size 1296x360 with 2 Axes>"
      ]
     },
     "metadata": {
      "needs_background": "light"
     },
     "output_type": "display_data"
    },
    {
     "data": {
      "text/plain": [
       "<Figure size 432x288 with 0 Axes>"
      ]
     },
     "metadata": {},
     "output_type": "display_data"
    }
   ],
   "source": [
    "plt.figure(figsize=(18, 5))\n",
    "\n",
    "# Loss\n",
    "plt.subplot(1, 2, 1)\n",
    "plt.plot(history.history[\"loss\"])\n",
    "plt.plot(history.history[\"val_loss\"])\n",
    "plt.title(\"Loss\")\n",
    "plt.ylabel(\"loss\")\n",
    "plt.xlabel(\"epoch\")\n",
    "plt.legend([\"train\", \"validation\"], loc=\"upper left\")\n",
    "\n",
    "# Accuracy\n",
    "plt.subplot(1, 2, 2)\n",
    "plt.plot(history.history[\"accuracy\"])\n",
    "plt.plot(history.history[\"val_accuracy\"])\n",
    "plt.title(\"Accuracy\")\n",
    "plt.ylabel(\"accuracy\")\n",
    "plt.xlabel(\"epoch\")\n",
    "plt.legend([\"train\", \"validation\"], loc=\"upper left\")\n",
    "\n",
    "plt.show()\n",
    "plt.savefig(output_folder + model_name + \"_training_curves.png\")"
   ]
  },
  {
   "cell_type": "markdown",
   "id": "d23d2cd4",
   "metadata": {
    "papermill": {
     "duration": 0.035081,
     "end_time": "2022-12-02T13:13:30.411550",
     "exception": false,
     "start_time": "2022-12-02T13:13:30.376469",
     "status": "completed"
    },
    "tags": []
   },
   "source": [
    "## Predict and Evaluate Model"
   ]
  },
  {
   "cell_type": "code",
   "execution_count": 18,
   "id": "69505f01",
   "metadata": {
    "execution": {
     "iopub.execute_input": "2022-12-02T13:13:30.485039Z",
     "iopub.status.busy": "2022-12-02T13:13:30.484236Z",
     "iopub.status.idle": "2022-12-02T13:13:38.859160Z",
     "shell.execute_reply": "2022-12-02T13:13:38.857583Z"
    },
    "papermill": {
     "duration": 8.415542,
     "end_time": "2022-12-02T13:13:38.862607",
     "exception": false,
     "start_time": "2022-12-02T13:13:30.447065",
     "status": "completed"
    },
    "tags": []
   },
   "outputs": [
    {
     "name": "stdout",
     "output_type": "stream",
     "text": [
      "22/22 [==============================] - 8s 369ms/step - loss: 0.7424 - accuracy: 0.7330\n"
     ]
    }
   ],
   "source": [
    "loss, accuracy = model.evaluate(test_set, verbose=1)"
   ]
  },
  {
   "cell_type": "code",
   "execution_count": 19,
   "id": "aafeb6ed",
   "metadata": {
    "execution": {
     "iopub.execute_input": "2022-12-02T13:13:38.942559Z",
     "iopub.status.busy": "2022-12-02T13:13:38.941324Z",
     "iopub.status.idle": "2022-12-02T13:13:42.259977Z",
     "shell.execute_reply": "2022-12-02T13:13:42.258867Z"
    },
    "papermill": {
     "duration": 3.360601,
     "end_time": "2022-12-02T13:13:42.262913",
     "exception": false,
     "start_time": "2022-12-02T13:13:38.902312",
     "status": "completed"
    },
    "tags": []
   },
   "outputs": [
    {
     "name": "stdout",
     "output_type": "stream",
     "text": [
      "2700/2700 [==============================] - 3s 1ms/step\n"
     ]
    }
   ],
   "source": [
    "test_set.reset()\n",
    "predicted_probabilities = model.predict(test_set, steps=test_set.n, verbose=1)\n",
    "# Computation is done in batches.\n",
    "predicted_class_ids = np.argmax(predicted_probabilities, axis=1)"
   ]
  },
  {
   "cell_type": "code",
   "execution_count": 20,
   "id": "02c0cc32",
   "metadata": {
    "execution": {
     "iopub.execute_input": "2022-12-02T13:13:42.341037Z",
     "iopub.status.busy": "2022-12-02T13:13:42.339915Z",
     "iopub.status.idle": "2022-12-02T13:13:42.368774Z",
     "shell.execute_reply": "2022-12-02T13:13:42.367382Z"
    },
    "papermill": {
     "duration": 0.070822,
     "end_time": "2022-12-02T13:13:42.372054",
     "exception": false,
     "start_time": "2022-12-02T13:13:42.301232",
     "status": "completed"
    },
    "tags": []
   },
   "outputs": [
    {
     "name": "stdout",
     "output_type": "stream",
     "text": [
      "              precision    recall  f1-score   support\n",
      "\n",
      "           0     0.8547    0.8233    0.8387       300\n",
      "           1     0.7354    0.9633    0.8341       300\n",
      "           2     0.5300    0.6767    0.5944       300\n",
      "           3     0.5531    0.3960    0.4615       250\n",
      "           4     0.8258    0.9480    0.8827       250\n",
      "           5     0.5594    0.5650    0.5622       200\n",
      "           6     0.5787    0.5440    0.5608       250\n",
      "           7     0.8846    0.9200    0.9020       300\n",
      "           8     0.7101    0.3920    0.5052       250\n",
      "           9     0.9965    0.9367    0.9656       300\n",
      "\n",
      "    accuracy                         0.7330      2700\n",
      "   macro avg     0.7228    0.7165    0.7107      2700\n",
      "weighted avg     0.7330    0.7330    0.7242      2700\n",
      "\n"
     ]
    }
   ],
   "source": [
    "print(metrics.classification_report(test_set.labels, predicted_class_ids, digits=4))\n",
    "report = metrics.classification_report(test_set.labels, predicted_class_ids, output_dict=True)\n",
    "\n",
    "wa_prec = report[\"weighted avg\"][\"precision\"]\n",
    "wa_rec = report[\"weighted avg\"][\"recall\"]\n",
    "wa_f1 = report[\"weighted avg\"][\"f1-score\"]"
   ]
  },
  {
   "cell_type": "code",
   "execution_count": 21,
   "id": "0ffd0cd2",
   "metadata": {
    "execution": {
     "iopub.execute_input": "2022-12-02T13:13:42.451942Z",
     "iopub.status.busy": "2022-12-02T13:13:42.451573Z",
     "iopub.status.idle": "2022-12-02T13:13:42.460019Z",
     "shell.execute_reply": "2022-12-02T13:13:42.459033Z"
    },
    "papermill": {
     "duration": 0.050198,
     "end_time": "2022-12-02T13:13:42.462229",
     "exception": false,
     "start_time": "2022-12-02T13:13:42.412031",
     "status": "completed"
    },
    "tags": []
   },
   "outputs": [],
   "source": [
    "cf_matrix = confusion_matrix(test_set.labels, predicted_class_ids)\n",
    "confusion_matrix_df = pd.DataFrame(\n",
    "    data=cf_matrix, \n",
    "    index=class_name_list, \n",
    "    columns=class_name_list\n",
    ")"
   ]
  },
  {
   "cell_type": "code",
   "execution_count": 22,
   "id": "12d20db6",
   "metadata": {
    "execution": {
     "iopub.execute_input": "2022-12-02T13:13:42.540697Z",
     "iopub.status.busy": "2022-12-02T13:13:42.539721Z",
     "iopub.status.idle": "2022-12-02T13:13:43.294555Z",
     "shell.execute_reply": "2022-12-02T13:13:43.293373Z"
    },
    "papermill": {
     "duration": 0.796666,
     "end_time": "2022-12-02T13:13:43.297596",
     "exception": false,
     "start_time": "2022-12-02T13:13:42.500930",
     "status": "completed"
    },
    "tags": []
   },
   "outputs": [
    {
     "data": {
      "image/png": "[encoded data removed]",
      "text/plain": [
       "<Figure size 720x504 with 2 Axes>"
      ]
     },
     "metadata": {
      "needs_background": "light"
     },
     "output_type": "display_data"
    },
    {
     "data": {
      "text/plain": [
       "<Figure size 432x288 with 0 Axes>"
      ]
     },
     "metadata": {},
     "output_type": "display_data"
    }
   ],
   "source": [
    "plt.figure(figsize=(10, 7))\n",
    "sns.set(font_scale=1)\n",
    "sns.heatmap(confusion_matrix_df, annot=True, cmap=\"Blues\", annot_kws={\"size\": 9}, fmt=\"g\")\n",
    "plt.ylabel(\"Label\")\n",
    "plt.xlabel(\"Prediction\")\n",
    "plt.title(\"Confusion matrix for the test set\")\n",
    "plt.show()\n",
    "plt.savefig(output_folder + model_name + \"_confusion.png\")"
   ]
  },
  {
   "cell_type": "code",
   "execution_count": 23,
   "id": "952278e4",
   "metadata": {
    "execution": {
     "iopub.execute_input": "2022-12-02T13:13:43.379813Z",
     "iopub.status.busy": "2022-12-02T13:13:43.378774Z",
     "iopub.status.idle": "2022-12-02T13:13:43.389426Z",
     "shell.execute_reply": "2022-12-02T13:13:43.387846Z"
    },
    "papermill": {
     "duration": 0.05339,
     "end_time": "2022-12-02T13:13:43.391692",
     "exception": false,
     "start_time": "2022-12-02T13:13:43.338302",
     "status": "completed"
    },
    "tags": []
   },
   "outputs": [
    {
     "name": "stdout",
     "output_type": "stream",
     "text": [
      "721 wrong predictions out of 2700\n"
     ]
    }
   ],
   "source": [
    "results_df = pd.DataFrame(\n",
    "    {\n",
    "        \"label\": test_set.labels, \n",
    "        \"prediction\": predicted_class_ids, \n",
    "        \"path\": test_set.filepaths\n",
    "    }\n",
    ")\n",
    "\n",
    "mistakes = results_df[\"label\"] != results_df[\"prediction\"]\n",
    "mistakes_df = results_df[mistakes]\n",
    "\n",
    "wrong_preds = len(mistakes_df)\n",
    "tot_preds = len(results_df)\n",
    "\n",
    "print(f\"{wrong_preds} wrong predictions out of {tot_preds}\")"
   ]
  },
  {
   "cell_type": "code",
   "execution_count": 24,
   "id": "7c44dccb",
   "metadata": {
    "execution": {
     "iopub.execute_input": "2022-12-02T13:13:43.473553Z",
     "iopub.status.busy": "2022-12-02T13:13:43.472495Z",
     "iopub.status.idle": "2022-12-02T13:13:43.480738Z",
     "shell.execute_reply": "2022-12-02T13:13:43.479488Z"
    },
    "papermill": {
     "duration": 0.051551,
     "end_time": "2022-12-02T13:13:43.483238",
     "exception": false,
     "start_time": "2022-12-02T13:13:43.431687",
     "status": "completed"
    },
    "tags": []
   },
   "outputs": [],
   "source": [
    "# Add results to the results csv file:\n",
    "\n",
    "with open(\"./results.csv\", 'a+', newline='') as csvfile:\n",
    "    filewriter = csv.writer(csvfile, delimiter=',',\n",
    "                            quotechar='|', quoting=csv.QUOTE_MINIMAL)\n",
    "    # Create a row with the column names:\n",
    "    filewriter.writerow([model,\n",
    "                         \"removed_layer\", \n",
    "                         loss,\n",
    "                         accuracy,\n",
    "                         wa_prec,\n",
    "                         wa_rec,\n",
    "                         wa_f1,\n",
    "                         wrong_preds,\n",
    "                         tot_preds,\n",
    "                         batch_size,\n",
    "                         len(training_df), # number of images in the training set\n",
    "                         len(validation_df), # number of images in the validation set\n",
    "                         len(test_df), # number of images in the test set\n",
    "                         n_epochs, # cap set for num epochs\n",
    "                         n_ran_epochs # epoch where it stopped automatically\n",
    "                        ])\n",
    "    "
   ]
  },
  {
   "cell_type": "markdown",
   "id": "e3b55a5f",
   "metadata": {
    "papermill": {
     "duration": 0.039607,
     "end_time": "2022-12-02T13:13:43.562608",
     "exception": false,
     "start_time": "2022-12-02T13:13:43.523001",
     "status": "completed"
    },
    "tags": []
   },
   "source": [
    "# START ABLATION STUDY"
   ]
  },
  {
   "cell_type": "code",
   "execution_count": 25,
   "id": "daeaa597",
   "metadata": {
    "execution": {
     "iopub.execute_input": "2022-12-02T13:13:43.643448Z",
     "iopub.status.busy": "2022-12-02T13:13:43.642992Z",
     "iopub.status.idle": "2022-12-02T13:13:43.650943Z",
     "shell.execute_reply": "2022-12-02T13:13:43.649785Z"
    },
    "papermill": {
     "duration": 0.05154,
     "end_time": "2022-12-02T13:13:43.653215",
     "exception": false,
     "start_time": "2022-12-02T13:13:43.601675",
     "status": "completed"
    },
    "tags": []
   },
   "outputs": [],
   "source": [
    "def run_model(model, model_name):\n",
    "    model_path = \"/kaggle/working/eurosat_rgb_\" + model_name + \".h5\"\n",
    "    # Save the weigths of the best model\n",
    "    checkpoint = ModelCheckpoint(filepath=model_path, monitor=\"val_loss\", save_best_only=True)\n",
    "    # Reduce learning rate when val_loss stops improving for 5 epochs.\n",
    "    reduce_lr = ReduceLROnPlateau(monitor=\"val_loss\", factor=0.1, patience=5)\n",
    "    # Stop training if a val_loss has stopped improving for 5 epochs.\n",
    "    early_stopping = EarlyStopping(monitor=\"val_loss\", patience=15, restore_best_weights=True, verbose=True)\n",
    "    callback_list = [checkpoint, early_stopping, reduce_lr]\n",
    "    \n",
    "    model.compile(loss=\"categorical_crossentropy\",\n",
    "              optimizer=Adam(learning_rate=1e-4),\n",
    "              metrics=['accuracy'])\n",
    "\n",
    "    history = model.fit(\n",
    "        training_set,\n",
    "        validation_data=validation_set,\n",
    "        callbacks=callback_list,\n",
    "        epochs=n_epochs,\n",
    "        verbose=1,\n",
    "    )\n",
    "\n",
    "    return history"
   ]
  },
  {
   "cell_type": "code",
   "execution_count": 26,
   "id": "6487188a",
   "metadata": {
    "execution": {
     "iopub.execute_input": "2022-12-02T13:13:43.732854Z",
     "iopub.status.busy": "2022-12-02T13:13:43.732494Z",
     "iopub.status.idle": "2022-12-02T13:13:43.747287Z",
     "shell.execute_reply": "2022-12-02T13:13:43.746155Z"
    },
    "papermill": {
     "duration": 0.057615,
     "end_time": "2022-12-02T13:13:43.749735",
     "exception": false,
     "start_time": "2022-12-02T13:13:43.692120",
     "status": "completed"
    },
    "tags": []
   },
   "outputs": [],
   "source": [
    "def get_eval_metrics(history, model, test_set):\n",
    "    n_ran_epochs = len(history.history['loss'])\n",
    "    loss, accuracy = model.evaluate(test_set, verbose=1)\n",
    "    test_set.reset()\n",
    "    predicted_probabilities = model.predict(test_set, steps=test_set.n, verbose=1)\n",
    "    predicted_class_ids = np.argmax(predicted_probabilities, axis=1)\n",
    "    report = metrics.classification_report(test_set.labels, predicted_class_ids, output_dict=True)\n",
    "    wa_prec = report[\"weighted avg\"][\"precision\"]\n",
    "    wa_rec = report[\"weighted avg\"][\"recall\"]\n",
    "    wa_f1 = report[\"weighted avg\"][\"f1-score\"]\n",
    "    cf_matrix = confusion_matrix(test_set.labels, predicted_class_ids)\n",
    "    confusion_matrix_df = pd.DataFrame(\n",
    "        data=cf_matrix, \n",
    "        index=class_name_list, \n",
    "        columns=class_name_list\n",
    "    )\n",
    "    results_df = pd.DataFrame(\n",
    "        {\n",
    "            \"label\": test_set.labels, \n",
    "            \"prediction\": predicted_class_ids, \n",
    "            \"path\": test_set.filepaths\n",
    "        }\n",
    "        )\n",
    "\n",
    "    mistakes = results_df[\"label\"] != results_df[\"prediction\"]\n",
    "    mistakes_df = results_df[mistakes]\n",
    "    wrong_preds = len(mistakes_df)\n",
    "    tot_preds = len(results_df)\n",
    "\n",
    "    print(metrics.classification_report(test_set.labels, predicted_class_ids, digits=4))\n",
    "    \n",
    "    return n_ran_epochs, loss, accuracy, wa_prec, wa_rec, wa_f1, cf_matrix, confusion_matrix_df, wrong_preds, tot_preds\n",
    "\n",
    "    \n",
    "    \n",
    "def save_plots(history, output_folder, model_name, confusion_matrix_df):\n",
    "    plt.subplot(1, 2, 1)\n",
    "    # Loss\n",
    "    plt.plot(history.history[\"loss\"])\n",
    "    plt.plot(history.history[\"val_loss\"])\n",
    "    plt.title(\"Loss - \" + model_name)\n",
    "    plt.ylabel(\"loss\")\n",
    "    plt.xlabel(\"epoch\")\n",
    "    plt.legend([\"train\", \"validation\"], loc=\"upper left\")\n",
    "\n",
    "    # Accuracy\n",
    "    plt.subplot(1, 2, 2)\n",
    "    plt.plot(history.history[\"accuracy\"])\n",
    "    plt.plot(history.history[\"val_accuracy\"])\n",
    "    plt.title(\"Accuracy - \" + model_name)\n",
    "    plt.ylabel(\"accuracy\")\n",
    "    plt.xlabel(\"epoch\")\n",
    "    plt.legend([\"train\", \"validation\"], loc=\"upper left\")\n",
    "\n",
    "    #plt.show()\n",
    "    plt.savefig(output_folder + model_name + \"_training_curves.png\")\n",
    "    \n",
    "    # CONFUSION MATRIX IMAGE\n",
    "    plt.figure(figsize=(10, 7))\n",
    "    sns.set(font_scale=1)\n",
    "    sns.heatmap(confusion_matrix_df, annot=True, cmap=\"Blues\", annot_kws={\"size\": 9}, fmt=\"g\")\n",
    "    plt.ylabel(\"Label\")\n",
    "    plt.xlabel(\"Prediction\")\n",
    "    plt.title(\"Confusion matrix - \" + model_name)\n",
    "    #plt.show()\n",
    "    plt.savefig(output_folder + model_name + \"_confusion.png\")\n"
   ]
  },
  {
   "cell_type": "code",
   "execution_count": 27,
   "id": "4c9b6e60",
   "metadata": {
    "execution": {
     "iopub.execute_input": "2022-12-02T13:13:43.826736Z",
     "iopub.status.busy": "2022-12-02T13:13:43.826371Z",
     "iopub.status.idle": "2022-12-02T13:13:43.864506Z",
     "shell.execute_reply": "2022-12-02T13:13:43.863462Z"
    },
    "papermill": {
     "duration": 0.07856,
     "end_time": "2022-12-02T13:13:43.867233",
     "exception": false,
     "start_time": "2022-12-02T13:13:43.788673",
     "status": "completed"
    },
    "tags": []
   },
   "outputs": [],
   "source": [
    "model_name = \"ablation_CONV1\"\n",
    "model = Sequential()\n",
    "\n",
    "# start of VGG16\n",
    "#model.add(Conv2D(input_shape=(64,64,3),filters=64,kernel_size=(3,3),padding=\"same\", activation=\"relu\"))\n",
    "#model.add(Conv2D(filters=64,kernel_size=(3,3),padding=\"same\", activation=\"relu\"))\n",
    "#model.add(MaxPool2D(pool_size=(2,2),strides=(2,2)))\n",
    "model.add(Conv2D(filters=128, kernel_size=(3,3), padding=\"same\", activation=\"relu\"))\n",
    "model.add(Conv2D(filters=128, kernel_size=(3,3), padding=\"same\", activation=\"relu\"))\n",
    "model.add(MaxPool2D(pool_size=(2,2),strides=(2,2)))\n",
    "model.add(Conv2D(filters=256, kernel_size=(3,3), padding=\"same\", activation=\"relu\"))\n",
    "model.add(Conv2D(filters=256, kernel_size=(3,3), padding=\"same\", activation=\"relu\"))\n",
    "model.add(Conv2D(filters=256, kernel_size=(3,3), padding=\"same\", activation=\"relu\"))\n",
    "model.add(MaxPool2D(pool_size=(2,2),strides=(2,2)))\n",
    "model.add(Conv2D(filters=512, kernel_size=(3,3), padding=\"same\", activation=\"relu\"))\n",
    "model.add(Conv2D(filters=512, kernel_size=(3,3), padding=\"same\", activation=\"relu\"))\n",
    "model.add(Conv2D(filters=512, kernel_size=(3,3), padding=\"same\", activation=\"relu\"))\n",
    "model.add(MaxPool2D(pool_size=(2,2),strides=(2,2)))\n",
    "model.add(Conv2D(filters=512, kernel_size=(3,3), padding=\"same\", activation=\"relu\"))\n",
    "model.add(Conv2D(filters=512, kernel_size=(3,3), padding=\"same\", activation=\"relu\"))\n",
    "model.add(Conv2D(filters=512, kernel_size=(3,3), padding=\"same\", activation=\"relu\"))\n",
    "model.add(MaxPool2D(pool_size=(2,2),strides=(2,2)))\n",
    "# end of VGG16\n",
    "\n",
    "# add a flatten out layer, a dropout for regularization, a FC layer, and a final\n",
    "# 10-node softmax layer for the prediction.\n",
    "model.add(Flatten()) # just flattening operation, same numb. nodes kept\n",
    "# n. nodes chosen by keeping the drop in nodes ratio of the origina model (approx.)\n",
    "model.add(Dense(units=680, activation=\"relu\", kernel_initializer=\"he_normal\"))\n",
    "model.add(Dropout(0.5)) # MY ADDITION\n",
    "model.add(Dense(units=180, activation=\"relu\", kernel_initializer=\"he_normal\"))\n",
    "model.add(Dense(class_count, activation=\"softmax\"))"
   ]
  },
  {
   "cell_type": "code",
   "execution_count": 28,
   "id": "e65149d0",
   "metadata": {
    "execution": {
     "iopub.execute_input": "2022-12-02T13:13:43.946871Z",
     "iopub.status.busy": "2022-12-02T13:13:43.946491Z",
     "iopub.status.idle": "2022-12-02T13:17:01.911588Z",
     "shell.execute_reply": "2022-12-02T13:17:01.910391Z"
    },
    "papermill": {
     "duration": 198.009203,
     "end_time": "2022-12-02T13:17:01.914926",
     "exception": false,
     "start_time": "2022-12-02T13:13:43.905723",
     "status": "completed"
    },
    "tags": []
   },
   "outputs": [
    {
     "name": "stdout",
     "output_type": "stream",
     "text": [
      "Epoch 1/3\n",
      "148/148 [==============================] - 77s 454ms/step - loss: 1.8980 - accuracy: 0.2338 - val_loss: 1.5023 - val_accuracy: 0.3598\n",
      "Epoch 2/3\n",
      "148/148 [==============================] - 58s 392ms/step - loss: 1.3290 - accuracy: 0.4721 - val_loss: 1.0884 - val_accuracy: 0.5670\n",
      "Epoch 3/3\n",
      "148/148 [==============================] - 57s 387ms/step - loss: 1.0251 - accuracy: 0.6181 - val_loss: 0.7522 - val_accuracy: 0.7354\n"
     ]
    }
   ],
   "source": [
    "history = run_model(model, model_name)"
   ]
  },
  {
   "cell_type": "code",
   "execution_count": 29,
   "id": "46154ee5",
   "metadata": {
    "execution": {
     "iopub.execute_input": "2022-12-02T13:17:02.123991Z",
     "iopub.status.busy": "2022-12-02T13:17:02.123462Z",
     "iopub.status.idle": "2022-12-02T13:17:12.903944Z",
     "shell.execute_reply": "2022-12-02T13:17:12.902745Z"
    },
    "papermill": {
     "duration": 10.88683,
     "end_time": "2022-12-02T13:17:12.907113",
     "exception": false,
     "start_time": "2022-12-02T13:17:02.020283",
     "status": "completed"
    },
    "tags": []
   },
   "outputs": [
    {
     "name": "stdout",
     "output_type": "stream",
     "text": [
      "22/22 [==============================] - 4s 182ms/step - loss: 0.7437 - accuracy: 0.7459\n",
      "2700/2700 [==============================] - 3s 1ms/step\n",
      "              precision    recall  f1-score   support\n",
      "\n",
      "           0     0.7697    0.8467    0.8063       300\n",
      "           1     0.9278    0.9000    0.9137       300\n",
      "           2     0.6820    0.5433    0.6048       300\n",
      "           3     0.5672    0.5400    0.5533       250\n",
      "           4     0.8884    0.7960    0.8397       250\n",
      "           5     0.5688    0.7650    0.6525       200\n",
      "           6     0.5091    0.6720    0.5793       250\n",
      "           7     0.8791    0.8967    0.8878       300\n",
      "           8     0.6720    0.5000    0.5734       250\n",
      "           9     0.9686    0.9267    0.9472       300\n",
      "\n",
      "    accuracy                         0.7459      2700\n",
      "   macro avg     0.7433    0.7386    0.7358      2700\n",
      "weighted avg     0.7560    0.7459    0.7462      2700\n",
      "\n"
     ]
    }
   ],
   "source": [
    "n_ran_epochs, loss, accuracy, wa_prec, wa_rec, wa_f1, cf_matrix, confusion_matrix_df, wrong_preds, tot_preds = get_eval_metrics(history, model, test_set)"
   ]
  },
  {
   "cell_type": "code",
   "execution_count": 30,
   "id": "4a28e59f",
   "metadata": {
    "execution": {
     "iopub.execute_input": "2022-12-02T13:17:13.047114Z",
     "iopub.status.busy": "2022-12-02T13:17:13.046725Z",
     "iopub.status.idle": "2022-12-02T13:17:14.602061Z",
     "shell.execute_reply": "2022-12-02T13:17:14.601124Z"
    },
    "papermill": {
     "duration": 1.627683,
     "end_time": "2022-12-02T13:17:14.604379",
     "exception": false,
     "start_time": "2022-12-02T13:17:12.976696",
     "status": "completed"
    },
    "tags": []
   },
   "outputs": [
    {
     "data": {
      "image/png": "[encoded data removed]",
      "text/plain": [
       "<Figure size 432x288 with 2 Axes>"
      ]
     },
     "metadata": {},
     "output_type": "display_data"
    },
    {
     "data": {
      "image/png": "[encoded data removed]",
      "text/plain": [
       "<Figure size 720x504 with 2 Axes>"
      ]
     },
     "metadata": {},
     "output_type": "display_data"
    }
   ],
   "source": [
    "save_plots(history, output_folder, model_name, confusion_matrix_df)"
   ]
  },
  {
   "cell_type": "code",
   "execution_count": 31,
   "id": "81440eba",
   "metadata": {
    "execution": {
     "iopub.execute_input": "2022-12-02T13:17:14.744027Z",
     "iopub.status.busy": "2022-12-02T13:17:14.741863Z",
     "iopub.status.idle": "2022-12-02T13:17:14.750462Z",
     "shell.execute_reply": "2022-12-02T13:17:14.749454Z"
    },
    "papermill": {
     "duration": 0.080051,
     "end_time": "2022-12-02T13:17:14.752692",
     "exception": false,
     "start_time": "2022-12-02T13:17:14.672641",
     "status": "completed"
    },
    "tags": []
   },
   "outputs": [],
   "source": [
    "# TURN INTO A FUNCTION\n",
    "\n",
    "with open(\"./results.csv\", 'a+', newline='') as csvfile:\n",
    "    filewriter = csv.writer(csvfile, delimiter=',',\n",
    "                            quotechar='|', quoting=csv.QUOTE_MINIMAL)\n",
    "    # Create a row with the column names:\n",
    "    filewriter.writerow([model,\n",
    "                         \"removed_layer\", \n",
    "                         loss,\n",
    "                         accuracy,\n",
    "                         wa_prec,\n",
    "                         wa_rec,\n",
    "                         wa_f1,\n",
    "                         wrong_preds,\n",
    "                         tot_preds,\n",
    "                         batch_size,\n",
    "                         len(training_df), # number of images in the training set\n",
    "                         len(validation_df), # number of images in the validation set\n",
    "                         len(test_df), # number of images in the test set\n",
    "                         n_epochs, # cap set for num epochs\n",
    "                         n_ran_epochs # epoch where it stopped automatically\n",
    "                        ])\n",
    "    "
   ]
  }
 ],
 "metadata": {
  "kernelspec": {
   "display_name": "Python 3",
   "language": "python",
   "name": "python3"
  },
  "language_info": {
   "codemirror_mode": {
    "name": "ipython",
    "version": 3
   },
   "file_extension": ".py",
   "mimetype": "text/x-python",
   "name": "python",
   "nbconvert_exporter": "python",
   "pygments_lexer": "ipython3",
   "version": "3.7.12"
  },
  "papermill": {
   "default_parameters": {},
   "duration": 420.828846,
   "end_time": "2022-12-02T13:17:18.717957",
   "environment_variables": {},
   "exception": null,
   "input_path": "__notebook__.ipynb",
   "output_path": "__notebook__.ipynb",
   "parameters": {},
   "start_time": "2022-12-02T13:10:17.889111",
   "version": "2.3.4"
  }
 },
 "nbformat": 4,
 "nbformat_minor": 5
}
