{
 "cells": [
  {
   "cell_type": "markdown",
   "id": "d1e599ee",
   "metadata": {
    "papermill": {
     "duration": 0.008349,
     "end_time": "2022-12-02T12:34:30.639499",
     "exception": false,
     "start_time": "2022-12-02T12:34:30.631150",
     "status": "completed"
    },
    "tags": []
   },
   "source": [
    "## Import packages"
   ]
  },
  {
   "cell_type": "code",
   "execution_count": 1,
   "id": "6aacf2cb",
   "metadata": {
    "execution": {
     "iopub.execute_input": "2022-12-02T12:34:30.655892Z",
     "iopub.status.busy": "2022-12-02T12:34:30.654746Z",
     "iopub.status.idle": "2022-12-02T12:34:37.792820Z",
     "shell.execute_reply": "2022-12-02T12:34:37.791724Z"
    },
    "papermill": {
     "duration": 7.149138,
     "end_time": "2022-12-02T12:34:37.795643",
     "exception": false,
     "start_time": "2022-12-02T12:34:30.646505",
     "status": "completed"
    },
    "tags": []
   },
   "outputs": [],
   "source": [
    "# Import packages\n",
    "import numpy as np\n",
    "import pandas as pd\n",
    "import matplotlib.pyplot as plt\n",
    "import seaborn as sns\n",
    "import cv2\n",
    "import os\n",
    "import random\n",
    "import tensorflow as tf\n",
    "import seaborn as sns\n",
    "import random\n",
    "import csv\n",
    "\n",
    "from sklearn.utils import shuffle\n",
    "from matplotlib import image\n",
    "from sklearn import metrics\n",
    "from sklearn.metrics import confusion_matrix\n",
    "from keras.preprocessing.image import ImageDataGenerator\n",
    "from keras.applications.vgg16 import VGG16\n",
    "from keras.models import Sequential\n",
    "from keras.layers import Dense, Flatten, Dropout, Conv2D, MaxPool2D\n",
    "from keras.callbacks import ModelCheckpoint, ReduceLROnPlateau, EarlyStopping, ReduceLROnPlateau\n",
    "from tensorflow.keras.optimizers import Adam\n",
    "\n",
    "# Suppress keras warnings\n",
    "os.environ[\"TF_CPP_MIN_LOG_LEVEL\"] = \"3\"\n",
    "random.seed(432)"
   ]
  },
  {
   "cell_type": "markdown",
   "id": "0aa57e09",
   "metadata": {
    "papermill": {
     "duration": 0.007459,
     "end_time": "2022-12-02T12:34:37.810927",
     "exception": false,
     "start_time": "2022-12-02T12:34:37.803468",
     "status": "completed"
    },
    "tags": []
   },
   "source": [
    "## Define variables that will apply to all models:"
   ]
  },
  {
   "cell_type": "code",
   "execution_count": 2,
   "id": "9aa6930f",
   "metadata": {
    "execution": {
     "iopub.execute_input": "2022-12-02T12:34:37.827167Z",
     "iopub.status.busy": "2022-12-02T12:34:37.826617Z",
     "iopub.status.idle": "2022-12-02T12:34:37.831432Z",
     "shell.execute_reply": "2022-12-02T12:34:37.830456Z"
    },
    "papermill": {
     "duration": 0.015066,
     "end_time": "2022-12-02T12:34:37.833405",
     "exception": false,
     "start_time": "2022-12-02T12:34:37.818339",
     "status": "completed"
    },
    "tags": []
   },
   "outputs": [],
   "source": [
    "# input and output folder\n",
    "input_folder = \"/kaggle/input/\"\n",
    "output_folder = \"/kaggle/working/\"\n",
    "\n",
    "n_epochs = 3\n",
    "batch_size = 128 # How big of a set of data to use for every training epoch"
   ]
  },
  {
   "cell_type": "markdown",
   "id": "0145b9b8",
   "metadata": {
    "papermill": {
     "duration": 0.006874,
     "end_time": "2022-12-02T12:34:37.847155",
     "exception": false,
     "start_time": "2022-12-02T12:34:37.840281",
     "status": "completed"
    },
    "tags": []
   },
   "source": [
    "### Create a file to save test results"
   ]
  },
  {
   "cell_type": "code",
   "execution_count": 3,
   "id": "c100af86",
   "metadata": {
    "execution": {
     "iopub.execute_input": "2022-12-02T12:34:37.864695Z",
     "iopub.status.busy": "2022-12-02T12:34:37.863695Z",
     "iopub.status.idle": "2022-12-02T12:34:37.870784Z",
     "shell.execute_reply": "2022-12-02T12:34:37.869841Z"
    },
    "papermill": {
     "duration": 0.017247,
     "end_time": "2022-12-02T12:34:37.872792",
     "exception": false,
     "start_time": "2022-12-02T12:34:37.855545",
     "status": "completed"
    },
    "tags": []
   },
   "outputs": [],
   "source": [
    "# Open the excel file where I'll save all the test results (metrics)\n",
    "\n",
    "with open(\"./results.csv\", \"w\") as csvfile:\n",
    "    filewriter = csv.writer(csvfile, delimiter=',',\n",
    "                            quotechar='|', quoting=csv.QUOTE_MINIMAL)\n",
    "    # Create a row with the column names:\n",
    "    filewriter.writerow([\"model_name\",\n",
    "                         \"removed_layer\", \n",
    "                         \"test_loss\",\n",
    "                         \"test_accuracy\",\n",
    "                         \"wa_precision\", # wa = weighted average\n",
    "                         \"wa_recall\",\n",
    "                         \"wa_f1_score\",\n",
    "                         \"wrong_preds\",\n",
    "                         \"total_preds\",\n",
    "                         \"batch_size\",\n",
    "                         \"num_train\", # number of images in the training set\n",
    "                         \"num_val\", # number of images in the validation set\n",
    "                         \"num_test\", # number of images in the test set\n",
    "                         \"num_epochs_set\", # cap set for num epochs\n",
    "                         \"num_epochs_run\" # epoch where it stopped automatically\n",
    "                        ])\n",
    "    \n",
    "# ADD A WAY TO PROPERLY DESCRIBE THE MODEL ARCHITECTURE: MAYBE GIVE A NAME TO EACH LAYER\n",
    "# OF THE VGG, AND THEN LIST THE LAYER(S) REMOVED IN EACH SPECIFIC ITERATION."
   ]
  },
  {
   "cell_type": "markdown",
   "id": "d3fd210e",
   "metadata": {
    "papermill": {
     "duration": 0.006929,
     "end_time": "2022-12-02T12:34:37.886837",
     "exception": false,
     "start_time": "2022-12-02T12:34:37.879908",
     "status": "completed"
    },
    "tags": []
   },
   "source": [
    "# TODO\n",
    "\n",
    "1. ADD A WAY TO PROPERLY DESCRIBE THE MODEL ARCHITECTURE IN THE EXCEL FILE\n",
    "2. IN THE IMAGES (TRAINING ACCURACY, TRAINING LOSS, CONFUSION MATRIX), ADD THE NAME OF THE MODEL IN THE IMAGE TITLE."
   ]
  },
  {
   "cell_type": "markdown",
   "id": "b8cc3b77",
   "metadata": {
    "papermill": {
     "duration": 0.007292,
     "end_time": "2022-12-02T12:34:37.901263",
     "exception": false,
     "start_time": "2022-12-02T12:34:37.893971",
     "status": "completed"
    },
    "tags": []
   },
   "source": [
    "### Define functions"
   ]
  },
  {
   "cell_type": "code",
   "execution_count": 4,
   "id": "5acad3d9",
   "metadata": {
    "execution": {
     "iopub.execute_input": "2022-12-02T12:34:37.917456Z",
     "iopub.status.busy": "2022-12-02T12:34:37.916599Z",
     "iopub.status.idle": "2022-12-02T12:34:37.924353Z",
     "shell.execute_reply": "2022-12-02T12:34:37.923400Z"
    },
    "papermill": {
     "duration": 0.018025,
     "end_time": "2022-12-02T12:34:37.926506",
     "exception": false,
     "start_time": "2022-12-02T12:34:37.908481",
     "status": "completed"
    },
    "tags": []
   },
   "outputs": [],
   "source": [
    "# https://stackoverflow.com/questions/39280813/visualization-of-convolutional-layer-in-keras-model\n",
    "# Merdan Memtimin https://stackoverflow.com/users/6565409/merdan-memtimin\n",
    "def plot_conv_weights(model, layer_name):\n",
    "    W = model.get_layer(name=layer_name).get_weights()[0]\n",
    "    if len(W.shape) == 4:\n",
    "        W = np.squeeze(W)\n",
    "        W = W.reshape((W.shape[0], W.shape[1], W.shape[2]*W.shape[3])) \n",
    "        fig, axs = plt.subplots(5,5, figsize=(8,8))\n",
    "        fig.subplots_adjust(hspace = .5, wspace=.001)\n",
    "        axs = axs.ravel()\n",
    "        for i in range(25):\n",
    "            axs[i].imshow(W[:,:,i])\n",
    "            axs[i].set_title(str(i))"
   ]
  },
  {
   "cell_type": "code",
   "execution_count": 5,
   "id": "aa09da03",
   "metadata": {
    "execution": {
     "iopub.execute_input": "2022-12-02T12:34:37.943178Z",
     "iopub.status.busy": "2022-12-02T12:34:37.942223Z",
     "iopub.status.idle": "2022-12-02T12:34:37.949127Z",
     "shell.execute_reply": "2022-12-02T12:34:37.948193Z"
    },
    "papermill": {
     "duration": 0.017429,
     "end_time": "2022-12-02T12:34:37.951300",
     "exception": false,
     "start_time": "2022-12-02T12:34:37.933871",
     "status": "completed"
    },
    "tags": []
   },
   "outputs": [],
   "source": [
    "def load_metadata(data_folder, train_file, validation_file, test_file, column_names):\n",
    "    \"\"\"Reads the .csv files containing metadata (e.g. file location, class label) about the data images.\n",
    "    \n",
    "    Parameters:\n",
    "    data_folder (str): file path to the folder containing the csv file.\n",
    "    train_file (str): file name of the file containing metadata for the training set.\n",
    "    validation_file (str): file name of the file containing metadata for the validation set.\n",
    "    test_file (str): file name of the file containing metadata for the test set.\n",
    "    column_names (list): array containing the column names for the csv files\n",
    "    \n",
    "    Returns:\n",
    "    the read trainig, validation, and test files.\n",
    "    \"\"\"\n",
    "    training_df = pd.read_csv(data_folder + train_file, names = column_names, skiprows=1)\n",
    "    validation_df = pd.read_csv(data_folder + validation_file, names = column_names, skiprows=1)\n",
    "    test_df = pd.read_csv(data_folder + test_file, names = column_names, skiprows=1)\n",
    "    \n",
    "    return training_df, validation_df, test_df\n"
   ]
  },
  {
   "cell_type": "code",
   "execution_count": 6,
   "id": "a3644311",
   "metadata": {
    "execution": {
     "iopub.execute_input": "2022-12-02T12:34:37.967723Z",
     "iopub.status.busy": "2022-12-02T12:34:37.966901Z",
     "iopub.status.idle": "2022-12-02T12:34:37.976294Z",
     "shell.execute_reply": "2022-12-02T12:34:37.975430Z"
    },
    "papermill": {
     "duration": 0.019531,
     "end_time": "2022-12-02T12:34:37.978271",
     "exception": false,
     "start_time": "2022-12-02T12:34:37.958740",
     "status": "completed"
    },
    "tags": []
   },
   "outputs": [],
   "source": [
    "def precision(confusion_matrix):\n",
    "    \"\"\"Given a confusion matrix, calculates and returns precision for all classes\"\"\"\n",
    "    precision_list = []\n",
    "    for i in range(confusion_matrix.shape[1]):\n",
    "        current_col = confusion_matrix[:,[i]]\n",
    "        current_el = confusion_matrix[i,[i]]\n",
    "        current_precision = (float(current_el/sum(current_col)[0]))\n",
    "        current_precision = round(current_precision, 4)\n",
    "        precision_list.append(current_precision)\n",
    "    return precision_list\n",
    "\n",
    "def recall(confusion_matrix):\n",
    "    \"\"\"Given a confusion matrix, calculates and returns recall for all classes\"\"\"\n",
    "    recall_list = []\n",
    "    for i in range(confusion_matrix.shape[0]):\n",
    "        current_row = confusion_matrix[i,:]\n",
    "        current_el = confusion_matrix[i,i]\n",
    "        current_recall = round(current_el/sum(current_row), 4)\n",
    "        recall_list.append(current_recall)\n",
    "    return(recall_list)\n",
    "\n",
    "def f1_score(precision, recall):\n",
    "    \"\"\"Given a list of precision and recall values for a certain matrix,\n",
    "    returns f-1 values for each class\"\"\"\n",
    "    f1_scores = []\n",
    "    if len(precision) == len(recall):\n",
    "        for i in range(len(precision)):\n",
    "            current_f1 = 2*(precision[i]*recall[i])/(precision[i]+recall[i])\n",
    "            f1_scores.append(round(current_f1, 4))\n",
    "    else:\n",
    "        print(\"Error. Precision and Recall lists should be of equal lengths.\")\n",
    "    return f1_scores"
   ]
  },
  {
   "cell_type": "markdown",
   "id": "abd2b37f",
   "metadata": {
    "papermill": {
     "duration": 0.006842,
     "end_time": "2022-12-02T12:34:37.991648",
     "exception": false,
     "start_time": "2022-12-02T12:34:37.984806",
     "status": "completed"
    },
    "tags": []
   },
   "source": [
    "## Load data"
   ]
  },
  {
   "cell_type": "code",
   "execution_count": 7,
   "id": "d82b9e58",
   "metadata": {
    "execution": {
     "iopub.execute_input": "2022-12-02T12:34:38.006630Z",
     "iopub.status.busy": "2022-12-02T12:34:38.005844Z",
     "iopub.status.idle": "2022-12-02T12:34:38.071627Z",
     "shell.execute_reply": "2022-12-02T12:34:38.070756Z"
    },
    "papermill": {
     "duration": 0.075779,
     "end_time": "2022-12-02T12:34:38.074087",
     "exception": false,
     "start_time": "2022-12-02T12:34:37.998308",
     "status": "completed"
    },
    "tags": []
   },
   "outputs": [],
   "source": [
    "dataset_folder = input_folder + \"eurosat-dataset/\" + \"EuroSAT/\"\n",
    "column_names =  [\"id\", \"path\", \"class_id\", \"class_name\"]\n",
    "\n",
    "training_df, validation_df, test_df = load_metadata(dataset_folder,\n",
    "                                                    \"train.csv\",\n",
    "                                                    \"validation.csv\",\n",
    "                                                    \"test.csv\",\n",
    "                                                    column_names)"
   ]
  },
  {
   "cell_type": "markdown",
   "id": "75753559",
   "metadata": {
    "papermill": {
     "duration": 0.006671,
     "end_time": "2022-12-02T12:34:38.087723",
     "exception": false,
     "start_time": "2022-12-02T12:34:38.081052",
     "status": "completed"
    },
    "tags": []
   },
   "source": [
    "## Preprocessing"
   ]
  },
  {
   "cell_type": "code",
   "execution_count": 8,
   "id": "ffc87c17",
   "metadata": {
    "execution": {
     "iopub.execute_input": "2022-12-02T12:34:38.104263Z",
     "iopub.status.busy": "2022-12-02T12:34:38.103431Z",
     "iopub.status.idle": "2022-12-02T12:34:38.109084Z",
     "shell.execute_reply": "2022-12-02T12:34:38.108075Z"
    },
    "papermill": {
     "duration": 0.016158,
     "end_time": "2022-12-02T12:34:38.111271",
     "exception": false,
     "start_time": "2022-12-02T12:34:38.095113",
     "status": "completed"
    },
    "tags": []
   },
   "outputs": [],
   "source": [
    "# The data is already normalized so that pixels values range from 0,255. We can rescale pixel value between\n",
    "# [0,1] by divinding by 255.\n",
    "\n",
    "rescaling_factor = 1. / 255\n",
    "# Generate batches of tensor image data by setting up the generators.\n",
    "# If you want to perform augmentation, add parameters to the training_generatorF\n",
    "training_generator = ImageDataGenerator(rescale=rescaling_factor)\n",
    "test_generator = ImageDataGenerator(rescale=rescaling_factor)\n",
    "\n",
    "# Size of input data is 64x64 pixels\n",
    "image_width, image_height = (64, 64)"
   ]
  },
  {
   "cell_type": "code",
   "execution_count": 9,
   "id": "37805f36",
   "metadata": {
    "execution": {
     "iopub.execute_input": "2022-12-02T12:34:38.127278Z",
     "iopub.status.busy": "2022-12-02T12:34:38.126965Z",
     "iopub.status.idle": "2022-12-02T12:34:56.191899Z",
     "shell.execute_reply": "2022-12-02T12:34:56.190890Z"
    },
    "papermill": {
     "duration": 18.075683,
     "end_time": "2022-12-02T12:34:56.194147",
     "exception": false,
     "start_time": "2022-12-02T12:34:38.118464",
     "status": "completed"
    },
    "tags": []
   },
   "outputs": [
    {
     "name": "stdout",
     "output_type": "stream",
     "text": [
      "Building training set.\n",
      "Found 18900 validated image filenames belonging to 10 classes.\n",
      "\n",
      "Building validation set.\n",
      "Found 5400 validated image filenames belonging to 10 classes.\n",
      "\n",
      "Building test set\n",
      "Found 2700 validated image filenames belonging to 10 classes.\n"
     ]
    }
   ],
   "source": [
    "print(\"Building training set.\")\n",
    "training_set = training_generator.flow_from_dataframe(\n",
    "    dataframe=training_df,\n",
    "    x_col=\"path\",\n",
    "    y_col=\"class_name\",\n",
    "    directory=dataset_folder,\n",
    "    target_size=(image_height, image_width),\n",
    "    batch_size=batch_size,\n",
    "    class_mode=\"categorical\",\n",
    "    shuffle=False, # for replicability. Anyways they are already shuffled.\n",
    ")\n",
    "\n",
    "print(\"\\nBuilding validation set.\")\n",
    "validation_set = test_generator.flow_from_dataframe(\n",
    "    dataframe=validation_df,\n",
    "    x_col=\"path\",\n",
    "    y_col=\"class_name\",\n",
    "    directory=dataset_folder,\n",
    "    target_size=(image_height, image_width),\n",
    "    batch_size=batch_size,\n",
    "    class_mode=\"categorical\",\n",
    "    shuffle=False,\n",
    ")\n",
    "\n",
    "print(\"\\nBuilding test set\")\n",
    "test_set = test_generator.flow_from_dataframe(\n",
    "    dataframe=test_df,\n",
    "    x_col=\"path\",\n",
    "    y_col=\"class_name\",\n",
    "    directory=dataset_folder,\n",
    "    target_size=(image_height, image_width),\n",
    "    batch_size=batch_size,\n",
    "    class_mode=\"categorical\",\n",
    "    shuffle=False\n",
    ")"
   ]
  },
  {
   "cell_type": "code",
   "execution_count": 10,
   "id": "48d50020",
   "metadata": {
    "execution": {
     "iopub.execute_input": "2022-12-02T12:34:56.210703Z",
     "iopub.status.busy": "2022-12-02T12:34:56.209839Z",
     "iopub.status.idle": "2022-12-02T12:34:56.216965Z",
     "shell.execute_reply": "2022-12-02T12:34:56.216072Z"
    },
    "papermill": {
     "duration": 0.017534,
     "end_time": "2022-12-02T12:34:56.219120",
     "exception": false,
     "start_time": "2022-12-02T12:34:56.201586",
     "status": "completed"
    },
    "tags": []
   },
   "outputs": [],
   "source": [
    "class_name_list = np.array(list(training_set.class_indices.keys()))\n",
    "labels, count = np.unique(training_set.classes, return_counts=True)\n",
    "\n",
    "class_count = len(class_name_list)"
   ]
  },
  {
   "cell_type": "markdown",
   "id": "ab9518e7",
   "metadata": {
    "papermill": {
     "duration": 0.006998,
     "end_time": "2022-12-02T12:34:56.233010",
     "exception": false,
     "start_time": "2022-12-02T12:34:56.226012",
     "status": "completed"
    },
    "tags": []
   },
   "source": [
    "# Ablation\n",
    "For this ablations study, I am going to focus on VGG16, as it is a simpler model than the models proposed by the EuroSAT original paper, but still a deep model with which I achived very close to State-of-the-Art (SoA) performance."
   ]
  },
  {
   "cell_type": "markdown",
   "id": "782d0861",
   "metadata": {
    "papermill": {
     "duration": 0.006631,
     "end_time": "2022-12-02T12:34:56.246820",
     "exception": false,
     "start_time": "2022-12-02T12:34:56.240189",
     "status": "completed"
    },
    "tags": []
   },
   "source": [
    "## VGG16, the Original"
   ]
  },
  {
   "cell_type": "code",
   "execution_count": 11,
   "id": "2d0315d6",
   "metadata": {
    "execution": {
     "iopub.execute_input": "2022-12-02T12:34:56.262437Z",
     "iopub.status.busy": "2022-12-02T12:34:56.261935Z",
     "iopub.status.idle": "2022-12-02T12:35:00.203196Z",
     "shell.execute_reply": "2022-12-02T12:35:00.202247Z"
    },
    "papermill": {
     "duration": 3.951796,
     "end_time": "2022-12-02T12:35:00.205518",
     "exception": false,
     "start_time": "2022-12-02T12:34:56.253722",
     "status": "completed"
    },
    "tags": []
   },
   "outputs": [],
   "source": [
    "model_name = \"base_vgg16\"\n",
    "model = Sequential()\n",
    "\n",
    "# start of VGG16\n",
    "model.add(Conv2D(input_shape=(64,64,3),filters=64,kernel_size=(3,3),padding=\"same\", activation=\"relu\"))\n",
    "model.add(Conv2D(filters=64,kernel_size=(3,3),padding=\"same\", activation=\"relu\"))\n",
    "model.add(MaxPool2D(pool_size=(2,2),strides=(2,2)))\n",
    "model.add(Conv2D(filters=128, kernel_size=(3,3), padding=\"same\", activation=\"relu\"))\n",
    "model.add(Conv2D(filters=128, kernel_size=(3,3), padding=\"same\", activation=\"relu\"))\n",
    "model.add(MaxPool2D(pool_size=(2,2),strides=(2,2)))\n",
    "model.add(Conv2D(filters=256, kernel_size=(3,3), padding=\"same\", activation=\"relu\"))\n",
    "model.add(Conv2D(filters=256, kernel_size=(3,3), padding=\"same\", activation=\"relu\"))\n",
    "model.add(Conv2D(filters=256, kernel_size=(3,3), padding=\"same\", activation=\"relu\"))\n",
    "model.add(MaxPool2D(pool_size=(2,2),strides=(2,2)))\n",
    "model.add(Conv2D(filters=512, kernel_size=(3,3), padding=\"same\", activation=\"relu\"))\n",
    "model.add(Conv2D(filters=512, kernel_size=(3,3), padding=\"same\", activation=\"relu\"))\n",
    "model.add(Conv2D(filters=512, kernel_size=(3,3), padding=\"same\", activation=\"relu\"))\n",
    "model.add(MaxPool2D(pool_size=(2,2),strides=(2,2)))\n",
    "model.add(Conv2D(filters=512, kernel_size=(3,3), padding=\"same\", activation=\"relu\"))\n",
    "model.add(Conv2D(filters=512, kernel_size=(3,3), padding=\"same\", activation=\"relu\"))\n",
    "model.add(Conv2D(filters=512, kernel_size=(3,3), padding=\"same\", activation=\"relu\"))\n",
    "model.add(MaxPool2D(pool_size=(2,2),strides=(2,2)))\n",
    "# end of VGG16\n",
    "\n",
    "# add a flatten out layer, a dropout for regularization, a FC layer, and a final\n",
    "# 10-node softmax layer for the prediction.\n",
    "model.add(Flatten()) # just flattening operation, same numb. nodes kept\n",
    "# n. nodes chosen by keeping the drop in nodes ratio of the origina model (approx.)\n",
    "model.add(Dense(units=680, activation=\"relu\", kernel_initializer=\"he_normal\"))\n",
    "model.add(Dropout(0.5)) # MY ADDITION\n",
    "model.add(Dense(units=180, activation=\"relu\", kernel_initializer=\"he_normal\"))\n",
    "model.add(Dense(class_count, activation=\"softmax\"))\n"
   ]
  },
  {
   "cell_type": "code",
   "execution_count": 12,
   "id": "2c906ecb",
   "metadata": {
    "execution": {
     "iopub.execute_input": "2022-12-02T12:35:00.222808Z",
     "iopub.status.busy": "2022-12-02T12:35:00.222440Z",
     "iopub.status.idle": "2022-12-02T12:35:00.233275Z",
     "shell.execute_reply": "2022-12-02T12:35:00.232172Z"
    },
    "papermill": {
     "duration": 0.022074,
     "end_time": "2022-12-02T12:35:00.236293",
     "exception": false,
     "start_time": "2022-12-02T12:35:00.214219",
     "status": "completed"
    },
    "tags": []
   },
   "outputs": [
    {
     "name": "stdout",
     "output_type": "stream",
     "text": [
      "Model: \"sequential\"\n",
      "_________________________________________________________________\n",
      "Layer (type)                 Output Shape              Param #   \n",
      "=================================================================\n",
      "conv2d (Conv2D)              (None, 64, 64, 64)        1792      \n",
      "_________________________________________________________________\n",
      "conv2d_1 (Conv2D)            (None, 64, 64, 64)        36928     \n",
      "_________________________________________________________________\n",
      "max_pooling2d (MaxPooling2D) (None, 32, 32, 64)        0         \n",
      "_________________________________________________________________\n",
      "conv2d_2 (Conv2D)            (None, 32, 32, 128)       73856     \n",
      "_________________________________________________________________\n",
      "conv2d_3 (Conv2D)            (None, 32, 32, 128)       147584    \n",
      "_________________________________________________________________\n",
      "max_pooling2d_1 (MaxPooling2 (None, 16, 16, 128)       0         \n",
      "_________________________________________________________________\n",
      "conv2d_4 (Conv2D)            (None, 16, 16, 256)       295168    \n",
      "_________________________________________________________________\n",
      "conv2d_5 (Conv2D)            (None, 16, 16, 256)       590080    \n",
      "_________________________________________________________________\n",
      "conv2d_6 (Conv2D)            (None, 16, 16, 256)       590080    \n",
      "_________________________________________________________________\n",
      "max_pooling2d_2 (MaxPooling2 (None, 8, 8, 256)         0         \n",
      "_________________________________________________________________\n",
      "conv2d_7 (Conv2D)            (None, 8, 8, 512)         1180160   \n",
      "_________________________________________________________________\n",
      "conv2d_8 (Conv2D)            (None, 8, 8, 512)         2359808   \n",
      "_________________________________________________________________\n",
      "conv2d_9 (Conv2D)            (None, 8, 8, 512)         2359808   \n",
      "_________________________________________________________________\n",
      "max_pooling2d_3 (MaxPooling2 (None, 4, 4, 512)         0         \n",
      "_________________________________________________________________\n",
      "conv2d_10 (Conv2D)           (None, 4, 4, 512)         2359808   \n",
      "_________________________________________________________________\n",
      "conv2d_11 (Conv2D)           (None, 4, 4, 512)         2359808   \n",
      "_________________________________________________________________\n",
      "conv2d_12 (Conv2D)           (None, 4, 4, 512)         2359808   \n",
      "_________________________________________________________________\n",
      "max_pooling2d_4 (MaxPooling2 (None, 2, 2, 512)         0         \n",
      "_________________________________________________________________\n",
      "flatten (Flatten)            (None, 2048)              0         \n",
      "_________________________________________________________________\n",
      "dense (Dense)                (None, 680)               1393320   \n",
      "_________________________________________________________________\n",
      "dropout (Dropout)            (None, 680)               0         \n",
      "_________________________________________________________________\n",
      "dense_1 (Dense)              (None, 180)               122580    \n",
      "_________________________________________________________________\n",
      "dense_2 (Dense)              (None, 10)                1810      \n",
      "=================================================================\n",
      "Total params: 16,232,398\n",
      "Trainable params: 16,232,398\n",
      "Non-trainable params: 0\n",
      "_________________________________________________________________\n"
     ]
    }
   ],
   "source": [
    "model.summary()"
   ]
  },
  {
   "cell_type": "code",
   "execution_count": 13,
   "id": "8e93a207",
   "metadata": {
    "execution": {
     "iopub.execute_input": "2022-12-02T12:35:00.252529Z",
     "iopub.status.busy": "2022-12-02T12:35:00.251115Z",
     "iopub.status.idle": "2022-12-02T12:35:00.258116Z",
     "shell.execute_reply": "2022-12-02T12:35:00.257279Z"
    },
    "papermill": {
     "duration": 0.016822,
     "end_time": "2022-12-02T12:35:00.260096",
     "exception": false,
     "start_time": "2022-12-02T12:35:00.243274",
     "status": "completed"
    },
    "tags": []
   },
   "outputs": [],
   "source": [
    "model_path = \"/kaggle/working/eurosat_rgb_\" + model_name + \".h5\"\n",
    "\n",
    "# Save the weigths of the best model\n",
    "checkpoint = ModelCheckpoint(filepath=model_path, monitor=\"val_loss\", save_best_only=True)\n",
    "\n",
    "# Reduce learning rate when val_loss stops improving for 5 epochs.\n",
    "reduce_lr = ReduceLROnPlateau(monitor=\"val_loss\", factor=0.1, patience=5)\n",
    "\n",
    "# Stop training if a val_loss has stopped improving for 5 epochs.\n",
    "early_stopping = EarlyStopping(monitor=\"val_loss\", patience=15, restore_best_weights=True, verbose=True)\n",
    "\n",
    "callback_list = [checkpoint, early_stopping, reduce_lr]"
   ]
  },
  {
   "cell_type": "code",
   "execution_count": 14,
   "id": "eb94cba5",
   "metadata": {
    "execution": {
     "iopub.execute_input": "2022-12-02T12:35:00.277058Z",
     "iopub.status.busy": "2022-12-02T12:35:00.275438Z",
     "iopub.status.idle": "2022-12-02T12:35:00.288176Z",
     "shell.execute_reply": "2022-12-02T12:35:00.287292Z"
    },
    "papermill": {
     "duration": 0.022867,
     "end_time": "2022-12-02T12:35:00.290294",
     "exception": false,
     "start_time": "2022-12-02T12:35:00.267427",
     "status": "completed"
    },
    "tags": []
   },
   "outputs": [],
   "source": [
    "model.compile(loss=\"categorical_crossentropy\",\n",
    "              optimizer=Adam(learning_rate=1e-4),\n",
    "              metrics=['accuracy'])"
   ]
  },
  {
   "cell_type": "code",
   "execution_count": 15,
   "id": "2a8727e8",
   "metadata": {
    "execution": {
     "iopub.execute_input": "2022-12-02T12:35:00.308885Z",
     "iopub.status.busy": "2022-12-02T12:35:00.308038Z",
     "iopub.status.idle": "2022-12-02T12:37:16.515444Z",
     "shell.execute_reply": "2022-12-02T12:37:16.514312Z"
    },
    "papermill": {
     "duration": 136.220634,
     "end_time": "2022-12-02T12:37:16.518750",
     "exception": false,
     "start_time": "2022-12-02T12:35:00.298116",
     "status": "completed"
    },
    "tags": []
   },
   "outputs": [
    {
     "name": "stdout",
     "output_type": "stream",
     "text": [
      "Epoch 1/3\n",
      "148/148 [==============================] - 81s 458ms/step - loss: 1.9850 - accuracy: 0.1931 - val_loss: 1.7077 - val_accuracy: 0.2835\n",
      "Epoch 2/3\n",
      "148/148 [==============================] - 27s 179ms/step - loss: 1.5245 - accuracy: 0.3556 - val_loss: 1.1916 - val_accuracy: 0.5026\n",
      "Epoch 3/3\n",
      "148/148 [==============================] - 27s 178ms/step - loss: 1.1605 - accuracy: 0.5410 - val_loss: 0.9618 - val_accuracy: 0.6098\n"
     ]
    }
   ],
   "source": [
    "history = model.fit(\n",
    "    training_set,\n",
    "    validation_data=validation_set,\n",
    "    callbacks=callback_list,\n",
    "    epochs=n_epochs,\n",
    "    verbose=1,\n",
    ")\n",
    "\n",
    "# Get the number of epochs the model ran for (to track early stopping):\n",
    "n_ran_epochs = len(history.history['loss'])"
   ]
  },
  {
   "cell_type": "code",
   "execution_count": 16,
   "id": "bee35fa2",
   "metadata": {
    "execution": {
     "iopub.execute_input": "2022-12-02T12:37:16.616734Z",
     "iopub.status.busy": "2022-12-02T12:37:16.616220Z",
     "iopub.status.idle": "2022-12-02T12:37:16.622091Z",
     "shell.execute_reply": "2022-12-02T12:37:16.621026Z"
    },
    "papermill": {
     "duration": 0.059535,
     "end_time": "2022-12-02T12:37:16.626490",
     "exception": false,
     "start_time": "2022-12-02T12:37:16.566955",
     "status": "completed"
    },
    "tags": []
   },
   "outputs": [],
   "source": [
    "#plot_conv_weights(model, \"conv2d_35\")"
   ]
  },
  {
   "cell_type": "code",
   "execution_count": 17,
   "id": "f568ca4d",
   "metadata": {
    "execution": {
     "iopub.execute_input": "2022-12-02T12:37:16.730847Z",
     "iopub.status.busy": "2022-12-02T12:37:16.730418Z",
     "iopub.status.idle": "2022-12-02T12:37:17.138466Z",
     "shell.execute_reply": "2022-12-02T12:37:17.137358Z"
    },
    "papermill": {
     "duration": 0.465853,
     "end_time": "2022-12-02T12:37:17.141147",
     "exception": false,
     "start_time": "2022-12-02T12:37:16.675294",
     "status": "completed"
    },
    "tags": []
   },
   "outputs": [
    {
     "data": {
      "image/png": "[encoded data removed]",
      "text/plain": [
       "<Figure size 1296x360 with 2 Axes>"
      ]
     },
     "metadata": {
      "needs_background": "light"
     },
     "output_type": "display_data"
    },
    {
     "data": {
      "text/plain": [
       "<Figure size 432x288 with 0 Axes>"
      ]
     },
     "metadata": {},
     "output_type": "display_data"
    }
   ],
   "source": [
    "plt.figure(figsize=(18, 5))\n",
    "\n",
    "# Loss\n",
    "plt.subplot(1, 2, 1)\n",
    "plt.plot(history.history[\"loss\"])\n",
    "plt.plot(history.history[\"val_loss\"])\n",
    "plt.title(\"Loss\")\n",
    "plt.ylabel(\"loss\")\n",
    "plt.xlabel(\"epoch\")\n",
    "plt.legend([\"train\", \"validation\"], loc=\"upper left\")\n",
    "\n",
    "# Accuracy\n",
    "plt.subplot(1, 2, 2)\n",
    "plt.plot(history.history[\"accuracy\"])\n",
    "plt.plot(history.history[\"val_accuracy\"])\n",
    "plt.title(\"Accuracy\")\n",
    "plt.ylabel(\"accuracy\")\n",
    "plt.xlabel(\"epoch\")\n",
    "plt.legend([\"train\", \"validation\"], loc=\"upper left\")\n",
    "\n",
    "plt.show()\n",
    "plt.savefig(output_folder + model_name + \"_training_curves.png\")"
   ]
  },
  {
   "cell_type": "markdown",
   "id": "25a7c140",
   "metadata": {
    "papermill": {
     "duration": 0.032969,
     "end_time": "2022-12-02T12:37:17.209965",
     "exception": false,
     "start_time": "2022-12-02T12:37:17.176996",
     "status": "completed"
    },
    "tags": []
   },
   "source": [
    "## Predict and Evaluate Model"
   ]
  },
  {
   "cell_type": "code",
   "execution_count": 18,
   "id": "67af6442",
   "metadata": {
    "execution": {
     "iopub.execute_input": "2022-12-02T12:37:17.277936Z",
     "iopub.status.busy": "2022-12-02T12:37:17.276547Z",
     "iopub.status.idle": "2022-12-02T12:37:25.084148Z",
     "shell.execute_reply": "2022-12-02T12:37:25.083150Z"
    },
    "papermill": {
     "duration": 7.843948,
     "end_time": "2022-12-02T12:37:25.086358",
     "exception": false,
     "start_time": "2022-12-02T12:37:17.242410",
     "status": "completed"
    },
    "tags": []
   },
   "outputs": [
    {
     "name": "stdout",
     "output_type": "stream",
     "text": [
      "22/22 [==============================] - 7s 345ms/step - loss: 0.9399 - accuracy: 0.6181\n"
     ]
    }
   ],
   "source": [
    "loss, accuracy = model.evaluate(test_set, verbose=1)"
   ]
  },
  {
   "cell_type": "code",
   "execution_count": 19,
   "id": "18aa0743",
   "metadata": {
    "execution": {
     "iopub.execute_input": "2022-12-02T12:37:25.153259Z",
     "iopub.status.busy": "2022-12-02T12:37:25.152310Z",
     "iopub.status.idle": "2022-12-02T12:37:28.408624Z",
     "shell.execute_reply": "2022-12-02T12:37:28.407707Z"
    },
    "papermill": {
     "duration": 3.292062,
     "end_time": "2022-12-02T12:37:28.410815",
     "exception": false,
     "start_time": "2022-12-02T12:37:25.118753",
     "status": "completed"
    },
    "tags": []
   },
   "outputs": [
    {
     "name": "stdout",
     "output_type": "stream",
     "text": [
      "2700/2700 [==============================] - 3s 1ms/step\n"
     ]
    }
   ],
   "source": [
    "test_set.reset()\n",
    "predicted_probabilities = model.predict(test_set, steps=test_set.n, verbose=1)\n",
    "# Computation is done in batches.\n",
    "predicted_class_ids = np.argmax(predicted_probabilities, axis=1)"
   ]
  },
  {
   "cell_type": "code",
   "execution_count": 20,
   "id": "bc688c4a",
   "metadata": {
    "execution": {
     "iopub.execute_input": "2022-12-02T12:37:28.478708Z",
     "iopub.status.busy": "2022-12-02T12:37:28.477743Z",
     "iopub.status.idle": "2022-12-02T12:37:28.509139Z",
     "shell.execute_reply": "2022-12-02T12:37:28.507395Z"
    },
    "papermill": {
     "duration": 0.067507,
     "end_time": "2022-12-02T12:37:28.511439",
     "exception": false,
     "start_time": "2022-12-02T12:37:28.443932",
     "status": "completed"
    },
    "tags": []
   },
   "outputs": [
    {
     "name": "stdout",
     "output_type": "stream",
     "text": [
      "              precision    recall  f1-score   support\n",
      "\n",
      "           0     0.8020    0.8100    0.8060       300\n",
      "           1     0.0000    0.0000    0.0000       300\n",
      "           2     0.5457    0.6167    0.5790       300\n",
      "           3     0.4890    0.3560    0.4120       250\n",
      "           4     0.7900    0.8880    0.8362       250\n",
      "           5     0.5299    0.6650    0.5898       200\n",
      "           6     0.5455    0.6000    0.5714       250\n",
      "           7     0.7972    0.9433    0.8641       300\n",
      "           8     0.6475    0.3600    0.4627       250\n",
      "           9     0.4765    0.9133    0.6263       300\n",
      "\n",
      "    accuracy                         0.6181      2700\n",
      "   macro avg     0.5623    0.6152    0.5748      2700\n",
      "weighted avg     0.5594    0.6181    0.5745      2700\n",
      "\n"
     ]
    },
    {
     "name": "stderr",
     "output_type": "stream",
     "text": [
      "/opt/conda/lib/python3.7/site-packages/sklearn/metrics/_classification.py:1318: UndefinedMetricWarning: Precision and F-score are ill-defined and being set to 0.0 in labels with no predicted samples. Use `zero_division` parameter to control this behavior.\n",
      "  _warn_prf(average, modifier, msg_start, len(result))\n",
      "/opt/conda/lib/python3.7/site-packages/sklearn/metrics/_classification.py:1318: UndefinedMetricWarning: Precision and F-score are ill-defined and being set to 0.0 in labels with no predicted samples. Use `zero_division` parameter to control this behavior.\n",
      "  _warn_prf(average, modifier, msg_start, len(result))\n",
      "/opt/conda/lib/python3.7/site-packages/sklearn/metrics/_classification.py:1318: UndefinedMetricWarning: Precision and F-score are ill-defined and being set to 0.0 in labels with no predicted samples. Use `zero_division` parameter to control this behavior.\n",
      "  _warn_prf(average, modifier, msg_start, len(result))\n",
      "/opt/conda/lib/python3.7/site-packages/sklearn/metrics/_classification.py:1318: UndefinedMetricWarning: Precision and F-score are ill-defined and being set to 0.0 in labels with no predicted samples. Use `zero_division` parameter to control this behavior.\n",
      "  _warn_prf(average, modifier, msg_start, len(result))\n",
      "/opt/conda/lib/python3.7/site-packages/sklearn/metrics/_classification.py:1318: UndefinedMetricWarning: Precision and F-score are ill-defined and being set to 0.0 in labels with no predicted samples. Use `zero_division` parameter to control this behavior.\n",
      "  _warn_prf(average, modifier, msg_start, len(result))\n",
      "/opt/conda/lib/python3.7/site-packages/sklearn/metrics/_classification.py:1318: UndefinedMetricWarning: Precision and F-score are ill-defined and being set to 0.0 in labels with no predicted samples. Use `zero_division` parameter to control this behavior.\n",
      "  _warn_prf(average, modifier, msg_start, len(result))\n"
     ]
    }
   ],
   "source": [
    "print(metrics.classification_report(test_set.labels, predicted_class_ids, digits=4))\n",
    "report = metrics.classification_report(test_set.labels, predicted_class_ids, output_dict=True)\n",
    "\n",
    "wa_prec = report[\"weighted avg\"][\"precision\"]\n",
    "wa_rec = report[\"weighted avg\"][\"recall\"]\n",
    "wa_f1 = report[\"weighted avg\"][\"f1-score\"]"
   ]
  },
  {
   "cell_type": "code",
   "execution_count": 21,
   "id": "3be862e8",
   "metadata": {
    "execution": {
     "iopub.execute_input": "2022-12-02T12:37:28.581888Z",
     "iopub.status.busy": "2022-12-02T12:37:28.581096Z",
     "iopub.status.idle": "2022-12-02T12:37:28.588529Z",
     "shell.execute_reply": "2022-12-02T12:37:28.587635Z"
    },
    "papermill": {
     "duration": 0.043192,
     "end_time": "2022-12-02T12:37:28.590548",
     "exception": false,
     "start_time": "2022-12-02T12:37:28.547356",
     "status": "completed"
    },
    "tags": []
   },
   "outputs": [],
   "source": [
    "cf_matrix = confusion_matrix(test_set.labels, predicted_class_ids)\n",
    "confusion_matrix_df = pd.DataFrame(\n",
    "    data=cf_matrix, \n",
    "    index=class_name_list, \n",
    "    columns=class_name_list\n",
    ")"
   ]
  },
  {
   "cell_type": "code",
   "execution_count": 22,
   "id": "584236a9",
   "metadata": {
    "execution": {
     "iopub.execute_input": "2022-12-02T12:37:28.659256Z",
     "iopub.status.busy": "2022-12-02T12:37:28.658381Z",
     "iopub.status.idle": "2022-12-02T12:37:29.356384Z",
     "shell.execute_reply": "2022-12-02T12:37:29.355163Z"
    },
    "papermill": {
     "duration": 0.735133,
     "end_time": "2022-12-02T12:37:29.359113",
     "exception": false,
     "start_time": "2022-12-02T12:37:28.623980",
     "status": "completed"
    },
    "tags": []
   },
   "outputs": [
    {
     "data": {
      "image/png": "[encoded data removed]",
      "text/plain": [
       "<Figure size 720x504 with 2 Axes>"
      ]
     },
     "metadata": {
      "needs_background": "light"
     },
     "output_type": "display_data"
    },
    {
     "data": {
      "text/plain": [
       "<Figure size 432x288 with 0 Axes>"
      ]
     },
     "metadata": {},
     "output_type": "display_data"
    }
   ],
   "source": [
    "plt.figure(figsize=(10, 7))\n",
    "sns.set(font_scale=1)\n",
    "sns.heatmap(confusion_matrix_df, annot=True, cmap=\"Blues\", annot_kws={\"size\": 9}, fmt=\"g\")\n",
    "plt.ylabel(\"Label\")\n",
    "plt.xlabel(\"Prediction\")\n",
    "plt.title(\"Confusion matrix for the test set\")\n",
    "plt.show()\n",
    "plt.savefig(output_folder + model_name + \"_confusion.png\")"
   ]
  },
  {
   "cell_type": "code",
   "execution_count": 23,
   "id": "873a6560",
   "metadata": {
    "execution": {
     "iopub.execute_input": "2022-12-02T12:37:29.432021Z",
     "iopub.status.busy": "2022-12-02T12:37:29.430496Z",
     "iopub.status.idle": "2022-12-02T12:37:29.440380Z",
     "shell.execute_reply": "2022-12-02T12:37:29.439202Z"
    },
    "papermill": {
     "duration": 0.047514,
     "end_time": "2022-12-02T12:37:29.442423",
     "exception": false,
     "start_time": "2022-12-02T12:37:29.394909",
     "status": "completed"
    },
    "tags": []
   },
   "outputs": [
    {
     "name": "stdout",
     "output_type": "stream",
     "text": [
      "1031 wrong predictions out of 2700\n"
     ]
    }
   ],
   "source": [
    "results_df = pd.DataFrame(\n",
    "    {\n",
    "        \"label\": test_set.labels, \n",
    "        \"prediction\": predicted_class_ids, \n",
    "        \"path\": test_set.filepaths\n",
    "    }\n",
    ")\n",
    "\n",
    "mistakes = results_df[\"label\"] != results_df[\"prediction\"]\n",
    "mistakes_df = results_df[mistakes]\n",
    "\n",
    "wrong_preds = len(mistakes_df)\n",
    "tot_preds = len(results_df)\n",
    "\n",
    "print(f\"{wrong_preds} wrong predictions out of {tot_preds}\")"
   ]
  },
  {
   "cell_type": "code",
   "execution_count": 24,
   "id": "c5806a98",
   "metadata": {
    "execution": {
     "iopub.execute_input": "2022-12-02T12:37:29.511620Z",
     "iopub.status.busy": "2022-12-02T12:37:29.510016Z",
     "iopub.status.idle": "2022-12-02T12:37:29.517279Z",
     "shell.execute_reply": "2022-12-02T12:37:29.516422Z"
    },
    "papermill": {
     "duration": 0.044004,
     "end_time": "2022-12-02T12:37:29.519457",
     "exception": false,
     "start_time": "2022-12-02T12:37:29.475453",
     "status": "completed"
    },
    "tags": []
   },
   "outputs": [],
   "source": [
    "# Add results to the results csv file:\n",
    "\n",
    "with open(\"./results.csv\", \"w\") as csvfile:\n",
    "    filewriter = csv.writer(csvfile, delimiter=',',\n",
    "                            quotechar='|', quoting=csv.QUOTE_MINIMAL)\n",
    "    # Create a row with the column names:\n",
    "    filewriter.writerow([model,\n",
    "                         \"removed_layer\", \n",
    "                         loss,\n",
    "                         accuracy,\n",
    "                         wa_prec,\n",
    "                         wa_rec,\n",
    "                         wa_f1,\n",
    "                         wrong_preds,\n",
    "                         tot_preds,\n",
    "                         batch_size,\n",
    "                         len(training_df), # number of images in the training set\n",
    "                         len(validation_df), # number of images in the validation set\n",
    "                         len(test_df), # number of images in the test set\n",
    "                         n_epochs, # cap set for num epochs\n",
    "                         n_ran_epochs # epoch where it stopped automatically\n",
    "                        ])\n",
    "    \n"
   ]
  },
  {
   "cell_type": "markdown",
   "id": "4f909da2",
   "metadata": {
    "papermill": {
     "duration": 0.034624,
     "end_time": "2022-12-02T12:37:29.589382",
     "exception": false,
     "start_time": "2022-12-02T12:37:29.554758",
     "status": "completed"
    },
    "tags": []
   },
   "source": [
    "## Plots - code to use if needed"
   ]
  },
  {
   "cell_type": "code",
   "execution_count": 25,
   "id": "9dee0518",
   "metadata": {
    "execution": {
     "iopub.execute_input": "2022-12-02T12:37:29.657638Z",
     "iopub.status.busy": "2022-12-02T12:37:29.656645Z",
     "iopub.status.idle": "2022-12-02T12:37:29.663541Z",
     "shell.execute_reply": "2022-12-02T12:37:29.662602Z"
    },
    "papermill": {
     "duration": 0.043048,
     "end_time": "2022-12-02T12:37:29.665549",
     "exception": false,
     "start_time": "2022-12-02T12:37:29.622501",
     "status": "completed"
    },
    "tags": []
   },
   "outputs": [
    {
     "data": {
      "text/plain": [
       "'\\nconfusion_matrix_array = confusion_matrix(y_true=test_set.labels, y_pred=predicted_class_ids)\\nconfusion_matrix_df = pd.DataFrame(\\n    data=confusion_matrix_array, \\n    index=class_name_list, \\n    columns=class_name_list\\n)\\n\\nplt.figure(figsize=(10, 7))\\nsns.set(font_scale=1)\\nsns.heatmap(confusion_matrix_df/np.sum(confusion_matrix_df), annot=True,\\n           cmap=\"Blues\", annot_kws={\"size\": 9}, fmt=\\'.2%\\')\\nplt.ylabel(\"Label\")\\nplt.xlabel(\"Prediction\")\\nplt.title(\"Confusion matrix for the test set. Percentages\")\\nplt.show()\\nplt.savefig(\"/kaggle/working/exp1_confusion_percentages.png\")\\n'"
      ]
     },
     "execution_count": 25,
     "metadata": {},
     "output_type": "execute_result"
    }
   ],
   "source": [
    "# Confusion matrix with percentages per class.\n",
    "\"\"\"\n",
    "confusion_matrix_array = confusion_matrix(y_true=test_set.labels, y_pred=predicted_class_ids)\n",
    "confusion_matrix_df = pd.DataFrame(\n",
    "    data=confusion_matrix_array, \n",
    "    index=class_name_list, \n",
    "    columns=class_name_list\n",
    ")\n",
    "\n",
    "plt.figure(figsize=(10, 7))\n",
    "sns.set(font_scale=1)\n",
    "sns.heatmap(confusion_matrix_df/np.sum(confusion_matrix_df), annot=True,\n",
    "           cmap=\"Blues\", annot_kws={\"size\": 9}, fmt='.2%')\n",
    "plt.ylabel(\"Label\")\n",
    "plt.xlabel(\"Prediction\")\n",
    "plt.title(\"Confusion matrix for the test set. Percentages\")\n",
    "plt.show()\n",
    "plt.savefig(\"/kaggle/working/exp1_confusion_percentages.png\")\n",
    "\"\"\""
   ]
  },
  {
   "cell_type": "code",
   "execution_count": 26,
   "id": "bdc91b61",
   "metadata": {
    "execution": {
     "iopub.execute_input": "2022-12-02T12:37:29.732878Z",
     "iopub.status.busy": "2022-12-02T12:37:29.732077Z",
     "iopub.status.idle": "2022-12-02T12:37:29.738927Z",
     "shell.execute_reply": "2022-12-02T12:37:29.737984Z"
    },
    "papermill": {
     "duration": 0.043094,
     "end_time": "2022-12-02T12:37:29.740936",
     "exception": false,
     "start_time": "2022-12-02T12:37:29.697842",
     "status": "completed"
    },
    "tags": []
   },
   "outputs": [
    {
     "data": {
      "text/plain": [
       "'\\nmistaken_predictions = (class_name_list[pred] for pred in mistakes_df[\"prediction\"])\\nmistaken_labels = (class_name_list[label] for label in mistakes_df[\"label\"])\\nmistaken_images = (image.imread(path) for path in mistakes_df[\"path\"])\\n\\nfigure_height = 3\\nfigure_width = 5\\n\\nfigure_size = (18, 15)\\nplt.figure(figsize=figure_size)\\nfor index in range(figure_height * figure_width):\\n    \\n    label = next(mistaken_predictions)\\n    prediction = next(mistaken_labels)\\n    picture = next(mistaken_images)\\n    \\n    plt.subplot(figure_height, figure_width, index + 1)\\n    plt.imshow(picture)\\n    plt.title(f\"Label: {label} \\nPrediction: {prediction}\")\\n    plt.axis(\"off\")\\n\\nplt.savefig(\"/kaggle/working/exp1_mislabeled_results.png\")\\n'"
      ]
     },
     "execution_count": 26,
     "metadata": {},
     "output_type": "execute_result"
    }
   ],
   "source": [
    "\"\"\"\n",
    "mistaken_predictions = (class_name_list[pred] for pred in mistakes_df[\"prediction\"])\n",
    "mistaken_labels = (class_name_list[label] for label in mistakes_df[\"label\"])\n",
    "mistaken_images = (image.imread(path) for path in mistakes_df[\"path\"])\n",
    "\n",
    "figure_height = 3\n",
    "figure_width = 5\n",
    "\n",
    "figure_size = (18, 15)\n",
    "plt.figure(figsize=figure_size)\n",
    "for index in range(figure_height * figure_width):\n",
    "    \n",
    "    label = next(mistaken_predictions)\n",
    "    prediction = next(mistaken_labels)\n",
    "    picture = next(mistaken_images)\n",
    "    \n",
    "    plt.subplot(figure_height, figure_width, index + 1)\n",
    "    plt.imshow(picture)\n",
    "    plt.title(f\"Label: {label} \\nPrediction: {prediction}\")\n",
    "    plt.axis(\"off\")\n",
    "\n",
    "plt.savefig(\"/kaggle/working/exp1_mislabeled_results.png\")\n",
    "\"\"\""
   ]
  }
 ],
 "metadata": {
  "kernelspec": {
   "display_name": "Python 3",
   "language": "python",
   "name": "python3"
  },
  "language_info": {
   "codemirror_mode": {
    "name": "ipython",
    "version": 3
   },
   "file_extension": ".py",
   "mimetype": "text/x-python",
   "name": "python",
   "nbconvert_exporter": "python",
   "pygments_lexer": "ipython3",
   "version": "3.7.12"
  },
  "papermill": {
   "default_parameters": {},
   "duration": 190.544327,
   "end_time": "2022-12-02T12:37:32.888621",
   "environment_variables": {},
   "exception": null,
   "input_path": "__notebook__.ipynb",
   "output_path": "__notebook__.ipynb",
   "parameters": {},
   "start_time": "2022-12-02T12:34:22.344294",
   "version": "2.3.4"
  }
 },
 "nbformat": 4,
 "nbformat_minor": 5
}
