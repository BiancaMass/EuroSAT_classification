{
 "cells": [
  {
   "cell_type": "markdown",
   "id": "eff315cf",
   "metadata": {
    "papermill": {
     "duration": 0.007616,
     "end_time": "2022-12-10T13:10:32.626219",
     "exception": false,
     "start_time": "2022-12-10T13:10:32.618603",
     "status": "completed"
    },
    "tags": []
   },
   "source": [
    "### Import packages"
   ]
  },
  {
   "cell_type": "code",
   "execution_count": 1,
   "id": "497949d2",
   "metadata": {
    "_kg_hide-input": false,
    "execution": {
     "iopub.execute_input": "2022-12-10T13:10:32.640671Z",
     "iopub.status.busy": "2022-12-10T13:10:32.639773Z",
     "iopub.status.idle": "2022-12-10T13:10:44.700186Z",
     "shell.execute_reply": "2022-12-10T13:10:44.698773Z"
    },
    "jupyter": {
     "source_hidden": true
    },
    "papermill": {
     "duration": 12.071284,
     "end_time": "2022-12-10T13:10:44.703520",
     "exception": false,
     "start_time": "2022-12-10T13:10:32.632236",
     "status": "completed"
    },
    "tags": []
   },
   "outputs": [
    {
     "name": "stdout",
     "output_type": "stream",
     "text": [
      "---------IMPORTING PACKAGES---------\n"
     ]
    }
   ],
   "source": [
    "# Import packages\n",
    "print(\"---------IMPORTING PACKAGES---------\")\n",
    "import numpy as np\n",
    "import pandas as pd\n",
    "import matplotlib.pyplot as plt\n",
    "import seaborn as sns\n",
    "import cv2\n",
    "import os\n",
    "import random\n",
    "import tensorflow as tf\n",
    "import seaborn as sns\n",
    "import random\n",
    "import csv\n",
    "import time\n",
    "import keras\n",
    "\n",
    "from sklearn.utils import shuffle\n",
    "from matplotlib import image\n",
    "from sklearn import metrics\n",
    "from sklearn.metrics import confusion_matrix\n",
    "from keras.preprocessing.image import ImageDataGenerator\n",
    "from keras.applications.vgg16 import VGG16\n",
    "from keras.models import Sequential\n",
    "from keras.layers import Dense, Flatten, Dropout, Conv2D, MaxPool2D\n",
    "from keras.callbacks import ModelCheckpoint, ReduceLROnPlateau, EarlyStopping, ReduceLROnPlateau\n",
    "from tensorflow.keras.optimizers import Adam, Nadam, Adamax, SGD\n",
    "\n",
    "# Suppress keras warnings\n",
    "os.environ[\"TF_CPP_MIN_LOG_LEVEL\"] = \"3\"\n",
    "random.seed(432)\n"
   ]
  },
  {
   "cell_type": "markdown",
   "id": "2b5d4aa7",
   "metadata": {
    "papermill": {
     "duration": 0.006562,
     "end_time": "2022-12-10T13:10:44.717005",
     "exception": false,
     "start_time": "2022-12-10T13:10:44.710443",
     "status": "completed"
    },
    "tags": []
   },
   "source": [
    "### Define the changeable parameters"
   ]
  },
  {
   "cell_type": "code",
   "execution_count": 2,
   "id": "51b9ef94",
   "metadata": {
    "execution": {
     "iopub.execute_input": "2022-12-10T13:10:44.731571Z",
     "iopub.status.busy": "2022-12-10T13:10:44.730945Z",
     "iopub.status.idle": "2022-12-10T13:10:44.751232Z",
     "shell.execute_reply": "2022-12-10T13:10:44.750301Z"
    },
    "papermill": {
     "duration": 0.030175,
     "end_time": "2022-12-10T13:10:44.753623",
     "exception": false,
     "start_time": "2022-12-10T13:10:44.723448",
     "status": "completed"
    },
    "tags": []
   },
   "outputs": [],
   "source": [
    "# Static\n",
    "input_folder = \"/kaggle/input/\"\n",
    "output_folder = \"/kaggle/working/\"\n",
    "verbose = 1 # 0-> dont print training info, 1-> print them\n",
    "n_epochs = 3 # TODO: change back to 70\n",
    "\n",
    "\n",
    "# Options. Element [0] is default\n",
    "batch_size_opts = [128, 256, 64] # How big of a set of data to use for every training epoch\n",
    "loss_fun_opts = [\"categorical_crossentropy\",\n",
    "                 \"kl_divergence\",\n",
    "                 \"mean_absolute_error\",\n",
    "                 \"mean_squared_logarithmic_error\"]\n",
    "act_fun_opts = [\"relu\", \"elu\"]\n",
    "learn_rate_opts = [0.0001, 0.0007, 0.001]\n",
    "\n",
    "learn_rate = learn_rate_opts[0]\n",
    "\n",
    "optmzer_opts = [Adam(learning_rate=learn_rate),\n",
    "                Nadam(learning_rate=learn_rate),\n",
    "                Adamax(learning_rate=learn_rate),\n",
    "                SGD(learning_rate=learn_rate)]\n",
    "\n",
    "# Dynamic (to experiment with)\n",
    "batch_size = batch_size_opts[0]\n",
    "loss_fun = loss_fun_opts[0]\n",
    "act_fun = act_fun_opts[0]\n",
    "optmzer = optmzer_opts[0]\n",
    "\n",
    "params = [n_epochs, batch_size, loss_fun, act_fun, learn_rate, optmzer]"
   ]
  },
  {
   "cell_type": "markdown",
   "id": "2a076bab",
   "metadata": {
    "papermill": {
     "duration": 0.00645,
     "end_time": "2022-12-10T13:10:44.766266",
     "exception": false,
     "start_time": "2022-12-10T13:10:44.759816",
     "status": "completed"
    },
    "tags": []
   },
   "source": [
    "### Create a fine to save the results"
   ]
  },
  {
   "cell_type": "code",
   "execution_count": 3,
   "id": "b8cfffa9",
   "metadata": {
    "execution": {
     "iopub.execute_input": "2022-12-10T13:10:44.781146Z",
     "iopub.status.busy": "2022-12-10T13:10:44.780336Z",
     "iopub.status.idle": "2022-12-10T13:10:44.787887Z",
     "shell.execute_reply": "2022-12-10T13:10:44.786826Z"
    },
    "papermill": {
     "duration": 0.017592,
     "end_time": "2022-12-10T13:10:44.790156",
     "exception": false,
     "start_time": "2022-12-10T13:10:44.772564",
     "status": "completed"
    },
    "tags": []
   },
   "outputs": [],
   "source": [
    "# Open the excel file where I'll save all the test results (metrics)\n",
    "\n",
    "# TODO: add computational complexity\n",
    "\n",
    "with open(\"./results.csv\", \"w\") as csvfile:\n",
    "    filewriter = csv.writer(csvfile, delimiter=',',\n",
    "                            quotechar='|', quoting=csv.QUOTE_MINIMAL)\n",
    "    # Create a row with the column names:\n",
    "    filewriter.writerow([\"model_ID\",\n",
    "                         \"model_name\", \n",
    "                         \"n_epochs\", # params[0]\n",
    "                         \"batch_size\", # params[1]\n",
    "                         \"loss_function\", # params[2]\n",
    "                         \"activation_fun\", # params[3]\n",
    "                         \"learning_rate\", # params[4]\n",
    "                         \"optimizer\", # params[5]\n",
    "                         \"train_time_per_epoch\",\n",
    "                         \"num_epochs_run\", # epoch where it stopped automatically\n",
    "                         \"test_loss\",\n",
    "                         \"test_accuracy\",\n",
    "                         \"test_auc\",\n",
    "                         \"wa_precision\", # wa = weighted average\n",
    "                         \"wa_recall\",\n",
    "                         \"wa_f1_score\",\n",
    "                         \"wrong_preds\",\n",
    "                         \"total_preds\",\n",
    "                         \"num_train\", # number of images in the training set\n",
    "                         \"num_val\", # number of images in the validation set\n",
    "                         \"num_test\" # number of images in the test set  \n",
    "                        ])"
   ]
  },
  {
   "cell_type": "markdown",
   "id": "04636121",
   "metadata": {
    "papermill": {
     "duration": 0.006163,
     "end_time": "2022-12-10T13:10:44.802558",
     "exception": false,
     "start_time": "2022-12-10T13:10:44.796395",
     "status": "completed"
    },
    "tags": []
   },
   "source": [
    "### Define functions"
   ]
  },
  {
   "cell_type": "code",
   "execution_count": 4,
   "id": "5d49bff2",
   "metadata": {
    "_cell_guid": "b1076dfc-b9ad-4769-8c92-a6c4dae69d19",
    "_kg_hide-input": false,
    "_uuid": "8f2839f25d086af736a60e9eeb907d3b93b6e0e5",
    "execution": {
     "iopub.execute_input": "2022-12-10T13:10:44.818441Z",
     "iopub.status.busy": "2022-12-10T13:10:44.818129Z",
     "iopub.status.idle": "2022-12-10T13:10:44.834902Z",
     "shell.execute_reply": "2022-12-10T13:10:44.833911Z"
    },
    "jupyter": {
     "source_hidden": true
    },
    "papermill": {
     "duration": 0.026867,
     "end_time": "2022-12-10T13:10:44.837189",
     "exception": false,
     "start_time": "2022-12-10T13:10:44.810322",
     "status": "completed"
    },
    "tags": []
   },
   "outputs": [],
   "source": [
    "# https://stackoverflow.com/questions/39280813/visualization-of-convolutional-layer-in-keras-model\n",
    "# Merdan Memtimin https://stackoverflow.com/users/6565409/merdan-memtimin\n",
    "def plot_conv_weights(model, layer_name):\n",
    "    W = model.get_layer(name=layer_name).get_weights()[0]\n",
    "    if len(W.shape) == 4:\n",
    "        W = np.squeeze(W)\n",
    "        W = W.reshape((W.shape[0], W.shape[1], W.shape[2]*W.shape[3])) \n",
    "        fig, axs = plt.subplots(5,5, figsize=(8,8))\n",
    "        fig.subplots_adjust(hspace = .5, wspace=.001)\n",
    "        axs = axs.ravel()\n",
    "        for i in range(25):\n",
    "            axs[i].imshow(W[:,:,i])\n",
    "            axs[i].set_title(str(i))\n",
    "            \n",
    "            \n",
    "def load_metadata(data_folder, train_file, validation_file, test_file, column_names):\n",
    "    \"\"\"Reads the .csv files containing metadata (e.g. file location, class label) about the data images.\n",
    "    \n",
    "    Parameters:\n",
    "    data_folder (str): file path to the folder containing the csv file.\n",
    "    train_file (str): file name of the file containing metadata for the training set.\n",
    "    validation_file (str): file name of the file containing metadata for the validation set.\n",
    "    test_file (str): file name of the file containing metadata for the test set.\n",
    "    column_names (list): array containing the column names for the csv files\n",
    "    \n",
    "    Returns:\n",
    "    the read trainig, validation, and test files.\n",
    "    \"\"\"\n",
    "    training_df = pd.read_csv(data_folder + train_file, names = column_names, skiprows=1)\n",
    "    validation_df = pd.read_csv(data_folder + validation_file, names = column_names, skiprows=1)\n",
    "    test_df = pd.read_csv(data_folder + test_file, names = column_names, skiprows=1)\n",
    "    \n",
    "    return training_df, validation_df, test_df\n",
    "\n",
    "\n",
    "def flatten(d):\n",
    "    v = [[i] if not isinstance(i, list) else flatten(i) for i in d]\n",
    "    return [i for b in v for i in b]\n",
    "\n",
    "\n",
    "def precision(confusion_matrix):\n",
    "    \"\"\"Given a confusion matrix, calculates and returns precision for all classes\"\"\"\n",
    "    precision_list = []\n",
    "    for i in range(confusion_matrix.shape[1]):\n",
    "        current_col = confusion_matrix[:,[i]]\n",
    "        current_el = confusion_matrix[i,[i]]\n",
    "        current_precision = (float(current_el/sum(current_col)[0]))\n",
    "        current_precision = round(current_precision, 4)\n",
    "        precision_list.append(current_precision)\n",
    "    return precision_list\n",
    "\n",
    "def recall(confusion_matrix):\n",
    "    \"\"\"Given a confusion matrix, calculates and returns recall for all classes\"\"\"\n",
    "    recall_list = []\n",
    "    for i in range(confusion_matrix.shape[0]):\n",
    "        current_row = confusion_matrix[i,:]\n",
    "        current_el = confusion_matrix[i,i]\n",
    "        current_recall = round(current_el/sum(current_row), 4)\n",
    "        recall_list.append(current_recall)\n",
    "    return(recall_list)\n",
    "\n",
    "def f1_score(precision, recall):\n",
    "    \"\"\"Given a list of precision and recall values for a certain matrix,\n",
    "    returns f-1 values for each class\"\"\"\n",
    "    f1_scores = []\n",
    "    if len(precision) == len(recall):\n",
    "        for i in range(len(precision)):\n",
    "            current_f1 = 2*(precision[i]*recall[i])/(precision[i]+recall[i])\n",
    "            f1_scores.append(round(current_f1, 4))\n",
    "    else:\n",
    "        print(\"Error. Precision and Recall lists should be of equal lengths.\")\n",
    "    return f1_scores\n"
   ]
  },
  {
   "cell_type": "markdown",
   "id": "e5666af5",
   "metadata": {
    "papermill": {
     "duration": 0.006176,
     "end_time": "2022-12-10T13:10:44.849714",
     "exception": false,
     "start_time": "2022-12-10T13:10:44.843538",
     "status": "completed"
    },
    "tags": []
   },
   "source": [
    "### Load data"
   ]
  },
  {
   "cell_type": "code",
   "execution_count": 5,
   "id": "993140c6",
   "metadata": {
    "execution": {
     "iopub.execute_input": "2022-12-10T13:10:44.864460Z",
     "iopub.status.busy": "2022-12-10T13:10:44.863472Z",
     "iopub.status.idle": "2022-12-10T13:10:44.959804Z",
     "shell.execute_reply": "2022-12-10T13:10:44.958114Z"
    },
    "jupyter": {
     "source_hidden": true
    },
    "papermill": {
     "duration": 0.106076,
     "end_time": "2022-12-10T13:10:44.962211",
     "exception": false,
     "start_time": "2022-12-10T13:10:44.856135",
     "status": "completed"
    },
    "tags": []
   },
   "outputs": [
    {
     "name": "stdout",
     "output_type": "stream",
     "text": [
      "---------LOADING DATA---------\n"
     ]
    }
   ],
   "source": [
    "print(\"---------LOADING DATA---------\")\n",
    "dataset_folder = input_folder + \"eurosat-dataset/\" + \"EuroSAT/\"\n",
    "column_names =  [\"id\", \"path\", \"class_id\", \"class_name\"]\n",
    "\n",
    "training_df, validation_df, test_df = load_metadata(dataset_folder,\n",
    "                                                    \"train.csv\",\n",
    "                                                    \"validation.csv\",\n",
    "                                                    \"test.csv\",\n",
    "                                                    column_names)"
   ]
  },
  {
   "cell_type": "markdown",
   "id": "c66e683f",
   "metadata": {
    "papermill": {
     "duration": 0.006434,
     "end_time": "2022-12-10T13:10:44.975250",
     "exception": false,
     "start_time": "2022-12-10T13:10:44.968816",
     "status": "completed"
    },
    "tags": []
   },
   "source": [
    "### Preprocessing"
   ]
  },
  {
   "cell_type": "code",
   "execution_count": 6,
   "id": "debb909d",
   "metadata": {
    "execution": {
     "iopub.execute_input": "2022-12-10T13:10:44.990101Z",
     "iopub.status.busy": "2022-12-10T13:10:44.989274Z",
     "iopub.status.idle": "2022-12-10T13:10:44.996815Z",
     "shell.execute_reply": "2022-12-10T13:10:44.995855Z"
    },
    "jupyter": {
     "source_hidden": true
    },
    "papermill": {
     "duration": 0.017457,
     "end_time": "2022-12-10T13:10:44.999134",
     "exception": false,
     "start_time": "2022-12-10T13:10:44.981677",
     "status": "completed"
    },
    "tags": []
   },
   "outputs": [],
   "source": [
    "# The data is already normalized so that pixels values range from 0,255. We can rescale pixel value between\n",
    "# [0,1] by divinding by 255.\n",
    "\n",
    "rescaling_factor = 1. / 255\n",
    "# Generate batches of tensor image data by setting up the generators.\n",
    "# If you want to perform augmentation, add parameters to the training_generatorF\n",
    "training_generator = ImageDataGenerator(rescale=rescaling_factor)\n",
    "test_generator = ImageDataGenerator(rescale=rescaling_factor)\n",
    "\n",
    "# Size of input data is 64x64 pixels\n",
    "image_width, image_height = (64, 64)"
   ]
  },
  {
   "cell_type": "markdown",
   "id": "ca3495c0",
   "metadata": {
    "papermill": {
     "duration": 0.006374,
     "end_time": "2022-12-10T13:10:45.011926",
     "exception": false,
     "start_time": "2022-12-10T13:10:45.005552",
     "status": "completed"
    },
    "tags": []
   },
   "source": [
    "### Build train, val, test sets"
   ]
  },
  {
   "cell_type": "code",
   "execution_count": 7,
   "id": "7e305839",
   "metadata": {
    "execution": {
     "iopub.execute_input": "2022-12-10T13:10:45.026283Z",
     "iopub.status.busy": "2022-12-10T13:10:45.025912Z",
     "iopub.status.idle": "2022-12-10T13:11:57.224886Z",
     "shell.execute_reply": "2022-12-10T13:11:57.223549Z"
    },
    "jupyter": {
     "source_hidden": true
    },
    "papermill": {
     "duration": 72.208869,
     "end_time": "2022-12-10T13:11:57.227215",
     "exception": false,
     "start_time": "2022-12-10T13:10:45.018346",
     "status": "completed"
    },
    "tags": []
   },
   "outputs": [
    {
     "name": "stdout",
     "output_type": "stream",
     "text": [
      "Building training set.\n",
      "Found 18900 validated image filenames belonging to 10 classes.\n",
      "\n",
      "Building validation set.\n",
      "Found 5400 validated image filenames belonging to 10 classes.\n",
      "\n",
      "Building test set\n",
      "Found 2700 validated image filenames belonging to 10 classes.\n"
     ]
    }
   ],
   "source": [
    "print(\"Building training set.\")\n",
    "training_set = training_generator.flow_from_dataframe(\n",
    "    dataframe=training_df,\n",
    "    x_col=\"path\",\n",
    "    y_col=\"class_name\",\n",
    "    directory=dataset_folder,\n",
    "    target_size=(image_height, image_width),\n",
    "    batch_size=batch_size,\n",
    "    class_mode=\"categorical\",\n",
    "    shuffle=False, # for replicability. Anyways they are already shuffled.\n",
    ")\n",
    "\n",
    "print(\"\\nBuilding validation set.\")\n",
    "validation_set = test_generator.flow_from_dataframe(\n",
    "    dataframe=validation_df,\n",
    "    x_col=\"path\",\n",
    "    y_col=\"class_name\",\n",
    "    directory=dataset_folder,\n",
    "    target_size=(image_height, image_width),\n",
    "    batch_size=batch_size,\n",
    "    class_mode=\"categorical\",\n",
    "    shuffle=False,\n",
    ")\n",
    "\n",
    "print(\"\\nBuilding test set\")\n",
    "test_set = test_generator.flow_from_dataframe(\n",
    "    dataframe=test_df,\n",
    "    x_col=\"path\",\n",
    "    y_col=\"class_name\",\n",
    "    directory=dataset_folder,\n",
    "    target_size=(image_height, image_width),\n",
    "    batch_size=batch_size,\n",
    "    class_mode=\"categorical\",\n",
    "    shuffle=False\n",
    ")\n",
    "\n",
    "\n",
    "\n",
    "\n",
    "class_name_list = np.array(list(training_set.class_indices.keys()))\n",
    "labels, count = np.unique(training_set.classes, return_counts=True)\n",
    "\n",
    "class_count = len(class_name_list)\n",
    "\n"
   ]
  },
  {
   "cell_type": "markdown",
   "id": "45146862",
   "metadata": {
    "papermill": {
     "duration": 0.006378,
     "end_time": "2022-12-10T13:11:57.240460",
     "exception": false,
     "start_time": "2022-12-10T13:11:57.234082",
     "status": "completed"
    },
    "tags": []
   },
   "source": [
    "# Ablation Study"
   ]
  },
  {
   "cell_type": "code",
   "execution_count": 8,
   "id": "c23ef3a2",
   "metadata": {
    "execution": {
     "iopub.execute_input": "2022-12-10T13:11:57.256826Z",
     "iopub.status.busy": "2022-12-10T13:11:57.254852Z",
     "iopub.status.idle": "2022-12-10T13:11:57.262180Z",
     "shell.execute_reply": "2022-12-10T13:11:57.260556Z"
    },
    "papermill": {
     "duration": 0.017463,
     "end_time": "2022-12-10T13:11:57.264638",
     "exception": false,
     "start_time": "2022-12-10T13:11:57.247175",
     "status": "completed"
    },
    "tags": []
   },
   "outputs": [
    {
     "name": "stdout",
     "output_type": "stream",
     "text": [
      "---------START OF ABLATION EXPERIMENTS---------\n"
     ]
    }
   ],
   "source": [
    "print(\"---------START OF ABLATION EXPERIMENTS---------\")"
   ]
  },
  {
   "cell_type": "markdown",
   "id": "0e7f1185",
   "metadata": {
    "papermill": {
     "duration": 0.006461,
     "end_time": "2022-12-10T13:11:57.277847",
     "exception": false,
     "start_time": "2022-12-10T13:11:57.271386",
     "status": "completed"
    },
    "tags": []
   },
   "source": [
    "## Define Functions\n",
    "### Compile and Fit"
   ]
  },
  {
   "cell_type": "markdown",
   "id": "9a464004",
   "metadata": {
    "papermill": {
     "duration": 0.006524,
     "end_time": "2022-12-10T13:11:57.291298",
     "exception": false,
     "start_time": "2022-12-10T13:11:57.284774",
     "status": "completed"
    },
    "tags": []
   },
   "source": [
    "Define Time History class to record time taken per epoch."
   ]
  },
  {
   "cell_type": "code",
   "execution_count": 9,
   "id": "f5bf8ea6",
   "metadata": {
    "execution": {
     "iopub.execute_input": "2022-12-10T13:11:57.307129Z",
     "iopub.status.busy": "2022-12-10T13:11:57.306407Z",
     "iopub.status.idle": "2022-12-10T13:11:57.313144Z",
     "shell.execute_reply": "2022-12-10T13:11:57.312076Z"
    },
    "jupyter": {
     "source_hidden": true
    },
    "papermill": {
     "duration": 0.017302,
     "end_time": "2022-12-10T13:11:57.315595",
     "exception": false,
     "start_time": "2022-12-10T13:11:57.298293",
     "status": "completed"
    },
    "tags": []
   },
   "outputs": [],
   "source": [
    "class TimeHistory(keras.callbacks.Callback):\n",
    "    def on_train_begin(self, logs={}):\n",
    "        self.times = []\n",
    "\n",
    "    def on_epoch_begin(self, batch, logs={}):\n",
    "        self.epoch_time_start = time.time()\n",
    "\n",
    "    def on_epoch_end(self, batch, logs={}):\n",
    "        self.times.append(time.time() - self.epoch_time_start)"
   ]
  },
  {
   "cell_type": "code",
   "execution_count": 10,
   "id": "02ffed9d",
   "metadata": {
    "execution": {
     "iopub.execute_input": "2022-12-10T13:11:57.330830Z",
     "iopub.status.busy": "2022-12-10T13:11:57.329775Z",
     "iopub.status.idle": "2022-12-10T13:11:57.339158Z",
     "shell.execute_reply": "2022-12-10T13:11:57.338211Z"
    },
    "papermill": {
     "duration": 0.019449,
     "end_time": "2022-12-10T13:11:57.341475",
     "exception": false,
     "start_time": "2022-12-10T13:11:57.322026",
     "status": "completed"
    },
    "tags": []
   },
   "outputs": [],
   "source": [
    "def run_model(model, model_name, params):\n",
    "    \"\"\"\n",
    "    Given a model architecture, the function compiles and fits the model.\n",
    "    \n",
    "    model: model architecture\n",
    "    model_name: \"str\", name used as model description in the output file\n",
    "    params: an array containing the values for the training parameters, namely:\n",
    "    [n_epochs, batch_size, loss_fun, act_fun, learn_rate, optmzer]\n",
    "    \"\"\"\n",
    "    # Path to save the model\n",
    "    model_path = \"/kaggle/working/eurosat_rgb_\" + model_name + \".h5\"\n",
    "    # Save the weigths of the best model\n",
    "    checkpoint = ModelCheckpoint(filepath=model_path, monitor=\"val_loss\", save_best_only=True)\n",
    "    # Reduce learning rate when val_loss stops improving for 5 epochs.\n",
    "    # reduce_lr = ReduceLROnPlateau(monitor=\"val_loss\", factor=0.1, patience=5)\n",
    "    # Stop training if a val_loss has stopped improving for 5 epochs.\n",
    "    early_stopping = EarlyStopping(monitor=\"val_loss\", patience=15, restore_best_weights=True, verbose=verbose)\n",
    "    \n",
    "    time_callback = TimeHistory()\n",
    "    callback_list = [checkpoint, early_stopping, time_callback] #, reduce_lr]\n",
    "    \n",
    "    metrics=['accuracy',\n",
    "             tf.keras.metrics.AUC(from_logits=False)]\n",
    "    \n",
    "    print(\"---------MODEL COMPILE---------\")\n",
    "    model.compile(loss=params[2],\n",
    "                  optimizer=params[5],\n",
    "                  metrics=metrics)\n",
    "\n",
    "    print(\"---------MODEL FIT---------\")\n",
    "    \n",
    "    history = model.fit(\n",
    "        training_set,\n",
    "        validation_data=validation_set,\n",
    "        callbacks=callback_list,\n",
    "        epochs=params[0],\n",
    "        verbose=verbose,\n",
    "    )\n",
    "    \n",
    "    times = time_callback.times\n",
    "    avg_time_epoch = sum(times)/len(times)\n",
    "    new_params = params\n",
    "    new_params.append(avg_time_epoch)\n",
    "\n",
    "    return history, new_params"
   ]
  },
  {
   "cell_type": "markdown",
   "id": "adbea2ce",
   "metadata": {
    "papermill": {
     "duration": 0.005987,
     "end_time": "2022-12-10T13:11:57.353961",
     "exception": false,
     "start_time": "2022-12-10T13:11:57.347974",
     "status": "completed"
    },
    "tags": []
   },
   "source": [
    "### Get Evaluation Metrics"
   ]
  },
  {
   "cell_type": "code",
   "execution_count": 11,
   "id": "eba80d56",
   "metadata": {
    "execution": {
     "iopub.execute_input": "2022-12-10T13:11:57.369105Z",
     "iopub.status.busy": "2022-12-10T13:11:57.368032Z",
     "iopub.status.idle": "2022-12-10T13:11:57.380521Z",
     "shell.execute_reply": "2022-12-10T13:11:57.379541Z"
    },
    "papermill": {
     "duration": 0.022668,
     "end_time": "2022-12-10T13:11:57.382949",
     "exception": false,
     "start_time": "2022-12-10T13:11:57.360281",
     "status": "completed"
    },
    "tags": []
   },
   "outputs": [],
   "source": [
    "def get_eval_metrics(history, model, test_set, params):\n",
    "    \"\"\"\n",
    "    Given a trained model and a test set, the function returns model eval metrics.\n",
    "    \n",
    "    \n",
    "    \"\"\"\n",
    "    print(\"---------MODEL EVALUATE---------\")\n",
    "    \n",
    "    n_ran_epochs = len(history.history['loss'])\n",
    "    \n",
    "    loss, accuracy, auc = model.evaluate(test_set, verbose=verbose)\n",
    "    \n",
    "    test_set.reset()\n",
    "    predicted_probabilities = model.predict(test_set, steps=test_set.n, verbose=verbose)\n",
    "    predicted_class_ids = np.argmax(predicted_probabilities, axis=1)\n",
    "    report = metrics.classification_report(test_set.labels, predicted_class_ids, output_dict=True)\n",
    "    wa_prec = report[\"weighted avg\"][\"precision\"]\n",
    "    wa_rec = report[\"weighted avg\"][\"recall\"]\n",
    "    wa_f1 = report[\"weighted avg\"][\"f1-score\"]\n",
    "    cf_matrix = confusion_matrix(test_set.labels, predicted_class_ids)\n",
    "    confusion_matrix_df = pd.DataFrame(\n",
    "        data=cf_matrix, \n",
    "        index=class_name_list, \n",
    "        columns=class_name_list\n",
    "    )\n",
    "    results_df = pd.DataFrame(\n",
    "        {\n",
    "            \"label\": test_set.labels, \n",
    "            \"prediction\": predicted_class_ids, \n",
    "            \"path\": test_set.filepaths\n",
    "        }\n",
    "        )\n",
    "\n",
    "    mistakes = results_df[\"label\"] != results_df[\"prediction\"]\n",
    "    mistakes_df = results_df[mistakes]\n",
    "    wrong_preds = len(mistakes_df)\n",
    "    tot_preds = len(results_df)\n",
    "\n",
    "    print(metrics.classification_report(test_set.labels, predicted_class_ids, digits=4))\n",
    "    \n",
    "    \n",
    "    eval_metrics = [n_ran_epochs,\n",
    "                   loss,\n",
    "                   accuracy,\n",
    "                   auc,\n",
    "                   wa_prec,\n",
    "                   wa_rec,\n",
    "                   wa_f1,\n",
    "                   wrong_preds,\n",
    "                   tot_preds\n",
    "        ]\n",
    "    \n",
    "    return eval_metrics, cf_matrix, confusion_matrix_df"
   ]
  },
  {
   "cell_type": "markdown",
   "id": "d4202375",
   "metadata": {
    "papermill": {
     "duration": 0.006259,
     "end_time": "2022-12-10T13:11:57.396122",
     "exception": false,
     "start_time": "2022-12-10T13:11:57.389863",
     "status": "completed"
    },
    "tags": []
   },
   "source": [
    "### Save plots"
   ]
  },
  {
   "cell_type": "code",
   "execution_count": 12,
   "id": "fede439c",
   "metadata": {
    "execution": {
     "iopub.execute_input": "2022-12-10T13:11:57.411976Z",
     "iopub.status.busy": "2022-12-10T13:11:57.410917Z",
     "iopub.status.idle": "2022-12-10T13:11:57.422128Z",
     "shell.execute_reply": "2022-12-10T13:11:57.421095Z"
    },
    "papermill": {
     "duration": 0.021622,
     "end_time": "2022-12-10T13:11:57.424678",
     "exception": false,
     "start_time": "2022-12-10T13:11:57.403056",
     "status": "completed"
    },
    "tags": []
   },
   "outputs": [],
   "source": [
    "def save_plots(history, output_folder, model_name, confusion_matrix_df):\n",
    "    plt.subplot(1, 2, 1)\n",
    "    # Loss\n",
    "    plt.plot(history.history[\"loss\"])\n",
    "    plt.plot(history.history[\"val_loss\"])\n",
    "    plt.title(\"Loss - \" + model_name)\n",
    "    plt.ylabel(\"loss\")\n",
    "    plt.xlabel(\"epoch\")\n",
    "    plt.legend([\"train\", \"validation\"], loc=\"upper left\")\n",
    "\n",
    "    # Accuracy\n",
    "    plt.subplot(1, 2, 2)\n",
    "    plt.plot(history.history[\"accuracy\"])\n",
    "    plt.plot(history.history[\"val_accuracy\"])\n",
    "    plt.title(\"Accuracy - \" + model_name)\n",
    "    plt.ylabel(\"accuracy\")\n",
    "    plt.xlabel(\"epoch\")\n",
    "    plt.legend([\"train\", \"validation\"], loc=\"upper left\")\n",
    "\n",
    "    #plt.show()\n",
    "    plt.savefig(output_folder + model_name + \"_training_curves.png\")\n",
    "    \n",
    "    # CONFUSION MATRIX IMAGE\n",
    "    plt.figure(figsize=(10, 7))\n",
    "    sns.set(font_scale=1)\n",
    "    sns.heatmap(confusion_matrix_df, annot=True, cmap=\"Blues\", annot_kws={\"size\": 9}, fmt=\"g\")\n",
    "    plt.ylabel(\"Label\")\n",
    "    plt.xlabel(\"Prediction\")\n",
    "    plt.title(\"Confusion matrix - \" + model_name)\n",
    "    #plt.show()\n",
    "    plt.savefig(output_folder + model_name + \"_confusion.png\")"
   ]
  },
  {
   "cell_type": "markdown",
   "id": "d854aa83",
   "metadata": {
    "papermill": {
     "duration": 0.006263,
     "end_time": "2022-12-10T13:11:57.437554",
     "exception": false,
     "start_time": "2022-12-10T13:11:57.431291",
     "status": "completed"
    },
    "tags": []
   },
   "source": [
    "### Save numerical results"
   ]
  },
  {
   "cell_type": "code",
   "execution_count": 13,
   "id": "a529660b",
   "metadata": {
    "execution": {
     "iopub.execute_input": "2022-12-10T13:11:57.452927Z",
     "iopub.status.busy": "2022-12-10T13:11:57.452156Z",
     "iopub.status.idle": "2022-12-10T13:11:57.458277Z",
     "shell.execute_reply": "2022-12-10T13:11:57.457180Z"
    },
    "papermill": {
     "duration": 0.016365,
     "end_time": "2022-12-10T13:11:57.460504",
     "exception": false,
     "start_time": "2022-12-10T13:11:57.444139",
     "status": "completed"
    },
    "tags": []
   },
   "outputs": [],
   "source": [
    "def append_results_to_csv(csv_row):\n",
    "    print(\"---------SAVE RESULTS---------\")\n",
    "    \"\"\"Append the results to the csv file\n",
    "    csv_row: list, contains the information to append to the csv\"\"\"\n",
    "    \n",
    "    with open(\"./results.csv\", 'a+', newline='') as csvfile:\n",
    "        filewriter = csv.writer(csvfile, delimiter=',',\n",
    "                                quotechar='|', quoting=csv.QUOTE_MINIMAL)\n",
    "        # Create a row with the column names:\n",
    "        filewriter.writerow(csv_row)\n"
   ]
  },
  {
   "cell_type": "markdown",
   "id": "052896db",
   "metadata": {
    "papermill": {
     "duration": 0.006388,
     "end_time": "2022-12-10T13:11:57.473590",
     "exception": false,
     "start_time": "2022-12-10T13:11:57.467202",
     "status": "completed"
    },
    "tags": []
   },
   "source": [
    "# TEST"
   ]
  },
  {
   "cell_type": "code",
   "execution_count": 14,
   "id": "66b1b7bb",
   "metadata": {
    "execution": {
     "iopub.execute_input": "2022-12-10T13:11:57.489468Z",
     "iopub.status.busy": "2022-12-10T13:11:57.488647Z",
     "iopub.status.idle": "2022-12-10T13:12:02.991688Z",
     "shell.execute_reply": "2022-12-10T13:12:02.990614Z"
    },
    "papermill": {
     "duration": 5.514316,
     "end_time": "2022-12-10T13:12:02.994723",
     "exception": false,
     "start_time": "2022-12-10T13:11:57.480407",
     "status": "completed"
    },
    "tags": []
   },
   "outputs": [
    {
     "name": "stdout",
     "output_type": "stream",
     "text": [
      "---------ABLATION CONV 1---------\n"
     ]
    }
   ],
   "source": [
    "print(\"---------ABLATION CONV 1---------\")\n",
    "\n",
    "model_name = \"ablation_CONV-1\"\n",
    "model_id = \"001\"\n",
    "model = Sequential()\n",
    "\n",
    "# start of model\n",
    "#model.add(Conv2D(input_shape=(64,64,3),filters=64,kernel_size=(3,3),padding=\"same\", activation=\"relu\"))\n",
    "#model.add(Conv2D(filters=64,kernel_size=(3,3),padding=\"same\", activation=\"relu\"))\n",
    "#model.add(MaxPool2D(pool_size=(2,2),strides=(2,2)))\n",
    "model.add(Conv2D(filters=128, kernel_size=(3,3), padding=\"same\", activation=\"relu\"))\n",
    "model.add(Conv2D(filters=128, kernel_size=(3,3), padding=\"same\", activation=\"relu\"))\n",
    "model.add(MaxPool2D(pool_size=(2,2),strides=(2,2)))\n",
    "model.add(Conv2D(filters=256, kernel_size=(3,3), padding=\"same\", activation=\"relu\"))\n",
    "model.add(Conv2D(filters=256, kernel_size=(3,3), padding=\"same\", activation=\"relu\"))\n",
    "model.add(Conv2D(filters=256, kernel_size=(3,3), padding=\"same\", activation=\"relu\"))\n",
    "model.add(MaxPool2D(pool_size=(2,2),strides=(2,2)))\n",
    "model.add(Conv2D(filters=512, kernel_size=(3,3), padding=\"same\", activation=\"relu\"))\n",
    "model.add(Conv2D(filters=512, kernel_size=(3,3), padding=\"same\", activation=\"relu\"))\n",
    "model.add(Conv2D(filters=512, kernel_size=(3,3), padding=\"same\", activation=\"relu\"))\n",
    "model.add(MaxPool2D(pool_size=(2,2),strides=(2,2)))\n",
    "model.add(Conv2D(filters=512, kernel_size=(3,3), padding=\"same\", activation=\"relu\"))\n",
    "model.add(Conv2D(filters=512, kernel_size=(3,3), padding=\"same\", activation=\"relu\"))\n",
    "model.add(Conv2D(filters=512, kernel_size=(3,3), padding=\"same\", activation=\"relu\"))\n",
    "model.add(MaxPool2D(pool_size=(2,2),strides=(2,2)))\n",
    "\n",
    "\n",
    "# add a flatten out layer, a dropout for regularization, a FC layer, and a final\n",
    "# 10-node softmax layer for the prediction.\n",
    "model.add(Flatten()) # just flattening operation, same numb. nodes kept\n",
    "# n. nodes chosen by keeping the drop in nodes ratio of the origina model (approx.)\n",
    "model.add(Dense(units=680, activation=\"relu\", kernel_initializer=\"he_normal\"))\n",
    "model.add(Dropout(0.5)) # MY ADDITION\n",
    "model.add(Dense(units=180, activation=\"relu\", kernel_initializer=\"he_normal\"))\n",
    "model.add(Dense(class_count, activation=\"softmax\"))"
   ]
  },
  {
   "cell_type": "code",
   "execution_count": 15,
   "id": "f558d387",
   "metadata": {
    "execution": {
     "iopub.execute_input": "2022-12-10T13:12:03.011125Z",
     "iopub.status.busy": "2022-12-10T13:12:03.010724Z",
     "iopub.status.idle": "2022-12-10T13:17:38.707882Z",
     "shell.execute_reply": "2022-12-10T13:17:38.706917Z"
    },
    "papermill": {
     "duration": 335.708481,
     "end_time": "2022-12-10T13:17:38.710287",
     "exception": false,
     "start_time": "2022-12-10T13:12:03.001806",
     "status": "completed"
    },
    "tags": []
   },
   "outputs": [
    {
     "name": "stdout",
     "output_type": "stream",
     "text": [
      "---------MODEL COMPILE---------\n",
      "---------MODEL FIT---------\n",
      "Epoch 1/3\n",
      "148/148 [==============================] - 172s 1s/step - loss: 1.9007 - accuracy: 0.2354 - auc: 0.7622 - val_loss: 1.5717 - val_accuracy: 0.3006 - val_auc: 0.8515\n",
      "Epoch 2/3\n",
      "148/148 [==============================] - 60s 402ms/step - loss: 1.4061 - accuracy: 0.4240 - auc: 0.8878 - val_loss: 1.1097 - val_accuracy: 0.5750 - val_auc: 0.9313\n",
      "Epoch 3/3\n",
      "148/148 [==============================] - 60s 402ms/step - loss: 1.0630 - accuracy: 0.6001 - auc: 0.9367 - val_loss: 0.7819 - val_accuracy: 0.7143 - val_auc: 0.9660\n",
      "---------MODEL EVALUATE---------\n",
      "22/22 [==============================] - 19s 903ms/step - loss: 0.7744 - accuracy: 0.7241 - auc: 0.9665\n",
      "2700/2700 [==============================] - 5s 2ms/step\n",
      "              precision    recall  f1-score   support\n",
      "\n",
      "           0     0.7888    0.7967    0.7927       300\n",
      "           1     0.7229    0.9567    0.8235       300\n",
      "           2     0.5802    0.7233    0.6439       300\n",
      "           3     0.7007    0.3840    0.4961       250\n",
      "           4     0.8455    0.8320    0.8387       250\n",
      "           5     0.6091    0.6000    0.6045       200\n",
      "           6     0.6298    0.4560    0.5290       250\n",
      "           7     0.7955    0.9467    0.8645       300\n",
      "           8     0.5936    0.6720    0.6304       250\n",
      "           9     0.9867    0.7400    0.8457       300\n",
      "\n",
      "    accuracy                         0.7241      2700\n",
      "   macro avg     0.7253    0.7107    0.7069      2700\n",
      "weighted avg     0.7320    0.7241    0.7169      2700\n",
      "\n",
      "---------SAVE RESULTS---------\n"
     ]
    },
    {
     "data": {
      "image/png": "[encoded data removed]",
      "text/plain": [
       "<Figure size 432x288 with 2 Axes>"
      ]
     },
     "metadata": {
      "needs_background": "light"
     },
     "output_type": "display_data"
    },
    {
     "data": {
      "image/png": "[encoded data removed]",
      "text/plain": [
       "<Figure size 720x504 with 2 Axes>"
      ]
     },
     "metadata": {
      "needs_background": "light"
     },
     "output_type": "display_data"
    }
   ],
   "source": [
    "# Model COMPILE and FIT\n",
    "history, new_params = run_model(model, model_name, params)\n",
    "params = new_params\n",
    "# Model EVALUATE\n",
    "eval_metrics, cf_matrix, confusion_matrix_df = get_eval_metrics(history, model, test_set, params)\n",
    "\n",
    "save_plots(history, output_folder, model_name, confusion_matrix_df)\n",
    "\n",
    "new_row = [model_id,\n",
    "           model_name,\n",
    "           params,\n",
    "           eval_metrics,\n",
    "           len(training_df), # number of images in the training set\n",
    "           len(validation_df), # number of images in the validation set\n",
    "           len(test_df), # number of images in the test set\n",
    "          ]\n",
    "\n",
    "new_row = flatten(new_row)\n",
    "\n",
    "append_results_to_csv(new_row)"
   ]
  }
 ],
 "metadata": {
  "kernelspec": {
   "display_name": "Python 3",
   "language": "python",
   "name": "python3"
  },
  "language_info": {
   "codemirror_mode": {
    "name": "ipython",
    "version": 3
   },
   "file_extension": ".py",
   "mimetype": "text/x-python",
   "name": "python",
   "nbconvert_exporter": "python",
   "pygments_lexer": "ipython3",
   "version": "3.7.12"
  },
  "papermill": {
   "default_parameters": {},
   "duration": 440.34048,
   "end_time": "2022-12-10T13:17:41.665638",
   "environment_variables": {},
   "exception": null,
   "input_path": "__notebook__.ipynb",
   "output_path": "__notebook__.ipynb",
   "parameters": {},
   "start_time": "2022-12-10T13:10:21.325158",
   "version": "2.3.4"
  }
 },
 "nbformat": 4,
 "nbformat_minor": 5
}
