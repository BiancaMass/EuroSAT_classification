{
 "cells": [
  {
   "cell_type": "markdown",
   "id": "8b1fb0e4",
   "metadata": {
    "papermill": {
     "duration": 0.0075,
     "end_time": "2022-12-10T16:17:27.929232",
     "exception": false,
     "start_time": "2022-12-10T16:17:27.921732",
     "status": "completed"
    },
    "tags": []
   },
   "source": [
    "### Import packages"
   ]
  },
  {
   "cell_type": "code",
   "execution_count": 1,
   "id": "a7596c22",
   "metadata": {
    "_kg_hide-input": false,
    "execution": {
     "iopub.execute_input": "2022-12-10T16:17:27.944169Z",
     "iopub.status.busy": "2022-12-10T16:17:27.943269Z",
     "iopub.status.idle": "2022-12-10T16:17:40.312375Z",
     "shell.execute_reply": "2022-12-10T16:17:40.311409Z"
    },
    "jupyter": {
     "source_hidden": true
    },
    "papermill": {
     "duration": 12.379421,
     "end_time": "2022-12-10T16:17:40.315055",
     "exception": false,
     "start_time": "2022-12-10T16:17:27.935634",
     "status": "completed"
    },
    "tags": []
   },
   "outputs": [
    {
     "name": "stdout",
     "output_type": "stream",
     "text": [
      "---------IMPORTING PACKAGES---------\n"
     ]
    }
   ],
   "source": [
    "# Import packages\n",
    "print(\"---------IMPORTING PACKAGES---------\")\n",
    "import numpy as np\n",
    "import pandas as pd\n",
    "import matplotlib.pyplot as plt\n",
    "import seaborn as sns\n",
    "import cv2\n",
    "import os\n",
    "import random\n",
    "import tensorflow as tf\n",
    "import seaborn as sns\n",
    "import random\n",
    "import csv\n",
    "import time\n",
    "import keras\n",
    "\n",
    "from sklearn.utils import shuffle\n",
    "from matplotlib import image\n",
    "from sklearn import metrics\n",
    "from sklearn.metrics import confusion_matrix\n",
    "from keras.preprocessing.image import ImageDataGenerator\n",
    "from keras.applications.vgg16 import VGG16\n",
    "from keras.models import Sequential\n",
    "from keras.layers import Dense, Flatten, Dropout, Conv2D, MaxPool2D\n",
    "from keras.callbacks import ModelCheckpoint, ReduceLROnPlateau, EarlyStopping, ReduceLROnPlateau\n",
    "from tensorflow.keras.optimizers import Adam, Nadam, Adamax, SGD\n",
    "\n",
    "# Suppress keras warnings\n",
    "os.environ[\"TF_CPP_MIN_LOG_LEVEL\"] = \"3\"\n",
    "random.seed(432)\n"
   ]
  },
  {
   "cell_type": "markdown",
   "id": "d15ab17c",
   "metadata": {
    "papermill": {
     "duration": 0.006735,
     "end_time": "2022-12-10T16:17:40.329005",
     "exception": false,
     "start_time": "2022-12-10T16:17:40.322270",
     "status": "completed"
    },
    "tags": []
   },
   "source": [
    "### Define the changeable parameters"
   ]
  },
  {
   "cell_type": "code",
   "execution_count": 2,
   "id": "3d0a52d3",
   "metadata": {
    "execution": {
     "iopub.execute_input": "2022-12-10T16:17:40.343634Z",
     "iopub.status.busy": "2022-12-10T16:17:40.343092Z",
     "iopub.status.idle": "2022-12-10T16:17:40.363373Z",
     "shell.execute_reply": "2022-12-10T16:17:40.362486Z"
    },
    "papermill": {
     "duration": 0.030127,
     "end_time": "2022-12-10T16:17:40.365672",
     "exception": false,
     "start_time": "2022-12-10T16:17:40.335545",
     "status": "completed"
    },
    "tags": []
   },
   "outputs": [],
   "source": [
    "# Static\n",
    "input_folder = \"/kaggle/input/\"\n",
    "output_folder = \"/kaggle/working/\"\n",
    "verbose = 1 # 0-> dont print training info, 1-> print them\n",
    "n_epochs = 70 # TODO: change back to 70\n",
    "\n",
    "\n",
    "# Options. Element [0] is default\n",
    "batch_size_opts = [128, 256, 64] # How big of a set of data to use for every training epoch\n",
    "loss_fun_opts = [\"categorical_crossentropy\",\n",
    "                 \"kl_divergence\",\n",
    "                 \"mean_absolute_error\",\n",
    "                 \"mean_squared_logarithmic_error\"]\n",
    "act_fun_opts = [\"relu\", \"elu\"]\n",
    "learn_rate_opts = [0.0001, 0.0007, 0.001]\n",
    "\n",
    "learn_rate = learn_rate_opts[0]\n",
    "\n",
    "optmzer_opts = [Adam(learning_rate=learn_rate),\n",
    "                Nadam(learning_rate=learn_rate),\n",
    "                Adamax(learning_rate=learn_rate),\n",
    "                SGD(learning_rate=learn_rate)]\n",
    "\n",
    "# Dynamic (to experiment with)\n",
    "batch_size = batch_size_opts[0]\n",
    "loss_fun = loss_fun_opts[0]\n",
    "act_fun = act_fun_opts[0]\n",
    "optmzer = optmzer_opts[0]\n",
    "\n",
    "params = [n_epochs, batch_size, loss_fun, act_fun, learn_rate, optmzer]"
   ]
  },
  {
   "cell_type": "markdown",
   "id": "ea87fe5b",
   "metadata": {
    "papermill": {
     "duration": 0.00621,
     "end_time": "2022-12-10T16:17:40.378269",
     "exception": false,
     "start_time": "2022-12-10T16:17:40.372059",
     "status": "completed"
    },
    "tags": []
   },
   "source": [
    "### Create a fine to save the results"
   ]
  },
  {
   "cell_type": "code",
   "execution_count": 3,
   "id": "a16ec4e1",
   "metadata": {
    "execution": {
     "iopub.execute_input": "2022-12-10T16:17:40.393276Z",
     "iopub.status.busy": "2022-12-10T16:17:40.392979Z",
     "iopub.status.idle": "2022-12-10T16:17:40.399363Z",
     "shell.execute_reply": "2022-12-10T16:17:40.398538Z"
    },
    "papermill": {
     "duration": 0.015396,
     "end_time": "2022-12-10T16:17:40.401303",
     "exception": false,
     "start_time": "2022-12-10T16:17:40.385907",
     "status": "completed"
    },
    "tags": []
   },
   "outputs": [],
   "source": [
    "# Open the excel file where I'll save all the test results (metrics)\n",
    "\n",
    "# TODO: add computational complexity\n",
    "\n",
    "with open(\"./results.csv\", \"w\") as csvfile:\n",
    "    filewriter = csv.writer(csvfile, delimiter=',',\n",
    "                            quotechar='|', quoting=csv.QUOTE_MINIMAL)\n",
    "    # Create a row with the column names:\n",
    "    filewriter.writerow([\"model_ID\",\n",
    "                         \"model_name\", \n",
    "                         \"n_epochs\", # params[0]\n",
    "                         \"batch_size\", # params[1]\n",
    "                         \"loss_function\", # params[2]\n",
    "                         \"activation_fun\", # params[3]\n",
    "                         \"learning_rate\", # params[4]\n",
    "                         \"optimizer\", # params[5]\n",
    "                         \"train_time_per_epoch\",\n",
    "                         \"num_epochs_run\", # epoch where it stopped automatically\n",
    "                         \"test_loss\",\n",
    "                         \"test_accuracy\",\n",
    "                         \"test_auc\",\n",
    "                         \"wa_precision\", # wa = weighted average\n",
    "                         \"wa_recall\",\n",
    "                         \"wa_f1_score\",\n",
    "                         \"wrong_preds\",\n",
    "                         \"total_preds\",\n",
    "                         \"num_train\", # number of images in the training set\n",
    "                         \"num_val\", # number of images in the validation set\n",
    "                         \"num_test\" # number of images in the test set  \n",
    "                        ])"
   ]
  },
  {
   "cell_type": "markdown",
   "id": "a41beeff",
   "metadata": {
    "papermill": {
     "duration": 0.006033,
     "end_time": "2022-12-10T16:17:40.413623",
     "exception": false,
     "start_time": "2022-12-10T16:17:40.407590",
     "status": "completed"
    },
    "tags": []
   },
   "source": [
    "### Define functions"
   ]
  },
  {
   "cell_type": "code",
   "execution_count": 4,
   "id": "40868f61",
   "metadata": {
    "_cell_guid": "b1076dfc-b9ad-4769-8c92-a6c4dae69d19",
    "_kg_hide-input": false,
    "_uuid": "8f2839f25d086af736a60e9eeb907d3b93b6e0e5",
    "execution": {
     "iopub.execute_input": "2022-12-10T16:17:40.427763Z",
     "iopub.status.busy": "2022-12-10T16:17:40.426892Z",
     "iopub.status.idle": "2022-12-10T16:17:40.441430Z",
     "shell.execute_reply": "2022-12-10T16:17:40.440553Z"
    },
    "jupyter": {
     "source_hidden": true
    },
    "papermill": {
     "duration": 0.023624,
     "end_time": "2022-12-10T16:17:40.443453",
     "exception": false,
     "start_time": "2022-12-10T16:17:40.419829",
     "status": "completed"
    },
    "tags": []
   },
   "outputs": [],
   "source": [
    "# https://stackoverflow.com/questions/39280813/visualization-of-convolutional-layer-in-keras-model\n",
    "# Merdan Memtimin https://stackoverflow.com/users/6565409/merdan-memtimin\n",
    "def plot_conv_weights(model, layer_name):\n",
    "    W = model.get_layer(name=layer_name).get_weights()[0]\n",
    "    if len(W.shape) == 4:\n",
    "        W = np.squeeze(W)\n",
    "        W = W.reshape((W.shape[0], W.shape[1], W.shape[2]*W.shape[3])) \n",
    "        fig, axs = plt.subplots(5,5, figsize=(8,8))\n",
    "        fig.subplots_adjust(hspace = .5, wspace=.001)\n",
    "        axs = axs.ravel()\n",
    "        for i in range(25):\n",
    "            axs[i].imshow(W[:,:,i])\n",
    "            axs[i].set_title(str(i))\n",
    "            \n",
    "            \n",
    "def load_metadata(data_folder, train_file, validation_file, test_file, column_names):\n",
    "    \"\"\"Reads the .csv files containing metadata (e.g. file location, class label) about the data images.\n",
    "    \n",
    "    Parameters:\n",
    "    data_folder (str): file path to the folder containing the csv file.\n",
    "    train_file (str): file name of the file containing metadata for the training set.\n",
    "    validation_file (str): file name of the file containing metadata for the validation set.\n",
    "    test_file (str): file name of the file containing metadata for the test set.\n",
    "    column_names (list): array containing the column names for the csv files\n",
    "    \n",
    "    Returns:\n",
    "    the read trainig, validation, and test files.\n",
    "    \"\"\"\n",
    "    training_df = pd.read_csv(data_folder + train_file, names = column_names, skiprows=1)\n",
    "    validation_df = pd.read_csv(data_folder + validation_file, names = column_names, skiprows=1)\n",
    "    test_df = pd.read_csv(data_folder + test_file, names = column_names, skiprows=1)\n",
    "    \n",
    "    return training_df, validation_df, test_df\n",
    "\n",
    "\n",
    "def flatten(d):\n",
    "    v = [[i] if not isinstance(i, list) else flatten(i) for i in d]\n",
    "    return [i for b in v for i in b]\n",
    "\n",
    "\n",
    "def precision(confusion_matrix):\n",
    "    \"\"\"Given a confusion matrix, calculates and returns precision for all classes\"\"\"\n",
    "    precision_list = []\n",
    "    for i in range(confusion_matrix.shape[1]):\n",
    "        current_col = confusion_matrix[:,[i]]\n",
    "        current_el = confusion_matrix[i,[i]]\n",
    "        current_precision = (float(current_el/sum(current_col)[0]))\n",
    "        current_precision = round(current_precision, 4)\n",
    "        precision_list.append(current_precision)\n",
    "    return precision_list\n",
    "\n",
    "def recall(confusion_matrix):\n",
    "    \"\"\"Given a confusion matrix, calculates and returns recall for all classes\"\"\"\n",
    "    recall_list = []\n",
    "    for i in range(confusion_matrix.shape[0]):\n",
    "        current_row = confusion_matrix[i,:]\n",
    "        current_el = confusion_matrix[i,i]\n",
    "        current_recall = round(current_el/sum(current_row), 4)\n",
    "        recall_list.append(current_recall)\n",
    "    return(recall_list)\n",
    "\n",
    "def f1_score(precision, recall):\n",
    "    \"\"\"Given a list of precision and recall values for a certain matrix,\n",
    "    returns f-1 values for each class\"\"\"\n",
    "    f1_scores = []\n",
    "    if len(precision) == len(recall):\n",
    "        for i in range(len(precision)):\n",
    "            current_f1 = 2*(precision[i]*recall[i])/(precision[i]+recall[i])\n",
    "            f1_scores.append(round(current_f1, 4))\n",
    "    else:\n",
    "        print(\"Error. Precision and Recall lists should be of equal lengths.\")\n",
    "    return f1_scores\n"
   ]
  },
  {
   "cell_type": "markdown",
   "id": "8a071c08",
   "metadata": {
    "papermill": {
     "duration": 0.005918,
     "end_time": "2022-12-10T16:17:40.455436",
     "exception": false,
     "start_time": "2022-12-10T16:17:40.449518",
     "status": "completed"
    },
    "tags": []
   },
   "source": [
    "### Load data"
   ]
  },
  {
   "cell_type": "code",
   "execution_count": 5,
   "id": "1f1b0389",
   "metadata": {
    "execution": {
     "iopub.execute_input": "2022-12-10T16:17:40.468961Z",
     "iopub.status.busy": "2022-12-10T16:17:40.468221Z",
     "iopub.status.idle": "2022-12-10T16:17:40.562840Z",
     "shell.execute_reply": "2022-12-10T16:17:40.561485Z"
    },
    "jupyter": {
     "source_hidden": true
    },
    "papermill": {
     "duration": 0.103577,
     "end_time": "2022-12-10T16:17:40.565005",
     "exception": false,
     "start_time": "2022-12-10T16:17:40.461428",
     "status": "completed"
    },
    "tags": []
   },
   "outputs": [
    {
     "name": "stdout",
     "output_type": "stream",
     "text": [
      "---------LOADING DATA---------\n"
     ]
    }
   ],
   "source": [
    "print(\"---------LOADING DATA---------\")\n",
    "dataset_folder = input_folder + \"eurosat-dataset/\" + \"EuroSAT/\"\n",
    "column_names =  [\"id\", \"path\", \"class_id\", \"class_name\"]\n",
    "\n",
    "training_df, validation_df, test_df = load_metadata(dataset_folder,\n",
    "                                                    \"train.csv\",\n",
    "                                                    \"validation.csv\",\n",
    "                                                    \"test.csv\",\n",
    "                                                    column_names)"
   ]
  },
  {
   "cell_type": "markdown",
   "id": "57ddf526",
   "metadata": {
    "papermill": {
     "duration": 0.006014,
     "end_time": "2022-12-10T16:17:40.577704",
     "exception": false,
     "start_time": "2022-12-10T16:17:40.571690",
     "status": "completed"
    },
    "tags": []
   },
   "source": [
    "### Preprocessing"
   ]
  },
  {
   "cell_type": "code",
   "execution_count": 6,
   "id": "1a3c1db8",
   "metadata": {
    "execution": {
     "iopub.execute_input": "2022-12-10T16:17:40.591121Z",
     "iopub.status.busy": "2022-12-10T16:17:40.590838Z",
     "iopub.status.idle": "2022-12-10T16:17:40.596409Z",
     "shell.execute_reply": "2022-12-10T16:17:40.595484Z"
    },
    "jupyter": {
     "source_hidden": true
    },
    "papermill": {
     "duration": 0.014639,
     "end_time": "2022-12-10T16:17:40.598412",
     "exception": false,
     "start_time": "2022-12-10T16:17:40.583773",
     "status": "completed"
    },
    "tags": []
   },
   "outputs": [],
   "source": [
    "# The data is already normalized so that pixels values range from 0,255. We can rescale pixel value between\n",
    "# [0,1] by divinding by 255.\n",
    "\n",
    "rescaling_factor = 1. / 255\n",
    "# Generate batches of tensor image data by setting up the generators.\n",
    "# If you want to perform augmentation, add parameters to the training_generatorF\n",
    "training_generator = ImageDataGenerator(rescale=rescaling_factor)\n",
    "test_generator = ImageDataGenerator(rescale=rescaling_factor)\n",
    "\n",
    "# Size of input data is 64x64 pixels\n",
    "image_width, image_height = (64, 64)"
   ]
  },
  {
   "cell_type": "markdown",
   "id": "775ad55a",
   "metadata": {
    "papermill": {
     "duration": 0.006427,
     "end_time": "2022-12-10T16:17:40.610880",
     "exception": false,
     "start_time": "2022-12-10T16:17:40.604453",
     "status": "completed"
    },
    "tags": []
   },
   "source": [
    "### Build train, val, test sets"
   ]
  },
  {
   "cell_type": "code",
   "execution_count": 7,
   "id": "c5daaad5",
   "metadata": {
    "execution": {
     "iopub.execute_input": "2022-12-10T16:17:40.624468Z",
     "iopub.status.busy": "2022-12-10T16:17:40.623665Z",
     "iopub.status.idle": "2022-12-10T16:18:43.667596Z",
     "shell.execute_reply": "2022-12-10T16:18:43.666206Z"
    },
    "jupyter": {
     "source_hidden": true
    },
    "papermill": {
     "duration": 63.054056,
     "end_time": "2022-12-10T16:18:43.670996",
     "exception": false,
     "start_time": "2022-12-10T16:17:40.616940",
     "status": "completed"
    },
    "tags": []
   },
   "outputs": [
    {
     "name": "stdout",
     "output_type": "stream",
     "text": [
      "Building training set.\n",
      "Found 18900 validated image filenames belonging to 10 classes.\n",
      "\n",
      "Building validation set.\n",
      "Found 5400 validated image filenames belonging to 10 classes.\n",
      "\n",
      "Building test set\n",
      "Found 2700 validated image filenames belonging to 10 classes.\n"
     ]
    }
   ],
   "source": [
    "print(\"Building training set.\")\n",
    "training_set = training_generator.flow_from_dataframe(\n",
    "    dataframe=training_df,\n",
    "    x_col=\"path\",\n",
    "    y_col=\"class_name\",\n",
    "    directory=dataset_folder,\n",
    "    target_size=(image_height, image_width),\n",
    "    batch_size=batch_size,\n",
    "    class_mode=\"categorical\",\n",
    "    shuffle=False, # for replicability. Anyways they are already shuffled.\n",
    ")\n",
    "\n",
    "print(\"\\nBuilding validation set.\")\n",
    "validation_set = test_generator.flow_from_dataframe(\n",
    "    dataframe=validation_df,\n",
    "    x_col=\"path\",\n",
    "    y_col=\"class_name\",\n",
    "    directory=dataset_folder,\n",
    "    target_size=(image_height, image_width),\n",
    "    batch_size=batch_size,\n",
    "    class_mode=\"categorical\",\n",
    "    shuffle=False,\n",
    ")\n",
    "\n",
    "print(\"\\nBuilding test set\")\n",
    "test_set = test_generator.flow_from_dataframe(\n",
    "    dataframe=test_df,\n",
    "    x_col=\"path\",\n",
    "    y_col=\"class_name\",\n",
    "    directory=dataset_folder,\n",
    "    target_size=(image_height, image_width),\n",
    "    batch_size=batch_size,\n",
    "    class_mode=\"categorical\",\n",
    "    shuffle=False\n",
    ")\n",
    "\n",
    "\n",
    "\n",
    "\n",
    "class_name_list = np.array(list(training_set.class_indices.keys()))\n",
    "labels, count = np.unique(training_set.classes, return_counts=True)\n",
    "\n",
    "class_count = len(class_name_list)\n",
    "\n"
   ]
  },
  {
   "cell_type": "markdown",
   "id": "92d25323",
   "metadata": {
    "papermill": {
     "duration": 0.007179,
     "end_time": "2022-12-10T16:18:43.685944",
     "exception": false,
     "start_time": "2022-12-10T16:18:43.678765",
     "status": "completed"
    },
    "tags": []
   },
   "source": [
    "# Ablation Study"
   ]
  },
  {
   "cell_type": "code",
   "execution_count": 8,
   "id": "3667b9b2",
   "metadata": {
    "execution": {
     "iopub.execute_input": "2022-12-10T16:18:43.702012Z",
     "iopub.status.busy": "2022-12-10T16:18:43.701000Z",
     "iopub.status.idle": "2022-12-10T16:18:43.707431Z",
     "shell.execute_reply": "2022-12-10T16:18:43.706091Z"
    },
    "papermill": {
     "duration": 0.01736,
     "end_time": "2022-12-10T16:18:43.710215",
     "exception": false,
     "start_time": "2022-12-10T16:18:43.692855",
     "status": "completed"
    },
    "tags": []
   },
   "outputs": [
    {
     "name": "stdout",
     "output_type": "stream",
     "text": [
      "---------START OF ABLATION EXPERIMENTS---------\n"
     ]
    }
   ],
   "source": [
    "print(\"---------START OF ABLATION EXPERIMENTS---------\")"
   ]
  },
  {
   "cell_type": "markdown",
   "id": "24a2eac3",
   "metadata": {
    "papermill": {
     "duration": 0.006524,
     "end_time": "2022-12-10T16:18:43.724328",
     "exception": false,
     "start_time": "2022-12-10T16:18:43.717804",
     "status": "completed"
    },
    "tags": []
   },
   "source": [
    "## Define Functions\n",
    "### Compile and Fit"
   ]
  },
  {
   "cell_type": "markdown",
   "id": "2446475c",
   "metadata": {
    "papermill": {
     "duration": 0.006777,
     "end_time": "2022-12-10T16:18:43.738111",
     "exception": false,
     "start_time": "2022-12-10T16:18:43.731334",
     "status": "completed"
    },
    "tags": []
   },
   "source": [
    "Define Time History class to record time taken per epoch."
   ]
  },
  {
   "cell_type": "code",
   "execution_count": 9,
   "id": "828e1ba8",
   "metadata": {
    "execution": {
     "iopub.execute_input": "2022-12-10T16:18:43.753876Z",
     "iopub.status.busy": "2022-12-10T16:18:43.752950Z",
     "iopub.status.idle": "2022-12-10T16:18:43.759454Z",
     "shell.execute_reply": "2022-12-10T16:18:43.758533Z"
    },
    "jupyter": {
     "source_hidden": true
    },
    "papermill": {
     "duration": 0.016946,
     "end_time": "2022-12-10T16:18:43.761717",
     "exception": false,
     "start_time": "2022-12-10T16:18:43.744771",
     "status": "completed"
    },
    "tags": []
   },
   "outputs": [],
   "source": [
    "class TimeHistory(keras.callbacks.Callback):\n",
    "    def on_train_begin(self, logs={}):\n",
    "        self.times = []\n",
    "\n",
    "    def on_epoch_begin(self, batch, logs={}):\n",
    "        self.epoch_time_start = time.time()\n",
    "\n",
    "    def on_epoch_end(self, batch, logs={}):\n",
    "        self.times.append(time.time() - self.epoch_time_start)"
   ]
  },
  {
   "cell_type": "code",
   "execution_count": 10,
   "id": "d7d6d8c8",
   "metadata": {
    "execution": {
     "iopub.execute_input": "2022-12-10T16:18:43.776762Z",
     "iopub.status.busy": "2022-12-10T16:18:43.775913Z",
     "iopub.status.idle": "2022-12-10T16:18:43.784724Z",
     "shell.execute_reply": "2022-12-10T16:18:43.783782Z"
    },
    "papermill": {
     "duration": 0.018599,
     "end_time": "2022-12-10T16:18:43.786813",
     "exception": false,
     "start_time": "2022-12-10T16:18:43.768214",
     "status": "completed"
    },
    "tags": []
   },
   "outputs": [],
   "source": [
    "def run_model(model, model_name, params):\n",
    "    \"\"\"\n",
    "    Given a model architecture, the function compiles and fits the model.\n",
    "    \n",
    "    model: model architecture\n",
    "    model_name: \"str\", name used as model description in the output file\n",
    "    params: an array containing the values for the training parameters, namely:\n",
    "    [n_epochs, batch_size, loss_fun, act_fun, learn_rate, optmzer]\n",
    "    \"\"\"\n",
    "    # Path to save the model\n",
    "    model_path = \"/kaggle/working/eurosat_rgb_\" + model_name + \".h5\"\n",
    "    # Save the weigths of the best model\n",
    "    checkpoint = ModelCheckpoint(filepath=model_path, monitor=\"val_loss\", save_best_only=True)\n",
    "    # Reduce learning rate when val_loss stops improving for 5 epochs.\n",
    "    # reduce_lr = ReduceLROnPlateau(monitor=\"val_loss\", factor=0.1, patience=5)\n",
    "    # Stop training if a val_loss has stopped improving for 5 epochs.\n",
    "    early_stopping = EarlyStopping(monitor=\"val_loss\", patience=15, restore_best_weights=True, verbose=verbose)\n",
    "    \n",
    "    time_callback = TimeHistory()\n",
    "    callback_list = [checkpoint, early_stopping, time_callback] #, reduce_lr]\n",
    "    \n",
    "    metrics=['accuracy',\n",
    "             tf.keras.metrics.AUC(from_logits=False)]\n",
    "    \n",
    "    print(\"---------MODEL COMPILE---------\")\n",
    "    model.compile(loss=params[2],\n",
    "                  optimizer=params[5],\n",
    "                  metrics=metrics)\n",
    "\n",
    "    print(\"---------MODEL FIT---------\")\n",
    "    \n",
    "    history = model.fit(\n",
    "        training_set,\n",
    "        validation_data=validation_set,\n",
    "        callbacks=callback_list,\n",
    "        epochs=params[0],\n",
    "        verbose=verbose,\n",
    "    )\n",
    "    \n",
    "    times = time_callback.times\n",
    "    avg_time_epoch = sum(times)/len(times)\n",
    "    new_params = params\n",
    "    new_params.append(avg_time_epoch)\n",
    "\n",
    "    return history, new_params"
   ]
  },
  {
   "cell_type": "markdown",
   "id": "d27f473b",
   "metadata": {
    "papermill": {
     "duration": 0.006551,
     "end_time": "2022-12-10T16:18:43.800046",
     "exception": false,
     "start_time": "2022-12-10T16:18:43.793495",
     "status": "completed"
    },
    "tags": []
   },
   "source": [
    "### Get Evaluation Metrics"
   ]
  },
  {
   "cell_type": "code",
   "execution_count": 11,
   "id": "09aca975",
   "metadata": {
    "execution": {
     "iopub.execute_input": "2022-12-10T16:18:43.814926Z",
     "iopub.status.busy": "2022-12-10T16:18:43.814656Z",
     "iopub.status.idle": "2022-12-10T16:18:43.825853Z",
     "shell.execute_reply": "2022-12-10T16:18:43.824813Z"
    },
    "papermill": {
     "duration": 0.020894,
     "end_time": "2022-12-10T16:18:43.827752",
     "exception": false,
     "start_time": "2022-12-10T16:18:43.806858",
     "status": "completed"
    },
    "tags": []
   },
   "outputs": [],
   "source": [
    "def get_eval_metrics(history, model, test_set, params):\n",
    "    \"\"\"\n",
    "    Given a trained model and a test set, the function returns model eval metrics.\n",
    "    \n",
    "    \n",
    "    \"\"\"\n",
    "    print(\"---------MODEL EVALUATE---------\")\n",
    "    \n",
    "    n_ran_epochs = len(history.history['loss'])\n",
    "    \n",
    "    loss, accuracy, auc = model.evaluate(test_set, verbose=verbose)\n",
    "    \n",
    "    test_set.reset()\n",
    "    predicted_probabilities = model.predict(test_set, steps=test_set.n, verbose=verbose)\n",
    "    predicted_class_ids = np.argmax(predicted_probabilities, axis=1)\n",
    "    report = metrics.classification_report(test_set.labels, predicted_class_ids, output_dict=True)\n",
    "    wa_prec = report[\"weighted avg\"][\"precision\"]\n",
    "    wa_rec = report[\"weighted avg\"][\"recall\"]\n",
    "    wa_f1 = report[\"weighted avg\"][\"f1-score\"]\n",
    "    cf_matrix = confusion_matrix(test_set.labels, predicted_class_ids)\n",
    "    confusion_matrix_df = pd.DataFrame(\n",
    "        data=cf_matrix, \n",
    "        index=class_name_list, \n",
    "        columns=class_name_list\n",
    "    )\n",
    "    results_df = pd.DataFrame(\n",
    "        {\n",
    "            \"label\": test_set.labels, \n",
    "            \"prediction\": predicted_class_ids, \n",
    "            \"path\": test_set.filepaths\n",
    "        }\n",
    "        )\n",
    "\n",
    "    mistakes = results_df[\"label\"] != results_df[\"prediction\"]\n",
    "    mistakes_df = results_df[mistakes]\n",
    "    wrong_preds = len(mistakes_df)\n",
    "    tot_preds = len(results_df)\n",
    "\n",
    "    print(metrics.classification_report(test_set.labels, predicted_class_ids, digits=4))\n",
    "    \n",
    "    \n",
    "    eval_metrics = [n_ran_epochs,\n",
    "                   loss,\n",
    "                   accuracy,\n",
    "                   auc,\n",
    "                   wa_prec,\n",
    "                   wa_rec,\n",
    "                   wa_f1,\n",
    "                   wrong_preds,\n",
    "                   tot_preds\n",
    "        ]\n",
    "    \n",
    "    return eval_metrics, cf_matrix, confusion_matrix_df"
   ]
  },
  {
   "cell_type": "markdown",
   "id": "33e7252a",
   "metadata": {
    "papermill": {
     "duration": 0.006459,
     "end_time": "2022-12-10T16:18:43.841424",
     "exception": false,
     "start_time": "2022-12-10T16:18:43.834965",
     "status": "completed"
    },
    "tags": []
   },
   "source": [
    "### Save plots"
   ]
  },
  {
   "cell_type": "code",
   "execution_count": 12,
   "id": "60bc1e11",
   "metadata": {
    "execution": {
     "iopub.execute_input": "2022-12-10T16:18:43.856526Z",
     "iopub.status.busy": "2022-12-10T16:18:43.855666Z",
     "iopub.status.idle": "2022-12-10T16:18:43.864653Z",
     "shell.execute_reply": "2022-12-10T16:18:43.863770Z"
    },
    "papermill": {
     "duration": 0.018684,
     "end_time": "2022-12-10T16:18:43.866847",
     "exception": false,
     "start_time": "2022-12-10T16:18:43.848163",
     "status": "completed"
    },
    "tags": []
   },
   "outputs": [],
   "source": [
    "def save_plots(history, output_folder, model_name, confusion_matrix_df):\n",
    "    plt.subplot(1, 2, 1)\n",
    "    # Loss\n",
    "    plt.plot(history.history[\"loss\"])\n",
    "    plt.plot(history.history[\"val_loss\"])\n",
    "    plt.title(\"Loss - \" + model_name)\n",
    "    plt.ylabel(\"loss\")\n",
    "    plt.xlabel(\"epoch\")\n",
    "    plt.legend([\"train\", \"validation\"], loc=\"upper left\")\n",
    "\n",
    "    # Accuracy\n",
    "    plt.subplot(1, 2, 2)\n",
    "    plt.plot(history.history[\"accuracy\"])\n",
    "    plt.plot(history.history[\"val_accuracy\"])\n",
    "    plt.title(\"Accuracy - \" + model_name)\n",
    "    plt.ylabel(\"accuracy\")\n",
    "    plt.xlabel(\"epoch\")\n",
    "    plt.legend([\"train\", \"validation\"], loc=\"upper left\")\n",
    "\n",
    "    #plt.show()\n",
    "    plt.savefig(output_folder + model_name + \"_training_curves.png\")\n",
    "    \n",
    "    # CONFUSION MATRIX IMAGE\n",
    "    plt.figure(figsize=(10, 7))\n",
    "    sns.set(font_scale=1)\n",
    "    sns.heatmap(confusion_matrix_df, annot=True, cmap=\"Blues\", annot_kws={\"size\": 9}, fmt=\"g\")\n",
    "    plt.ylabel(\"Label\")\n",
    "    plt.xlabel(\"Prediction\")\n",
    "    plt.title(\"Confusion matrix - \" + model_name)\n",
    "    #plt.show()\n",
    "    plt.savefig(output_folder + model_name + \"_confusion.png\")"
   ]
  },
  {
   "cell_type": "markdown",
   "id": "78626c1c",
   "metadata": {
    "papermill": {
     "duration": 0.00659,
     "end_time": "2022-12-10T16:18:43.879967",
     "exception": false,
     "start_time": "2022-12-10T16:18:43.873377",
     "status": "completed"
    },
    "tags": []
   },
   "source": [
    "### Save numerical results"
   ]
  },
  {
   "cell_type": "code",
   "execution_count": 13,
   "id": "1be1aae0",
   "metadata": {
    "execution": {
     "iopub.execute_input": "2022-12-10T16:18:43.895806Z",
     "iopub.status.busy": "2022-12-10T16:18:43.894443Z",
     "iopub.status.idle": "2022-12-10T16:18:43.900974Z",
     "shell.execute_reply": "2022-12-10T16:18:43.900091Z"
    },
    "papermill": {
     "duration": 0.016176,
     "end_time": "2022-12-10T16:18:43.903035",
     "exception": false,
     "start_time": "2022-12-10T16:18:43.886859",
     "status": "completed"
    },
    "tags": []
   },
   "outputs": [],
   "source": [
    "def append_results_to_csv(csv_row):\n",
    "    print(\"---------SAVE RESULTS---------\")\n",
    "    \"\"\"Append the results to the csv file\n",
    "    csv_row: list, contains the information to append to the csv\"\"\"\n",
    "    \n",
    "    with open(\"./results.csv\", 'a+', newline='') as csvfile:\n",
    "        filewriter = csv.writer(csvfile, delimiter=',',\n",
    "                                quotechar='|', quoting=csv.QUOTE_MINIMAL)\n",
    "        # Create a row with the column names:\n",
    "        filewriter.writerow(csv_row)\n"
   ]
  },
  {
   "cell_type": "markdown",
   "id": "358321fb",
   "metadata": {
    "papermill": {
     "duration": 0.006795,
     "end_time": "2022-12-10T16:18:43.917297",
     "exception": false,
     "start_time": "2022-12-10T16:18:43.910502",
     "status": "completed"
    },
    "tags": []
   },
   "source": [
    "# TEST"
   ]
  },
  {
   "cell_type": "markdown",
   "id": "688e8fbb",
   "metadata": {
    "papermill": {
     "duration": 0.006752,
     "end_time": "2022-12-10T16:18:43.930973",
     "exception": false,
     "start_time": "2022-12-10T16:18:43.924221",
     "status": "completed"
    },
    "tags": []
   },
   "source": [
    "## Start with a very simple model"
   ]
  },
  {
   "cell_type": "code",
   "execution_count": 14,
   "id": "903db7b2",
   "metadata": {
    "execution": {
     "iopub.execute_input": "2022-12-10T16:18:43.946735Z",
     "iopub.status.busy": "2022-12-10T16:18:43.945817Z",
     "iopub.status.idle": "2022-12-10T16:18:49.363451Z",
     "shell.execute_reply": "2022-12-10T16:18:49.362520Z"
    },
    "papermill": {
     "duration": 5.427849,
     "end_time": "2022-12-10T16:18:49.365841",
     "exception": false,
     "start_time": "2022-12-10T16:18:43.937992",
     "status": "completed"
    },
    "tags": []
   },
   "outputs": [
    {
     "name": "stdout",
     "output_type": "stream",
     "text": [
      "---------Simple Model---------\n"
     ]
    }
   ],
   "source": [
    "print(\"---------Simple Model---------\")\n",
    "\n",
    "model_name = \"Basic-BNet\"\n",
    "model_id = \"001\"\n",
    "model = Sequential()\n",
    "\n",
    "# start of model\n",
    "model.add(Conv2D(input_shape=(64,64,3),filters=64,kernel_size=(3,3),padding=\"same\", activation=act_fun))\n",
    "model.add(MaxPool2D(pool_size=(2,2),strides=(2,2)))\n",
    "model.add(Conv2D(filters=128, kernel_size=(3,3), padding=\"same\", activation=act_fun))\n",
    "model.add(MaxPool2D(pool_size=(2,2),strides=(2,2)))\n",
    "model.add(Conv2D(filters=512, kernel_size=(3,3), padding=\"same\", activation=act_fun))\n",
    "model.add(MaxPool2D(pool_size=(2,2),strides=(2,2)))\n",
    "model.add(Conv2D(filters=512, kernel_size=(3,3), padding=\"same\", activation=act_fun))\n",
    "model.add(MaxPool2D(pool_size=(2,2),strides=(2,2)))\n",
    "\n",
    "model.add(Flatten())\n",
    "model.add(Dense(units=680, activation=act_fun, kernel_initializer=\"he_normal\"))\n",
    "model.add(Dropout(0.5)) # MY ADDITION\n",
    "model.add(Dense(class_count, activation=\"softmax\"))"
   ]
  },
  {
   "cell_type": "code",
   "execution_count": 15,
   "id": "6e0989ca",
   "metadata": {
    "execution": {
     "iopub.execute_input": "2022-12-10T16:18:49.380769Z",
     "iopub.status.busy": "2022-12-10T16:18:49.380427Z",
     "iopub.status.idle": "2022-12-10T16:18:49.386317Z",
     "shell.execute_reply": "2022-12-10T16:18:49.385377Z"
    },
    "papermill": {
     "duration": 0.017433,
     "end_time": "2022-12-10T16:18:49.390072",
     "exception": false,
     "start_time": "2022-12-10T16:18:49.372639",
     "status": "completed"
    },
    "tags": []
   },
   "outputs": [
    {
     "name": "stdout",
     "output_type": "stream",
     "text": [
      "Model: \"sequential\"\n",
      "_________________________________________________________________\n",
      "Layer (type)                 Output Shape              Param #   \n",
      "=================================================================\n",
      "conv2d (Conv2D)              (None, 64, 64, 64)        1792      \n",
      "_________________________________________________________________\n",
      "max_pooling2d (MaxPooling2D) (None, 32, 32, 64)        0         \n",
      "_________________________________________________________________\n",
      "conv2d_1 (Conv2D)            (None, 32, 32, 128)       73856     \n",
      "_________________________________________________________________\n",
      "max_pooling2d_1 (MaxPooling2 (None, 16, 16, 128)       0         \n",
      "_________________________________________________________________\n",
      "conv2d_2 (Conv2D)            (None, 16, 16, 512)       590336    \n",
      "_________________________________________________________________\n",
      "max_pooling2d_2 (MaxPooling2 (None, 8, 8, 512)         0         \n",
      "_________________________________________________________________\n",
      "conv2d_3 (Conv2D)            (None, 8, 8, 512)         2359808   \n",
      "_________________________________________________________________\n",
      "max_pooling2d_3 (MaxPooling2 (None, 4, 4, 512)         0         \n",
      "_________________________________________________________________\n",
      "flatten (Flatten)            (None, 8192)              0         \n",
      "_________________________________________________________________\n",
      "dense (Dense)                (None, 680)               5571240   \n",
      "_________________________________________________________________\n",
      "dropout (Dropout)            (None, 680)               0         \n",
      "_________________________________________________________________\n",
      "dense_1 (Dense)              (None, 10)                6810      \n",
      "=================================================================\n",
      "Total params: 8,603,842\n",
      "Trainable params: 8,603,842\n",
      "Non-trainable params: 0\n",
      "_________________________________________________________________\n"
     ]
    }
   ],
   "source": [
    "model.summary()"
   ]
  },
  {
   "cell_type": "code",
   "execution_count": 16,
   "id": "9cdec9fc",
   "metadata": {
    "execution": {
     "iopub.execute_input": "2022-12-10T16:18:49.406241Z",
     "iopub.status.busy": "2022-12-10T16:18:49.405894Z",
     "iopub.status.idle": "2022-12-10T17:11:08.366485Z",
     "shell.execute_reply": "2022-12-10T17:11:08.365514Z"
    },
    "papermill": {
     "duration": 3138.971133,
     "end_time": "2022-12-10T17:11:08.368775",
     "exception": false,
     "start_time": "2022-12-10T16:18:49.397642",
     "status": "completed"
    },
    "tags": []
   },
   "outputs": [
    {
     "name": "stdout",
     "output_type": "stream",
     "text": [
      "---------MODEL COMPILE---------\n",
      "---------MODEL FIT---------\n",
      "Epoch 1/70\n",
      "148/148 [==============================] - 148s 903ms/step - loss: 1.7008 - accuracy: 0.3435 - auc: 0.8255 - val_loss: 1.3703 - val_accuracy: 0.4059 - val_auc: 0.8975\n",
      "Epoch 2/70\n",
      "148/148 [==============================] - 43s 293ms/step - loss: 1.1614 - accuracy: 0.5623 - auc: 0.9252 - val_loss: 0.9471 - val_accuracy: 0.6628 - val_auc: 0.9515\n",
      "Epoch 3/70\n",
      "148/148 [==============================] - 44s 296ms/step - loss: 0.9553 - accuracy: 0.6583 - auc: 0.9490 - val_loss: 0.8895 - val_accuracy: 0.6794 - val_auc: 0.9563\n",
      "Epoch 4/70\n",
      "148/148 [==============================] - 43s 292ms/step - loss: 0.8712 - accuracy: 0.6849 - auc: 0.9573 - val_loss: 0.8328 - val_accuracy: 0.6941 - val_auc: 0.9612\n",
      "Epoch 5/70\n",
      "148/148 [==============================] - 44s 297ms/step - loss: 0.7901 - accuracy: 0.7132 - auc: 0.9647 - val_loss: 0.6628 - val_accuracy: 0.7594 - val_auc: 0.9760\n",
      "Epoch 6/70\n",
      "148/148 [==============================] - 43s 291ms/step - loss: 0.7486 - accuracy: 0.7285 - auc: 0.9683 - val_loss: 0.6362 - val_accuracy: 0.7672 - val_auc: 0.9776\n",
      "Epoch 7/70\n",
      "148/148 [==============================] - 43s 291ms/step - loss: 0.7375 - accuracy: 0.7320 - auc: 0.9692 - val_loss: 0.6306 - val_accuracy: 0.7676 - val_auc: 0.9780\n",
      "Epoch 8/70\n",
      "148/148 [==============================] - 44s 297ms/step - loss: 0.6925 - accuracy: 0.7521 - auc: 0.9727 - val_loss: 0.6334 - val_accuracy: 0.7681 - val_auc: 0.9776\n",
      "Epoch 9/70\n",
      "148/148 [==============================] - 44s 297ms/step - loss: 0.6604 - accuracy: 0.7583 - auc: 0.9751 - val_loss: 0.5680 - val_accuracy: 0.7996 - val_auc: 0.9823\n",
      "Epoch 10/70\n",
      "148/148 [==============================] - 43s 291ms/step - loss: 0.6381 - accuracy: 0.7714 - auc: 0.9766 - val_loss: 0.5612 - val_accuracy: 0.8002 - val_auc: 0.9821\n",
      "Epoch 11/70\n",
      "148/148 [==============================] - 43s 293ms/step - loss: 0.6005 - accuracy: 0.7849 - auc: 0.9790 - val_loss: 0.7373 - val_accuracy: 0.7196 - val_auc: 0.9690\n",
      "Epoch 12/70\n",
      "148/148 [==============================] - 40s 270ms/step - loss: 0.5776 - accuracy: 0.7937 - auc: 0.9805 - val_loss: 0.5038 - val_accuracy: 0.8209 - val_auc: 0.9852\n",
      "Epoch 13/70\n",
      "148/148 [==============================] - 39s 266ms/step - loss: 0.5610 - accuracy: 0.8010 - auc: 0.9816 - val_loss: 0.5512 - val_accuracy: 0.8026 - val_auc: 0.9820\n",
      "Epoch 14/70\n",
      "148/148 [==============================] - 40s 272ms/step - loss: 0.5460 - accuracy: 0.8034 - auc: 0.9825 - val_loss: 0.4944 - val_accuracy: 0.8278 - val_auc: 0.9864\n",
      "Epoch 15/70\n",
      "148/148 [==============================] - 39s 266ms/step - loss: 0.5103 - accuracy: 0.8183 - auc: 0.9847 - val_loss: 0.4554 - val_accuracy: 0.8369 - val_auc: 0.9874\n",
      "Epoch 16/70\n",
      "148/148 [==============================] - 40s 269ms/step - loss: 0.5055 - accuracy: 0.8175 - auc: 0.9848 - val_loss: 0.4568 - val_accuracy: 0.8396 - val_auc: 0.9874\n",
      "Epoch 17/70\n",
      "148/148 [==============================] - 40s 267ms/step - loss: 0.4880 - accuracy: 0.8229 - auc: 0.9858 - val_loss: 0.4319 - val_accuracy: 0.8433 - val_auc: 0.9886\n",
      "Epoch 18/70\n",
      "148/148 [==============================] - 40s 270ms/step - loss: 0.4781 - accuracy: 0.8302 - auc: 0.9862 - val_loss: 0.4846 - val_accuracy: 0.8215 - val_auc: 0.9863\n",
      "Epoch 19/70\n",
      "148/148 [==============================] - 40s 267ms/step - loss: 0.4591 - accuracy: 0.8360 - auc: 0.9873 - val_loss: 0.4355 - val_accuracy: 0.8435 - val_auc: 0.9885\n",
      "Epoch 20/70\n",
      "148/148 [==============================] - 40s 269ms/step - loss: 0.4469 - accuracy: 0.8425 - auc: 0.9878 - val_loss: 0.4193 - val_accuracy: 0.8528 - val_auc: 0.9894\n",
      "Epoch 21/70\n",
      "148/148 [==============================] - 40s 269ms/step - loss: 0.4313 - accuracy: 0.8459 - auc: 0.9887 - val_loss: 0.4329 - val_accuracy: 0.8476 - val_auc: 0.9882\n",
      "Epoch 22/70\n",
      "148/148 [==============================] - 40s 271ms/step - loss: 0.4190 - accuracy: 0.8514 - auc: 0.9891 - val_loss: 0.4040 - val_accuracy: 0.8591 - val_auc: 0.9899\n",
      "Epoch 23/70\n",
      "148/148 [==============================] - 49s 334ms/step - loss: 0.4042 - accuracy: 0.8569 - auc: 0.9899 - val_loss: 0.3886 - val_accuracy: 0.8598 - val_auc: 0.9905\n",
      "Epoch 24/70\n",
      "148/148 [==============================] - 40s 267ms/step - loss: 0.4076 - accuracy: 0.8570 - auc: 0.9897 - val_loss: 0.3955 - val_accuracy: 0.8611 - val_auc: 0.9899\n",
      "Epoch 25/70\n",
      "148/148 [==============================] - 40s 270ms/step - loss: 0.3920 - accuracy: 0.8612 - auc: 0.9903 - val_loss: 0.4061 - val_accuracy: 0.8517 - val_auc: 0.9898\n",
      "Epoch 26/70\n",
      "148/148 [==============================] - 40s 268ms/step - loss: 0.3955 - accuracy: 0.8594 - auc: 0.9903 - val_loss: 0.3504 - val_accuracy: 0.8759 - val_auc: 0.9919\n",
      "Epoch 27/70\n",
      "148/148 [==============================] - 39s 266ms/step - loss: 0.3856 - accuracy: 0.8639 - auc: 0.9905 - val_loss: 0.3645 - val_accuracy: 0.8724 - val_auc: 0.9915\n",
      "Epoch 28/70\n",
      "148/148 [==============================] - 40s 269ms/step - loss: 0.3714 - accuracy: 0.8671 - auc: 0.9912 - val_loss: 0.4387 - val_accuracy: 0.8470 - val_auc: 0.9874\n",
      "Epoch 29/70\n",
      "148/148 [==============================] - 40s 268ms/step - loss: 0.3515 - accuracy: 0.8779 - auc: 0.9923 - val_loss: 0.3743 - val_accuracy: 0.8722 - val_auc: 0.9910\n",
      "Epoch 30/70\n",
      "148/148 [==============================] - 40s 268ms/step - loss: 0.3511 - accuracy: 0.8762 - auc: 0.9920 - val_loss: 0.3645 - val_accuracy: 0.8687 - val_auc: 0.9912\n",
      "Epoch 31/70\n",
      "148/148 [==============================] - 40s 273ms/step - loss: 0.3243 - accuracy: 0.8866 - auc: 0.9932 - val_loss: 0.3301 - val_accuracy: 0.8828 - val_auc: 0.9926\n",
      "Epoch 32/70\n",
      "148/148 [==============================] - 40s 272ms/step - loss: 0.3188 - accuracy: 0.8863 - auc: 0.9932 - val_loss: 0.3452 - val_accuracy: 0.8741 - val_auc: 0.9922\n",
      "Epoch 33/70\n",
      "148/148 [==============================] - 40s 271ms/step - loss: 0.3250 - accuracy: 0.8848 - auc: 0.9930 - val_loss: 0.3302 - val_accuracy: 0.8835 - val_auc: 0.9928\n",
      "Epoch 34/70\n",
      "148/148 [==============================] - 40s 270ms/step - loss: 0.3016 - accuracy: 0.8960 - auc: 0.9940 - val_loss: 0.3512 - val_accuracy: 0.8739 - val_auc: 0.9918\n",
      "Epoch 35/70\n",
      "148/148 [==============================] - 40s 270ms/step - loss: 0.2996 - accuracy: 0.8950 - auc: 0.9939 - val_loss: 0.3224 - val_accuracy: 0.8896 - val_auc: 0.9928\n",
      "Epoch 36/70\n",
      "148/148 [==============================] - 39s 266ms/step - loss: 0.2838 - accuracy: 0.9006 - auc: 0.9946 - val_loss: 0.3676 - val_accuracy: 0.8720 - val_auc: 0.9909\n",
      "Epoch 37/70\n",
      "148/148 [==============================] - 40s 271ms/step - loss: 0.2809 - accuracy: 0.9037 - auc: 0.9949 - val_loss: 0.3416 - val_accuracy: 0.8794 - val_auc: 0.9915\n",
      "Epoch 38/70\n",
      "148/148 [==============================] - 40s 270ms/step - loss: 0.2684 - accuracy: 0.9061 - auc: 0.9951 - val_loss: 0.2984 - val_accuracy: 0.8959 - val_auc: 0.9933\n",
      "Epoch 39/70\n",
      "148/148 [==============================] - 40s 269ms/step - loss: 0.2638 - accuracy: 0.9068 - auc: 0.9951 - val_loss: 0.3095 - val_accuracy: 0.8907 - val_auc: 0.9930\n",
      "Epoch 40/70\n",
      "148/148 [==============================] - 40s 269ms/step - loss: 0.2410 - accuracy: 0.9156 - auc: 0.9958 - val_loss: 0.3133 - val_accuracy: 0.8915 - val_auc: 0.9926\n",
      "Epoch 41/70\n",
      "148/148 [==============================] - 40s 271ms/step - loss: 0.2528 - accuracy: 0.9123 - auc: 0.9955 - val_loss: 0.2958 - val_accuracy: 0.8933 - val_auc: 0.9935\n",
      "Epoch 42/70\n",
      "148/148 [==============================] - 41s 277ms/step - loss: 0.2369 - accuracy: 0.9178 - auc: 0.9961 - val_loss: 0.3036 - val_accuracy: 0.8959 - val_auc: 0.9929\n",
      "Epoch 43/70\n",
      "148/148 [==============================] - 40s 269ms/step - loss: 0.2243 - accuracy: 0.9209 - auc: 0.9964 - val_loss: 0.3111 - val_accuracy: 0.8930 - val_auc: 0.9927\n",
      "Epoch 44/70\n",
      "148/148 [==============================] - 44s 298ms/step - loss: 0.2223 - accuracy: 0.9227 - auc: 0.9965 - val_loss: 0.2897 - val_accuracy: 0.8985 - val_auc: 0.9933\n",
      "Epoch 45/70\n",
      "148/148 [==============================] - 40s 270ms/step - loss: 0.2127 - accuracy: 0.9259 - auc: 0.9969 - val_loss: 0.2683 - val_accuracy: 0.9063 - val_auc: 0.9944\n",
      "Epoch 46/70\n",
      "148/148 [==============================] - 39s 266ms/step - loss: 0.2180 - accuracy: 0.9239 - auc: 0.9967 - val_loss: 0.3093 - val_accuracy: 0.8924 - val_auc: 0.9922\n",
      "Epoch 47/70\n",
      "148/148 [==============================] - 39s 266ms/step - loss: 0.1990 - accuracy: 0.9290 - auc: 0.9971 - val_loss: 0.3000 - val_accuracy: 0.8948 - val_auc: 0.9935\n",
      "Epoch 48/70\n",
      "148/148 [==============================] - 39s 266ms/step - loss: 0.2085 - accuracy: 0.9274 - auc: 0.9969 - val_loss: 0.2845 - val_accuracy: 0.8965 - val_auc: 0.9933\n",
      "Epoch 49/70\n",
      "148/148 [==============================] - 39s 265ms/step - loss: 0.1832 - accuracy: 0.9367 - auc: 0.9976 - val_loss: 0.2850 - val_accuracy: 0.9033 - val_auc: 0.9931\n",
      "Epoch 50/70\n",
      "148/148 [==============================] - 39s 266ms/step - loss: 0.1762 - accuracy: 0.9374 - auc: 0.9978 - val_loss: 0.2564 - val_accuracy: 0.9109 - val_auc: 0.9939\n",
      "Epoch 51/70\n",
      "148/148 [==============================] - 40s 268ms/step - loss: 0.1781 - accuracy: 0.9378 - auc: 0.9977 - val_loss: 0.2795 - val_accuracy: 0.9011 - val_auc: 0.9939\n",
      "Epoch 52/70\n",
      "148/148 [==============================] - 40s 269ms/step - loss: 0.1694 - accuracy: 0.9403 - auc: 0.9979 - val_loss: 0.2688 - val_accuracy: 0.9115 - val_auc: 0.9928\n",
      "Epoch 53/70\n",
      "148/148 [==============================] - 39s 267ms/step - loss: 0.1611 - accuracy: 0.9432 - auc: 0.9981 - val_loss: 0.2418 - val_accuracy: 0.9196 - val_auc: 0.9944\n",
      "Epoch 54/70\n",
      "148/148 [==============================] - 40s 270ms/step - loss: 0.1591 - accuracy: 0.9447 - auc: 0.9979 - val_loss: 0.2550 - val_accuracy: 0.9130 - val_auc: 0.9941\n",
      "Epoch 55/70\n",
      "148/148 [==============================] - 40s 272ms/step - loss: 0.1520 - accuracy: 0.9484 - auc: 0.9983 - val_loss: 0.2501 - val_accuracy: 0.9178 - val_auc: 0.9940\n",
      "Epoch 56/70\n",
      "148/148 [==============================] - 41s 274ms/step - loss: 0.1436 - accuracy: 0.9512 - auc: 0.9983 - val_loss: 0.2501 - val_accuracy: 0.9161 - val_auc: 0.9943\n",
      "Epoch 57/70\n",
      "148/148 [==============================] - 41s 279ms/step - loss: 0.1462 - accuracy: 0.9512 - auc: 0.9984 - val_loss: 0.2339 - val_accuracy: 0.9213 - val_auc: 0.9945\n",
      "Epoch 58/70\n",
      "148/148 [==============================] - 42s 284ms/step - loss: 0.1386 - accuracy: 0.9512 - auc: 0.9986 - val_loss: 0.2479 - val_accuracy: 0.9159 - val_auc: 0.9945\n",
      "Epoch 59/70\n",
      "148/148 [==============================] - 42s 282ms/step - loss: 0.1299 - accuracy: 0.9560 - auc: 0.9987 - val_loss: 0.2458 - val_accuracy: 0.9207 - val_auc: 0.9938\n",
      "Epoch 60/70\n",
      "148/148 [==============================] - 42s 286ms/step - loss: 0.1383 - accuracy: 0.9512 - auc: 0.9985 - val_loss: 0.2677 - val_accuracy: 0.9087 - val_auc: 0.9935\n",
      "Epoch 61/70\n",
      "148/148 [==============================] - 42s 280ms/step - loss: 0.1218 - accuracy: 0.9580 - auc: 0.9989 - val_loss: 0.2706 - val_accuracy: 0.9109 - val_auc: 0.9932\n",
      "Epoch 62/70\n",
      "148/148 [==============================] - 41s 277ms/step - loss: 0.1144 - accuracy: 0.9620 - auc: 0.9989 - val_loss: 0.2601 - val_accuracy: 0.9124 - val_auc: 0.9930\n",
      "Epoch 63/70\n",
      "148/148 [==============================] - 41s 277ms/step - loss: 0.1057 - accuracy: 0.9643 - auc: 0.9991 - val_loss: 0.2397 - val_accuracy: 0.9226 - val_auc: 0.9939\n",
      "Epoch 64/70\n",
      "148/148 [==============================] - 41s 277ms/step - loss: 0.1114 - accuracy: 0.9607 - auc: 0.9991 - val_loss: 0.2529 - val_accuracy: 0.9196 - val_auc: 0.9935\n",
      "Epoch 65/70\n",
      "148/148 [==============================] - 41s 276ms/step - loss: 0.1041 - accuracy: 0.9646 - auc: 0.9991 - val_loss: 0.2352 - val_accuracy: 0.9259 - val_auc: 0.9941\n",
      "Epoch 66/70\n",
      "148/148 [==============================] - 41s 277ms/step - loss: 0.0979 - accuracy: 0.9668 - auc: 0.9989 - val_loss: 0.2332 - val_accuracy: 0.9278 - val_auc: 0.9941\n",
      "Epoch 67/70\n",
      "148/148 [==============================] - 47s 319ms/step - loss: 0.1017 - accuracy: 0.9652 - auc: 0.9992 - val_loss: 0.2674 - val_accuracy: 0.9131 - val_auc: 0.9927\n",
      "Epoch 68/70\n",
      "148/148 [==============================] - 41s 274ms/step - loss: 0.1077 - accuracy: 0.9634 - auc: 0.9990 - val_loss: 0.2540 - val_accuracy: 0.9198 - val_auc: 0.9930\n",
      "Epoch 69/70\n",
      "148/148 [==============================] - 41s 277ms/step - loss: 0.0919 - accuracy: 0.9698 - auc: 0.9992 - val_loss: 0.2621 - val_accuracy: 0.9165 - val_auc: 0.9926\n",
      "Epoch 70/70\n",
      "148/148 [==============================] - 41s 279ms/step - loss: 0.0976 - accuracy: 0.9680 - auc: 0.9990 - val_loss: 0.2276 - val_accuracy: 0.9289 - val_auc: 0.9943\n",
      "---------MODEL EVALUATE---------\n",
      "22/22 [==============================] - 19s 902ms/step - loss: 0.2413 - accuracy: 0.9215 - auc: 0.9942\n",
      "2700/2700 [==============================] - 5s 2ms/step\n",
      "              precision    recall  f1-score   support\n",
      "\n",
      "           0     0.9259    0.9167    0.9213       300\n",
      "           1     0.9457    0.9867    0.9657       300\n",
      "           2     0.8671    0.9133    0.8896       300\n",
      "           3     0.8991    0.8200    0.8577       250\n",
      "           4     0.9476    0.9400    0.9438       250\n",
      "           5     0.8867    0.9000    0.8933       200\n",
      "           6     0.8957    0.8240    0.8583       250\n",
      "           7     0.9704    0.9833    0.9768       300\n",
      "           8     0.8664    0.9080    0.8867       250\n",
      "           9     0.9866    0.9833    0.9850       300\n",
      "\n",
      "    accuracy                         0.9215      2700\n",
      "   macro avg     0.9191    0.9175    0.9178      2700\n",
      "weighted avg     0.9216    0.9215    0.9210      2700\n",
      "\n",
      "---------SAVE RESULTS---------\n"
     ]
    },
    {
     "data": {
      "image/png": "[encoded data removed]",
      "text/plain": [
       "<Figure size 432x288 with 2 Axes>"
      ]
     },
     "metadata": {
      "needs_background": "light"
     },
     "output_type": "display_data"
    },
    {
     "data": {
      "image/png": "[encoded data removed]",
      "text/plain": [
       "<Figure size 720x504 with 2 Axes>"
      ]
     },
     "metadata": {
      "needs_background": "light"
     },
     "output_type": "display_data"
    }
   ],
   "source": [
    "# Model COMPILE and FIT\n",
    "history, new_params = run_model(model, model_name, params)\n",
    "params = new_params\n",
    "# Model EVALUATE\n",
    "eval_metrics, cf_matrix, confusion_matrix_df = get_eval_metrics(history, model, test_set, params)\n",
    "\n",
    "save_plots(history, output_folder, model_name, confusion_matrix_df)\n",
    "\n",
    "new_row = [model_id,\n",
    "           model_name,\n",
    "           params,\n",
    "           eval_metrics,\n",
    "           len(training_df), # number of images in the training set\n",
    "           len(validation_df), # number of images in the validation set\n",
    "           len(test_df), # number of images in the test set\n",
    "          ]\n",
    "\n",
    "new_row = flatten(new_row)\n",
    "\n",
    "append_results_to_csv(new_row)"
   ]
  },
  {
   "cell_type": "code",
   "execution_count": 17,
   "id": "929ccaa8",
   "metadata": {
    "execution": {
     "iopub.execute_input": "2022-12-10T17:11:09.487978Z",
     "iopub.status.busy": "2022-12-10T17:11:09.487608Z",
     "iopub.status.idle": "2022-12-10T17:11:09.495260Z",
     "shell.execute_reply": "2022-12-10T17:11:09.494290Z"
    },
    "papermill": {
     "duration": 0.565861,
     "end_time": "2022-12-10T17:11:09.497333",
     "exception": false,
     "start_time": "2022-12-10T17:11:08.931472",
     "status": "completed"
    },
    "tags": []
   },
   "outputs": [
    {
     "data": {
      "text/plain": [
       "'\\nprint(\"---------ABLATION CONV 1---------\")\\n\\nmodel_name = \"ablation_CONV-1\"\\nmodel_id = \"001\"\\nmodel = Sequential()\\n\\n# start of model\\n#model.add(Conv2D(input_shape=(64,64,3),filters=64,kernel_size=(3,3),padding=\"same\", activation=\"relu\"))\\n#model.add(Conv2D(filters=64,kernel_size=(3,3),padding=\"same\", activation=\"relu\"))\\n#model.add(MaxPool2D(pool_size=(2,2),strides=(2,2)))\\nmodel.add(Conv2D(filters=128, kernel_size=(3,3), padding=\"same\", activation=\"relu\"))\\nmodel.add(Conv2D(filters=128, kernel_size=(3,3), padding=\"same\", activation=\"relu\"))\\nmodel.add(MaxPool2D(pool_size=(2,2),strides=(2,2)))\\nmodel.add(Conv2D(filters=256, kernel_size=(3,3), padding=\"same\", activation=\"relu\"))\\nmodel.add(Conv2D(filters=256, kernel_size=(3,3), padding=\"same\", activation=\"relu\"))\\nmodel.add(Conv2D(filters=256, kernel_size=(3,3), padding=\"same\", activation=\"relu\"))\\nmodel.add(MaxPool2D(pool_size=(2,2),strides=(2,2)))\\nmodel.add(Conv2D(filters=512, kernel_size=(3,3), padding=\"same\", activation=\"relu\"))\\nmodel.add(Conv2D(filters=512, kernel_size=(3,3), padding=\"same\", activation=\"relu\"))\\nmodel.add(Conv2D(filters=512, kernel_size=(3,3), padding=\"same\", activation=\"relu\"))\\nmodel.add(MaxPool2D(pool_size=(2,2),strides=(2,2)))\\nmodel.add(Conv2D(filters=512, kernel_size=(3,3), padding=\"same\", activation=\"relu\"))\\nmodel.add(Conv2D(filters=512, kernel_size=(3,3), padding=\"same\", activation=\"relu\"))\\nmodel.add(Conv2D(filters=512, kernel_size=(3,3), padding=\"same\", activation=\"relu\"))\\nmodel.add(MaxPool2D(pool_size=(2,2),strides=(2,2)))\\n\\n\\n# add a flatten out layer, a dropout for regularization, a FC layer, and a final\\n# 10-node softmax layer for the prediction.\\nmodel.add(Flatten()) # just flattening operation, same numb. nodes kept\\n# n. nodes chosen by keeping the drop in nodes ratio of the origina model (approx.)\\nmodel.add(Dense(units=680, activation=\"relu\", kernel_initializer=\"he_normal\"))\\nmodel.add(Dropout(0.5)) # MY ADDITION\\nmodel.add(Dense(units=180, activation=\"relu\", kernel_initializer=\"he_normal\"))\\nmodel.add(Dense(class_count, activation=\"softmax\"))\\n'"
      ]
     },
     "execution_count": 17,
     "metadata": {},
     "output_type": "execute_result"
    }
   ],
   "source": [
    "\"\"\"\n",
    "print(\"---------ABLATION CONV 1---------\")\n",
    "\n",
    "model_name = \"ablation_CONV-1\"\n",
    "model_id = \"001\"\n",
    "model = Sequential()\n",
    "\n",
    "# start of model\n",
    "#model.add(Conv2D(input_shape=(64,64,3),filters=64,kernel_size=(3,3),padding=\"same\", activation=\"relu\"))\n",
    "#model.add(Conv2D(filters=64,kernel_size=(3,3),padding=\"same\", activation=\"relu\"))\n",
    "#model.add(MaxPool2D(pool_size=(2,2),strides=(2,2)))\n",
    "model.add(Conv2D(filters=128, kernel_size=(3,3), padding=\"same\", activation=\"relu\"))\n",
    "model.add(Conv2D(filters=128, kernel_size=(3,3), padding=\"same\", activation=\"relu\"))\n",
    "model.add(MaxPool2D(pool_size=(2,2),strides=(2,2)))\n",
    "model.add(Conv2D(filters=256, kernel_size=(3,3), padding=\"same\", activation=\"relu\"))\n",
    "model.add(Conv2D(filters=256, kernel_size=(3,3), padding=\"same\", activation=\"relu\"))\n",
    "model.add(Conv2D(filters=256, kernel_size=(3,3), padding=\"same\", activation=\"relu\"))\n",
    "model.add(MaxPool2D(pool_size=(2,2),strides=(2,2)))\n",
    "model.add(Conv2D(filters=512, kernel_size=(3,3), padding=\"same\", activation=\"relu\"))\n",
    "model.add(Conv2D(filters=512, kernel_size=(3,3), padding=\"same\", activation=\"relu\"))\n",
    "model.add(Conv2D(filters=512, kernel_size=(3,3), padding=\"same\", activation=\"relu\"))\n",
    "model.add(MaxPool2D(pool_size=(2,2),strides=(2,2)))\n",
    "model.add(Conv2D(filters=512, kernel_size=(3,3), padding=\"same\", activation=\"relu\"))\n",
    "model.add(Conv2D(filters=512, kernel_size=(3,3), padding=\"same\", activation=\"relu\"))\n",
    "model.add(Conv2D(filters=512, kernel_size=(3,3), padding=\"same\", activation=\"relu\"))\n",
    "model.add(MaxPool2D(pool_size=(2,2),strides=(2,2)))\n",
    "\n",
    "\n",
    "# add a flatten out layer, a dropout for regularization, a FC layer, and a final\n",
    "# 10-node softmax layer for the prediction.\n",
    "model.add(Flatten()) # just flattening operation, same numb. nodes kept\n",
    "# n. nodes chosen by keeping the drop in nodes ratio of the origina model (approx.)\n",
    "model.add(Dense(units=680, activation=\"relu\", kernel_initializer=\"he_normal\"))\n",
    "model.add(Dropout(0.5)) # MY ADDITION\n",
    "model.add(Dense(units=180, activation=\"relu\", kernel_initializer=\"he_normal\"))\n",
    "model.add(Dense(class_count, activation=\"softmax\"))\n",
    "\"\"\""
   ]
  }
 ],
 "metadata": {
  "kernelspec": {
   "display_name": "Python 3",
   "language": "python",
   "name": "python3"
  },
  "language_info": {
   "codemirror_mode": {
    "name": "ipython",
    "version": 3
   },
   "file_extension": ".py",
   "mimetype": "text/x-python",
   "name": "python",
   "nbconvert_exporter": "python",
   "pygments_lexer": "ipython3",
   "version": "3.7.12"
  },
  "papermill": {
   "default_parameters": {},
   "duration": 3236.933981,
   "end_time": "2022-12-10T17:11:13.836605",
   "environment_variables": {},
   "exception": null,
   "input_path": "__notebook__.ipynb",
   "output_path": "__notebook__.ipynb",
   "parameters": {},
   "start_time": "2022-12-10T16:17:16.902624",
   "version": "2.3.4"
  }
 },
 "nbformat": 4,
 "nbformat_minor": 5
}
