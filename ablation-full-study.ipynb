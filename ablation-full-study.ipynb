{
 "cells": [
  {
   "cell_type": "markdown",
   "id": "7b229e2e",
   "metadata": {
    "papermill": {
     "duration": 0.008664,
     "end_time": "2022-12-11T15:59:34.531089",
     "exception": false,
     "start_time": "2022-12-11T15:59:34.522425",
     "status": "completed"
    },
    "tags": []
   },
   "source": [
    "### Import packages"
   ]
  },
  {
   "cell_type": "code",
   "execution_count": 1,
   "id": "eef0fbfa",
   "metadata": {
    "_kg_hide-input": false,
    "execution": {
     "iopub.execute_input": "2022-12-11T15:59:34.549813Z",
     "iopub.status.busy": "2022-12-11T15:59:34.548563Z",
     "iopub.status.idle": "2022-12-11T15:59:46.823316Z",
     "shell.execute_reply": "2022-12-11T15:59:46.822186Z"
    },
    "papermill": {
     "duration": 12.287373,
     "end_time": "2022-12-11T15:59:46.826446",
     "exception": false,
     "start_time": "2022-12-11T15:59:34.539073",
     "status": "completed"
    },
    "tags": []
   },
   "outputs": [
    {
     "name": "stdout",
     "output_type": "stream",
     "text": [
      "---------IMPORTING PACKAGES---------\n"
     ]
    }
   ],
   "source": [
    "# Import packages\n",
    "print(\"---------IMPORTING PACKAGES---------\")\n",
    "import numpy as np\n",
    "import pandas as pd\n",
    "import matplotlib.pyplot as plt\n",
    "import seaborn as sns\n",
    "import cv2\n",
    "import os\n",
    "import random\n",
    "import tensorflow as tf\n",
    "import seaborn as sns\n",
    "import random\n",
    "import csv\n",
    "import time\n",
    "import keras\n",
    "\n",
    "from sklearn.utils import shuffle\n",
    "from matplotlib import image\n",
    "from sklearn import metrics\n",
    "from sklearn.metrics import confusion_matrix\n",
    "from keras.preprocessing.image import ImageDataGenerator\n",
    "from keras.applications.vgg16 import VGG16\n",
    "from keras.models import Sequential\n",
    "from keras.layers import Dense, Flatten, Dropout, Conv2D, MaxPool2D\n",
    "from keras.callbacks import ModelCheckpoint, ReduceLROnPlateau, EarlyStopping, ReduceLROnPlateau\n",
    "from tensorflow.keras.optimizers import Adam, Nadam, Adamax, SGD\n",
    "\n",
    "# Suppress keras warnings\n",
    "os.environ[\"TF_CPP_MIN_LOG_LEVEL\"] = \"3\"\n",
    "random.seed(432)\n"
   ]
  },
  {
   "cell_type": "markdown",
   "id": "84b9bcec",
   "metadata": {
    "papermill": {
     "duration": 0.007565,
     "end_time": "2022-12-11T15:59:46.842052",
     "exception": false,
     "start_time": "2022-12-11T15:59:46.834487",
     "status": "completed"
    },
    "tags": []
   },
   "source": [
    "### Define the changeable parameters"
   ]
  },
  {
   "cell_type": "code",
   "execution_count": 2,
   "id": "0c142014",
   "metadata": {
    "execution": {
     "iopub.execute_input": "2022-12-11T15:59:46.860208Z",
     "iopub.status.busy": "2022-12-11T15:59:46.858748Z",
     "iopub.status.idle": "2022-12-11T15:59:46.885288Z",
     "shell.execute_reply": "2022-12-11T15:59:46.884170Z"
    },
    "papermill": {
     "duration": 0.038019,
     "end_time": "2022-12-11T15:59:46.887814",
     "exception": false,
     "start_time": "2022-12-11T15:59:46.849795",
     "status": "completed"
    },
    "tags": []
   },
   "outputs": [],
   "source": [
    "#########################################################\n",
    "################### FIXED VARIABLES #####################\n",
    "#########################################################\n",
    "input_folder = \"/kaggle/input/\"\n",
    "#input_folder_undersampled = input_folder+\"eurosat-undersampled\"\n",
    "output_folder = \"/kaggle/working/\"\n",
    "verbose = 1 # 0-> dont print training info, 1-> print them\n",
    "n_epochs = 130\n",
    "\n",
    "# Model parameters\n",
    "pooling_kernel_size = (2,2)\n",
    "stride = (1,1)\n",
    "#########################################################\n",
    "\n",
    "\n",
    "\n",
    "##############################################################\n",
    "################### HYPERPARAMETER OPTIONS ###################\n",
    "##############################################################\n",
    "# Element [0] is default\n",
    "batch_size_opts = [128, 256, 64] # How big of a set of data to use for every training epoch\n",
    "loss_fun_opts = [\"categorical_crossentropy\",\n",
    "                 \"kl_divergence\",\n",
    "                 \"mean_absolute_error\",\n",
    "                 \"mean_squared_logarithmic_error\"]\n",
    "act_fun_opts = [\"relu\", \"elu\"]\n",
    "learn_rate_opts = [0.0001, 0.0007, 0.001]\n",
    "\n",
    "learn_rate = learn_rate_opts[0] # 2g # FIXED FOR NOW\n",
    "\n",
    "optmzer_opts = [Adam(learning_rate=learn_rate),\n",
    "                Nadam(learning_rate=learn_rate),\n",
    "                Adamax(learning_rate=learn_rate),\n",
    "                SGD(learning_rate=learn_rate)]\n",
    "\n",
    "# Model Architecture:\n",
    "n_convolutional_layers_opts = [2, 4, 5, 8]\n",
    "filter_size_opts = [(2,2), (3,3), (5,5)] # kernel size of the convolutional layer\n",
    "\n",
    "filter_number_opts = [[16, 32],\n",
    "                      [16, 16, 32, 32],\n",
    "                      [16, 32, 32, 32, 64],\n",
    "                      [16, 16, 32, 32, 64, 64, 128, 128]] # DEPENDS ON NUMBER OF CONVOLUTIONAL LAYERS \n",
    "##############################################################\n",
    "\n",
    "\n",
    "\n",
    "##############################################################\n",
    "################### HYPERPARAMETER VALUES ####################\n",
    "##############################################################\n",
    "batch_size = batch_size_opts[0] # 2e\n",
    "loss_fun = loss_fun_opts[0] # FIXED FOR NOW\n",
    "act_fun = act_fun_opts[0] # 2d\n",
    "optmzer = optmzer_opts[0] # 2f\n",
    "n_convolutional_layers = \"current variable\" # 2a\n",
    "filter_size = filter_size_opts[0] # 2b\n",
    "filters_number = \"current variable\"\n",
    "\n",
    "\n",
    "params = [n_epochs,\n",
    "          batch_size,\n",
    "          loss_fun, \n",
    "          act_fun,\n",
    "          learn_rate, \n",
    "          optmzer,\n",
    "          n_convolutional_layers,\n",
    "          filter_size,\n",
    "          filters_number\n",
    "         ]"
   ]
  },
  {
   "cell_type": "markdown",
   "id": "c25c077f",
   "metadata": {
    "papermill": {
     "duration": 0.007405,
     "end_time": "2022-12-11T15:59:46.903099",
     "exception": false,
     "start_time": "2022-12-11T15:59:46.895694",
     "status": "completed"
    },
    "tags": []
   },
   "source": [
    "For the number of filters, it makes sense to increase gradually. So that you could leave as a more fixed variable. \n",
    "start with few to get the rough features (line direction) and increase afterwards to pick up on the more abstract details. But don't go too big, else comp complexity spikes up."
   ]
  },
  {
   "cell_type": "markdown",
   "id": "e61b4b59",
   "metadata": {
    "papermill": {
     "duration": 0.007378,
     "end_time": "2022-12-11T15:59:46.919577",
     "exception": false,
     "start_time": "2022-12-11T15:59:46.912199",
     "status": "completed"
    },
    "tags": []
   },
   "source": [
    "### Create a fine to save the results"
   ]
  },
  {
   "cell_type": "code",
   "execution_count": 3,
   "id": "701c31f6",
   "metadata": {
    "execution": {
     "iopub.execute_input": "2022-12-11T15:59:46.937373Z",
     "iopub.status.busy": "2022-12-11T15:59:46.936343Z",
     "iopub.status.idle": "2022-12-11T15:59:46.944882Z",
     "shell.execute_reply": "2022-12-11T15:59:46.943901Z"
    },
    "papermill": {
     "duration": 0.019937,
     "end_time": "2022-12-11T15:59:46.947239",
     "exception": false,
     "start_time": "2022-12-11T15:59:46.927302",
     "status": "completed"
    },
    "tags": []
   },
   "outputs": [],
   "source": [
    "# Open the excel file where I'll save all the test results (metrics)\n",
    "\n",
    "with open(\"./results.csv\", \"w\") as csvfile:\n",
    "    filewriter = csv.writer(csvfile, delimiter=',',\n",
    "                            quotechar='|', quoting=csv.QUOTE_MINIMAL)\n",
    "    # Create a row with the column names:\n",
    "    filewriter.writerow([\"experiment_ID\",\n",
    "                         \"model_name\", \n",
    "                         \"n_epochs\", # params[0]\n",
    "                         \"batch_size\", # params[1]\n",
    "                         \"loss_function\", # params[2]\n",
    "                         \"activation_fun\", # params[3]\n",
    "                         \"learning_rate\", # params[4]\n",
    "                         \"optimizer\", # params[5]\n",
    "                         \"num_conv_layers\", # params[6]\n",
    "                         \"kernel_size\", # params[7]\n",
    "                         \"filter_number\", # params[8]\n",
    "                         \"train_time_per_epoch\",\n",
    "                         \"num_epochs_run\", # epoch where it stopped automatically\n",
    "                         \"test_loss\",\n",
    "                         \"test_accuracy\",\n",
    "                         \"test_auc\",\n",
    "                         \"wa_precision\", # wa = weighted average\n",
    "                         \"wa_recall\",\n",
    "                         \"wa_f1_score\",\n",
    "                         \"wrong_preds\",\n",
    "                         \"total_preds\",\n",
    "                         \"num_train\", # number of images in the training set\n",
    "                         \"num_val\", # number of images in the validation set\n",
    "                         \"num_test\" # number of images in the test set  \n",
    "                        ])"
   ]
  },
  {
   "cell_type": "markdown",
   "id": "80671192",
   "metadata": {
    "papermill": {
     "duration": 0.007658,
     "end_time": "2022-12-11T15:59:46.962519",
     "exception": false,
     "start_time": "2022-12-11T15:59:46.954861",
     "status": "completed"
    },
    "tags": []
   },
   "source": [
    "### Define functions"
   ]
  },
  {
   "cell_type": "code",
   "execution_count": 4,
   "id": "ec29afc1",
   "metadata": {
    "_cell_guid": "b1076dfc-b9ad-4769-8c92-a6c4dae69d19",
    "_kg_hide-input": false,
    "_uuid": "8f2839f25d086af736a60e9eeb907d3b93b6e0e5",
    "execution": {
     "iopub.execute_input": "2022-12-11T15:59:46.979845Z",
     "iopub.status.busy": "2022-12-11T15:59:46.979489Z",
     "iopub.status.idle": "2022-12-11T15:59:46.996952Z",
     "shell.execute_reply": "2022-12-11T15:59:46.995959Z"
    },
    "papermill": {
     "duration": 0.029066,
     "end_time": "2022-12-11T15:59:46.999281",
     "exception": false,
     "start_time": "2022-12-11T15:59:46.970215",
     "status": "completed"
    },
    "tags": []
   },
   "outputs": [],
   "source": [
    "# https://stackoverflow.com/questions/39280813/visualization-of-convolutional-layer-in-keras-model\n",
    "# Merdan Memtimin https://stackoverflow.com/users/6565409/merdan-memtimin\n",
    "def plot_conv_weights(model, layer_name):\n",
    "    W = model.get_layer(name=layer_name).get_weights()[0]\n",
    "    if len(W.shape) == 4:\n",
    "        W = np.squeeze(W)\n",
    "        W = W.reshape((W.shape[0], W.shape[1], W.shape[2]*W.shape[3])) \n",
    "        fig, axs = plt.subplots(5,5, figsize=(8,8))\n",
    "        fig.subplots_adjust(hspace = .5, wspace=.001)\n",
    "        axs = axs.ravel()\n",
    "        for i in range(25):\n",
    "            axs[i].imshow(W[:,:,i])\n",
    "            axs[i].set_title(str(i))\n",
    "            \n",
    "            \n",
    "def load_metadata(data_folder, train_file, validation_file, test_file, column_names):\n",
    "    \"\"\"Reads the .csv files containing metadata (e.g. file location, class label) about the data images.\n",
    "    \n",
    "    Parameters:\n",
    "    data_folder (str): file path to the folder containing the csv file.\n",
    "    train_file (str): file name of the file containing metadata for the training set.\n",
    "    validation_file (str): file name of the file containing metadata for the validation set.\n",
    "    test_file (str): file name of the file containing metadata for the test set.\n",
    "    column_names (list): array containing the column names for the csv files\n",
    "    \n",
    "    Returns:\n",
    "    the read trainig, validation, and test files.\n",
    "    \"\"\"\n",
    "    training_df = pd.read_csv(data_folder + train_file, names = column_names, skiprows=1)\n",
    "    validation_df = pd.read_csv(data_folder + validation_file, names = column_names, skiprows=1)\n",
    "    test_df = pd.read_csv(data_folder + test_file, names = column_names, skiprows=1)\n",
    "    \n",
    "    return training_df, validation_df, test_df\n",
    "\n",
    "\n",
    "def flatten(d):\n",
    "    v = [[i] if not isinstance(i, list) else flatten(i) for i in d]\n",
    "    return [i for b in v for i in b]\n",
    "\n",
    "\n",
    "def precision(confusion_matrix):\n",
    "    \"\"\"Given a confusion matrix, calculates and returns precision for all classes\"\"\"\n",
    "    precision_list = []\n",
    "    for i in range(confusion_matrix.shape[1]):\n",
    "        current_col = confusion_matrix[:,[i]]\n",
    "        current_el = confusion_matrix[i,[i]]\n",
    "        current_precision = (float(current_el/sum(current_col)[0]))\n",
    "        current_precision = round(current_precision, 4)\n",
    "        precision_list.append(current_precision)\n",
    "    return precision_list\n",
    "\n",
    "def recall(confusion_matrix):\n",
    "    \"\"\"Given a confusion matrix, calculates and returns recall for all classes\"\"\"\n",
    "    recall_list = []\n",
    "    for i in range(confusion_matrix.shape[0]):\n",
    "        current_row = confusion_matrix[i,:]\n",
    "        current_el = confusion_matrix[i,i]\n",
    "        current_recall = round(current_el/sum(current_row), 4)\n",
    "        recall_list.append(current_recall)\n",
    "    return(recall_list)\n",
    "\n",
    "def f1_score(precision, recall):\n",
    "    \"\"\"Given a list of precision and recall values for a certain matrix,\n",
    "    returns f-1 values for each class\"\"\"\n",
    "    f1_scores = []\n",
    "    if len(precision) == len(recall):\n",
    "        for i in range(len(precision)):\n",
    "            current_f1 = 2*(precision[i]*recall[i])/(precision[i]+recall[i])\n",
    "            f1_scores.append(round(current_f1, 4))\n",
    "    else:\n",
    "        print(\"Error. Precision and Recall lists should be of equal lengths.\")\n",
    "    return f1_scores\n"
   ]
  },
  {
   "cell_type": "markdown",
   "id": "80979312",
   "metadata": {
    "papermill": {
     "duration": 0.007512,
     "end_time": "2022-12-11T15:59:47.014531",
     "exception": false,
     "start_time": "2022-12-11T15:59:47.007019",
     "status": "completed"
    },
    "tags": []
   },
   "source": [
    "### Load data"
   ]
  },
  {
   "cell_type": "code",
   "execution_count": 5,
   "id": "268ee7f6",
   "metadata": {
    "execution": {
     "iopub.execute_input": "2022-12-11T15:59:47.032037Z",
     "iopub.status.busy": "2022-12-11T15:59:47.031068Z",
     "iopub.status.idle": "2022-12-11T15:59:47.131852Z",
     "shell.execute_reply": "2022-12-11T15:59:47.130167Z"
    },
    "papermill": {
     "duration": 0.112657,
     "end_time": "2022-12-11T15:59:47.134932",
     "exception": false,
     "start_time": "2022-12-11T15:59:47.022275",
     "status": "completed"
    },
    "tags": []
   },
   "outputs": [
    {
     "name": "stdout",
     "output_type": "stream",
     "text": [
      "---------LOADING DATA---------\n"
     ]
    }
   ],
   "source": [
    "print(\"---------LOADING DATA---------\")\n",
    "dataset_folder = input_folder + \"eurosat-dataset/\" + \"EuroSAT/\"\n",
    "column_names =  [\"id\", \"path\", \"class_id\", \"class_name\"]\n",
    "\n",
    "training_df, validation_df, test_df = load_metadata(dataset_folder,\n",
    "                                                    \"train.csv\",\n",
    "                                                    \"validation.csv\",\n",
    "                                                    \"test.csv\",\n",
    "                                                    column_names)"
   ]
  },
  {
   "cell_type": "markdown",
   "id": "ac70db5d",
   "metadata": {
    "papermill": {
     "duration": 0.009475,
     "end_time": "2022-12-11T15:59:47.152813",
     "exception": false,
     "start_time": "2022-12-11T15:59:47.143338",
     "status": "completed"
    },
    "tags": []
   },
   "source": [
    "### Preprocessing"
   ]
  },
  {
   "cell_type": "code",
   "execution_count": 6,
   "id": "3fea8104",
   "metadata": {
    "execution": {
     "iopub.execute_input": "2022-12-11T15:59:47.180717Z",
     "iopub.status.busy": "2022-12-11T15:59:47.180319Z",
     "iopub.status.idle": "2022-12-11T15:59:47.187383Z",
     "shell.execute_reply": "2022-12-11T15:59:47.185988Z"
    },
    "papermill": {
     "duration": 0.028668,
     "end_time": "2022-12-11T15:59:47.189850",
     "exception": false,
     "start_time": "2022-12-11T15:59:47.161182",
     "status": "completed"
    },
    "tags": []
   },
   "outputs": [],
   "source": [
    "# The data is already normalized so that pixels values range from 0,255. We can rescale pixel value between\n",
    "# [0,1] by divinding by 255.\n",
    "\n",
    "rescaling_factor = 1. / 255\n",
    "# Generate batches of tensor image data by setting up the generators.\n",
    "# If you want to perform augmentation, add parameters to the training_generatorF\n",
    "training_generator = ImageDataGenerator(rescale=rescaling_factor)\n",
    "test_generator = ImageDataGenerator(rescale=rescaling_factor)\n",
    "\n",
    "# Size of input data is 64x64 pixels\n",
    "image_width, image_height = (64, 64)"
   ]
  },
  {
   "cell_type": "markdown",
   "id": "464a049b",
   "metadata": {
    "papermill": {
     "duration": 0.0076,
     "end_time": "2022-12-11T15:59:47.207229",
     "exception": false,
     "start_time": "2022-12-11T15:59:47.199629",
     "status": "completed"
    },
    "tags": []
   },
   "source": [
    "### Build train, val, test sets"
   ]
  },
  {
   "cell_type": "code",
   "execution_count": 7,
   "id": "0f24ce49",
   "metadata": {
    "execution": {
     "iopub.execute_input": "2022-12-11T15:59:47.226267Z",
     "iopub.status.busy": "2022-12-11T15:59:47.224182Z",
     "iopub.status.idle": "2022-12-11T16:00:55.442215Z",
     "shell.execute_reply": "2022-12-11T16:00:55.440688Z"
    },
    "papermill": {
     "duration": 68.229439,
     "end_time": "2022-12-11T16:00:55.444518",
     "exception": false,
     "start_time": "2022-12-11T15:59:47.215079",
     "status": "completed"
    },
    "tags": []
   },
   "outputs": [
    {
     "name": "stdout",
     "output_type": "stream",
     "text": [
      "Building training set.\n",
      "Found 18900 validated image filenames belonging to 10 classes.\n",
      "\n",
      "Building validation set.\n",
      "Found 5400 validated image filenames belonging to 10 classes.\n",
      "\n",
      "Building test set\n",
      "Found 2700 validated image filenames belonging to 10 classes.\n"
     ]
    }
   ],
   "source": [
    "print(\"Building training set.\")\n",
    "training_set = training_generator.flow_from_dataframe(\n",
    "    dataframe=training_df,\n",
    "    x_col=\"path\",\n",
    "    y_col=\"class_name\",\n",
    "    directory=dataset_folder,\n",
    "    target_size=(image_height, image_width),\n",
    "    batch_size=batch_size,\n",
    "    class_mode=\"categorical\",\n",
    "    shuffle=False, # for replicability. Anyways they are already shuffled.\n",
    ")\n",
    "\n",
    "print(\"\\nBuilding validation set.\")\n",
    "validation_set = test_generator.flow_from_dataframe(\n",
    "    dataframe=validation_df,\n",
    "    x_col=\"path\",\n",
    "    y_col=\"class_name\",\n",
    "    directory=dataset_folder,\n",
    "    target_size=(image_height, image_width),\n",
    "    batch_size=batch_size,\n",
    "    class_mode=\"categorical\",\n",
    "    shuffle=False,\n",
    ")\n",
    "\n",
    "print(\"\\nBuilding test set\")\n",
    "test_set = test_generator.flow_from_dataframe(\n",
    "    dataframe=test_df,\n",
    "    x_col=\"path\",\n",
    "    y_col=\"class_name\",\n",
    "    directory=dataset_folder,\n",
    "    target_size=(image_height, image_width),\n",
    "    batch_size=batch_size,\n",
    "    class_mode=\"categorical\",\n",
    "    shuffle=False\n",
    ")\n",
    "\n",
    "\n",
    "\n",
    "\n",
    "class_name_list = np.array(list(training_set.class_indices.keys()))\n",
    "labels, count = np.unique(training_set.classes, return_counts=True)\n",
    "\n",
    "class_count = len(class_name_list)\n",
    "\n"
   ]
  },
  {
   "cell_type": "markdown",
   "id": "f51ba43e",
   "metadata": {
    "papermill": {
     "duration": 0.007499,
     "end_time": "2022-12-11T16:00:55.459966",
     "exception": false,
     "start_time": "2022-12-11T16:00:55.452467",
     "status": "completed"
    },
    "tags": []
   },
   "source": [
    "# Ablation Study"
   ]
  },
  {
   "cell_type": "code",
   "execution_count": 8,
   "id": "5af1883d",
   "metadata": {
    "execution": {
     "iopub.execute_input": "2022-12-11T16:00:55.477509Z",
     "iopub.status.busy": "2022-12-11T16:00:55.476514Z",
     "iopub.status.idle": "2022-12-11T16:00:55.482952Z",
     "shell.execute_reply": "2022-12-11T16:00:55.481544Z"
    },
    "papermill": {
     "duration": 0.017481,
     "end_time": "2022-12-11T16:00:55.485276",
     "exception": false,
     "start_time": "2022-12-11T16:00:55.467795",
     "status": "completed"
    },
    "tags": []
   },
   "outputs": [
    {
     "name": "stdout",
     "output_type": "stream",
     "text": [
      "---------START OF ABLATION EXPERIMENTS---------\n"
     ]
    }
   ],
   "source": [
    "print(\"---------START OF ABLATION EXPERIMENTS---------\")"
   ]
  },
  {
   "cell_type": "markdown",
   "id": "8ecd5d9d",
   "metadata": {
    "papermill": {
     "duration": 0.007109,
     "end_time": "2022-12-11T16:00:55.500121",
     "exception": false,
     "start_time": "2022-12-11T16:00:55.493012",
     "status": "completed"
    },
    "tags": []
   },
   "source": [
    "## Define Functions\n",
    "### Compile and Fit"
   ]
  },
  {
   "cell_type": "markdown",
   "id": "e00d221e",
   "metadata": {
    "papermill": {
     "duration": 0.007373,
     "end_time": "2022-12-11T16:00:55.514988",
     "exception": false,
     "start_time": "2022-12-11T16:00:55.507615",
     "status": "completed"
    },
    "tags": []
   },
   "source": [
    "Define Time History class to record time taken per epoch."
   ]
  },
  {
   "cell_type": "code",
   "execution_count": 9,
   "id": "41f1d907",
   "metadata": {
    "execution": {
     "iopub.execute_input": "2022-12-11T16:00:55.531527Z",
     "iopub.status.busy": "2022-12-11T16:00:55.531200Z",
     "iopub.status.idle": "2022-12-11T16:00:55.536911Z",
     "shell.execute_reply": "2022-12-11T16:00:55.535909Z"
    },
    "papermill": {
     "duration": 0.016512,
     "end_time": "2022-12-11T16:00:55.538992",
     "exception": false,
     "start_time": "2022-12-11T16:00:55.522480",
     "status": "completed"
    },
    "tags": []
   },
   "outputs": [],
   "source": [
    "class TimeHistory(keras.callbacks.Callback):\n",
    "    def on_train_begin(self, logs={}):\n",
    "        self.times = []\n",
    "\n",
    "    def on_epoch_begin(self, batch, logs={}):\n",
    "        self.epoch_time_start = time.time()\n",
    "\n",
    "    def on_epoch_end(self, batch, logs={}):\n",
    "        self.times.append(time.time() - self.epoch_time_start)"
   ]
  },
  {
   "cell_type": "code",
   "execution_count": 10,
   "id": "f526cbc1",
   "metadata": {
    "execution": {
     "iopub.execute_input": "2022-12-11T16:00:55.556394Z",
     "iopub.status.busy": "2022-12-11T16:00:55.555368Z",
     "iopub.status.idle": "2022-12-11T16:00:55.564758Z",
     "shell.execute_reply": "2022-12-11T16:00:55.563914Z"
    },
    "papermill": {
     "duration": 0.020178,
     "end_time": "2022-12-11T16:00:55.567051",
     "exception": false,
     "start_time": "2022-12-11T16:00:55.546873",
     "status": "completed"
    },
    "tags": []
   },
   "outputs": [],
   "source": [
    "def run_model(model, model_name, params):\n",
    "    \"\"\"\n",
    "    Given a model architecture, the function compiles and fits the model.\n",
    "    \n",
    "    model: model architecture\n",
    "    model_name: \"str\", name used as model description in the output file\n",
    "    params: an array containing the values for the training parameters, namely:\n",
    "    [n_epochs, batch_size, loss_fun, act_fun, learn_rate, optmzer]\n",
    "    \"\"\"\n",
    "    # Path to save the model\n",
    "    model_path = \"/kaggle/working/eurosat_rgb_\" + model_name + \".h5\"\n",
    "    # Save the weigths of the best model\n",
    "    checkpoint = ModelCheckpoint(filepath=model_path, monitor=\"val_loss\", save_best_only=True)\n",
    "    # Reduce learning rate when val_loss stops improving for 5 epochs.\n",
    "    # reduce_lr = ReduceLROnPlateau(monitor=\"val_loss\", factor=0.1, patience=5)\n",
    "    # Stop training if a val_loss has stopped improving for 8 epochs.\n",
    "    early_stopping = EarlyStopping(monitor=\"val_loss\", patience=8, restore_best_weights=True, verbose=verbose)\n",
    "    \n",
    "    time_callback = TimeHistory()\n",
    "    callback_list = [checkpoint, early_stopping, time_callback] #, reduce_lr]\n",
    "    \n",
    "    metrics=['accuracy',\n",
    "             tf.keras.metrics.AUC(from_logits=True)]\n",
    "    \n",
    "    print(\"---------MODEL COMPILE---------\")\n",
    "    model.compile(loss=params[2],\n",
    "                  optimizer=params[5],\n",
    "                  metrics=metrics)\n",
    "\n",
    "    print(\"---------MODEL FIT---------\")\n",
    "    \n",
    "    history = model.fit(\n",
    "        training_set,\n",
    "        validation_data=validation_set,\n",
    "        callbacks=callback_list,\n",
    "        epochs=params[0],\n",
    "        verbose=verbose,\n",
    "    )\n",
    "    \n",
    "    times = time_callback.times\n",
    "    avg_time_epoch = sum(times)/len(times)\n",
    "    new_params = params\n",
    "    new_params.append(avg_time_epoch)\n",
    "\n",
    "    return history, new_params"
   ]
  },
  {
   "cell_type": "markdown",
   "id": "a1d5885b",
   "metadata": {
    "papermill": {
     "duration": 0.007356,
     "end_time": "2022-12-11T16:00:55.581833",
     "exception": false,
     "start_time": "2022-12-11T16:00:55.574477",
     "status": "completed"
    },
    "tags": []
   },
   "source": [
    "### Get Evaluation Metrics"
   ]
  },
  {
   "cell_type": "code",
   "execution_count": 11,
   "id": "b5b9bed1",
   "metadata": {
    "execution": {
     "iopub.execute_input": "2022-12-11T16:00:55.598727Z",
     "iopub.status.busy": "2022-12-11T16:00:55.597750Z",
     "iopub.status.idle": "2022-12-11T16:00:55.609907Z",
     "shell.execute_reply": "2022-12-11T16:00:55.608948Z"
    },
    "papermill": {
     "duration": 0.022929,
     "end_time": "2022-12-11T16:00:55.612198",
     "exception": false,
     "start_time": "2022-12-11T16:00:55.589269",
     "status": "completed"
    },
    "tags": []
   },
   "outputs": [],
   "source": [
    "def get_eval_metrics(history, model, test_set, params):\n",
    "    \"\"\"\n",
    "    Given a trained model and a test set, the function returns model eval metrics.\n",
    "    \n",
    "    \n",
    "    \"\"\"\n",
    "    print(\"---------MODEL EVALUATE---------\")\n",
    "    \n",
    "    n_ran_epochs = len(history.history['loss'])\n",
    "    \n",
    "    loss, accuracy, auc = model.evaluate(test_set, verbose=verbose)\n",
    "    \n",
    "    test_set.reset()\n",
    "    predicted_probabilities = model.predict(test_set, steps=test_set.n, verbose=verbose)\n",
    "    predicted_class_ids = np.argmax(predicted_probabilities, axis=1)\n",
    "    report = metrics.classification_report(test_set.labels, predicted_class_ids, output_dict=True)\n",
    "    wa_prec = report[\"weighted avg\"][\"precision\"]\n",
    "    wa_rec = report[\"weighted avg\"][\"recall\"]\n",
    "    wa_f1 = report[\"weighted avg\"][\"f1-score\"]\n",
    "    cf_matrix = confusion_matrix(test_set.labels, predicted_class_ids)\n",
    "    confusion_matrix_df = pd.DataFrame(\n",
    "        data=cf_matrix, \n",
    "        index=class_name_list, \n",
    "        columns=class_name_list\n",
    "    )\n",
    "    results_df = pd.DataFrame(\n",
    "        {\n",
    "            \"label\": test_set.labels, \n",
    "            \"prediction\": predicted_class_ids, \n",
    "            \"path\": test_set.filepaths\n",
    "        }\n",
    "        )\n",
    "\n",
    "    mistakes = results_df[\"label\"] != results_df[\"prediction\"]\n",
    "    mistakes_df = results_df[mistakes]\n",
    "    wrong_preds = len(mistakes_df)\n",
    "    tot_preds = len(results_df)\n",
    "\n",
    "    print(metrics.classification_report(test_set.labels, predicted_class_ids, digits=4))\n",
    "    \n",
    "    \n",
    "    eval_metrics = [n_ran_epochs,\n",
    "                   loss,\n",
    "                   accuracy,\n",
    "                   auc,\n",
    "                   wa_prec,\n",
    "                   wa_rec,\n",
    "                   wa_f1,\n",
    "                   wrong_preds,\n",
    "                   tot_preds\n",
    "        ]\n",
    "    \n",
    "    return eval_metrics, cf_matrix, confusion_matrix_df, results_df"
   ]
  },
  {
   "cell_type": "markdown",
   "id": "e7fa82c4",
   "metadata": {
    "papermill": {
     "duration": 0.007363,
     "end_time": "2022-12-11T16:00:55.627067",
     "exception": false,
     "start_time": "2022-12-11T16:00:55.619704",
     "status": "completed"
    },
    "tags": []
   },
   "source": [
    "### Save plots"
   ]
  },
  {
   "cell_type": "code",
   "execution_count": 12,
   "id": "0b02eb8c",
   "metadata": {
    "execution": {
     "iopub.execute_input": "2022-12-11T16:00:55.644188Z",
     "iopub.status.busy": "2022-12-11T16:00:55.643191Z",
     "iopub.status.idle": "2022-12-11T16:00:55.652982Z",
     "shell.execute_reply": "2022-12-11T16:00:55.652057Z"
    },
    "papermill": {
     "duration": 0.020951,
     "end_time": "2022-12-11T16:00:55.655236",
     "exception": false,
     "start_time": "2022-12-11T16:00:55.634285",
     "status": "completed"
    },
    "tags": []
   },
   "outputs": [],
   "source": [
    "def save_plots(history, output_folder, model_name, confusion_matrix_df):\n",
    "    plt.subplot(1, 2, 1)\n",
    "    # Loss\n",
    "    plt.plot(history.history[\"loss\"])\n",
    "    plt.plot(history.history[\"val_loss\"])\n",
    "    plt.title(\"Loss - \" + model_name)\n",
    "    plt.ylabel(\"loss\")\n",
    "    plt.xlabel(\"epoch\")\n",
    "    plt.legend([\"train\", \"validation\"], loc=\"upper left\")\n",
    "\n",
    "    # Accuracy\n",
    "    plt.subplot(1, 2, 2)\n",
    "    plt.plot(history.history[\"accuracy\"])\n",
    "    plt.plot(history.history[\"val_accuracy\"])\n",
    "    plt.title(\"Accuracy - \" + model_name)\n",
    "    plt.ylabel(\"accuracy\")\n",
    "    plt.xlabel(\"epoch\")\n",
    "    plt.legend([\"train\", \"validation\"], loc=\"upper left\")\n",
    "\n",
    "    #plt.show()\n",
    "    plt.savefig(output_folder + model_name + \"_training_curves.png\")\n",
    "    \n",
    "    # CONFUSION MATRIX IMAGE\n",
    "    plt.figure(figsize=(10, 7))\n",
    "    sns.set(font_scale=1)\n",
    "    sns.heatmap(confusion_matrix_df, annot=True, cmap=\"Blues\", annot_kws={\"size\": 9}, fmt=\"g\")\n",
    "    plt.ylabel(\"Label\")\n",
    "    plt.xlabel(\"Prediction\")\n",
    "    plt.title(\"Confusion matrix - \" + model_name)\n",
    "    #plt.show()\n",
    "    plt.savefig(output_folder + model_name + \"_confusion.png\")"
   ]
  },
  {
   "cell_type": "markdown",
   "id": "86e1df57",
   "metadata": {
    "papermill": {
     "duration": 0.007599,
     "end_time": "2022-12-11T16:00:55.670520",
     "exception": false,
     "start_time": "2022-12-11T16:00:55.662921",
     "status": "completed"
    },
    "tags": []
   },
   "source": [
    "### Save numerical results"
   ]
  },
  {
   "cell_type": "code",
   "execution_count": 13,
   "id": "fceddf13",
   "metadata": {
    "execution": {
     "iopub.execute_input": "2022-12-11T16:00:55.687728Z",
     "iopub.status.busy": "2022-12-11T16:00:55.686795Z",
     "iopub.status.idle": "2022-12-11T16:00:55.693085Z",
     "shell.execute_reply": "2022-12-11T16:00:55.692164Z"
    },
    "papermill": {
     "duration": 0.017049,
     "end_time": "2022-12-11T16:00:55.695210",
     "exception": false,
     "start_time": "2022-12-11T16:00:55.678161",
     "status": "completed"
    },
    "tags": []
   },
   "outputs": [],
   "source": [
    "def append_results_to_csv(csv_row):\n",
    "    print(\"---------SAVE RESULTS---------\")\n",
    "    \"\"\"Append the results to the csv file\n",
    "    csv_row: list, contains the information to append to the csv\"\"\"\n",
    "    \n",
    "    with open(\"./results.csv\", 'a+', newline='') as csvfile:\n",
    "        filewriter = csv.writer(csvfile, delimiter=',',\n",
    "                                quotechar='|', quoting=csv.QUOTE_MINIMAL)\n",
    "        # Create a row with the column names:\n",
    "        filewriter.writerow(csv_row)\n"
   ]
  },
  {
   "cell_type": "markdown",
   "id": "114d6337",
   "metadata": {
    "papermill": {
     "duration": 0.007716,
     "end_time": "2022-12-11T16:00:55.710696",
     "exception": false,
     "start_time": "2022-12-11T16:00:55.702980",
     "status": "completed"
    },
    "tags": []
   },
   "source": [
    "# EXPERIMENT 2A.i.1"
   ]
  },
  {
   "cell_type": "markdown",
   "id": "65c4f464",
   "metadata": {
    "papermill": {
     "duration": 0.007163,
     "end_time": "2022-12-11T16:00:55.725235",
     "exception": false,
     "start_time": "2022-12-11T16:00:55.718072",
     "status": "completed"
    },
    "tags": []
   },
   "source": [
    "Aborted. Too simplistic, plateaus too early."
   ]
  },
  {
   "cell_type": "code",
   "execution_count": 14,
   "id": "61396f45",
   "metadata": {
    "execution": {
     "iopub.execute_input": "2022-12-11T16:00:55.742509Z",
     "iopub.status.busy": "2022-12-11T16:00:55.741450Z",
     "iopub.status.idle": "2022-12-11T16:00:55.751668Z",
     "shell.execute_reply": "2022-12-11T16:00:55.750669Z"
    },
    "papermill": {
     "duration": 0.020958,
     "end_time": "2022-12-11T16:00:55.753814",
     "exception": false,
     "start_time": "2022-12-11T16:00:55.732856",
     "status": "completed"
    },
    "tags": []
   },
   "outputs": [
    {
     "data": {
      "text/plain": [
       "'params = [n_epochs,\\n          batch_size,\\n          loss_fun, \\n          act_fun,\\n          learn_rate, \\n          optmzer,\\n          n_convolutional_layers,\\n          filter_size,\\n          filters_number\\n         ]\\n\\nn_layers = 2\\n\\nparams[6] = n_layers\\nparams[8] = filter_number_opts[0]\\n\\nmodel_id = \"2A.i.1\"\\nmodel_name = f\"BNET-{model_id}\"\\n\\nprint(f\"-------- EXPERIMENT {model_id} ----------\")\\n\\n\\nmodel = Sequential()\\nmodel.add(Conv2D(input_shape=(64,64,3),filters=32,kernel_size=(3,3),padding=\"same\", activation=act_fun))\\nmodel.add(MaxPool2D(pool_size=(2,2),strides=(2,2)))\\nmodel.add(Conv2D(filters=64, kernel_size=(3,3), padding=\"same\", activation=act_fun))\\nmodel.add(MaxPool2D(pool_size=(2,2),strides=(2,2)))\\nmodel.add(Flatten())\\nmodel.add(Dense(units=1000, activation=act_fun, kernel_initializer=\"he_normal\"))\\nmodel.add(Dropout(0.5))\\nmodel.add(Dense(class_count, activation=\"softmax\"))\\n\\nmodel.summary()\\n\\n\\n# Model COMPILE and FIT\\nhistory, new_params = run_model(model, model_name, params)\\nparams = new_params\\n\\n# Model EVALUATE\\neval_metrics, cf_matrix, confusion_matrix_df, results_df = get_eval_metrics(history, model, test_set, params)\\n\\nsave_plots(history, output_folder, model_name, confusion_matrix_df)\\n\\nparams_to_save = params\\nparams_to_save[7] = str(params_to_save[7]).replace(\\',\\', \";\")\\nparams_to_save[8] = str(params_to_save[8]).replace(\\',\\', \";\")\\nparams_to_save\\n\\nnew_row = [model_id,\\n           model_name,\\n           params_to_save,\\n           eval_metrics,\\n           len(training_df), # number of images in the training set\\n           len(validation_df), # number of images in the validation set\\n           len(test_df), # number of images in the test set\\n          ]\\n\\nnew_row = flatten(new_row)\\n\\nappend_results_to_csv(new_row)\\n'"
      ]
     },
     "execution_count": 14,
     "metadata": {},
     "output_type": "execute_result"
    }
   ],
   "source": [
    "\"\"\"params = [n_epochs,\n",
    "          batch_size,\n",
    "          loss_fun, \n",
    "          act_fun,\n",
    "          learn_rate, \n",
    "          optmzer,\n",
    "          n_convolutional_layers,\n",
    "          filter_size,\n",
    "          filters_number\n",
    "         ]\n",
    "\n",
    "n_layers = 2\n",
    "\n",
    "params[6] = n_layers\n",
    "params[8] = filter_number_opts[0]\n",
    "\n",
    "model_id = \"2A.i.1\"\n",
    "model_name = f\"BNET-{model_id}\"\n",
    "\n",
    "print(f\"-------- EXPERIMENT {model_id} ----------\")\n",
    "\n",
    "\n",
    "model = Sequential()\n",
    "model.add(Conv2D(input_shape=(64,64,3),filters=32,kernel_size=(3,3),padding=\"same\", activation=act_fun))\n",
    "model.add(MaxPool2D(pool_size=(2,2),strides=(2,2)))\n",
    "model.add(Conv2D(filters=64, kernel_size=(3,3), padding=\"same\", activation=act_fun))\n",
    "model.add(MaxPool2D(pool_size=(2,2),strides=(2,2)))\n",
    "model.add(Flatten())\n",
    "model.add(Dense(units=1000, activation=act_fun, kernel_initializer=\"he_normal\"))\n",
    "model.add(Dropout(0.5))\n",
    "model.add(Dense(class_count, activation=\"softmax\"))\n",
    "\n",
    "model.summary()\n",
    "\n",
    "\n",
    "# Model COMPILE and FIT\n",
    "history, new_params = run_model(model, model_name, params)\n",
    "params = new_params\n",
    "\n",
    "# Model EVALUATE\n",
    "eval_metrics, cf_matrix, confusion_matrix_df, results_df = get_eval_metrics(history, model, test_set, params)\n",
    "\n",
    "save_plots(history, output_folder, model_name, confusion_matrix_df)\n",
    "\n",
    "params_to_save = params\n",
    "params_to_save[7] = str(params_to_save[7]).replace(',', \";\")\n",
    "params_to_save[8] = str(params_to_save[8]).replace(',', \";\")\n",
    "params_to_save\n",
    "\n",
    "new_row = [model_id,\n",
    "           model_name,\n",
    "           params_to_save,\n",
    "           eval_metrics,\n",
    "           len(training_df), # number of images in the training set\n",
    "           len(validation_df), # number of images in the validation set\n",
    "           len(test_df), # number of images in the test set\n",
    "          ]\n",
    "\n",
    "new_row = flatten(new_row)\n",
    "\n",
    "append_results_to_csv(new_row)\n",
    "\"\"\""
   ]
  },
  {
   "cell_type": "markdown",
   "id": "18b0cbe2",
   "metadata": {
    "papermill": {
     "duration": 0.00756,
     "end_time": "2022-12-11T16:00:55.769203",
     "exception": false,
     "start_time": "2022-12-11T16:00:55.761643",
     "status": "completed"
    },
    "tags": []
   },
   "source": [
    "# EXPERIMENT 2A.i.2"
   ]
  },
  {
   "cell_type": "code",
   "execution_count": 15,
   "id": "3733baa4",
   "metadata": {
    "execution": {
     "iopub.execute_input": "2022-12-11T16:00:55.785833Z",
     "iopub.status.busy": "2022-12-11T16:00:55.785502Z",
     "iopub.status.idle": "2022-12-11T17:34:01.956069Z",
     "shell.execute_reply": "2022-12-11T17:34:01.954908Z"
    },
    "papermill": {
     "duration": 5586.182646,
     "end_time": "2022-12-11T17:34:01.959299",
     "exception": false,
     "start_time": "2022-12-11T16:00:55.776653",
     "status": "completed"
    },
    "tags": []
   },
   "outputs": [
    {
     "name": "stdout",
     "output_type": "stream",
     "text": [
      "-------- EXPERIMENT 2A.i.2 ----------\n",
      "Model: \"sequential\"\n",
      "_________________________________________________________________\n",
      "Layer (type)                 Output Shape              Param #   \n",
      "=================================================================\n",
      "conv2d (Conv2D)              (None, 64, 64, 32)        896       \n",
      "_________________________________________________________________\n",
      "max_pooling2d (MaxPooling2D) (None, 32, 32, 32)        0         \n",
      "_________________________________________________________________\n",
      "conv2d_1 (Conv2D)            (None, 32, 32, 32)        9248      \n",
      "_________________________________________________________________\n",
      "max_pooling2d_1 (MaxPooling2 (None, 16, 16, 32)        0         \n",
      "_________________________________________________________________\n",
      "conv2d_2 (Conv2D)            (None, 16, 16, 64)        18496     \n",
      "_________________________________________________________________\n",
      "max_pooling2d_2 (MaxPooling2 (None, 8, 8, 64)          0         \n",
      "_________________________________________________________________\n",
      "conv2d_3 (Conv2D)            (None, 8, 8, 64)          36928     \n",
      "_________________________________________________________________\n",
      "max_pooling2d_3 (MaxPooling2 (None, 4, 4, 64)          0         \n",
      "_________________________________________________________________\n",
      "flatten (Flatten)            (None, 1024)              0         \n",
      "_________________________________________________________________\n",
      "dense (Dense)                (None, 250)               256250    \n",
      "_________________________________________________________________\n",
      "dropout (Dropout)            (None, 250)               0         \n",
      "_________________________________________________________________\n",
      "dense_1 (Dense)              (None, 10)                2510      \n",
      "=================================================================\n",
      "Total params: 324,328\n",
      "Trainable params: 324,328\n",
      "Non-trainable params: 0\n",
      "_________________________________________________________________\n",
      "---------MODEL COMPILE---------\n",
      "---------MODEL FIT---------\n",
      "Epoch 1/130\n",
      "148/148 [==============================] - 176s 1s/step - loss: 2.0747 - accuracy: 0.2143 - auc: 0.6959 - val_loss: 1.7090 - val_accuracy: 0.3493 - val_auc: 0.8337\n",
      "Epoch 2/130\n",
      "148/148 [==============================] - 42s 287ms/step - loss: 1.6321 - accuracy: 0.3732 - auc: 0.8443 - val_loss: 1.4437 - val_accuracy: 0.4352 - val_auc: 0.8854\n",
      "Epoch 3/130\n",
      "148/148 [==============================] - 42s 284ms/step - loss: 1.4243 - accuracy: 0.4501 - auc: 0.8857 - val_loss: 1.2444 - val_accuracy: 0.5881 - val_auc: 0.9173\n",
      "Epoch 4/130\n",
      "148/148 [==============================] - 41s 280ms/step - loss: 1.3008 - accuracy: 0.5094 - auc: 0.9050 - val_loss: 1.1609 - val_accuracy: 0.5707 - val_auc: 0.9265\n",
      "Epoch 5/130\n",
      "148/148 [==============================] - 42s 283ms/step - loss: 1.2082 - accuracy: 0.5548 - auc: 0.9180 - val_loss: 1.0620 - val_accuracy: 0.6267 - val_auc: 0.9390\n",
      "Epoch 6/130\n",
      "148/148 [==============================] - 43s 288ms/step - loss: 1.1344 - accuracy: 0.5894 - auc: 0.9274 - val_loss: 1.0256 - val_accuracy: 0.6283 - val_auc: 0.9419\n",
      "Epoch 7/130\n",
      "148/148 [==============================] - 42s 287ms/step - loss: 1.0884 - accuracy: 0.6057 - auc: 0.9328 - val_loss: 0.9496 - val_accuracy: 0.6587 - val_auc: 0.9513\n",
      "Epoch 8/130\n",
      "148/148 [==============================] - 42s 281ms/step - loss: 1.0263 - accuracy: 0.6293 - auc: 0.9402 - val_loss: 0.9104 - val_accuracy: 0.6676 - val_auc: 0.9545\n",
      "Epoch 9/130\n",
      "148/148 [==============================] - 50s 336ms/step - loss: 1.0008 - accuracy: 0.6345 - auc: 0.9431 - val_loss: 0.9064 - val_accuracy: 0.6702 - val_auc: 0.9548\n",
      "Epoch 10/130\n",
      "148/148 [==============================] - 44s 299ms/step - loss: 0.9615 - accuracy: 0.6547 - auc: 0.9472 - val_loss: 0.8548 - val_accuracy: 0.6943 - val_auc: 0.9603\n",
      "Epoch 11/130\n",
      "148/148 [==============================] - 43s 293ms/step - loss: 0.9409 - accuracy: 0.6634 - auc: 0.9494 - val_loss: 0.8419 - val_accuracy: 0.6946 - val_auc: 0.9614\n",
      "Epoch 12/130\n",
      "148/148 [==============================] - 42s 286ms/step - loss: 0.9087 - accuracy: 0.6735 - auc: 0.9528 - val_loss: 0.8162 - val_accuracy: 0.7037 - val_auc: 0.9629\n",
      "Epoch 13/130\n",
      "148/148 [==============================] - 42s 283ms/step - loss: 0.8831 - accuracy: 0.6841 - auc: 0.9553 - val_loss: 0.7815 - val_accuracy: 0.7144 - val_auc: 0.9655\n",
      "Epoch 14/130\n",
      "148/148 [==============================] - 43s 288ms/step - loss: 0.8593 - accuracy: 0.6954 - auc: 0.9574 - val_loss: 0.7526 - val_accuracy: 0.7246 - val_auc: 0.9691\n",
      "Epoch 15/130\n",
      "148/148 [==============================] - 42s 283ms/step - loss: 0.8345 - accuracy: 0.7042 - auc: 0.9598 - val_loss: 0.7741 - val_accuracy: 0.7098 - val_auc: 0.9658\n",
      "Epoch 16/130\n",
      "148/148 [==============================] - 42s 284ms/step - loss: 0.8257 - accuracy: 0.7051 - auc: 0.9603 - val_loss: 0.7395 - val_accuracy: 0.7250 - val_auc: 0.9694\n",
      "Epoch 17/130\n",
      "148/148 [==============================] - 42s 283ms/step - loss: 0.8082 - accuracy: 0.7105 - auc: 0.9621 - val_loss: 0.7197 - val_accuracy: 0.7369 - val_auc: 0.9714\n",
      "Epoch 18/130\n",
      "148/148 [==============================] - 44s 301ms/step - loss: 0.7919 - accuracy: 0.7198 - auc: 0.9636 - val_loss: 0.7258 - val_accuracy: 0.7285 - val_auc: 0.9708\n",
      "Epoch 19/130\n",
      "148/148 [==============================] - 44s 298ms/step - loss: 0.7840 - accuracy: 0.7172 - auc: 0.9641 - val_loss: 0.6832 - val_accuracy: 0.7496 - val_auc: 0.9741\n",
      "Epoch 20/130\n",
      "148/148 [==============================] - 48s 326ms/step - loss: 0.7656 - accuracy: 0.7279 - auc: 0.9657 - val_loss: 0.6973 - val_accuracy: 0.7407 - val_auc: 0.9719\n",
      "Epoch 21/130\n",
      "148/148 [==============================] - 42s 283ms/step - loss: 0.7509 - accuracy: 0.7303 - auc: 0.9669 - val_loss: 0.6722 - val_accuracy: 0.7498 - val_auc: 0.9747\n",
      "Epoch 22/130\n",
      "148/148 [==============================] - 41s 280ms/step - loss: 0.7481 - accuracy: 0.7344 - auc: 0.9670 - val_loss: 0.6536 - val_accuracy: 0.7541 - val_auc: 0.9755\n",
      "Epoch 23/130\n",
      "148/148 [==============================] - 42s 286ms/step - loss: 0.7314 - accuracy: 0.7340 - auc: 0.9686 - val_loss: 0.6790 - val_accuracy: 0.7456 - val_auc: 0.9729\n",
      "Epoch 24/130\n",
      "148/148 [==============================] - 45s 308ms/step - loss: 0.7263 - accuracy: 0.7384 - auc: 0.9688 - val_loss: 0.6474 - val_accuracy: 0.7581 - val_auc: 0.9760\n",
      "Epoch 25/130\n",
      "148/148 [==============================] - 47s 319ms/step - loss: 0.7233 - accuracy: 0.7395 - auc: 0.9689 - val_loss: 0.6324 - val_accuracy: 0.7641 - val_auc: 0.9779\n",
      "Epoch 26/130\n",
      "148/148 [==============================] - 42s 286ms/step - loss: 0.7099 - accuracy: 0.7428 - auc: 0.9701 - val_loss: 0.6409 - val_accuracy: 0.7587 - val_auc: 0.9762\n",
      "Epoch 27/130\n",
      "148/148 [==============================] - 42s 281ms/step - loss: 0.7037 - accuracy: 0.7451 - auc: 0.9705 - val_loss: 0.6299 - val_accuracy: 0.7598 - val_auc: 0.9775\n",
      "Epoch 28/130\n",
      "148/148 [==============================] - 43s 291ms/step - loss: 0.6909 - accuracy: 0.7523 - auc: 0.9717 - val_loss: 0.6935 - val_accuracy: 0.7400 - val_auc: 0.9719\n",
      "Epoch 29/130\n",
      "148/148 [==============================] - 43s 290ms/step - loss: 0.6856 - accuracy: 0.7515 - auc: 0.9722 - val_loss: 0.6199 - val_accuracy: 0.7646 - val_auc: 0.9776\n",
      "Epoch 30/130\n",
      "148/148 [==============================] - 42s 285ms/step - loss: 0.6685 - accuracy: 0.7594 - auc: 0.9736 - val_loss: 0.6069 - val_accuracy: 0.7737 - val_auc: 0.9782\n",
      "Epoch 31/130\n",
      "148/148 [==============================] - 42s 287ms/step - loss: 0.6650 - accuracy: 0.7620 - auc: 0.9736 - val_loss: 0.6131 - val_accuracy: 0.7728 - val_auc: 0.9782\n",
      "Epoch 32/130\n",
      "148/148 [==============================] - 42s 284ms/step - loss: 0.6519 - accuracy: 0.7630 - auc: 0.9746 - val_loss: 0.5796 - val_accuracy: 0.7843 - val_auc: 0.9807\n",
      "Epoch 33/130\n",
      "148/148 [==============================] - 42s 287ms/step - loss: 0.6573 - accuracy: 0.7607 - auc: 0.9740 - val_loss: 0.5718 - val_accuracy: 0.7881 - val_auc: 0.9811\n",
      "Epoch 34/130\n",
      "148/148 [==============================] - 42s 285ms/step - loss: 0.6456 - accuracy: 0.7682 - auc: 0.9748 - val_loss: 0.5850 - val_accuracy: 0.7841 - val_auc: 0.9799\n",
      "Epoch 35/130\n",
      "148/148 [==============================] - 41s 280ms/step - loss: 0.6324 - accuracy: 0.7712 - auc: 0.9759 - val_loss: 0.5639 - val_accuracy: 0.7906 - val_auc: 0.9816\n",
      "Epoch 36/130\n",
      "148/148 [==============================] - 42s 281ms/step - loss: 0.6334 - accuracy: 0.7694 - auc: 0.9758 - val_loss: 0.6383 - val_accuracy: 0.7556 - val_auc: 0.9763\n",
      "Epoch 37/130\n",
      "148/148 [==============================] - 42s 286ms/step - loss: 0.6374 - accuracy: 0.7699 - auc: 0.9752 - val_loss: 0.5597 - val_accuracy: 0.7917 - val_auc: 0.9815\n",
      "Epoch 38/130\n",
      "148/148 [==============================] - 42s 283ms/step - loss: 0.6237 - accuracy: 0.7743 - auc: 0.9765 - val_loss: 0.5648 - val_accuracy: 0.7904 - val_auc: 0.9816\n",
      "Epoch 39/130\n",
      "148/148 [==============================] - 42s 281ms/step - loss: 0.6056 - accuracy: 0.7829 - auc: 0.9780 - val_loss: 0.5475 - val_accuracy: 0.7974 - val_auc: 0.9825\n",
      "Epoch 40/130\n",
      "148/148 [==============================] - 43s 294ms/step - loss: 0.6183 - accuracy: 0.7790 - auc: 0.9766 - val_loss: 0.5677 - val_accuracy: 0.7915 - val_auc: 0.9810\n",
      "Epoch 41/130\n",
      "148/148 [==============================] - 43s 293ms/step - loss: 0.6196 - accuracy: 0.7785 - auc: 0.9767 - val_loss: 0.5516 - val_accuracy: 0.8000 - val_auc: 0.9822\n",
      "Epoch 42/130\n",
      "148/148 [==============================] - 42s 287ms/step - loss: 0.6050 - accuracy: 0.7812 - auc: 0.9777 - val_loss: 0.5564 - val_accuracy: 0.7978 - val_auc: 0.9819\n",
      "Epoch 43/130\n",
      "148/148 [==============================] - 42s 284ms/step - loss: 0.5954 - accuracy: 0.7850 - auc: 0.9782 - val_loss: 0.5418 - val_accuracy: 0.7998 - val_auc: 0.9822\n",
      "Epoch 44/130\n",
      "148/148 [==============================] - 46s 308ms/step - loss: 0.5919 - accuracy: 0.7875 - auc: 0.9785 - val_loss: 0.5657 - val_accuracy: 0.7917 - val_auc: 0.9809\n",
      "Epoch 45/130\n",
      "148/148 [==============================] - 42s 282ms/step - loss: 0.5907 - accuracy: 0.7870 - auc: 0.9783 - val_loss: 0.5796 - val_accuracy: 0.7885 - val_auc: 0.9795\n",
      "Epoch 46/130\n",
      "148/148 [==============================] - 42s 286ms/step - loss: 0.5841 - accuracy: 0.7895 - auc: 0.9791 - val_loss: 0.6018 - val_accuracy: 0.7772 - val_auc: 0.9780\n",
      "Epoch 47/130\n",
      "148/148 [==============================] - 42s 285ms/step - loss: 0.5925 - accuracy: 0.7862 - auc: 0.9780 - val_loss: 0.5892 - val_accuracy: 0.7781 - val_auc: 0.9792\n",
      "Epoch 48/130\n",
      "148/148 [==============================] - 43s 292ms/step - loss: 0.5892 - accuracy: 0.7900 - auc: 0.9786 - val_loss: 0.5505 - val_accuracy: 0.7944 - val_auc: 0.9824\n",
      "Epoch 49/130\n",
      "148/148 [==============================] - 42s 281ms/step - loss: 0.5876 - accuracy: 0.7865 - auc: 0.9788 - val_loss: 0.5394 - val_accuracy: 0.8002 - val_auc: 0.9823\n",
      "Epoch 50/130\n",
      "148/148 [==============================] - 42s 287ms/step - loss: 0.5746 - accuracy: 0.7929 - auc: 0.9796 - val_loss: 0.5367 - val_accuracy: 0.8028 - val_auc: 0.9824\n",
      "Epoch 51/130\n",
      "148/148 [==============================] - 42s 286ms/step - loss: 0.5672 - accuracy: 0.7930 - auc: 0.9804 - val_loss: 0.5325 - val_accuracy: 0.8063 - val_auc: 0.9827\n",
      "Epoch 52/130\n",
      "148/148 [==============================] - 42s 282ms/step - loss: 0.5666 - accuracy: 0.8008 - auc: 0.9799 - val_loss: 0.5509 - val_accuracy: 0.7939 - val_auc: 0.9819\n",
      "Epoch 53/130\n",
      "148/148 [==============================] - 42s 283ms/step - loss: 0.5650 - accuracy: 0.7962 - auc: 0.9803 - val_loss: 0.5157 - val_accuracy: 0.8109 - val_auc: 0.9833\n",
      "Epoch 54/130\n",
      "148/148 [==============================] - 42s 282ms/step - loss: 0.5604 - accuracy: 0.8020 - auc: 0.9803 - val_loss: 0.5193 - val_accuracy: 0.8113 - val_auc: 0.9829\n",
      "Epoch 55/130\n",
      "148/148 [==============================] - 42s 285ms/step - loss: 0.5512 - accuracy: 0.8051 - auc: 0.9812 - val_loss: 0.5165 - val_accuracy: 0.8109 - val_auc: 0.9835\n",
      "Epoch 56/130\n",
      "148/148 [==============================] - 42s 283ms/step - loss: 0.5510 - accuracy: 0.8044 - auc: 0.9808 - val_loss: 0.5200 - val_accuracy: 0.8111 - val_auc: 0.9835\n",
      "Epoch 57/130\n",
      "148/148 [==============================] - 42s 283ms/step - loss: 0.5470 - accuracy: 0.8028 - auc: 0.9811 - val_loss: 0.5121 - val_accuracy: 0.8083 - val_auc: 0.9837\n",
      "Epoch 58/130\n",
      "148/148 [==============================] - 43s 291ms/step - loss: 0.5422 - accuracy: 0.8034 - auc: 0.9818 - val_loss: 0.5242 - val_accuracy: 0.8069 - val_auc: 0.9825\n",
      "Epoch 59/130\n",
      "148/148 [==============================] - 42s 284ms/step - loss: 0.5495 - accuracy: 0.8043 - auc: 0.9810 - val_loss: 0.5064 - val_accuracy: 0.8117 - val_auc: 0.9840\n",
      "Epoch 60/130\n",
      "148/148 [==============================] - 42s 282ms/step - loss: 0.5408 - accuracy: 0.8060 - auc: 0.9817 - val_loss: 0.5475 - val_accuracy: 0.8020 - val_auc: 0.9806\n",
      "Epoch 61/130\n",
      "148/148 [==============================] - 42s 286ms/step - loss: 0.5480 - accuracy: 0.8036 - auc: 0.9809 - val_loss: 0.5049 - val_accuracy: 0.8137 - val_auc: 0.9843\n",
      "Epoch 62/130\n",
      "148/148 [==============================] - 42s 284ms/step - loss: 0.5301 - accuracy: 0.8102 - auc: 0.9824 - val_loss: 0.5118 - val_accuracy: 0.8181 - val_auc: 0.9835\n",
      "Epoch 63/130\n",
      "148/148 [==============================] - 42s 285ms/step - loss: 0.5429 - accuracy: 0.8049 - auc: 0.9814 - val_loss: 0.4883 - val_accuracy: 0.8285 - val_auc: 0.9853\n",
      "Epoch 64/130\n",
      "148/148 [==============================] - 42s 283ms/step - loss: 0.5260 - accuracy: 0.8128 - auc: 0.9824 - val_loss: 0.5054 - val_accuracy: 0.8181 - val_auc: 0.9837\n",
      "Epoch 65/130\n",
      "148/148 [==============================] - 42s 285ms/step - loss: 0.5270 - accuracy: 0.8132 - auc: 0.9826 - val_loss: 0.4966 - val_accuracy: 0.8207 - val_auc: 0.9843\n",
      "Epoch 66/130\n",
      "148/148 [==============================] - 42s 282ms/step - loss: 0.5174 - accuracy: 0.8139 - auc: 0.9832 - val_loss: 0.4775 - val_accuracy: 0.8281 - val_auc: 0.9855\n",
      "Epoch 67/130\n",
      "148/148 [==============================] - 42s 285ms/step - loss: 0.5205 - accuracy: 0.8151 - auc: 0.9827 - val_loss: 0.5062 - val_accuracy: 0.8183 - val_auc: 0.9835\n",
      "Epoch 68/130\n",
      "148/148 [==============================] - 42s 283ms/step - loss: 0.5289 - accuracy: 0.8132 - auc: 0.9824 - val_loss: 0.4843 - val_accuracy: 0.8248 - val_auc: 0.9850\n",
      "Epoch 69/130\n",
      "148/148 [==============================] - 42s 285ms/step - loss: 0.5177 - accuracy: 0.8142 - auc: 0.9831 - val_loss: 0.5033 - val_accuracy: 0.8189 - val_auc: 0.9834\n",
      "Epoch 70/130\n",
      "148/148 [==============================] - 42s 287ms/step - loss: 0.5157 - accuracy: 0.8196 - auc: 0.9831 - val_loss: 0.5042 - val_accuracy: 0.8174 - val_auc: 0.9834\n",
      "Epoch 71/130\n",
      "148/148 [==============================] - 42s 282ms/step - loss: 0.5119 - accuracy: 0.8179 - auc: 0.9833 - val_loss: 0.4873 - val_accuracy: 0.8220 - val_auc: 0.9849\n",
      "Epoch 72/130\n",
      "148/148 [==============================] - 42s 284ms/step - loss: 0.5099 - accuracy: 0.8177 - auc: 0.9837 - val_loss: 0.4726 - val_accuracy: 0.8263 - val_auc: 0.9855\n",
      "Epoch 73/130\n",
      "148/148 [==============================] - 42s 282ms/step - loss: 0.5049 - accuracy: 0.8206 - auc: 0.9837 - val_loss: 0.4748 - val_accuracy: 0.8287 - val_auc: 0.9854\n",
      "Epoch 74/130\n",
      "148/148 [==============================] - 42s 282ms/step - loss: 0.4987 - accuracy: 0.8221 - auc: 0.9841 - val_loss: 0.4818 - val_accuracy: 0.8269 - val_auc: 0.9848\n",
      "Epoch 75/130\n",
      "148/148 [==============================] - 41s 279ms/step - loss: 0.4952 - accuracy: 0.8244 - auc: 0.9842 - val_loss: 0.4984 - val_accuracy: 0.8220 - val_auc: 0.9832\n",
      "Epoch 76/130\n",
      "148/148 [==============================] - 42s 283ms/step - loss: 0.4911 - accuracy: 0.8258 - auc: 0.9846 - val_loss: 0.4761 - val_accuracy: 0.8293 - val_auc: 0.9850\n",
      "Epoch 77/130\n",
      "148/148 [==============================] - 42s 281ms/step - loss: 0.4937 - accuracy: 0.8243 - auc: 0.9845 - val_loss: 0.4636 - val_accuracy: 0.8339 - val_auc: 0.9861\n",
      "Epoch 78/130\n",
      "148/148 [==============================] - 43s 290ms/step - loss: 0.4972 - accuracy: 0.8237 - auc: 0.9840 - val_loss: 0.4686 - val_accuracy: 0.8306 - val_auc: 0.9854\n",
      "Epoch 79/130\n",
      "148/148 [==============================] - 41s 281ms/step - loss: 0.4914 - accuracy: 0.8247 - auc: 0.9841 - val_loss: 0.4745 - val_accuracy: 0.8283 - val_auc: 0.9853\n",
      "Epoch 80/130\n",
      "148/148 [==============================] - 43s 288ms/step - loss: 0.4945 - accuracy: 0.8242 - auc: 0.9842 - val_loss: 0.4606 - val_accuracy: 0.8320 - val_auc: 0.9866\n",
      "Epoch 81/130\n",
      "148/148 [==============================] - 42s 283ms/step - loss: 0.4764 - accuracy: 0.8309 - auc: 0.9852 - val_loss: 0.4794 - val_accuracy: 0.8270 - val_auc: 0.9848\n",
      "Epoch 82/130\n",
      "148/148 [==============================] - 47s 316ms/step - loss: 0.4977 - accuracy: 0.8232 - auc: 0.9839 - val_loss: 0.4884 - val_accuracy: 0.8228 - val_auc: 0.9841\n",
      "Epoch 83/130\n",
      "148/148 [==============================] - 57s 389ms/step - loss: 0.4827 - accuracy: 0.8296 - auc: 0.9852 - val_loss: 0.4551 - val_accuracy: 0.8281 - val_auc: 0.9862\n",
      "Epoch 84/130\n",
      "148/148 [==============================] - 41s 279ms/step - loss: 0.4802 - accuracy: 0.8310 - auc: 0.9850 - val_loss: 0.4519 - val_accuracy: 0.8337 - val_auc: 0.9861\n",
      "Epoch 85/130\n",
      "148/148 [==============================] - 45s 303ms/step - loss: 0.4785 - accuracy: 0.8286 - auc: 0.9854 - val_loss: 0.5083 - val_accuracy: 0.8172 - val_auc: 0.9822\n",
      "Epoch 86/130\n",
      "148/148 [==============================] - 45s 303ms/step - loss: 0.4827 - accuracy: 0.8260 - auc: 0.9850 - val_loss: 0.5057 - val_accuracy: 0.8176 - val_auc: 0.9826\n",
      "Epoch 87/130\n",
      "148/148 [==============================] - 41s 280ms/step - loss: 0.4756 - accuracy: 0.8315 - auc: 0.9854 - val_loss: 0.5848 - val_accuracy: 0.7930 - val_auc: 0.9775\n",
      "Epoch 88/130\n",
      "148/148 [==============================] - 42s 286ms/step - loss: 0.4712 - accuracy: 0.8320 - auc: 0.9857 - val_loss: 0.4447 - val_accuracy: 0.8367 - val_auc: 0.9866\n",
      "Epoch 89/130\n",
      "148/148 [==============================] - 42s 282ms/step - loss: 0.4721 - accuracy: 0.8301 - auc: 0.9854 - val_loss: 0.4620 - val_accuracy: 0.8306 - val_auc: 0.9859\n",
      "Epoch 90/130\n",
      "148/148 [==============================] - 42s 283ms/step - loss: 0.4644 - accuracy: 0.8349 - auc: 0.9860 - val_loss: 0.4837 - val_accuracy: 0.8261 - val_auc: 0.9837\n",
      "Epoch 91/130\n",
      "148/148 [==============================] - 42s 287ms/step - loss: 0.4617 - accuracy: 0.8362 - auc: 0.9862 - val_loss: 0.4648 - val_accuracy: 0.8317 - val_auc: 0.9858\n",
      "Epoch 92/130\n",
      "148/148 [==============================] - 42s 282ms/step - loss: 0.4773 - accuracy: 0.8284 - auc: 0.9850 - val_loss: 0.5464 - val_accuracy: 0.8019 - val_auc: 0.9805\n",
      "Epoch 93/130\n",
      "148/148 [==============================] - 42s 286ms/step - loss: 0.4625 - accuracy: 0.8370 - auc: 0.9859 - val_loss: 0.4386 - val_accuracy: 0.8431 - val_auc: 0.9870\n",
      "Epoch 94/130\n",
      "148/148 [==============================] - 43s 294ms/step - loss: 0.4569 - accuracy: 0.8348 - auc: 0.9863 - val_loss: 0.4653 - val_accuracy: 0.8298 - val_auc: 0.9860\n",
      "Epoch 95/130\n",
      "148/148 [==============================] - 42s 287ms/step - loss: 0.4591 - accuracy: 0.8361 - auc: 0.9861 - val_loss: 0.4492 - val_accuracy: 0.8394 - val_auc: 0.9868\n",
      "Epoch 96/130\n",
      "148/148 [==============================] - 42s 286ms/step - loss: 0.4400 - accuracy: 0.8451 - auc: 0.9873 - val_loss: 0.4376 - val_accuracy: 0.8406 - val_auc: 0.9866\n",
      "Epoch 97/130\n",
      "148/148 [==============================] - 42s 284ms/step - loss: 0.4535 - accuracy: 0.8392 - auc: 0.9865 - val_loss: 0.4478 - val_accuracy: 0.8354 - val_auc: 0.9862\n",
      "Epoch 98/130\n",
      "148/148 [==============================] - 42s 286ms/step - loss: 0.4438 - accuracy: 0.8423 - auc: 0.9871 - val_loss: 0.4404 - val_accuracy: 0.8420 - val_auc: 0.9865\n",
      "Epoch 99/130\n",
      "148/148 [==============================] - 41s 280ms/step - loss: 0.4511 - accuracy: 0.8422 - auc: 0.9864 - val_loss: 0.4278 - val_accuracy: 0.8422 - val_auc: 0.9880\n",
      "Epoch 100/130\n",
      "148/148 [==============================] - 41s 279ms/step - loss: 0.4402 - accuracy: 0.8459 - auc: 0.9872 - val_loss: 0.4337 - val_accuracy: 0.8422 - val_auc: 0.9873\n",
      "Epoch 101/130\n",
      "148/148 [==============================] - 42s 286ms/step - loss: 0.4372 - accuracy: 0.8477 - auc: 0.9873 - val_loss: 0.4477 - val_accuracy: 0.8396 - val_auc: 0.9863\n",
      "Epoch 102/130\n",
      "148/148 [==============================] - 42s 283ms/step - loss: 0.4401 - accuracy: 0.8444 - auc: 0.9870 - val_loss: 0.4262 - val_accuracy: 0.8437 - val_auc: 0.9874\n",
      "Epoch 103/130\n",
      "148/148 [==============================] - 43s 291ms/step - loss: 0.4288 - accuracy: 0.8479 - auc: 0.9877 - val_loss: 0.4405 - val_accuracy: 0.8428 - val_auc: 0.9864\n",
      "Epoch 104/130\n",
      "148/148 [==============================] - 42s 286ms/step - loss: 0.4352 - accuracy: 0.8453 - auc: 0.9876 - val_loss: 0.4200 - val_accuracy: 0.8452 - val_auc: 0.9882\n",
      "Epoch 105/130\n",
      "148/148 [==============================] - 42s 284ms/step - loss: 0.4377 - accuracy: 0.8443 - auc: 0.9872 - val_loss: 0.4354 - val_accuracy: 0.8391 - val_auc: 0.9871\n",
      "Epoch 106/130\n",
      "148/148 [==============================] - 42s 286ms/step - loss: 0.4328 - accuracy: 0.8474 - auc: 0.9877 - val_loss: 0.4442 - val_accuracy: 0.8344 - val_auc: 0.9867\n",
      "Epoch 107/130\n",
      "148/148 [==============================] - 42s 285ms/step - loss: 0.4356 - accuracy: 0.8436 - auc: 0.9872 - val_loss: 0.4606 - val_accuracy: 0.8319 - val_auc: 0.9852\n",
      "Epoch 108/130\n",
      "148/148 [==============================] - 42s 283ms/step - loss: 0.4328 - accuracy: 0.8466 - auc: 0.9876 - val_loss: 0.4311 - val_accuracy: 0.8419 - val_auc: 0.9869\n",
      "Epoch 109/130\n",
      "148/148 [==============================] - 42s 285ms/step - loss: 0.4244 - accuracy: 0.8510 - auc: 0.9877 - val_loss: 0.4911 - val_accuracy: 0.8243 - val_auc: 0.9838\n",
      "Epoch 110/130\n",
      "148/148 [==============================] - 42s 285ms/step - loss: 0.4246 - accuracy: 0.8500 - auc: 0.9881 - val_loss: 0.4207 - val_accuracy: 0.8457 - val_auc: 0.9875\n",
      "Epoch 111/130\n",
      "148/148 [==============================] - 42s 285ms/step - loss: 0.4163 - accuracy: 0.8521 - auc: 0.9885 - val_loss: 0.4294 - val_accuracy: 0.8463 - val_auc: 0.9868\n",
      "Epoch 112/130\n",
      "148/148 [==============================] - 42s 284ms/step - loss: 0.4209 - accuracy: 0.8511 - auc: 0.9881 - val_loss: 0.4440 - val_accuracy: 0.8367 - val_auc: 0.9869\n",
      "Restoring model weights from the end of the best epoch.\n",
      "Epoch 00112: early stopping\n",
      "---------MODEL EVALUATE---------\n",
      "22/22 [==============================] - 19s 895ms/step - loss: 0.4089 - accuracy: 0.8552 - auc: 0.9885\n",
      "2700/2700 [==============================] - 5s 2ms/step\n",
      "              precision    recall  f1-score   support\n",
      "\n",
      "           0     0.9028    0.8667    0.8844       300\n",
      "           1     0.9638    0.9767    0.9702       300\n",
      "           2     0.7697    0.8133    0.7909       300\n",
      "           3     0.6864    0.6040    0.6426       250\n",
      "           4     0.9209    0.9320    0.9264       250\n",
      "           5     0.8069    0.8150    0.8109       200\n",
      "           6     0.7164    0.7680    0.7413       250\n",
      "           7     0.9668    0.9700    0.9684       300\n",
      "           8     0.7540    0.7600    0.7570       250\n",
      "           9     0.9898    0.9733    0.9815       300\n",
      "\n",
      "    accuracy                         0.8552      2700\n",
      "   macro avg     0.8478    0.8479    0.8474      2700\n",
      "weighted avg     0.8551    0.8552    0.8547      2700\n",
      "\n",
      "---------SAVE RESULTS---------\n"
     ]
    },
    {
     "data": {
      "image/png": "[encoded data removed]",
      "text/plain": [
       "<Figure size 432x288 with 2 Axes>"
      ]
     },
     "metadata": {
      "needs_background": "light"
     },
     "output_type": "display_data"
    },
    {
     "data": {
      "image/png": "[encoded data removed]",
      "text/plain": [
       "<Figure size 720x504 with 2 Axes>"
      ]
     },
     "metadata": {
      "needs_background": "light"
     },
     "output_type": "display_data"
    }
   ],
   "source": [
    "params = [n_epochs,\n",
    "          batch_size,\n",
    "          loss_fun, \n",
    "          act_fun,\n",
    "          learn_rate, \n",
    "          optmzer,\n",
    "          n_convolutional_layers,\n",
    "          filter_size,\n",
    "          filters_number\n",
    "         ]\n",
    "\n",
    "n_layers = 4\n",
    "\n",
    "params[6] = n_layers\n",
    "params[8] = filter_number_opts[1]\n",
    "\n",
    "model_id = \"2A.i.2\"\n",
    "model_name = f\"BNET-{model_id}\"\n",
    "\n",
    "print(f\"-------- EXPERIMENT {model_id} ----------\")\n",
    "\n",
    "\n",
    "model = Sequential()\n",
    "model.add(Conv2D(input_shape=(64,64,3),filters=32,kernel_size=(3,3),padding=\"same\", activation=act_fun))\n",
    "model.add(MaxPool2D(pool_size=(2,2),strides=(2,2)))\n",
    "model.add(Conv2D(filters=32, kernel_size=(3,3), padding=\"same\", activation=act_fun))\n",
    "model.add(MaxPool2D(pool_size=(2,2),strides=(2,2)))\n",
    "\n",
    "model.add(Conv2D(filters=64, kernel_size=(3,3), padding=\"same\", activation=act_fun))\n",
    "model.add(MaxPool2D(pool_size=(2,2),strides=(2,2)))\n",
    "model.add(Conv2D(filters=64, kernel_size=(3,3), padding=\"same\", activation=act_fun))\n",
    "model.add(MaxPool2D(pool_size=(2,2),strides=(2,2)))\n",
    "\n",
    "model.add(Flatten())\n",
    "model.add(Dense(units=250, activation=act_fun, kernel_initializer=\"he_normal\"))\n",
    "model.add(Dropout(0.5))\n",
    "model.add(Dense(class_count, activation=\"softmax\"))\n",
    "\n",
    "model.summary()\n",
    "\n",
    "# Model COMPILE and FIT\n",
    "history, new_params = run_model(model, model_name, params)\n",
    "params = new_params\n",
    "# Model EVALUATE\n",
    "eval_metrics, cf_matrix, confusion_matrix_df, results_df = get_eval_metrics(history, model, test_set, params)\n",
    "\n",
    "save_plots(history, output_folder, model_name, confusion_matrix_df)\n",
    "\n",
    "params_to_save = params\n",
    "params_to_save[7] = str(params_to_save[7]).replace(',', \";\")\n",
    "params_to_save[8] = str(params_to_save[8]).replace(',', \";\")\n",
    "params_to_save\n",
    "\n",
    "new_row = [model_id,\n",
    "           model_name,\n",
    "           params_to_save,\n",
    "           eval_metrics,\n",
    "           len(training_df), # number of images in the training set\n",
    "           len(validation_df), # number of images in the validation set\n",
    "           len(test_df), # number of images in the test set\n",
    "          ]\n",
    "\n",
    "new_row = flatten(new_row)\n",
    "\n",
    "append_results_to_csv(new_row)"
   ]
  },
  {
   "cell_type": "markdown",
   "id": "0a431d7a",
   "metadata": {
    "papermill": {
     "duration": 1.234395,
     "end_time": "2022-12-11T17:34:04.584042",
     "exception": false,
     "start_time": "2022-12-11T17:34:03.349647",
     "status": "completed"
    },
    "tags": []
   },
   "source": [
    "# EXPERIMENT 2A.i.3"
   ]
  },
  {
   "cell_type": "code",
   "execution_count": 16,
   "id": "f29c4e7d",
   "metadata": {
    "execution": {
     "iopub.execute_input": "2022-12-11T17:34:06.639448Z",
     "iopub.status.busy": "2022-12-11T17:34:06.638892Z",
     "iopub.status.idle": "2022-12-11T18:26:41.637183Z",
     "shell.execute_reply": "2022-12-11T18:26:41.636110Z"
    },
    "papermill": {
     "duration": 3155.994304,
     "end_time": "2022-12-11T18:26:41.639690",
     "exception": false,
     "start_time": "2022-12-11T17:34:05.645386",
     "status": "completed"
    },
    "tags": []
   },
   "outputs": [
    {
     "name": "stdout",
     "output_type": "stream",
     "text": [
      "-------- EXPERIMENT 2A.i.3 ----------\n",
      "Model: \"sequential_1\"\n",
      "_________________________________________________________________\n",
      "Layer (type)                 Output Shape              Param #   \n",
      "=================================================================\n",
      "conv2d_4 (Conv2D)            (None, 64, 64, 32)        896       \n",
      "_________________________________________________________________\n",
      "max_pooling2d_4 (MaxPooling2 (None, 32, 32, 32)        0         \n",
      "_________________________________________________________________\n",
      "conv2d_5 (Conv2D)            (None, 32, 32, 32)        9248      \n",
      "_________________________________________________________________\n",
      "max_pooling2d_5 (MaxPooling2 (None, 16, 16, 32)        0         \n",
      "_________________________________________________________________\n",
      "conv2d_6 (Conv2D)            (None, 16, 16, 64)        18496     \n",
      "_________________________________________________________________\n",
      "max_pooling2d_6 (MaxPooling2 (None, 8, 8, 64)          0         \n",
      "_________________________________________________________________\n",
      "conv2d_7 (Conv2D)            (None, 8, 8, 64)          36928     \n",
      "_________________________________________________________________\n",
      "conv2d_8 (Conv2D)            (None, 8, 8, 128)         73856     \n",
      "_________________________________________________________________\n",
      "max_pooling2d_7 (MaxPooling2 (None, 4, 4, 128)         0         \n",
      "_________________________________________________________________\n",
      "flatten_1 (Flatten)          (None, 2048)              0         \n",
      "_________________________________________________________________\n",
      "dense_2 (Dense)              (None, 200)               409800    \n",
      "_________________________________________________________________\n",
      "dropout_1 (Dropout)          (None, 200)               0         \n",
      "_________________________________________________________________\n",
      "dense_3 (Dense)              (None, 10)                2010      \n",
      "=================================================================\n",
      "Total params: 551,234\n",
      "Trainable params: 551,234\n",
      "Non-trainable params: 0\n",
      "_________________________________________________________________\n",
      "---------MODEL COMPILE---------\n",
      "---------MODEL FIT---------\n",
      "Epoch 1/130\n",
      "148/148 [==============================] - 43s 287ms/step - loss: 1.7082 - accuracy: 0.3373 - auc_1: 0.8229 - val_loss: 1.2372 - val_accuracy: 0.5561 - val_auc_1: 0.9146\n",
      "Epoch 2/130\n",
      "148/148 [==============================] - 44s 296ms/step - loss: 1.1933 - accuracy: 0.5648 - auc_1: 0.9195 - val_loss: 0.9904 - val_accuracy: 0.6517 - val_auc_1: 0.9455\n",
      "Epoch 3/130\n",
      "148/148 [==============================] - 42s 282ms/step - loss: 1.0534 - accuracy: 0.6201 - auc_1: 0.9367 - val_loss: 0.8933 - val_accuracy: 0.6835 - val_auc_1: 0.9571\n",
      "Epoch 4/130\n",
      "148/148 [==============================] - 42s 286ms/step - loss: 0.9781 - accuracy: 0.6505 - auc_1: 0.9454 - val_loss: 0.9111 - val_accuracy: 0.6624 - val_auc_1: 0.9527\n",
      "Epoch 5/130\n",
      "148/148 [==============================] - 42s 285ms/step - loss: 0.9270 - accuracy: 0.6691 - auc_1: 0.9500 - val_loss: 0.9067 - val_accuracy: 0.6726 - val_auc_1: 0.9534\n",
      "Epoch 6/130\n",
      "148/148 [==============================] - 42s 286ms/step - loss: 0.8581 - accuracy: 0.6960 - auc_1: 0.9574 - val_loss: 0.7524 - val_accuracy: 0.7272 - val_auc_1: 0.9675\n",
      "Epoch 7/130\n",
      "148/148 [==============================] - 42s 285ms/step - loss: 0.8319 - accuracy: 0.7046 - auc_1: 0.9593 - val_loss: 0.8204 - val_accuracy: 0.6930 - val_auc_1: 0.9607\n",
      "Epoch 8/130\n",
      "148/148 [==============================] - 42s 281ms/step - loss: 0.8148 - accuracy: 0.7112 - auc_1: 0.9611 - val_loss: 0.7604 - val_accuracy: 0.7230 - val_auc_1: 0.9664\n",
      "Epoch 9/130\n",
      "148/148 [==============================] - 42s 284ms/step - loss: 0.7795 - accuracy: 0.7230 - auc_1: 0.9644 - val_loss: 0.8732 - val_accuracy: 0.6754 - val_auc_1: 0.9554\n",
      "Epoch 10/130\n",
      "148/148 [==============================] - 42s 282ms/step - loss: 0.7715 - accuracy: 0.7252 - auc_1: 0.9648 - val_loss: 0.6848 - val_accuracy: 0.7487 - val_auc_1: 0.9735\n",
      "Epoch 11/130\n",
      "148/148 [==============================] - 43s 289ms/step - loss: 0.7456 - accuracy: 0.7324 - auc_1: 0.9673 - val_loss: 0.6752 - val_accuracy: 0.7469 - val_auc_1: 0.9737\n",
      "Epoch 12/130\n",
      "148/148 [==============================] - 43s 289ms/step - loss: 0.7293 - accuracy: 0.7414 - auc_1: 0.9685 - val_loss: 0.6363 - val_accuracy: 0.7669 - val_auc_1: 0.9764\n",
      "Epoch 13/130\n",
      "148/148 [==============================] - 42s 285ms/step - loss: 0.7106 - accuracy: 0.7447 - auc_1: 0.9698 - val_loss: 0.6428 - val_accuracy: 0.7613 - val_auc_1: 0.9757\n",
      "Epoch 14/130\n",
      "148/148 [==============================] - 43s 287ms/step - loss: 0.7038 - accuracy: 0.7488 - auc_1: 0.9704 - val_loss: 0.6203 - val_accuracy: 0.7700 - val_auc_1: 0.9776\n",
      "Epoch 15/130\n",
      "148/148 [==============================] - 43s 287ms/step - loss: 0.6867 - accuracy: 0.7549 - auc_1: 0.9719 - val_loss: 0.6486 - val_accuracy: 0.7554 - val_auc_1: 0.9744\n",
      "Epoch 16/130\n",
      "148/148 [==============================] - 42s 282ms/step - loss: 0.6687 - accuracy: 0.7595 - auc_1: 0.9730 - val_loss: 0.5959 - val_accuracy: 0.7785 - val_auc_1: 0.9791\n",
      "Epoch 17/130\n",
      "148/148 [==============================] - 43s 289ms/step - loss: 0.6593 - accuracy: 0.7644 - auc_1: 0.9739 - val_loss: 0.6098 - val_accuracy: 0.7720 - val_auc_1: 0.9784\n",
      "Epoch 18/130\n",
      "148/148 [==============================] - 43s 290ms/step - loss: 0.6346 - accuracy: 0.7716 - auc_1: 0.9754 - val_loss: 0.5922 - val_accuracy: 0.7802 - val_auc_1: 0.9788\n",
      "Epoch 19/130\n",
      "148/148 [==============================] - 43s 291ms/step - loss: 0.6375 - accuracy: 0.7703 - auc_1: 0.9753 - val_loss: 0.5741 - val_accuracy: 0.7876 - val_auc_1: 0.9802\n",
      "Epoch 20/130\n",
      "148/148 [==============================] - 43s 288ms/step - loss: 0.6252 - accuracy: 0.7754 - auc_1: 0.9763 - val_loss: 0.5651 - val_accuracy: 0.7881 - val_auc_1: 0.9812\n",
      "Epoch 21/130\n",
      "148/148 [==============================] - 41s 281ms/step - loss: 0.6167 - accuracy: 0.7798 - auc_1: 0.9768 - val_loss: 0.5744 - val_accuracy: 0.7907 - val_auc_1: 0.9802\n",
      "Epoch 22/130\n",
      "148/148 [==============================] - 42s 284ms/step - loss: 0.6095 - accuracy: 0.7831 - auc_1: 0.9773 - val_loss: 0.5547 - val_accuracy: 0.7989 - val_auc_1: 0.9814\n",
      "Epoch 23/130\n",
      "148/148 [==============================] - 43s 288ms/step - loss: 0.6085 - accuracy: 0.7866 - auc_1: 0.9772 - val_loss: 0.5357 - val_accuracy: 0.8039 - val_auc_1: 0.9826\n",
      "Epoch 24/130\n",
      "148/148 [==============================] - 41s 275ms/step - loss: 0.6066 - accuracy: 0.7845 - auc_1: 0.9776 - val_loss: 0.5723 - val_accuracy: 0.7939 - val_auc_1: 0.9806\n",
      "Epoch 25/130\n",
      "148/148 [==============================] - 41s 280ms/step - loss: 0.5842 - accuracy: 0.7887 - auc_1: 0.9791 - val_loss: 0.5252 - val_accuracy: 0.8098 - val_auc_1: 0.9831\n",
      "Epoch 26/130\n",
      "148/148 [==============================] - 42s 281ms/step - loss: 0.5993 - accuracy: 0.7889 - auc_1: 0.9778 - val_loss: 0.5169 - val_accuracy: 0.8154 - val_auc_1: 0.9843\n",
      "Epoch 27/130\n",
      "148/148 [==============================] - 42s 284ms/step - loss: 0.5604 - accuracy: 0.8012 - auc_1: 0.9805 - val_loss: 0.5109 - val_accuracy: 0.8180 - val_auc_1: 0.9839\n",
      "Epoch 28/130\n",
      "148/148 [==============================] - 43s 288ms/step - loss: 0.5702 - accuracy: 0.8002 - auc_1: 0.9796 - val_loss: 0.5106 - val_accuracy: 0.8202 - val_auc_1: 0.9842\n",
      "Epoch 29/130\n",
      "148/148 [==============================] - 43s 291ms/step - loss: 0.5804 - accuracy: 0.7970 - auc_1: 0.9790 - val_loss: 0.5347 - val_accuracy: 0.8059 - val_auc_1: 0.9820\n",
      "Epoch 30/130\n",
      "148/148 [==============================] - 43s 293ms/step - loss: 0.5541 - accuracy: 0.8051 - auc_1: 0.9807 - val_loss: 0.5407 - val_accuracy: 0.8024 - val_auc_1: 0.9811\n",
      "Epoch 31/130\n",
      "148/148 [==============================] - 43s 289ms/step - loss: 0.5519 - accuracy: 0.8083 - auc_1: 0.9807 - val_loss: 0.5143 - val_accuracy: 0.8170 - val_auc_1: 0.9826\n",
      "Epoch 32/130\n",
      "148/148 [==============================] - 44s 297ms/step - loss: 0.5525 - accuracy: 0.8049 - auc_1: 0.9804 - val_loss: 0.5348 - val_accuracy: 0.8013 - val_auc_1: 0.9819\n",
      "Epoch 33/130\n",
      "148/148 [==============================] - 42s 282ms/step - loss: 0.5427 - accuracy: 0.8113 - auc_1: 0.9816 - val_loss: 0.4924 - val_accuracy: 0.8206 - val_auc_1: 0.9845\n",
      "Epoch 34/130\n",
      "148/148 [==============================] - 42s 285ms/step - loss: 0.5432 - accuracy: 0.8116 - auc_1: 0.9814 - val_loss: 0.4922 - val_accuracy: 0.8246 - val_auc_1: 0.9849\n",
      "Epoch 35/130\n",
      "148/148 [==============================] - 42s 282ms/step - loss: 0.5349 - accuracy: 0.8096 - auc_1: 0.9819 - val_loss: 0.5155 - val_accuracy: 0.8096 - val_auc_1: 0.9824\n",
      "Epoch 36/130\n",
      "148/148 [==============================] - 42s 284ms/step - loss: 0.5458 - accuracy: 0.8083 - auc_1: 0.9808 - val_loss: 0.5377 - val_accuracy: 0.8148 - val_auc_1: 0.9818\n",
      "Epoch 37/130\n",
      "148/148 [==============================] - 42s 285ms/step - loss: 0.5189 - accuracy: 0.8197 - auc_1: 0.9829 - val_loss: 0.4871 - val_accuracy: 0.8270 - val_auc_1: 0.9850\n",
      "Epoch 38/130\n",
      "148/148 [==============================] - 42s 286ms/step - loss: 0.5255 - accuracy: 0.8188 - auc_1: 0.9822 - val_loss: 0.4935 - val_accuracy: 0.8256 - val_auc_1: 0.9846\n",
      "Epoch 39/130\n",
      "148/148 [==============================] - 43s 288ms/step - loss: 0.5174 - accuracy: 0.8244 - auc_1: 0.9828 - val_loss: 0.4734 - val_accuracy: 0.8335 - val_auc_1: 0.9856\n",
      "Epoch 40/130\n",
      "148/148 [==============================] - 42s 285ms/step - loss: 0.5132 - accuracy: 0.8206 - auc_1: 0.9830 - val_loss: 0.4733 - val_accuracy: 0.8346 - val_auc_1: 0.9856\n",
      "Epoch 41/130\n",
      "148/148 [==============================] - 43s 292ms/step - loss: 0.5044 - accuracy: 0.8229 - auc_1: 0.9835 - val_loss: 0.4667 - val_accuracy: 0.8339 - val_auc_1: 0.9853\n",
      "Epoch 42/130\n",
      "148/148 [==============================] - 47s 318ms/step - loss: 0.5244 - accuracy: 0.8192 - auc_1: 0.9820 - val_loss: 0.4635 - val_accuracy: 0.8343 - val_auc_1: 0.9860\n",
      "Epoch 43/130\n",
      "148/148 [==============================] - 42s 286ms/step - loss: 0.4925 - accuracy: 0.8262 - auc_1: 0.9844 - val_loss: 0.5309 - val_accuracy: 0.8133 - val_auc_1: 0.9807\n",
      "Epoch 44/130\n",
      "148/148 [==============================] - 47s 319ms/step - loss: 0.4878 - accuracy: 0.8297 - auc_1: 0.9844 - val_loss: 0.4871 - val_accuracy: 0.8306 - val_auc_1: 0.9842\n",
      "Epoch 45/130\n",
      "148/148 [==============================] - 42s 285ms/step - loss: 0.4941 - accuracy: 0.8262 - auc_1: 0.9840 - val_loss: 0.5018 - val_accuracy: 0.8215 - val_auc_1: 0.9830\n",
      "Epoch 46/130\n",
      "148/148 [==============================] - 42s 282ms/step - loss: 0.4891 - accuracy: 0.8313 - auc_1: 0.9842 - val_loss: 0.4605 - val_accuracy: 0.8348 - val_auc_1: 0.9853\n",
      "Epoch 47/130\n",
      "148/148 [==============================] - 42s 283ms/step - loss: 0.4880 - accuracy: 0.8302 - auc_1: 0.9843 - val_loss: 0.4726 - val_accuracy: 0.8352 - val_auc_1: 0.9849\n",
      "Epoch 48/130\n",
      "148/148 [==============================] - 42s 286ms/step - loss: 0.4824 - accuracy: 0.8329 - auc_1: 0.9848 - val_loss: 0.5106 - val_accuracy: 0.8193 - val_auc_1: 0.9831\n",
      "Epoch 49/130\n",
      "148/148 [==============================] - 42s 286ms/step - loss: 0.4806 - accuracy: 0.8328 - auc_1: 0.9847 - val_loss: 0.4804 - val_accuracy: 0.8335 - val_auc_1: 0.9851\n",
      "Epoch 50/130\n",
      "148/148 [==============================] - 42s 285ms/step - loss: 0.4667 - accuracy: 0.8375 - auc_1: 0.9858 - val_loss: 0.4458 - val_accuracy: 0.8428 - val_auc_1: 0.9865\n",
      "Epoch 51/130\n",
      "148/148 [==============================] - 42s 285ms/step - loss: 0.4694 - accuracy: 0.8364 - auc_1: 0.9851 - val_loss: 0.4361 - val_accuracy: 0.8454 - val_auc_1: 0.9874\n",
      "Epoch 52/130\n",
      "148/148 [==============================] - 42s 285ms/step - loss: 0.4796 - accuracy: 0.8304 - auc_1: 0.9849 - val_loss: 0.4336 - val_accuracy: 0.8485 - val_auc_1: 0.9872\n",
      "Epoch 53/130\n",
      "148/148 [==============================] - 43s 289ms/step - loss: 0.4670 - accuracy: 0.8364 - auc_1: 0.9857 - val_loss: 0.4454 - val_accuracy: 0.8350 - val_auc_1: 0.9870\n",
      "Epoch 54/130\n",
      "148/148 [==============================] - 42s 286ms/step - loss: 0.4577 - accuracy: 0.8394 - auc_1: 0.9860 - val_loss: 0.4229 - val_accuracy: 0.8502 - val_auc_1: 0.9880\n",
      "Epoch 55/130\n",
      "148/148 [==============================] - 42s 285ms/step - loss: 0.4507 - accuracy: 0.8433 - auc_1: 0.9863 - val_loss: 0.4190 - val_accuracy: 0.8513 - val_auc_1: 0.9882\n",
      "Epoch 56/130\n",
      "148/148 [==============================] - 40s 271ms/step - loss: 0.4627 - accuracy: 0.8365 - auc_1: 0.9857 - val_loss: 0.4587 - val_accuracy: 0.8380 - val_auc_1: 0.9856\n",
      "Epoch 57/130\n",
      "148/148 [==============================] - 41s 276ms/step - loss: 0.4552 - accuracy: 0.8412 - auc_1: 0.9861 - val_loss: 0.4528 - val_accuracy: 0.8383 - val_auc_1: 0.9861\n",
      "Epoch 58/130\n",
      "148/148 [==============================] - 41s 276ms/step - loss: 0.4491 - accuracy: 0.8422 - auc_1: 0.9866 - val_loss: 0.4396 - val_accuracy: 0.8443 - val_auc_1: 0.9867\n",
      "Epoch 59/130\n",
      "148/148 [==============================] - 41s 275ms/step - loss: 0.4448 - accuracy: 0.8445 - auc_1: 0.9867 - val_loss: 0.4059 - val_accuracy: 0.8569 - val_auc_1: 0.9889\n",
      "Epoch 60/130\n",
      "148/148 [==============================] - 41s 274ms/step - loss: 0.4451 - accuracy: 0.8474 - auc_1: 0.9867 - val_loss: 0.4329 - val_accuracy: 0.8463 - val_auc_1: 0.9866\n",
      "Epoch 61/130\n",
      "148/148 [==============================] - 40s 273ms/step - loss: 0.4504 - accuracy: 0.8444 - auc_1: 0.9862 - val_loss: 0.5185 - val_accuracy: 0.8159 - val_auc_1: 0.9818\n",
      "Epoch 62/130\n",
      "148/148 [==============================] - 42s 281ms/step - loss: 0.4600 - accuracy: 0.8407 - auc_1: 0.9856 - val_loss: 0.4196 - val_accuracy: 0.8531 - val_auc_1: 0.9885\n",
      "Epoch 63/130\n",
      "148/148 [==============================] - 41s 276ms/step - loss: 0.4266 - accuracy: 0.8503 - auc_1: 0.9875 - val_loss: 0.4382 - val_accuracy: 0.8450 - val_auc_1: 0.9867\n",
      "Epoch 64/130\n",
      "148/148 [==============================] - 41s 277ms/step - loss: 0.4355 - accuracy: 0.8489 - auc_1: 0.9869 - val_loss: 0.4085 - val_accuracy: 0.8526 - val_auc_1: 0.9879\n",
      "Epoch 65/130\n",
      "148/148 [==============================] - 41s 276ms/step - loss: 0.4280 - accuracy: 0.8544 - auc_1: 0.9874 - val_loss: 0.4191 - val_accuracy: 0.8537 - val_auc_1: 0.9880\n",
      "Epoch 66/130\n",
      "148/148 [==============================] - 41s 276ms/step - loss: 0.4274 - accuracy: 0.8533 - auc_1: 0.9873 - val_loss: 0.4197 - val_accuracy: 0.8519 - val_auc_1: 0.9885\n",
      "Epoch 67/130\n",
      "148/148 [==============================] - 41s 275ms/step - loss: 0.4293 - accuracy: 0.8499 - auc_1: 0.9877 - val_loss: 0.4500 - val_accuracy: 0.8450 - val_auc_1: 0.9847\n",
      "Restoring model weights from the end of the best epoch.\n",
      "Epoch 00067: early stopping\n",
      "---------MODEL EVALUATE---------\n",
      "22/22 [==============================] - 7s 318ms/step - loss: 0.3910 - accuracy: 0.8637 - auc_1: 0.9899\n",
      "2700/2700 [==============================] - 5s 2ms/step\n",
      "              precision    recall  f1-score   support\n",
      "\n",
      "           0     0.9138    0.8833    0.8983       300\n",
      "           1     0.9575    0.9767    0.9670       300\n",
      "           2     0.7745    0.7900    0.7822       300\n",
      "           3     0.6783    0.6240    0.6500       250\n",
      "           4     0.9633    0.9440    0.9535       250\n",
      "           5     0.8143    0.8550    0.8341       200\n",
      "           6     0.7449    0.7240    0.7343       250\n",
      "           7     0.9734    0.9767    0.9750       300\n",
      "           8     0.7610    0.8280    0.7931       250\n",
      "           9     0.9865    0.9767    0.9816       300\n",
      "\n",
      "    accuracy                         0.8637      2700\n",
      "   macro avg     0.8567    0.8578    0.8569      2700\n",
      "weighted avg     0.8635    0.8637    0.8633      2700\n",
      "\n",
      "---------SAVE RESULTS---------\n"
     ]
    },
    {
     "data": {
      "image/png": "[encoded data removed]",
      "text/plain": [
       "<Figure size 432x288 with 2 Axes>"
      ]
     },
     "metadata": {},
     "output_type": "display_data"
    },
    {
     "data": {
      "image/png": "[encoded data removed]",
      "text/plain": [
       "<Figure size 720x504 with 2 Axes>"
      ]
     },
     "metadata": {},
     "output_type": "display_data"
    }
   ],
   "source": [
    "params = [n_epochs,\n",
    "          batch_size,\n",
    "          loss_fun, \n",
    "          act_fun,\n",
    "          learn_rate, \n",
    "          optmzer,\n",
    "          n_convolutional_layers,\n",
    "          filter_size,\n",
    "          filters_number\n",
    "         ]\n",
    "\n",
    "n_layers = 5\n",
    "\n",
    "params[6] = n_layers\n",
    "params[8] = filter_number_opts[2]\n",
    "\n",
    "model_id = \"2A.i.3\"\n",
    "model_name = f\"BNET-{model_id}\"\n",
    "\n",
    "print(f\"-------- EXPERIMENT {model_id} ----------\")\n",
    "\n",
    "\n",
    "model = Sequential()\n",
    "model.add(Conv2D(input_shape=(64,64,3),filters=32,kernel_size=(3,3),padding=\"same\", activation=act_fun))\n",
    "model.add(MaxPool2D(pool_size=(2,2),strides=(2,2)))\n",
    "model.add(Conv2D(filters=32, kernel_size=(3,3), padding=\"same\", activation=act_fun))\n",
    "model.add(MaxPool2D(pool_size=(2,2),strides=(2,2)))\n",
    "\n",
    "model.add(Conv2D(filters=64, kernel_size=(3,3), padding=\"same\", activation=act_fun))\n",
    "model.add(MaxPool2D(pool_size=(2,2),strides=(2,2)))\n",
    "model.add(Conv2D(filters=64, kernel_size=(3,3), padding=\"same\", activation=act_fun))\n",
    "model.add(Conv2D(filters=128, kernel_size=(3,3), padding=\"same\", activation=act_fun))\n",
    "model.add(MaxPool2D(pool_size=(2,2),strides=(2,2)))\n",
    "\n",
    "model.add(Flatten())\n",
    "model.add(Dense(units=200, activation=act_fun, kernel_initializer=\"he_normal\"))\n",
    "model.add(Dropout(0.5))\n",
    "model.add(Dense(class_count, activation=\"softmax\"))\n",
    "\n",
    "model.summary()\n",
    "\n",
    "# Model COMPILE and FIT\n",
    "history, new_params = run_model(model, model_name, params)\n",
    "params = new_params\n",
    "# Model EVALUATE\n",
    "eval_metrics, cf_matrix, confusion_matrix_df, results_df = get_eval_metrics(history, model, test_set, params)\n",
    "\n",
    "save_plots(history, output_folder, model_name, confusion_matrix_df)\n",
    "\n",
    "params_to_save = params\n",
    "params_to_save[7] = str(params_to_save[7]).replace(',', \";\")\n",
    "params_to_save[8] = str(params_to_save[8]).replace(',', \";\")\n",
    "params_to_save\n",
    "\n",
    "new_row = [model_id,\n",
    "           model_name,\n",
    "           params_to_save,\n",
    "           eval_metrics,\n",
    "           len(training_df), # number of images in the training set\n",
    "           len(validation_df), # number of images in the validation set\n",
    "           len(test_df), # number of images in the test set\n",
    "          ]\n",
    "\n",
    "new_row = flatten(new_row)\n",
    "\n",
    "append_results_to_csv(new_row)"
   ]
  },
  {
   "cell_type": "markdown",
   "id": "c777c0a4",
   "metadata": {
    "papermill": {
     "duration": 1.713856,
     "end_time": "2022-12-11T18:26:45.092465",
     "exception": false,
     "start_time": "2022-12-11T18:26:43.378609",
     "status": "completed"
    },
    "tags": []
   },
   "source": [
    "# EXPERIMENT 2A.i.4"
   ]
  },
  {
   "cell_type": "markdown",
   "id": "68e33b27",
   "metadata": {
    "papermill": {
     "duration": 1.729176,
     "end_time": "2022-12-11T18:26:48.452489",
     "exception": false,
     "start_time": "2022-12-11T18:26:46.723313",
     "status": "completed"
    },
    "tags": []
   },
   "source": [
    "Aborted. Too complex, would take too much training time"
   ]
  },
  {
   "cell_type": "code",
   "execution_count": 17,
   "id": "63816017",
   "metadata": {
    "execution": {
     "iopub.execute_input": "2022-12-11T18:26:52.040470Z",
     "iopub.status.busy": "2022-12-11T18:26:52.040002Z",
     "iopub.status.idle": "2022-12-11T18:26:52.053811Z",
     "shell.execute_reply": "2022-12-11T18:26:52.052605Z"
    },
    "papermill": {
     "duration": 1.799336,
     "end_time": "2022-12-11T18:26:52.057481",
     "exception": false,
     "start_time": "2022-12-11T18:26:50.258145",
     "status": "completed"
    },
    "tags": []
   },
   "outputs": [
    {
     "data": {
      "text/plain": [
       "'params = [n_epochs,\\n          batch_size,\\n          loss_fun, \\n          act_fun,\\n          learn_rate, \\n          optmzer,\\n          n_convolutional_layers,\\n          filter_size,\\n          filters_number\\n         ]\\n\\nn_layers = 8\\n\\nparams[6] = n_layers\\nparams[8] = filter_number_opts[3]\\n\\nmodel_id = \"2A.i.4\"\\nmodel_name = f\"BNET-{model_id}\"\\n\\nprint(f\"-------- EXPERIMENT {model_id} ----------\")\\n\\n\\nmodel = Sequential()\\nmodel.add(Conv2D(input_shape=(64,64,3),filters=32,kernel_size=(3,3),padding=\"same\", activation=act_fun))\\nmodel.add(Conv2D(filters=32, kernel_size=(3,3), padding=\"same\", activation=act_fun))\\nmodel.add(MaxPool2D(pool_size=(2,2),strides=(2,2)))\\n\\nmodel.add(Conv2D(filters=64, kernel_size=(3,3), padding=\"same\", activation=act_fun))\\nmodel.add(Conv2D(filters=64, kernel_size=(3,3), padding=\"same\", activation=act_fun))\\nmodel.add(MaxPool2D(pool_size=(2,2),strides=(2,2)))\\n\\nmodel.add(Conv2D(filters=128, kernel_size=(3,3), padding=\"same\", activation=act_fun))\\nmodel.add(Conv2D(filters=128, kernel_size=(3,3), padding=\"same\", activation=act_fun))\\nmodel.add(MaxPool2D(pool_size=(2,2),strides=(2,2)))\\n\\nmodel.add(Conv2D(filters=256, kernel_size=(3,3), padding=\"same\", activation=act_fun))\\nmodel.add(Conv2D(filters=256, kernel_size=(3,3), padding=\"same\", activation=act_fun))\\nmodel.add(MaxPool2D(pool_size=(2,2),strides=(2,2)))\\n\\nmodel.add(Flatten())\\nmodel.add(Dense(units=300, activation=act_fun, kernel_initializer=\"he_normal\"))\\nmodel.add(Dropout(0.5))\\nmodel.add(Dense(class_count, activation=\"softmax\"))\\n\\nmodel.summary()\\n\\n# Model COMPILE and FIT\\nhistory, new_params = run_model(model, model_name, params)\\nparams = new_params\\n# Model EVALUATE\\neval_metrics, cf_matrix, confusion_matrix_df, results_df = get_eval_metrics(history, model, test_set, params)\\n\\nsave_plots(history, output_folder, model_name, confusion_matrix_df)\\n\\nparams_to_save = params\\nparams_to_save[7] = str(params_to_save[7]).replace(\\',\\', \";\")\\nparams_to_save[8] = str(params_to_save[8]).replace(\\',\\', \";\")\\nparams_to_save\\n\\nnew_row = [model_id,\\n           model_name,\\n           params_to_save,\\n           eval_metrics,\\n           len(training_df), # number of images in the training set\\n           len(validation_df), # number of images in the validation set\\n           len(test_df), # number of images in the test set\\n          ]\\n\\nnew_row = flatten(new_row)\\n\\nappend_results_to_csv(new_row)\\n\\n'"
      ]
     },
     "execution_count": 17,
     "metadata": {},
     "output_type": "execute_result"
    }
   ],
   "source": [
    "\"\"\"params = [n_epochs,\n",
    "          batch_size,\n",
    "          loss_fun, \n",
    "          act_fun,\n",
    "          learn_rate, \n",
    "          optmzer,\n",
    "          n_convolutional_layers,\n",
    "          filter_size,\n",
    "          filters_number\n",
    "         ]\n",
    "\n",
    "n_layers = 8\n",
    "\n",
    "params[6] = n_layers\n",
    "params[8] = filter_number_opts[3]\n",
    "\n",
    "model_id = \"2A.i.4\"\n",
    "model_name = f\"BNET-{model_id}\"\n",
    "\n",
    "print(f\"-------- EXPERIMENT {model_id} ----------\")\n",
    "\n",
    "\n",
    "model = Sequential()\n",
    "model.add(Conv2D(input_shape=(64,64,3),filters=32,kernel_size=(3,3),padding=\"same\", activation=act_fun))\n",
    "model.add(Conv2D(filters=32, kernel_size=(3,3), padding=\"same\", activation=act_fun))\n",
    "model.add(MaxPool2D(pool_size=(2,2),strides=(2,2)))\n",
    "\n",
    "model.add(Conv2D(filters=64, kernel_size=(3,3), padding=\"same\", activation=act_fun))\n",
    "model.add(Conv2D(filters=64, kernel_size=(3,3), padding=\"same\", activation=act_fun))\n",
    "model.add(MaxPool2D(pool_size=(2,2),strides=(2,2)))\n",
    "\n",
    "model.add(Conv2D(filters=128, kernel_size=(3,3), padding=\"same\", activation=act_fun))\n",
    "model.add(Conv2D(filters=128, kernel_size=(3,3), padding=\"same\", activation=act_fun))\n",
    "model.add(MaxPool2D(pool_size=(2,2),strides=(2,2)))\n",
    "\n",
    "model.add(Conv2D(filters=256, kernel_size=(3,3), padding=\"same\", activation=act_fun))\n",
    "model.add(Conv2D(filters=256, kernel_size=(3,3), padding=\"same\", activation=act_fun))\n",
    "model.add(MaxPool2D(pool_size=(2,2),strides=(2,2)))\n",
    "\n",
    "model.add(Flatten())\n",
    "model.add(Dense(units=300, activation=act_fun, kernel_initializer=\"he_normal\"))\n",
    "model.add(Dropout(0.5))\n",
    "model.add(Dense(class_count, activation=\"softmax\"))\n",
    "\n",
    "model.summary()\n",
    "\n",
    "# Model COMPILE and FIT\n",
    "history, new_params = run_model(model, model_name, params)\n",
    "params = new_params\n",
    "# Model EVALUATE\n",
    "eval_metrics, cf_matrix, confusion_matrix_df, results_df = get_eval_metrics(history, model, test_set, params)\n",
    "\n",
    "save_plots(history, output_folder, model_name, confusion_matrix_df)\n",
    "\n",
    "params_to_save = params\n",
    "params_to_save[7] = str(params_to_save[7]).replace(',', \";\")\n",
    "params_to_save[8] = str(params_to_save[8]).replace(',', \";\")\n",
    "params_to_save\n",
    "\n",
    "new_row = [model_id,\n",
    "           model_name,\n",
    "           params_to_save,\n",
    "           eval_metrics,\n",
    "           len(training_df), # number of images in the training set\n",
    "           len(validation_df), # number of images in the validation set\n",
    "           len(test_df), # number of images in the test set\n",
    "          ]\n",
    "\n",
    "new_row = flatten(new_row)\n",
    "\n",
    "append_results_to_csv(new_row)\n",
    "\n",
    "\"\"\""
   ]
  }
 ],
 "metadata": {
  "kernelspec": {
   "display_name": "Python 3",
   "language": "python",
   "name": "python3"
  },
  "language_info": {
   "codemirror_mode": {
    "name": "ipython",
    "version": 3
   },
   "file_extension": ".py",
   "mimetype": "text/x-python",
   "name": "python",
   "nbconvert_exporter": "python",
   "pygments_lexer": "ipython3",
   "version": "3.7.12"
  },
  "papermill": {
   "default_parameters": {},
   "duration": 8854.440171,
   "end_time": "2022-12-11T18:26:56.928030",
   "environment_variables": {},
   "exception": null,
   "input_path": "__notebook__.ipynb",
   "output_path": "__notebook__.ipynb",
   "parameters": {},
   "start_time": "2022-12-11T15:59:22.487859",
   "version": "2.3.4"
  }
 },
 "nbformat": 4,
 "nbformat_minor": 5
}
