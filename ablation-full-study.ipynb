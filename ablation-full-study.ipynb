{
 "cells": [
  {
   "cell_type": "markdown",
   "id": "b5b60bfc",
   "metadata": {
    "papermill": {
     "duration": 0.008759,
     "end_time": "2022-12-11T12:31:56.756251",
     "exception": false,
     "start_time": "2022-12-11T12:31:56.747492",
     "status": "completed"
    },
    "tags": []
   },
   "source": [
    "### Import packages"
   ]
  },
  {
   "cell_type": "code",
   "execution_count": 1,
   "id": "4ce21345",
   "metadata": {
    "_kg_hide-input": false,
    "execution": {
     "iopub.execute_input": "2022-12-11T12:31:56.774145Z",
     "iopub.status.busy": "2022-12-11T12:31:56.773156Z",
     "iopub.status.idle": "2022-12-11T12:32:09.598500Z",
     "shell.execute_reply": "2022-12-11T12:32:09.597390Z"
    },
    "jupyter": {
     "source_hidden": true
    },
    "papermill": {
     "duration": 12.837677,
     "end_time": "2022-12-11T12:32:09.601472",
     "exception": false,
     "start_time": "2022-12-11T12:31:56.763795",
     "status": "completed"
    },
    "tags": []
   },
   "outputs": [
    {
     "name": "stdout",
     "output_type": "stream",
     "text": [
      "---------IMPORTING PACKAGES---------\n"
     ]
    }
   ],
   "source": [
    "# Import packages\n",
    "print(\"---------IMPORTING PACKAGES---------\")\n",
    "import numpy as np\n",
    "import pandas as pd\n",
    "import matplotlib.pyplot as plt\n",
    "import seaborn as sns\n",
    "import cv2\n",
    "import os\n",
    "import random\n",
    "import tensorflow as tf\n",
    "import seaborn as sns\n",
    "import random\n",
    "import csv\n",
    "import time\n",
    "import keras\n",
    "\n",
    "from sklearn.utils import shuffle\n",
    "from matplotlib import image\n",
    "from sklearn import metrics\n",
    "from sklearn.metrics import confusion_matrix\n",
    "from keras.preprocessing.image import ImageDataGenerator\n",
    "from keras.applications.vgg16 import VGG16\n",
    "from keras.models import Sequential\n",
    "from keras.layers import Dense, Flatten, Dropout, Conv2D, MaxPool2D\n",
    "from keras.callbacks import ModelCheckpoint, ReduceLROnPlateau, EarlyStopping, ReduceLROnPlateau\n",
    "from tensorflow.keras.optimizers import Adam, Nadam, Adamax, SGD\n",
    "\n",
    "# Suppress keras warnings\n",
    "os.environ[\"TF_CPP_MIN_LOG_LEVEL\"] = \"3\"\n",
    "random.seed(432)\n"
   ]
  },
  {
   "cell_type": "markdown",
   "id": "279b7951",
   "metadata": {
    "papermill": {
     "duration": 0.007169,
     "end_time": "2022-12-11T12:32:09.616276",
     "exception": false,
     "start_time": "2022-12-11T12:32:09.609107",
     "status": "completed"
    },
    "tags": []
   },
   "source": [
    "### Define the changeable parameters"
   ]
  },
  {
   "cell_type": "code",
   "execution_count": 2,
   "id": "e31ead1b",
   "metadata": {
    "execution": {
     "iopub.execute_input": "2022-12-11T12:32:09.633708Z",
     "iopub.status.busy": "2022-12-11T12:32:09.632238Z",
     "iopub.status.idle": "2022-12-11T12:32:09.658881Z",
     "shell.execute_reply": "2022-12-11T12:32:09.657654Z"
    },
    "papermill": {
     "duration": 0.038318,
     "end_time": "2022-12-11T12:32:09.661929",
     "exception": false,
     "start_time": "2022-12-11T12:32:09.623611",
     "status": "completed"
    },
    "tags": []
   },
   "outputs": [],
   "source": [
    "#########################################################\n",
    "################### FIXED VARIABLES #####################\n",
    "#########################################################\n",
    "input_folder = \"/kaggle/input/\"\n",
    "#input_folder_undersampled = input_folder+\"eurosat-undersampled\"\n",
    "output_folder = \"/kaggle/working/\"\n",
    "verbose = 0 # 0-> dont print training info, 1-> print them\n",
    "n_epochs = 2\n",
    "\n",
    "# Model parameters\n",
    "pooling_kernel_size = (2,2)\n",
    "stride = (1,1)\n",
    "#########################################################\n",
    "\n",
    "\n",
    "\n",
    "##############################################################\n",
    "################### HYPERPARAMETER OPTIONS ###################\n",
    "##############################################################\n",
    "# Element [0] is default\n",
    "batch_size_opts = [128, 256, 64] # How big of a set of data to use for every training epoch\n",
    "loss_fun_opts = [\"categorical_crossentropy\",\n",
    "                 \"kl_divergence\",\n",
    "                 \"mean_absolute_error\",\n",
    "                 \"mean_squared_logarithmic_error\"]\n",
    "act_fun_opts = [\"relu\", \"elu\"]\n",
    "learn_rate_opts = [0.0001, 0.0007, 0.001]\n",
    "\n",
    "learn_rate = learn_rate_opts[0] # 2g # FIXED FOR NOW\n",
    "\n",
    "optmzer_opts = [Adam(learning_rate=learn_rate),\n",
    "                Nadam(learning_rate=learn_rate),\n",
    "                Adamax(learning_rate=learn_rate),\n",
    "                SGD(learning_rate=learn_rate)]\n",
    "\n",
    "# Model Architecture:\n",
    "n_convolutional_layers_opts = [2, 4, 5, 8]\n",
    "filter_size_opts = [(2,2), (3,3), (5,5)] # kernel size of the convolutional layer\n",
    "\n",
    "filter_number_opts = [[16, 32],\n",
    "                      [16, 16, 32, 32],\n",
    "                      [16, 32, 32, 32, 64],\n",
    "                      [16, 16, 32, 32, 64, 64, 128, 128]] # DEPENDS ON NUMBER OF CONVOLUTIONAL LAYERS \n",
    "##############################################################\n",
    "\n",
    "\n",
    "\n",
    "##############################################################\n",
    "################### HYPERPARAMETER VALUES ####################\n",
    "##############################################################\n",
    "batch_size = batch_size_opts[0] # 2e\n",
    "loss_fun = loss_fun_opts[0] # FIXED FOR NOW\n",
    "act_fun = act_fun_opts[0] # 2d\n",
    "optmzer = optmzer_opts[0] # 2f\n",
    "n_convolutional_layers = \"current variable\" # 2a\n",
    "filter_size = filter_size_opts[0] # 2b\n",
    "filters_number = \"current variable\"\n",
    "\n",
    "\n",
    "params = [n_epochs,\n",
    "          batch_size,\n",
    "          loss_fun, \n",
    "          act_fun,\n",
    "          learn_rate, \n",
    "          optmzer,\n",
    "          n_convolutional_layers,\n",
    "          filter_size,\n",
    "          filters_number\n",
    "         ]"
   ]
  },
  {
   "cell_type": "markdown",
   "id": "48da6755",
   "metadata": {
    "papermill": {
     "duration": 0.007445,
     "end_time": "2022-12-11T12:32:09.677057",
     "exception": false,
     "start_time": "2022-12-11T12:32:09.669612",
     "status": "completed"
    },
    "tags": []
   },
   "source": [
    "For the number of filters, it makes sense to increase gradually. So that you could leave as a more fixed variable. \n",
    "start with few to get the rough features (line direction) and increase afterwards to pick up on the more abstract details. But don't go too big, else comp complexity spikes up."
   ]
  },
  {
   "cell_type": "markdown",
   "id": "a2ec248f",
   "metadata": {
    "papermill": {
     "duration": 0.007179,
     "end_time": "2022-12-11T12:32:09.693325",
     "exception": false,
     "start_time": "2022-12-11T12:32:09.686146",
     "status": "completed"
    },
    "tags": []
   },
   "source": [
    "### Create a fine to save the results"
   ]
  },
  {
   "cell_type": "code",
   "execution_count": 3,
   "id": "0beff20d",
   "metadata": {
    "execution": {
     "iopub.execute_input": "2022-12-11T12:32:09.710306Z",
     "iopub.status.busy": "2022-12-11T12:32:09.709890Z",
     "iopub.status.idle": "2022-12-11T12:32:09.718419Z",
     "shell.execute_reply": "2022-12-11T12:32:09.717093Z"
    },
    "papermill": {
     "duration": 0.020124,
     "end_time": "2022-12-11T12:32:09.721072",
     "exception": false,
     "start_time": "2022-12-11T12:32:09.700948",
     "status": "completed"
    },
    "tags": []
   },
   "outputs": [],
   "source": [
    "# Open the excel file where I'll save all the test results (metrics)\n",
    "\n",
    "# TODO: add computational complexity\n",
    "\n",
    "with open(\"./results.csv\", \"w\") as csvfile:\n",
    "    filewriter = csv.writer(csvfile, delimiter=',',\n",
    "                            quotechar='|', quoting=csv.QUOTE_MINIMAL)\n",
    "    # Create a row with the column names:\n",
    "    filewriter.writerow([\"model_ID\",\n",
    "                         \"model_name\", \n",
    "                         \"n_epochs\", # params[0]\n",
    "                         \"batch_size\", # params[1]\n",
    "                         \"loss_function\", # params[2]\n",
    "                         \"activation_fun\", # params[3]\n",
    "                         \"learning_rate\", # params[4]\n",
    "                         \"optimizer\", # params[5]\n",
    "                         \"num_conv_layers\", # params[6]\n",
    "                         \"kernel_size\", # params[8]\n",
    "                         \"filter_number\", # params[9]\n",
    "                         \"train_time_per_epoch\",\n",
    "                         \"num_epochs_run\", # epoch where it stopped automatically\n",
    "                         \"test_loss\",\n",
    "                         \"test_accuracy\",\n",
    "                         \"test_auc\",\n",
    "                         \"wa_precision\", # wa = weighted average\n",
    "                         \"wa_recall\",\n",
    "                         \"wa_f1_score\",\n",
    "                         \"wrong_preds\",\n",
    "                         \"total_preds\",\n",
    "                         \"num_train\", # number of images in the training set\n",
    "                         \"num_val\", # number of images in the validation set\n",
    "                         \"num_test\" # number of images in the test set  \n",
    "                        ])"
   ]
  },
  {
   "cell_type": "markdown",
   "id": "6acc5685",
   "metadata": {
    "papermill": {
     "duration": 0.007225,
     "end_time": "2022-12-11T12:32:09.736050",
     "exception": false,
     "start_time": "2022-12-11T12:32:09.728825",
     "status": "completed"
    },
    "tags": []
   },
   "source": [
    "### Define functions"
   ]
  },
  {
   "cell_type": "code",
   "execution_count": 4,
   "id": "80274d5a",
   "metadata": {
    "_cell_guid": "b1076dfc-b9ad-4769-8c92-a6c4dae69d19",
    "_kg_hide-input": false,
    "_uuid": "8f2839f25d086af736a60e9eeb907d3b93b6e0e5",
    "execution": {
     "iopub.execute_input": "2022-12-11T12:32:09.753887Z",
     "iopub.status.busy": "2022-12-11T12:32:09.752835Z",
     "iopub.status.idle": "2022-12-11T12:32:09.771571Z",
     "shell.execute_reply": "2022-12-11T12:32:09.770252Z"
    },
    "jupyter": {
     "source_hidden": true
    },
    "papermill": {
     "duration": 0.030614,
     "end_time": "2022-12-11T12:32:09.774203",
     "exception": false,
     "start_time": "2022-12-11T12:32:09.743589",
     "status": "completed"
    },
    "tags": []
   },
   "outputs": [],
   "source": [
    "# https://stackoverflow.com/questions/39280813/visualization-of-convolutional-layer-in-keras-model\n",
    "# Merdan Memtimin https://stackoverflow.com/users/6565409/merdan-memtimin\n",
    "def plot_conv_weights(model, layer_name):\n",
    "    W = model.get_layer(name=layer_name).get_weights()[0]\n",
    "    if len(W.shape) == 4:\n",
    "        W = np.squeeze(W)\n",
    "        W = W.reshape((W.shape[0], W.shape[1], W.shape[2]*W.shape[3])) \n",
    "        fig, axs = plt.subplots(5,5, figsize=(8,8))\n",
    "        fig.subplots_adjust(hspace = .5, wspace=.001)\n",
    "        axs = axs.ravel()\n",
    "        for i in range(25):\n",
    "            axs[i].imshow(W[:,:,i])\n",
    "            axs[i].set_title(str(i))\n",
    "            \n",
    "            \n",
    "def load_metadata(data_folder, train_file, validation_file, test_file, column_names):\n",
    "    \"\"\"Reads the .csv files containing metadata (e.g. file location, class label) about the data images.\n",
    "    \n",
    "    Parameters:\n",
    "    data_folder (str): file path to the folder containing the csv file.\n",
    "    train_file (str): file name of the file containing metadata for the training set.\n",
    "    validation_file (str): file name of the file containing metadata for the validation set.\n",
    "    test_file (str): file name of the file containing metadata for the test set.\n",
    "    column_names (list): array containing the column names for the csv files\n",
    "    \n",
    "    Returns:\n",
    "    the read trainig, validation, and test files.\n",
    "    \"\"\"\n",
    "    training_df = pd.read_csv(data_folder + train_file, names = column_names, skiprows=1)\n",
    "    validation_df = pd.read_csv(data_folder + validation_file, names = column_names, skiprows=1)\n",
    "    test_df = pd.read_csv(data_folder + test_file, names = column_names, skiprows=1)\n",
    "    \n",
    "    return training_df, validation_df, test_df\n",
    "\n",
    "\n",
    "def flatten(d):\n",
    "    v = [[i] if not isinstance(i, list) else flatten(i) for i in d]\n",
    "    return [i for b in v for i in b]\n",
    "\n",
    "\n",
    "def precision(confusion_matrix):\n",
    "    \"\"\"Given a confusion matrix, calculates and returns precision for all classes\"\"\"\n",
    "    precision_list = []\n",
    "    for i in range(confusion_matrix.shape[1]):\n",
    "        current_col = confusion_matrix[:,[i]]\n",
    "        current_el = confusion_matrix[i,[i]]\n",
    "        current_precision = (float(current_el/sum(current_col)[0]))\n",
    "        current_precision = round(current_precision, 4)\n",
    "        precision_list.append(current_precision)\n",
    "    return precision_list\n",
    "\n",
    "def recall(confusion_matrix):\n",
    "    \"\"\"Given a confusion matrix, calculates and returns recall for all classes\"\"\"\n",
    "    recall_list = []\n",
    "    for i in range(confusion_matrix.shape[0]):\n",
    "        current_row = confusion_matrix[i,:]\n",
    "        current_el = confusion_matrix[i,i]\n",
    "        current_recall = round(current_el/sum(current_row), 4)\n",
    "        recall_list.append(current_recall)\n",
    "    return(recall_list)\n",
    "\n",
    "def f1_score(precision, recall):\n",
    "    \"\"\"Given a list of precision and recall values for a certain matrix,\n",
    "    returns f-1 values for each class\"\"\"\n",
    "    f1_scores = []\n",
    "    if len(precision) == len(recall):\n",
    "        for i in range(len(precision)):\n",
    "            current_f1 = 2*(precision[i]*recall[i])/(precision[i]+recall[i])\n",
    "            f1_scores.append(round(current_f1, 4))\n",
    "    else:\n",
    "        print(\"Error. Precision and Recall lists should be of equal lengths.\")\n",
    "    return f1_scores\n"
   ]
  },
  {
   "cell_type": "markdown",
   "id": "8d2d4c1f",
   "metadata": {
    "papermill": {
     "duration": 0.007274,
     "end_time": "2022-12-11T12:32:09.789141",
     "exception": false,
     "start_time": "2022-12-11T12:32:09.781867",
     "status": "completed"
    },
    "tags": []
   },
   "source": [
    "### Load data"
   ]
  },
  {
   "cell_type": "code",
   "execution_count": 5,
   "id": "0af23dc7",
   "metadata": {
    "execution": {
     "iopub.execute_input": "2022-12-11T12:32:09.806194Z",
     "iopub.status.busy": "2022-12-11T12:32:09.805787Z",
     "iopub.status.idle": "2022-12-11T12:32:09.895292Z",
     "shell.execute_reply": "2022-12-11T12:32:09.893947Z"
    },
    "jupyter": {
     "source_hidden": true
    },
    "papermill": {
     "duration": 0.10187,
     "end_time": "2022-12-11T12:32:09.898720",
     "exception": false,
     "start_time": "2022-12-11T12:32:09.796850",
     "status": "completed"
    },
    "tags": []
   },
   "outputs": [
    {
     "name": "stdout",
     "output_type": "stream",
     "text": [
      "---------LOADING DATA---------\n"
     ]
    }
   ],
   "source": [
    "print(\"---------LOADING DATA---------\")\n",
    "dataset_folder = input_folder + \"eurosat-dataset/\" + \"EuroSAT/\"\n",
    "column_names =  [\"id\", \"path\", \"class_id\", \"class_name\"]\n",
    "\n",
    "training_df, validation_df, test_df = load_metadata(dataset_folder,\n",
    "                                                    \"train.csv\",\n",
    "                                                    \"validation.csv\",\n",
    "                                                    \"test.csv\",\n",
    "                                                    column_names)"
   ]
  },
  {
   "cell_type": "markdown",
   "id": "b9cf91b0",
   "metadata": {
    "papermill": {
     "duration": 0.007177,
     "end_time": "2022-12-11T12:32:09.913455",
     "exception": false,
     "start_time": "2022-12-11T12:32:09.906278",
     "status": "completed"
    },
    "tags": []
   },
   "source": [
    "### Preprocessing"
   ]
  },
  {
   "cell_type": "code",
   "execution_count": 6,
   "id": "9e802789",
   "metadata": {
    "execution": {
     "iopub.execute_input": "2022-12-11T12:32:09.930025Z",
     "iopub.status.busy": "2022-12-11T12:32:09.929632Z",
     "iopub.status.idle": "2022-12-11T12:32:09.935729Z",
     "shell.execute_reply": "2022-12-11T12:32:09.934585Z"
    },
    "jupyter": {
     "source_hidden": true
    },
    "papermill": {
     "duration": 0.017128,
     "end_time": "2022-12-11T12:32:09.938036",
     "exception": false,
     "start_time": "2022-12-11T12:32:09.920908",
     "status": "completed"
    },
    "tags": []
   },
   "outputs": [],
   "source": [
    "# The data is already normalized so that pixels values range from 0,255. We can rescale pixel value between\n",
    "# [0,1] by divinding by 255.\n",
    "\n",
    "rescaling_factor = 1. / 255\n",
    "# Generate batches of tensor image data by setting up the generators.\n",
    "# If you want to perform augmentation, add parameters to the training_generatorF\n",
    "training_generator = ImageDataGenerator(rescale=rescaling_factor)\n",
    "test_generator = ImageDataGenerator(rescale=rescaling_factor)\n",
    "\n",
    "# Size of input data is 64x64 pixels\n",
    "image_width, image_height = (64, 64)"
   ]
  },
  {
   "cell_type": "markdown",
   "id": "2b2afab6",
   "metadata": {
    "papermill": {
     "duration": 0.007029,
     "end_time": "2022-12-11T12:32:09.952347",
     "exception": false,
     "start_time": "2022-12-11T12:32:09.945318",
     "status": "completed"
    },
    "tags": []
   },
   "source": [
    "### Build train, val, test sets"
   ]
  },
  {
   "cell_type": "code",
   "execution_count": 7,
   "id": "d84b4c53",
   "metadata": {
    "execution": {
     "iopub.execute_input": "2022-12-11T12:32:09.969824Z",
     "iopub.status.busy": "2022-12-11T12:32:09.968698Z",
     "iopub.status.idle": "2022-12-11T12:32:48.866472Z",
     "shell.execute_reply": "2022-12-11T12:32:48.865210Z"
    },
    "jupyter": {
     "source_hidden": true
    },
    "papermill": {
     "duration": 38.910444,
     "end_time": "2022-12-11T12:32:48.870236",
     "exception": false,
     "start_time": "2022-12-11T12:32:09.959792",
     "status": "completed"
    },
    "tags": []
   },
   "outputs": [
    {
     "name": "stdout",
     "output_type": "stream",
     "text": [
      "Building training set.\n",
      "Found 18900 validated image filenames belonging to 10 classes.\n",
      "\n",
      "Building validation set.\n",
      "Found 5400 validated image filenames belonging to 10 classes.\n",
      "\n",
      "Building test set\n",
      "Found 2700 validated image filenames belonging to 10 classes.\n"
     ]
    }
   ],
   "source": [
    "print(\"Building training set.\")\n",
    "training_set = training_generator.flow_from_dataframe(\n",
    "    dataframe=training_df,\n",
    "    x_col=\"path\",\n",
    "    y_col=\"class_name\",\n",
    "    directory=dataset_folder,\n",
    "    target_size=(image_height, image_width),\n",
    "    batch_size=batch_size,\n",
    "    class_mode=\"categorical\",\n",
    "    shuffle=False, # for replicability. Anyways they are already shuffled.\n",
    ")\n",
    "\n",
    "print(\"\\nBuilding validation set.\")\n",
    "validation_set = test_generator.flow_from_dataframe(\n",
    "    dataframe=validation_df,\n",
    "    x_col=\"path\",\n",
    "    y_col=\"class_name\",\n",
    "    directory=dataset_folder,\n",
    "    target_size=(image_height, image_width),\n",
    "    batch_size=batch_size,\n",
    "    class_mode=\"categorical\",\n",
    "    shuffle=False,\n",
    ")\n",
    "\n",
    "print(\"\\nBuilding test set\")\n",
    "test_set = test_generator.flow_from_dataframe(\n",
    "    dataframe=test_df,\n",
    "    x_col=\"path\",\n",
    "    y_col=\"class_name\",\n",
    "    directory=dataset_folder,\n",
    "    target_size=(image_height, image_width),\n",
    "    batch_size=batch_size,\n",
    "    class_mode=\"categorical\",\n",
    "    shuffle=False\n",
    ")\n",
    "\n",
    "\n",
    "\n",
    "\n",
    "class_name_list = np.array(list(training_set.class_indices.keys()))\n",
    "labels, count = np.unique(training_set.classes, return_counts=True)\n",
    "\n",
    "class_count = len(class_name_list)\n",
    "\n"
   ]
  },
  {
   "cell_type": "markdown",
   "id": "d140cabd",
   "metadata": {
    "papermill": {
     "duration": 0.007517,
     "end_time": "2022-12-11T12:32:48.886641",
     "exception": false,
     "start_time": "2022-12-11T12:32:48.879124",
     "status": "completed"
    },
    "tags": []
   },
   "source": [
    "# Ablation Study"
   ]
  },
  {
   "cell_type": "code",
   "execution_count": 8,
   "id": "f144d37e",
   "metadata": {
    "execution": {
     "iopub.execute_input": "2022-12-11T12:32:48.904192Z",
     "iopub.status.busy": "2022-12-11T12:32:48.903083Z",
     "iopub.status.idle": "2022-12-11T12:32:48.910197Z",
     "shell.execute_reply": "2022-12-11T12:32:48.908566Z"
    },
    "papermill": {
     "duration": 0.018248,
     "end_time": "2022-12-11T12:32:48.912527",
     "exception": false,
     "start_time": "2022-12-11T12:32:48.894279",
     "status": "completed"
    },
    "tags": []
   },
   "outputs": [
    {
     "name": "stdout",
     "output_type": "stream",
     "text": [
      "---------START OF ABLATION EXPERIMENTS---------\n"
     ]
    }
   ],
   "source": [
    "print(\"---------START OF ABLATION EXPERIMENTS---------\")"
   ]
  },
  {
   "cell_type": "markdown",
   "id": "3036a705",
   "metadata": {
    "papermill": {
     "duration": 0.007504,
     "end_time": "2022-12-11T12:32:48.927611",
     "exception": false,
     "start_time": "2022-12-11T12:32:48.920107",
     "status": "completed"
    },
    "tags": []
   },
   "source": [
    "## Define Functions\n",
    "### Compile and Fit"
   ]
  },
  {
   "cell_type": "markdown",
   "id": "b91eb59f",
   "metadata": {
    "papermill": {
     "duration": 0.007337,
     "end_time": "2022-12-11T12:32:48.942563",
     "exception": false,
     "start_time": "2022-12-11T12:32:48.935226",
     "status": "completed"
    },
    "tags": []
   },
   "source": [
    "Define Time History class to record time taken per epoch."
   ]
  },
  {
   "cell_type": "code",
   "execution_count": 9,
   "id": "fc1327be",
   "metadata": {
    "execution": {
     "iopub.execute_input": "2022-12-11T12:32:48.960308Z",
     "iopub.status.busy": "2022-12-11T12:32:48.959240Z",
     "iopub.status.idle": "2022-12-11T12:32:48.966745Z",
     "shell.execute_reply": "2022-12-11T12:32:48.965677Z"
    },
    "papermill": {
     "duration": 0.01895,
     "end_time": "2022-12-11T12:32:48.969203",
     "exception": false,
     "start_time": "2022-12-11T12:32:48.950253",
     "status": "completed"
    },
    "tags": []
   },
   "outputs": [],
   "source": [
    "class TimeHistory(keras.callbacks.Callback):\n",
    "    def on_train_begin(self, logs={}):\n",
    "        self.times = []\n",
    "\n",
    "    def on_epoch_begin(self, batch, logs={}):\n",
    "        self.epoch_time_start = time.time()\n",
    "\n",
    "    def on_epoch_end(self, batch, logs={}):\n",
    "        self.times.append(time.time() - self.epoch_time_start)"
   ]
  },
  {
   "cell_type": "code",
   "execution_count": 10,
   "id": "6ca985d9",
   "metadata": {
    "execution": {
     "iopub.execute_input": "2022-12-11T12:32:48.987456Z",
     "iopub.status.busy": "2022-12-11T12:32:48.986329Z",
     "iopub.status.idle": "2022-12-11T12:32:48.996553Z",
     "shell.execute_reply": "2022-12-11T12:32:48.995430Z"
    },
    "papermill": {
     "duration": 0.022057,
     "end_time": "2022-12-11T12:32:48.999043",
     "exception": false,
     "start_time": "2022-12-11T12:32:48.976986",
     "status": "completed"
    },
    "tags": []
   },
   "outputs": [],
   "source": [
    "def run_model(model, model_name, params):\n",
    "    \"\"\"\n",
    "    Given a model architecture, the function compiles and fits the model.\n",
    "    \n",
    "    model: model architecture\n",
    "    model_name: \"str\", name used as model description in the output file\n",
    "    params: an array containing the values for the training parameters, namely:\n",
    "    [n_epochs, batch_size, loss_fun, act_fun, learn_rate, optmzer]\n",
    "    \"\"\"\n",
    "    # Path to save the model\n",
    "    model_path = \"/kaggle/working/eurosat_rgb_\" + model_name + \".h5\"\n",
    "    # Save the weigths of the best model\n",
    "    checkpoint = ModelCheckpoint(filepath=model_path, monitor=\"val_loss\", save_best_only=True)\n",
    "    # Reduce learning rate when val_loss stops improving for 5 epochs.\n",
    "    # reduce_lr = ReduceLROnPlateau(monitor=\"val_loss\", factor=0.1, patience=5)\n",
    "    # Stop training if a val_loss has stopped improving for 5 epochs.\n",
    "    early_stopping = EarlyStopping(monitor=\"val_loss\", patience=15, restore_best_weights=True, verbose=verbose)\n",
    "    \n",
    "    time_callback = TimeHistory()\n",
    "    callback_list = [checkpoint, early_stopping, time_callback] #, reduce_lr]\n",
    "    \n",
    "    metrics=['accuracy',\n",
    "             tf.keras.metrics.AUC(from_logits=True)]\n",
    "    \n",
    "    print(\"---------MODEL COMPILE---------\")\n",
    "    model.compile(loss=params[2],\n",
    "                  optimizer=params[5],\n",
    "                  metrics=metrics)\n",
    "\n",
    "    print(\"---------MODEL FIT---------\")\n",
    "    \n",
    "    history = model.fit(\n",
    "        training_set,\n",
    "        validation_data=validation_set,\n",
    "        callbacks=callback_list,\n",
    "        epochs=params[0],\n",
    "        verbose=verbose,\n",
    "    )\n",
    "    \n",
    "    times = time_callback.times\n",
    "    avg_time_epoch = sum(times)/len(times)\n",
    "    new_params = params\n",
    "    new_params.append(avg_time_epoch)\n",
    "\n",
    "    return history, new_params"
   ]
  },
  {
   "cell_type": "markdown",
   "id": "a346553d",
   "metadata": {
    "papermill": {
     "duration": 0.007322,
     "end_time": "2022-12-11T12:32:49.014037",
     "exception": false,
     "start_time": "2022-12-11T12:32:49.006715",
     "status": "completed"
    },
    "tags": []
   },
   "source": [
    "### Get Evaluation Metrics"
   ]
  },
  {
   "cell_type": "code",
   "execution_count": 11,
   "id": "b70088ac",
   "metadata": {
    "execution": {
     "iopub.execute_input": "2022-12-11T12:32:49.031498Z",
     "iopub.status.busy": "2022-12-11T12:32:49.030412Z",
     "iopub.status.idle": "2022-12-11T12:32:49.043492Z",
     "shell.execute_reply": "2022-12-11T12:32:49.042450Z"
    },
    "papermill": {
     "duration": 0.024398,
     "end_time": "2022-12-11T12:32:49.045987",
     "exception": false,
     "start_time": "2022-12-11T12:32:49.021589",
     "status": "completed"
    },
    "tags": []
   },
   "outputs": [],
   "source": [
    "def get_eval_metrics(history, model, test_set, params):\n",
    "    \"\"\"\n",
    "    Given a trained model and a test set, the function returns model eval metrics.\n",
    "    \n",
    "    \n",
    "    \"\"\"\n",
    "    print(\"---------MODEL EVALUATE---------\")\n",
    "    \n",
    "    n_ran_epochs = len(history.history['loss'])\n",
    "    \n",
    "    loss, accuracy, auc = model.evaluate(test_set, verbose=verbose)\n",
    "    \n",
    "    test_set.reset()\n",
    "    predicted_probabilities = model.predict(test_set, steps=test_set.n, verbose=verbose)\n",
    "    predicted_class_ids = np.argmax(predicted_probabilities, axis=1)\n",
    "    report = metrics.classification_report(test_set.labels, predicted_class_ids, output_dict=True)\n",
    "    wa_prec = report[\"weighted avg\"][\"precision\"]\n",
    "    wa_rec = report[\"weighted avg\"][\"recall\"]\n",
    "    wa_f1 = report[\"weighted avg\"][\"f1-score\"]\n",
    "    cf_matrix = confusion_matrix(test_set.labels, predicted_class_ids)\n",
    "    confusion_matrix_df = pd.DataFrame(\n",
    "        data=cf_matrix, \n",
    "        index=class_name_list, \n",
    "        columns=class_name_list\n",
    "    )\n",
    "    results_df = pd.DataFrame(\n",
    "        {\n",
    "            \"label\": test_set.labels, \n",
    "            \"prediction\": predicted_class_ids, \n",
    "            \"path\": test_set.filepaths\n",
    "        }\n",
    "        )\n",
    "\n",
    "    mistakes = results_df[\"label\"] != results_df[\"prediction\"]\n",
    "    mistakes_df = results_df[mistakes]\n",
    "    wrong_preds = len(mistakes_df)\n",
    "    tot_preds = len(results_df)\n",
    "\n",
    "    print(metrics.classification_report(test_set.labels, predicted_class_ids, digits=4))\n",
    "    \n",
    "    \n",
    "    eval_metrics = [n_ran_epochs,\n",
    "                   loss,\n",
    "                   accuracy,\n",
    "                   auc,\n",
    "                   wa_prec,\n",
    "                   wa_rec,\n",
    "                   wa_f1,\n",
    "                   wrong_preds,\n",
    "                   tot_preds\n",
    "        ]\n",
    "    \n",
    "    return eval_metrics, cf_matrix, confusion_matrix_df, results_df"
   ]
  },
  {
   "cell_type": "markdown",
   "id": "382eaf0c",
   "metadata": {
    "papermill": {
     "duration": 0.007404,
     "end_time": "2022-12-11T12:32:49.061115",
     "exception": false,
     "start_time": "2022-12-11T12:32:49.053711",
     "status": "completed"
    },
    "tags": []
   },
   "source": [
    "### Save plots"
   ]
  },
  {
   "cell_type": "code",
   "execution_count": 12,
   "id": "34c1b5dd",
   "metadata": {
    "execution": {
     "iopub.execute_input": "2022-12-11T12:32:49.078975Z",
     "iopub.status.busy": "2022-12-11T12:32:49.077778Z",
     "iopub.status.idle": "2022-12-11T12:32:49.088364Z",
     "shell.execute_reply": "2022-12-11T12:32:49.087329Z"
    },
    "papermill": {
     "duration": 0.021948,
     "end_time": "2022-12-11T12:32:49.090816",
     "exception": false,
     "start_time": "2022-12-11T12:32:49.068868",
     "status": "completed"
    },
    "tags": []
   },
   "outputs": [],
   "source": [
    "def save_plots(history, output_folder, model_name, confusion_matrix_df):\n",
    "    plt.subplot(1, 2, 1)\n",
    "    # Loss\n",
    "    plt.plot(history.history[\"loss\"])\n",
    "    plt.plot(history.history[\"val_loss\"])\n",
    "    plt.title(\"Loss - \" + model_name)\n",
    "    plt.ylabel(\"loss\")\n",
    "    plt.xlabel(\"epoch\")\n",
    "    plt.legend([\"train\", \"validation\"], loc=\"upper left\")\n",
    "\n",
    "    # Accuracy\n",
    "    plt.subplot(1, 2, 2)\n",
    "    plt.plot(history.history[\"accuracy\"])\n",
    "    plt.plot(history.history[\"val_accuracy\"])\n",
    "    plt.title(\"Accuracy - \" + model_name)\n",
    "    plt.ylabel(\"accuracy\")\n",
    "    plt.xlabel(\"epoch\")\n",
    "    plt.legend([\"train\", \"validation\"], loc=\"upper left\")\n",
    "\n",
    "    #plt.show()\n",
    "    plt.savefig(output_folder + model_name + \"_training_curves.png\")\n",
    "    \n",
    "    # CONFUSION MATRIX IMAGE\n",
    "    plt.figure(figsize=(10, 7))\n",
    "    sns.set(font_scale=1)\n",
    "    sns.heatmap(confusion_matrix_df, annot=True, cmap=\"Blues\", annot_kws={\"size\": 9}, fmt=\"g\")\n",
    "    plt.ylabel(\"Label\")\n",
    "    plt.xlabel(\"Prediction\")\n",
    "    plt.title(\"Confusion matrix - \" + model_name)\n",
    "    #plt.show()\n",
    "    plt.savefig(output_folder + model_name + \"_confusion.png\")"
   ]
  },
  {
   "cell_type": "markdown",
   "id": "8d411b12",
   "metadata": {
    "papermill": {
     "duration": 0.007636,
     "end_time": "2022-12-11T12:32:49.106254",
     "exception": false,
     "start_time": "2022-12-11T12:32:49.098618",
     "status": "completed"
    },
    "tags": []
   },
   "source": [
    "### Save numerical results"
   ]
  },
  {
   "cell_type": "code",
   "execution_count": 13,
   "id": "281c1e97",
   "metadata": {
    "execution": {
     "iopub.execute_input": "2022-12-11T12:32:49.124271Z",
     "iopub.status.busy": "2022-12-11T12:32:49.123115Z",
     "iopub.status.idle": "2022-12-11T12:32:49.130252Z",
     "shell.execute_reply": "2022-12-11T12:32:49.129196Z"
    },
    "papermill": {
     "duration": 0.018587,
     "end_time": "2022-12-11T12:32:49.132651",
     "exception": false,
     "start_time": "2022-12-11T12:32:49.114064",
     "status": "completed"
    },
    "tags": []
   },
   "outputs": [],
   "source": [
    "def append_results_to_csv(csv_row):\n",
    "    print(\"---------SAVE RESULTS---------\")\n",
    "    \"\"\"Append the results to the csv file\n",
    "    csv_row: list, contains the information to append to the csv\"\"\"\n",
    "    \n",
    "    with open(\"./results.csv\", 'a+', newline='') as csvfile:\n",
    "        filewriter = csv.writer(csvfile, delimiter=',',\n",
    "                                quotechar='|', quoting=csv.QUOTE_MINIMAL)\n",
    "        # Create a row with the column names:\n",
    "        filewriter.writerow(csv_row)\n"
   ]
  },
  {
   "cell_type": "markdown",
   "id": "d5b4b6f6",
   "metadata": {
    "papermill": {
     "duration": 0.009009,
     "end_time": "2022-12-11T12:32:49.149483",
     "exception": false,
     "start_time": "2022-12-11T12:32:49.140474",
     "status": "completed"
    },
    "tags": []
   },
   "source": [
    "# EXPERIMENT 2A.i.i"
   ]
  },
  {
   "cell_type": "code",
   "execution_count": 14,
   "id": "b259beca",
   "metadata": {
    "execution": {
     "iopub.execute_input": "2022-12-11T12:32:49.167454Z",
     "iopub.status.busy": "2022-12-11T12:32:49.166307Z",
     "iopub.status.idle": "2022-12-11T12:36:50.812375Z",
     "shell.execute_reply": "2022-12-11T12:36:50.811244Z"
    },
    "papermill": {
     "duration": 241.657692,
     "end_time": "2022-12-11T12:36:50.814982",
     "exception": false,
     "start_time": "2022-12-11T12:32:49.157290",
     "status": "completed"
    },
    "tags": []
   },
   "outputs": [
    {
     "name": "stdout",
     "output_type": "stream",
     "text": [
      "-------- EXPERIMENT 2A.i.1 ----------\n",
      "Model: \"sequential\"\n",
      "_________________________________________________________________\n",
      "Layer (type)                 Output Shape              Param #   \n",
      "=================================================================\n",
      "conv2d (Conv2D)              (None, 64, 64, 32)        896       \n",
      "_________________________________________________________________\n",
      "max_pooling2d (MaxPooling2D) (None, 32, 32, 32)        0         \n",
      "_________________________________________________________________\n",
      "conv2d_1 (Conv2D)            (None, 32, 32, 64)        18496     \n",
      "_________________________________________________________________\n",
      "max_pooling2d_1 (MaxPooling2 (None, 16, 16, 64)        0         \n",
      "_________________________________________________________________\n",
      "flatten (Flatten)            (None, 16384)             0         \n",
      "_________________________________________________________________\n",
      "dense (Dense)                (None, 1000)              16385000  \n",
      "_________________________________________________________________\n",
      "dropout (Dropout)            (None, 1000)              0         \n",
      "_________________________________________________________________\n",
      "dense_1 (Dense)              (None, 10)                10010     \n",
      "=================================================================\n",
      "Total params: 16,414,402\n",
      "Trainable params: 16,414,402\n",
      "Non-trainable params: 0\n",
      "_________________________________________________________________\n",
      "---------MODEL COMPILE---------\n",
      "---------MODEL FIT---------\n",
      "---------MODEL EVALUATE---------\n",
      "              precision    recall  f1-score   support\n",
      "\n",
      "           0     0.7358    0.7800    0.7573       300\n",
      "           1     0.6475    0.7900    0.7117       300\n",
      "           2     0.4899    0.5633    0.5240       300\n",
      "           3     0.5286    0.1480    0.2312       250\n",
      "           4     0.8579    0.6760    0.7562       250\n",
      "           5     0.5000    0.5850    0.5392       200\n",
      "           6     0.5640    0.4760    0.5163       250\n",
      "           7     0.6221    0.9000    0.7357       300\n",
      "           8     0.4079    0.3720    0.3891       250\n",
      "           9     0.7744    0.7667    0.7705       300\n",
      "\n",
      "    accuracy                         0.6204      2700\n",
      "   macro avg     0.6128    0.6057    0.5931      2700\n",
      "weighted avg     0.6187    0.6204    0.6040      2700\n",
      "\n",
      "---------SAVE RESULTS---------\n"
     ]
    },
    {
     "data": {
      "image/png": "[encoded data removed]",
      "text/plain": [
       "<Figure size 432x288 with 2 Axes>"
      ]
     },
     "metadata": {
      "needs_background": "light"
     },
     "output_type": "display_data"
    },
    {
     "data": {
      "image/png": "[encoded data removed]",
      "text/plain": [
       "<Figure size 720x504 with 2 Axes>"
      ]
     },
     "metadata": {
      "needs_background": "light"
     },
     "output_type": "display_data"
    }
   ],
   "source": [
    "n_layers = 2\n",
    "\n",
    "params[6] = n_layers\n",
    "params[8] = filter_number_opts[0]\n",
    "\n",
    "model_id = \"2A.i.1\"\n",
    "model_name = f\"BNET-{model_id}\"\n",
    "\n",
    "print(f\"-------- EXPERIMENT {model_id} ----------\")\n",
    "\n",
    "\n",
    "model = Sequential()\n",
    "model.add(Conv2D(input_shape=(64,64,3),filters=32,kernel_size=(3,3),padding=\"same\", activation=act_fun))\n",
    "model.add(MaxPool2D(pool_size=(2,2),strides=(2,2)))\n",
    "model.add(Conv2D(filters=64, kernel_size=(3,3), padding=\"same\", activation=act_fun))\n",
    "model.add(MaxPool2D(pool_size=(2,2),strides=(2,2)))\n",
    "model.add(Flatten())\n",
    "model.add(Dense(units=1000, activation=act_fun, kernel_initializer=\"he_normal\"))\n",
    "model.add(Dropout(0.5))\n",
    "model.add(Dense(class_count, activation=\"softmax\"))\n",
    "\n",
    "model.summary()\n",
    "\n",
    "\n",
    "# Model COMPILE and FIT\n",
    "history, new_params = run_model(model, model_name, params)\n",
    "params = new_params\n",
    "# Model EVALUATE\n",
    "eval_metrics, cf_matrix, confusion_matrix_df, results_df = get_eval_metrics(history, model, test_set, params)\n",
    "\n",
    "save_plots(history, output_folder, model_name, confusion_matrix_df)\n",
    "\n",
    "new_row = [model_id,\n",
    "           model_name,\n",
    "           params,\n",
    "           eval_metrics,\n",
    "           len(training_df), # number of images in the training set\n",
    "           len(validation_df), # number of images in the validation set\n",
    "           len(test_df), # number of images in the test set\n",
    "          ]\n",
    "\n",
    "new_row = flatten(new_row)\n",
    "\n",
    "append_results_to_csv(new_row)\n"
   ]
  },
  {
   "cell_type": "code",
   "execution_count": 15,
   "id": "050ee5b5",
   "metadata": {
    "execution": {
     "iopub.execute_input": "2022-12-11T12:36:50.836848Z",
     "iopub.status.busy": "2022-12-11T12:36:50.834975Z",
     "iopub.status.idle": "2022-12-11T12:36:50.922936Z",
     "shell.execute_reply": "2022-12-11T12:36:50.921500Z"
    },
    "papermill": {
     "duration": 0.101821,
     "end_time": "2022-12-11T12:36:50.926161",
     "exception": false,
     "start_time": "2022-12-11T12:36:50.824340",
     "status": "completed"
    },
    "tags": []
   },
   "outputs": [
    {
     "name": "stdout",
     "output_type": "stream",
     "text": [
      "-------- EXPERIMENT 2A.i.2 ----------\n",
      "Model: \"sequential_1\"\n",
      "_________________________________________________________________\n",
      "Layer (type)                 Output Shape              Param #   \n",
      "=================================================================\n",
      "conv2d_2 (Conv2D)            (None, 64, 64, 32)        896       \n",
      "_________________________________________________________________\n",
      "max_pooling2d_2 (MaxPooling2 (None, 32, 32, 32)        0         \n",
      "_________________________________________________________________\n",
      "conv2d_3 (Conv2D)            (None, 32, 32, 32)        9248      \n",
      "_________________________________________________________________\n",
      "max_pooling2d_3 (MaxPooling2 (None, 16, 16, 32)        0         \n",
      "_________________________________________________________________\n",
      "conv2d_4 (Conv2D)            (None, 16, 16, 64)        18496     \n",
      "_________________________________________________________________\n",
      "max_pooling2d_4 (MaxPooling2 (None, 8, 8, 64)          0         \n",
      "_________________________________________________________________\n",
      "conv2d_5 (Conv2D)            (None, 8, 8, 64)          36928     \n",
      "_________________________________________________________________\n",
      "max_pooling2d_5 (MaxPooling2 (None, 4, 4, 64)          0         \n",
      "_________________________________________________________________\n",
      "flatten_1 (Flatten)          (None, 1024)              0         \n",
      "_________________________________________________________________\n",
      "dense_2 (Dense)              (None, 250)               256250    \n",
      "_________________________________________________________________\n",
      "dropout_1 (Dropout)          (None, 250)               0         \n",
      "_________________________________________________________________\n",
      "dense_3 (Dense)              (None, 10)                2510      \n",
      "=================================================================\n",
      "Total params: 324,328\n",
      "Trainable params: 324,328\n",
      "Non-trainable params: 0\n",
      "_________________________________________________________________\n"
     ]
    }
   ],
   "source": [
    "n_layers = 4\n",
    "\n",
    "params[6] = n_layers\n",
    "params[8] = filter_number_opts[1]\n",
    "\n",
    "model_id = \"2A.i.2\"\n",
    "model_name = f\"BNET-{model_id}\"\n",
    "\n",
    "print(f\"-------- EXPERIMENT {model_id} ----------\")\n",
    "\n",
    "\n",
    "model = Sequential()\n",
    "model.add(Conv2D(input_shape=(64,64,3),filters=32,kernel_size=(3,3),padding=\"same\", activation=act_fun))\n",
    "model.add(MaxPool2D(pool_size=(2,2),strides=(2,2)))\n",
    "model.add(Conv2D(filters=32, kernel_size=(3,3), padding=\"same\", activation=act_fun))\n",
    "model.add(MaxPool2D(pool_size=(2,2),strides=(2,2)))\n",
    "\n",
    "model.add(Conv2D(filters=64, kernel_size=(3,3), padding=\"same\", activation=act_fun))\n",
    "model.add(MaxPool2D(pool_size=(2,2),strides=(2,2)))\n",
    "model.add(Conv2D(filters=64, kernel_size=(3,3), padding=\"same\", activation=act_fun))\n",
    "model.add(MaxPool2D(pool_size=(2,2),strides=(2,2)))\n",
    "\n",
    "model.add(Flatten())\n",
    "model.add(Dense(units=250, activation=act_fun, kernel_initializer=\"he_normal\"))\n",
    "model.add(Dropout(0.5))\n",
    "model.add(Dense(class_count, activation=\"softmax\"))\n",
    "\n",
    "model.summary()"
   ]
  },
  {
   "cell_type": "code",
   "execution_count": 16,
   "id": "39530df7",
   "metadata": {
    "execution": {
     "iopub.execute_input": "2022-12-11T12:36:50.947819Z",
     "iopub.status.busy": "2022-12-11T12:36:50.945975Z",
     "iopub.status.idle": "2022-12-11T12:36:51.042934Z",
     "shell.execute_reply": "2022-12-11T12:36:51.039880Z"
    },
    "papermill": {
     "duration": 0.110808,
     "end_time": "2022-12-11T12:36:51.046417",
     "exception": false,
     "start_time": "2022-12-11T12:36:50.935609",
     "status": "completed"
    },
    "tags": []
   },
   "outputs": [
    {
     "name": "stdout",
     "output_type": "stream",
     "text": [
      "-------- EXPERIMENT 2A.i.3 ----------\n",
      "Model: \"sequential_2\"\n",
      "_________________________________________________________________\n",
      "Layer (type)                 Output Shape              Param #   \n",
      "=================================================================\n",
      "conv2d_6 (Conv2D)            (None, 64, 64, 32)        896       \n",
      "_________________________________________________________________\n",
      "max_pooling2d_6 (MaxPooling2 (None, 32, 32, 32)        0         \n",
      "_________________________________________________________________\n",
      "conv2d_7 (Conv2D)            (None, 32, 32, 32)        9248      \n",
      "_________________________________________________________________\n",
      "max_pooling2d_7 (MaxPooling2 (None, 16, 16, 32)        0         \n",
      "_________________________________________________________________\n",
      "conv2d_8 (Conv2D)            (None, 16, 16, 64)        18496     \n",
      "_________________________________________________________________\n",
      "max_pooling2d_8 (MaxPooling2 (None, 8, 8, 64)          0         \n",
      "_________________________________________________________________\n",
      "conv2d_9 (Conv2D)            (None, 8, 8, 64)          36928     \n",
      "_________________________________________________________________\n",
      "conv2d_10 (Conv2D)           (None, 8, 8, 128)         73856     \n",
      "_________________________________________________________________\n",
      "max_pooling2d_9 (MaxPooling2 (None, 4, 4, 128)         0         \n",
      "_________________________________________________________________\n",
      "flatten_2 (Flatten)          (None, 2048)              0         \n",
      "_________________________________________________________________\n",
      "dense_4 (Dense)              (None, 200)               409800    \n",
      "_________________________________________________________________\n",
      "dropout_2 (Dropout)          (None, 200)               0         \n",
      "_________________________________________________________________\n",
      "dense_5 (Dense)              (None, 10)                2010      \n",
      "=================================================================\n",
      "Total params: 551,234\n",
      "Trainable params: 551,234\n",
      "Non-trainable params: 0\n",
      "_________________________________________________________________\n"
     ]
    }
   ],
   "source": [
    "n_layers = 5\n",
    "\n",
    "params[6] = n_layers\n",
    "params[8] = filter_number_opts[2]\n",
    "\n",
    "model_id = \"2A.i.3\"\n",
    "model_name = f\"BNET-{model_id}\"\n",
    "\n",
    "print(f\"-------- EXPERIMENT {model_id} ----------\")\n",
    "\n",
    "\n",
    "model = Sequential()\n",
    "model.add(Conv2D(input_shape=(64,64,3),filters=32,kernel_size=(3,3),padding=\"same\", activation=act_fun))\n",
    "model.add(MaxPool2D(pool_size=(2,2),strides=(2,2)))\n",
    "model.add(Conv2D(filters=32, kernel_size=(3,3), padding=\"same\", activation=act_fun))\n",
    "model.add(MaxPool2D(pool_size=(2,2),strides=(2,2)))\n",
    "\n",
    "model.add(Conv2D(filters=64, kernel_size=(3,3), padding=\"same\", activation=act_fun))\n",
    "model.add(MaxPool2D(pool_size=(2,2),strides=(2,2)))\n",
    "model.add(Conv2D(filters=64, kernel_size=(3,3), padding=\"same\", activation=act_fun))\n",
    "model.add(Conv2D(filters=128, kernel_size=(3,3), padding=\"same\", activation=act_fun))\n",
    "model.add(MaxPool2D(pool_size=(2,2),strides=(2,2)))\n",
    "\n",
    "model.add(Flatten())\n",
    "model.add(Dense(units=200, activation=act_fun, kernel_initializer=\"he_normal\"))\n",
    "model.add(Dropout(0.5))\n",
    "model.add(Dense(class_count, activation=\"softmax\"))\n",
    "\n",
    "model.summary()"
   ]
  },
  {
   "cell_type": "code",
   "execution_count": 17,
   "id": "179b121a",
   "metadata": {
    "execution": {
     "iopub.execute_input": "2022-12-11T12:36:51.068145Z",
     "iopub.status.busy": "2022-12-11T12:36:51.067386Z",
     "iopub.status.idle": "2022-12-11T12:36:51.197375Z",
     "shell.execute_reply": "2022-12-11T12:36:51.194169Z"
    },
    "papermill": {
     "duration": 0.143553,
     "end_time": "2022-12-11T12:36:51.200139",
     "exception": false,
     "start_time": "2022-12-11T12:36:51.056586",
     "status": "completed"
    },
    "tags": []
   },
   "outputs": [
    {
     "name": "stdout",
     "output_type": "stream",
     "text": [
      "-------- EXPERIMENT 2A.i.4 ----------\n",
      "Model: \"sequential_3\"\n",
      "_________________________________________________________________\n",
      "Layer (type)                 Output Shape              Param #   \n",
      "=================================================================\n",
      "conv2d_11 (Conv2D)           (None, 64, 64, 32)        896       \n",
      "_________________________________________________________________\n",
      "conv2d_12 (Conv2D)           (None, 64, 64, 32)        9248      \n",
      "_________________________________________________________________\n",
      "max_pooling2d_10 (MaxPooling (None, 32, 32, 32)        0         \n",
      "_________________________________________________________________\n",
      "conv2d_13 (Conv2D)           (None, 32, 32, 64)        18496     \n",
      "_________________________________________________________________\n",
      "conv2d_14 (Conv2D)           (None, 32, 32, 64)        36928     \n",
      "_________________________________________________________________\n",
      "max_pooling2d_11 (MaxPooling (None, 16, 16, 64)        0         \n",
      "_________________________________________________________________\n",
      "conv2d_15 (Conv2D)           (None, 16, 16, 128)       73856     \n",
      "_________________________________________________________________\n",
      "conv2d_16 (Conv2D)           (None, 16, 16, 128)       147584    \n",
      "_________________________________________________________________\n",
      "max_pooling2d_12 (MaxPooling (None, 8, 8, 128)         0         \n",
      "_________________________________________________________________\n",
      "conv2d_17 (Conv2D)           (None, 8, 8, 256)         295168    \n",
      "_________________________________________________________________\n",
      "conv2d_18 (Conv2D)           (None, 8, 8, 256)         590080    \n",
      "_________________________________________________________________\n",
      "max_pooling2d_13 (MaxPooling (None, 4, 4, 256)         0         \n",
      "_________________________________________________________________\n",
      "flatten_3 (Flatten)          (None, 4096)              0         \n",
      "_________________________________________________________________\n",
      "dense_6 (Dense)              (None, 300)               1229100   \n",
      "_________________________________________________________________\n",
      "dropout_3 (Dropout)          (None, 300)               0         \n",
      "_________________________________________________________________\n",
      "dense_7 (Dense)              (None, 10)                3010      \n",
      "=================================================================\n",
      "Total params: 2,404,366\n",
      "Trainable params: 2,404,366\n",
      "Non-trainable params: 0\n",
      "_________________________________________________________________\n"
     ]
    }
   ],
   "source": [
    "n_layers = 8\n",
    "\n",
    "params[6] = n_layers\n",
    "params[8] = filter_number_opts[3]\n",
    "\n",
    "model_id = \"2A.i.4\"\n",
    "model_name = f\"BNET-{model_id}\"\n",
    "\n",
    "print(f\"-------- EXPERIMENT {model_id} ----------\")\n",
    "\n",
    "\n",
    "model = Sequential()\n",
    "model.add(Conv2D(input_shape=(64,64,3),filters=32,kernel_size=(3,3),padding=\"same\", activation=act_fun))\n",
    "model.add(Conv2D(filters=32, kernel_size=(3,3), padding=\"same\", activation=act_fun))\n",
    "model.add(MaxPool2D(pool_size=(2,2),strides=(2,2)))\n",
    "\n",
    "model.add(Conv2D(filters=64, kernel_size=(3,3), padding=\"same\", activation=act_fun))\n",
    "model.add(Conv2D(filters=64, kernel_size=(3,3), padding=\"same\", activation=act_fun))\n",
    "model.add(MaxPool2D(pool_size=(2,2),strides=(2,2)))\n",
    "\n",
    "model.add(Conv2D(filters=128, kernel_size=(3,3), padding=\"same\", activation=act_fun))\n",
    "model.add(Conv2D(filters=128, kernel_size=(3,3), padding=\"same\", activation=act_fun))\n",
    "model.add(MaxPool2D(pool_size=(2,2),strides=(2,2)))\n",
    "\n",
    "model.add(Conv2D(filters=256, kernel_size=(3,3), padding=\"same\", activation=act_fun))\n",
    "model.add(Conv2D(filters=256, kernel_size=(3,3), padding=\"same\", activation=act_fun))\n",
    "model.add(MaxPool2D(pool_size=(2,2),strides=(2,2)))\n",
    "\n",
    "model.add(Flatten())\n",
    "model.add(Dense(units=300, activation=act_fun, kernel_initializer=\"he_normal\"))\n",
    "model.add(Dropout(0.5))\n",
    "model.add(Dense(class_count, activation=\"softmax\"))\n",
    "\n",
    "model.summary()"
   ]
  }
 ],
 "metadata": {
  "kernelspec": {
   "display_name": "Python 3",
   "language": "python",
   "name": "python3"
  },
  "language_info": {
   "codemirror_mode": {
    "name": "ipython",
    "version": 3
   },
   "file_extension": ".py",
   "mimetype": "text/x-python",
   "name": "python",
   "nbconvert_exporter": "python",
   "pygments_lexer": "ipython3",
   "version": "3.7.12"
  },
  "papermill": {
   "default_parameters": {},
   "duration": 310.560227,
   "end_time": "2022-12-11T12:36:54.517491",
   "environment_variables": {},
   "exception": null,
   "input_path": "__notebook__.ipynb",
   "output_path": "__notebook__.ipynb",
   "parameters": {},
   "start_time": "2022-12-11T12:31:43.957264",
   "version": "2.3.4"
  }
 },
 "nbformat": 4,
 "nbformat_minor": 5
}
