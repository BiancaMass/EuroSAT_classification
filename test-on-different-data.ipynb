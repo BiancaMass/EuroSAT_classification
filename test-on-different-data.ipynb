{
 "cells": [
  {
   "cell_type": "markdown",
   "id": "817aedc4",
   "metadata": {
    "papermill": {
     "duration": 0.005414,
     "end_time": "2022-12-14T16:42:10.125988",
     "exception": false,
     "start_time": "2022-12-14T16:42:10.120574",
     "status": "completed"
    },
    "tags": []
   },
   "source": [
    "### Import packages"
   ]
  },
  {
   "cell_type": "code",
   "execution_count": 1,
   "id": "f12ae166",
   "metadata": {
    "_kg_hide-input": false,
    "execution": {
     "iopub.execute_input": "2022-12-14T16:42:10.136678Z",
     "iopub.status.busy": "2022-12-14T16:42:10.135970Z",
     "iopub.status.idle": "2022-12-14T16:42:17.170046Z",
     "shell.execute_reply": "2022-12-14T16:42:17.169098Z"
    },
    "papermill": {
     "duration": 7.04214,
     "end_time": "2022-12-14T16:42:17.172597",
     "exception": false,
     "start_time": "2022-12-14T16:42:10.130457",
     "status": "completed"
    },
    "tags": []
   },
   "outputs": [
    {
     "name": "stdout",
     "output_type": "stream",
     "text": [
      "---------IMPORTING PACKAGES---------\n"
     ]
    }
   ],
   "source": [
    "# Import packages\n",
    "print(\"---------IMPORTING PACKAGES---------\")\n",
    "import numpy as np\n",
    "import pandas as pd\n",
    "import matplotlib.pyplot as plt\n",
    "import seaborn as sns\n",
    "import cv2\n",
    "import os\n",
    "import random\n",
    "import tensorflow as tf\n",
    "import seaborn as sns\n",
    "import random\n",
    "import csv\n",
    "import time\n",
    "import keras\n",
    "\n",
    "from sklearn.utils import shuffle\n",
    "from matplotlib import image\n",
    "from sklearn import metrics\n",
    "from sklearn.metrics import confusion_matrix\n",
    "from keras.preprocessing.image import ImageDataGenerator\n",
    "from keras.applications.vgg16 import VGG16\n",
    "from keras.models import Sequential\n",
    "from keras.layers import Dense, Flatten, Dropout, Conv2D, MaxPool2D\n",
    "from keras.callbacks import ModelCheckpoint, ReduceLROnPlateau, EarlyStopping, ReduceLROnPlateau\n",
    "from tensorflow.keras.optimizers import Adam, Nadam, Adamax, SGD\n",
    "\n",
    "# Suppress keras warnings\n",
    "os.environ[\"TF_CPP_MIN_LOG_LEVEL\"] = \"3\"\n",
    "random.seed(432)\n"
   ]
  },
  {
   "cell_type": "markdown",
   "id": "d9b50771",
   "metadata": {
    "papermill": {
     "duration": 0.004384,
     "end_time": "2022-12-14T16:42:17.181784",
     "exception": false,
     "start_time": "2022-12-14T16:42:17.177400",
     "status": "completed"
    },
    "tags": []
   },
   "source": [
    "### Define the changeable parameters"
   ]
  },
  {
   "cell_type": "code",
   "execution_count": 2,
   "id": "df43cde8",
   "metadata": {
    "execution": {
     "iopub.execute_input": "2022-12-14T16:42:17.192796Z",
     "iopub.status.busy": "2022-12-14T16:42:17.192234Z",
     "iopub.status.idle": "2022-12-14T16:42:17.206793Z",
     "shell.execute_reply": "2022-12-14T16:42:17.205867Z"
    },
    "papermill": {
     "duration": 0.02229,
     "end_time": "2022-12-14T16:42:17.208875",
     "exception": false,
     "start_time": "2022-12-14T16:42:17.186585",
     "status": "completed"
    },
    "tags": []
   },
   "outputs": [],
   "source": [
    "input_folder = \"/kaggle/input/\"\n",
    "output_folder = \"/kaggle/working/\"\n",
    "verbose = 1 # 0-> dont print training info, 1-> print them\n",
    "n_epochs = 60\n",
    "\n",
    "batch_size = 128\n",
    "learn_rate = 0.0001\n",
    "loss_fun = \"mean_squared_logarithmic_error\"\n",
    "act_fun = \"elu\"\n",
    "optmzer = Nadam(learning_rate=learn_rate)\n",
    "n_convolutional_layers = 8\n",
    "filter_size = (3,3)\n",
    "filters_number = \"NA\"\n",
    "\n",
    "params = [n_epochs,\n",
    "          batch_size,\n",
    "          loss_fun, \n",
    "          act_fun,\n",
    "          learn_rate, \n",
    "          optmzer,\n",
    "          n_convolutional_layers,\n",
    "          filter_size\n",
    "         ]"
   ]
  },
  {
   "cell_type": "markdown",
   "id": "9bc0ad65",
   "metadata": {
    "papermill": {
     "duration": 0.004849,
     "end_time": "2022-12-14T16:42:17.218610",
     "exception": false,
     "start_time": "2022-12-14T16:42:17.213761",
     "status": "completed"
    },
    "tags": []
   },
   "source": [
    "For the number of filters, it makes sense to increase gradually. So that you could leave as a more fixed variable. \n",
    "start with few to get the rough features (line direction) and increase afterwards to pick up on the more abstract details. But don't go too big, else comp complexity spikes up."
   ]
  },
  {
   "cell_type": "markdown",
   "id": "3dade983",
   "metadata": {
    "papermill": {
     "duration": 0.004814,
     "end_time": "2022-12-14T16:42:17.228452",
     "exception": false,
     "start_time": "2022-12-14T16:42:17.223638",
     "status": "completed"
    },
    "tags": []
   },
   "source": [
    "### Create a fine to save the results"
   ]
  },
  {
   "cell_type": "code",
   "execution_count": 3,
   "id": "f9568e2a",
   "metadata": {
    "execution": {
     "iopub.execute_input": "2022-12-14T16:42:17.240131Z",
     "iopub.status.busy": "2022-12-14T16:42:17.239395Z",
     "iopub.status.idle": "2022-12-14T16:42:17.246499Z",
     "shell.execute_reply": "2022-12-14T16:42:17.245597Z"
    },
    "papermill": {
     "duration": 0.015151,
     "end_time": "2022-12-14T16:42:17.248628",
     "exception": false,
     "start_time": "2022-12-14T16:42:17.233477",
     "status": "completed"
    },
    "tags": []
   },
   "outputs": [],
   "source": [
    "# Open the excel file where I'll save all the test results (metrics)\n",
    "\n",
    "with open(\"./results.csv\", \"w\") as csvfile:\n",
    "    filewriter = csv.writer(csvfile, delimiter=',',\n",
    "                            quotechar='|', quoting=csv.QUOTE_MINIMAL)\n",
    "    # Create a row with the column names:\n",
    "    filewriter.writerow([\"experiment_ID\",\n",
    "                         \"model_name\", \n",
    "                         \"n_epochs\", # params[0]\n",
    "                         \"batch_size\", # params[1]\n",
    "                         \"loss_function\", # params[2]\n",
    "                         \"activation_fun\", # params[3]\n",
    "                         \"learning_rate\", # params[4]\n",
    "                         \"optimizer\", # params[5]\n",
    "                         \"num_conv_layers\", # params[6]\n",
    "                         \"kernel_size\", # params[7]\n",
    "                         \"train_time_per_epoch\",\n",
    "                         \"num_epochs_run\", # epoch where it stopped automatically\n",
    "                         \"test_loss\",\n",
    "                         \"test_accuracy\",\n",
    "                         \"test_auc\",\n",
    "                         \"wa_precision\", # wa = weighted average\n",
    "                         \"wa_recall\",\n",
    "                         \"wa_f1_score\",\n",
    "                         \"wrong_preds\",\n",
    "                         \"total_preds\",\n",
    "                         \"num_train\", # number of images in the training set\n",
    "                         \"num_val\", # number of images in the validation set\n",
    "                         \"num_test\" # number of images in the test set  \n",
    "                        ])"
   ]
  },
  {
   "cell_type": "markdown",
   "id": "febc8e09",
   "metadata": {
    "papermill": {
     "duration": 0.004891,
     "end_time": "2022-12-14T16:42:17.258669",
     "exception": false,
     "start_time": "2022-12-14T16:42:17.253778",
     "status": "completed"
    },
    "tags": []
   },
   "source": [
    "### Define functions"
   ]
  },
  {
   "cell_type": "code",
   "execution_count": 4,
   "id": "35c4019b",
   "metadata": {
    "_cell_guid": "b1076dfc-b9ad-4769-8c92-a6c4dae69d19",
    "_kg_hide-input": false,
    "_uuid": "8f2839f25d086af736a60e9eeb907d3b93b6e0e5",
    "execution": {
     "iopub.execute_input": "2022-12-14T16:42:17.271464Z",
     "iopub.status.busy": "2022-12-14T16:42:17.271180Z",
     "iopub.status.idle": "2022-12-14T16:42:17.286920Z",
     "shell.execute_reply": "2022-12-14T16:42:17.285959Z"
    },
    "papermill": {
     "duration": 0.024054,
     "end_time": "2022-12-14T16:42:17.289029",
     "exception": false,
     "start_time": "2022-12-14T16:42:17.264975",
     "status": "completed"
    },
    "tags": []
   },
   "outputs": [],
   "source": [
    "# https://stackoverflow.com/questions/39280813/visualization-of-convolutional-layer-in-keras-model\n",
    "# Merdan Memtimin https://stackoverflow.com/users/6565409/merdan-memtimin\n",
    "def plot_conv_weights(model, layer_name):\n",
    "    W = model.get_layer(name=layer_name).get_weights()[0]\n",
    "    if len(W.shape) == 4:\n",
    "        W = np.squeeze(W)\n",
    "        W = W.reshape((W.shape[0], W.shape[1], W.shape[2]*W.shape[3])) \n",
    "        fig, axs = plt.subplots(5,5, figsize=(8,8))\n",
    "        fig.subplots_adjust(hspace = .5, wspace=.001)\n",
    "        axs = axs.ravel()\n",
    "        for i in range(25):\n",
    "            axs[i].imshow(W[:,:,i])\n",
    "            axs[i].set_title(str(i))\n",
    "            \n",
    "            \n",
    "def load_metadata(data_folder, train_file, validation_file, test_file, column_names):\n",
    "    \"\"\"Reads the .csv files containing metadata (e.g. file location, class label) about the data images.\n",
    "    \n",
    "    Parameters:\n",
    "    data_folder (str): file path to the folder containing the csv file.\n",
    "    train_file (str): file name of the file containing metadata for the training set.\n",
    "    validation_file (str): file name of the file containing metadata for the validation set.\n",
    "    test_file (str): file name of the file containing metadata for the test set.\n",
    "    column_names (list): array containing the column names for the csv files\n",
    "    \n",
    "    Returns:\n",
    "    the read trainig, validation, and test files.\n",
    "    \"\"\"\n",
    "    training_df = pd.read_csv(data_folder + train_file, names = column_names, skiprows=1)\n",
    "    validation_df = pd.read_csv(data_folder + validation_file, names = column_names, skiprows=1)\n",
    "    test_df = pd.read_csv(data_folder + test_file, names = column_names, skiprows=1)\n",
    "    \n",
    "    return training_df, validation_df, test_df\n",
    "\n",
    "\n",
    "def flatten(d):\n",
    "    v = [[i] if not isinstance(i, list) else flatten(i) for i in d]\n",
    "    return [i for b in v for i in b]\n",
    "\n",
    "\n",
    "def precision(confusion_matrix):\n",
    "    \"\"\"Given a confusion matrix, calculates and returns precision for all classes\"\"\"\n",
    "    precision_list = []\n",
    "    for i in range(confusion_matrix.shape[1]):\n",
    "        current_col = confusion_matrix[:,[i]]\n",
    "        current_el = confusion_matrix[i,[i]]\n",
    "        current_precision = (float(current_el/sum(current_col)[0]))\n",
    "        current_precision = round(current_precision, 4)\n",
    "        precision_list.append(current_precision)\n",
    "    return precision_list\n",
    "\n",
    "def recall(confusion_matrix):\n",
    "    \"\"\"Given a confusion matrix, calculates and returns recall for all classes\"\"\"\n",
    "    recall_list = []\n",
    "    for i in range(confusion_matrix.shape[0]):\n",
    "        current_row = confusion_matrix[i,:]\n",
    "        current_el = confusion_matrix[i,i]\n",
    "        current_recall = round(current_el/sum(current_row), 4)\n",
    "        recall_list.append(current_recall)\n",
    "    return(recall_list)\n",
    "\n",
    "def f1_score(precision, recall):\n",
    "    \"\"\"Given a list of precision and recall values for a certain matrix,\n",
    "    returns f-1 values for each class\"\"\"\n",
    "    f1_scores = []\n",
    "    if len(precision) == len(recall):\n",
    "        for i in range(len(precision)):\n",
    "            current_f1 = 2*(precision[i]*recall[i])/(precision[i]+recall[i])\n",
    "            f1_scores.append(round(current_f1, 4))\n",
    "    else:\n",
    "        print(\"Error. Precision and Recall lists should be of equal lengths.\")\n",
    "    return f1_scores\n"
   ]
  },
  {
   "cell_type": "markdown",
   "id": "e50359d3",
   "metadata": {
    "papermill": {
     "duration": 0.004991,
     "end_time": "2022-12-14T16:42:17.299215",
     "exception": false,
     "start_time": "2022-12-14T16:42:17.294224",
     "status": "completed"
    },
    "tags": []
   },
   "source": [
    "### Load data"
   ]
  },
  {
   "cell_type": "code",
   "execution_count": 5,
   "id": "f7fb9b00",
   "metadata": {
    "execution": {
     "iopub.execute_input": "2022-12-14T16:42:17.311147Z",
     "iopub.status.busy": "2022-12-14T16:42:17.310269Z",
     "iopub.status.idle": "2022-12-14T16:42:18.050554Z",
     "shell.execute_reply": "2022-12-14T16:42:18.049307Z"
    },
    "papermill": {
     "duration": 0.748251,
     "end_time": "2022-12-14T16:42:18.052602",
     "exception": false,
     "start_time": "2022-12-14T16:42:17.304351",
     "status": "completed"
    },
    "tags": []
   },
   "outputs": [
    {
     "name": "stdout",
     "output_type": "stream",
     "text": [
      "---------LOADING DATA---------\n",
      "Found 7350 images belonging to 21 classes.\n",
      "Found 1050 images belonging to 21 classes.\n",
      "Found 2100 images belonging to 21 classes.\n"
     ]
    }
   ],
   "source": [
    "print(\"---------LOADING DATA---------\")\n",
    "train_dir = \"../input/landuse-scene-classification/images_train_test_val/train\"\n",
    "test_dir = \"../input/landuse-scene-classification/images_train_test_val/test\"\n",
    "val_dir = \"../input/landuse-scene-classification/images_train_test_val/validation\"\n",
    "\n",
    "\n",
    "train_gen = tf.keras.preprocessing.image.ImageDataGenerator(rescale= 1/255.)\n",
    "\n",
    "test_gen = tf.keras.preprocessing.image.ImageDataGenerator(rescale=1/255.)\n",
    "\n",
    "val_gen = tf.keras.preprocessing.image.ImageDataGenerator(rescale=1/255.)\n",
    "\n",
    "\n",
    "# creating datasets\n",
    "\n",
    "training_set = train_gen.flow_from_directory(train_dir,\n",
    "                                           target_size = (224,224),\n",
    "                                           class_mode = \"categorical\",\n",
    "                                           batch_size = 32\n",
    "                                           )\n",
    "\n",
    "test_set = test_gen.flow_from_directory(test_dir,\n",
    "                                         target_size = (224,224),\n",
    "                                         class_mode = \"categorical\",\n",
    "                                         batch_size = 32\n",
    "                                         )\n",
    "validation_set = val_gen.flow_from_directory(val_dir,\n",
    "                                       target_size = (224,224),\n",
    "                                       class_mode = \"categorical\",\n",
    "                                       batch_size = 32\n",
    "                                       )"
   ]
  },
  {
   "cell_type": "code",
   "execution_count": 6,
   "id": "8ac9c0b3",
   "metadata": {
    "execution": {
     "iopub.execute_input": "2022-12-14T16:42:18.064508Z",
     "iopub.status.busy": "2022-12-14T16:42:18.064147Z",
     "iopub.status.idle": "2022-12-14T16:42:18.075689Z",
     "shell.execute_reply": "2022-12-14T16:42:18.074748Z"
    },
    "papermill": {
     "duration": 0.019679,
     "end_time": "2022-12-14T16:42:18.077630",
     "exception": false,
     "start_time": "2022-12-14T16:42:18.057951",
     "status": "completed"
    },
    "tags": []
   },
   "outputs": [
    {
     "data": {
      "text/plain": [
       "21"
      ]
     },
     "execution_count": 6,
     "metadata": {},
     "output_type": "execute_result"
    }
   ],
   "source": [
    "class_name_list = np.array(list(training_set.class_indices.keys()))\n",
    "labels, count = np.unique(training_set.classes, return_counts=True)\n",
    "\n",
    "class_count = len(class_name_list)\n",
    "\n",
    "class_count"
   ]
  },
  {
   "cell_type": "markdown",
   "id": "1b49c687",
   "metadata": {
    "papermill": {
     "duration": 0.004862,
     "end_time": "2022-12-14T16:42:18.087706",
     "exception": false,
     "start_time": "2022-12-14T16:42:18.082844",
     "status": "completed"
    },
    "tags": []
   },
   "source": [
    "### Preprocessing"
   ]
  },
  {
   "cell_type": "markdown",
   "id": "345027df",
   "metadata": {
    "papermill": {
     "duration": 0.005158,
     "end_time": "2022-12-14T16:42:18.097786",
     "exception": false,
     "start_time": "2022-12-14T16:42:18.092628",
     "status": "completed"
    },
    "tags": []
   },
   "source": [
    "### Build train, val, test sets"
   ]
  },
  {
   "cell_type": "markdown",
   "id": "f62087fd",
   "metadata": {
    "papermill": {
     "duration": 0.004639,
     "end_time": "2022-12-14T16:42:18.107375",
     "exception": false,
     "start_time": "2022-12-14T16:42:18.102736",
     "status": "completed"
    },
    "tags": []
   },
   "source": [
    "## Define Functions\n",
    "### Compile and Fit"
   ]
  },
  {
   "cell_type": "markdown",
   "id": "fc17245f",
   "metadata": {
    "papermill": {
     "duration": 0.004681,
     "end_time": "2022-12-14T16:42:18.116847",
     "exception": false,
     "start_time": "2022-12-14T16:42:18.112166",
     "status": "completed"
    },
    "tags": []
   },
   "source": [
    "Define Time History class to record time taken per epoch."
   ]
  },
  {
   "cell_type": "code",
   "execution_count": 7,
   "id": "375b92ef",
   "metadata": {
    "execution": {
     "iopub.execute_input": "2022-12-14T16:42:18.128039Z",
     "iopub.status.busy": "2022-12-14T16:42:18.127278Z",
     "iopub.status.idle": "2022-12-14T16:42:18.133206Z",
     "shell.execute_reply": "2022-12-14T16:42:18.132392Z"
    },
    "papermill": {
     "duration": 0.013484,
     "end_time": "2022-12-14T16:42:18.135195",
     "exception": false,
     "start_time": "2022-12-14T16:42:18.121711",
     "status": "completed"
    },
    "tags": []
   },
   "outputs": [],
   "source": [
    "class TimeHistory(keras.callbacks.Callback):\n",
    "    def on_train_begin(self, logs={}):\n",
    "        self.times = []\n",
    "\n",
    "    def on_epoch_begin(self, batch, logs={}):\n",
    "        self.epoch_time_start = time.time()\n",
    "\n",
    "    def on_epoch_end(self, batch, logs={}):\n",
    "        self.times.append(time.time() - self.epoch_time_start)"
   ]
  },
  {
   "cell_type": "code",
   "execution_count": 8,
   "id": "c5fe842d",
   "metadata": {
    "execution": {
     "iopub.execute_input": "2022-12-14T16:42:18.146640Z",
     "iopub.status.busy": "2022-12-14T16:42:18.145862Z",
     "iopub.status.idle": "2022-12-14T16:42:18.154601Z",
     "shell.execute_reply": "2022-12-14T16:42:18.153730Z"
    },
    "papermill": {
     "duration": 0.016503,
     "end_time": "2022-12-14T16:42:18.156518",
     "exception": false,
     "start_time": "2022-12-14T16:42:18.140015",
     "status": "completed"
    },
    "tags": []
   },
   "outputs": [],
   "source": [
    "def run_model(model, model_name, params):\n",
    "    \"\"\"\n",
    "    Given a model architecture, the function compiles and fits the model.\n",
    "    \n",
    "    model: model architecture\n",
    "    model_name: \"str\", name used as model description in the output file\n",
    "    params: an array containing the values for the training parameters, namely:\n",
    "    [n_epochs, batch_size, loss_fun, act_fun, learn_rate, optmzer]\n",
    "    \"\"\"\n",
    "    # Path to save the model\n",
    "    model_path = \"/kaggle/working/eurosat_rgb_\" + model_name + \".h5\"\n",
    "    # Save the weigths of the best model\n",
    "    checkpoint = ModelCheckpoint(filepath=model_path, monitor=\"val_loss\", save_best_only=True)\n",
    "    # Reduce learning rate when val_loss stops improving for 5 epochs.\n",
    "    reduce_lr = ReduceLROnPlateau(monitor=\"val_loss\", factor=0.3, patience=5)\n",
    "    # Stop training if a val_loss has stopped improving for 8 epochs.\n",
    "    early_stopping = EarlyStopping(monitor=\"val_loss\", patience=5, restore_best_weights=True, verbose=verbose)\n",
    "    \n",
    "    time_callback = TimeHistory()\n",
    "    callback_list = [checkpoint, early_stopping, time_callback] #, reduce_lr]\n",
    "    \n",
    "    metrics=['accuracy',\n",
    "             tf.keras.metrics.AUC(from_logits=True)]\n",
    "    \n",
    "    print(\"---------MODEL COMPILE---------\")\n",
    "    model.compile(loss=params[2],\n",
    "                  optimizer=params[5],\n",
    "                  metrics=metrics)\n",
    "\n",
    "    print(\"---------MODEL FIT---------\")\n",
    "    \n",
    "    history = model.fit(\n",
    "        training_set,\n",
    "        validation_data=validation_set,\n",
    "        callbacks=callback_list,\n",
    "        epochs=params[0],\n",
    "        verbose=verbose,\n",
    "    )\n",
    "    \n",
    "    times = time_callback.times\n",
    "    avg_time_epoch = sum(times)/len(times)\n",
    "    new_params = params\n",
    "    new_params.append(avg_time_epoch)\n",
    "\n",
    "    return history, new_params"
   ]
  },
  {
   "cell_type": "markdown",
   "id": "f7f6bc63",
   "metadata": {
    "papermill": {
     "duration": 0.005177,
     "end_time": "2022-12-14T16:42:18.166640",
     "exception": false,
     "start_time": "2022-12-14T16:42:18.161463",
     "status": "completed"
    },
    "tags": []
   },
   "source": [
    "### Get Evaluation Metrics"
   ]
  },
  {
   "cell_type": "code",
   "execution_count": 9,
   "id": "bd37b173",
   "metadata": {
    "execution": {
     "iopub.execute_input": "2022-12-14T16:42:18.177723Z",
     "iopub.status.busy": "2022-12-14T16:42:18.177438Z",
     "iopub.status.idle": "2022-12-14T16:42:18.188289Z",
     "shell.execute_reply": "2022-12-14T16:42:18.187462Z"
    },
    "papermill": {
     "duration": 0.018657,
     "end_time": "2022-12-14T16:42:18.190298",
     "exception": false,
     "start_time": "2022-12-14T16:42:18.171641",
     "status": "completed"
    },
    "tags": []
   },
   "outputs": [],
   "source": [
    "def get_eval_metrics(history, model, test_set, params):\n",
    "    \"\"\"\n",
    "    Given a trained model and a test set, the function returns model eval metrics.\n",
    "    \n",
    "    \n",
    "    \"\"\"\n",
    "    print(\"---------MODEL EVALUATE---------\")\n",
    "    \n",
    "    n_ran_epochs = len(history.history['loss'])\n",
    "    \n",
    "    loss, accuracy, auc = model.evaluate(test_set, verbose=verbose)\n",
    "    \n",
    "    test_set.reset()\n",
    "    predicted_probabilities = model.predict(test_set, steps=test_set.n, verbose=verbose)\n",
    "    predicted_class_ids = np.argmax(predicted_probabilities, axis=1)\n",
    "    report = metrics.classification_report(test_set.labels, predicted_class_ids, output_dict=True)\n",
    "    wa_prec = report[\"weighted avg\"][\"precision\"]\n",
    "    wa_rec = report[\"weighted avg\"][\"recall\"]\n",
    "    wa_f1 = report[\"weighted avg\"][\"f1-score\"]\n",
    "    cf_matrix = confusion_matrix(test_set.labels, predicted_class_ids)\n",
    "    confusion_matrix_df = pd.DataFrame(\n",
    "        data=cf_matrix, \n",
    "        index=class_name_list, \n",
    "        columns=class_name_list\n",
    "    )\n",
    "    results_df = pd.DataFrame(\n",
    "        {\n",
    "            \"label\": test_set.labels, \n",
    "            \"prediction\": predicted_class_ids, \n",
    "            \"path\": test_set.filepaths\n",
    "        }\n",
    "        )\n",
    "\n",
    "    mistakes = results_df[\"label\"] != results_df[\"prediction\"]\n",
    "    mistakes_df = results_df[mistakes]\n",
    "    wrong_preds = len(mistakes_df)\n",
    "    tot_preds = len(results_df)\n",
    "\n",
    "    print(metrics.classification_report(test_set.labels, predicted_class_ids, digits=4))\n",
    "    \n",
    "    \n",
    "    eval_metrics = [n_ran_epochs,\n",
    "                   loss,\n",
    "                   accuracy,\n",
    "                   auc,\n",
    "                   wa_prec,\n",
    "                   wa_rec,\n",
    "                   wa_f1,\n",
    "                   wrong_preds,\n",
    "                   tot_preds\n",
    "        ]\n",
    "    \n",
    "    return eval_metrics, cf_matrix, confusion_matrix_df, results_df"
   ]
  },
  {
   "cell_type": "markdown",
   "id": "53e9446f",
   "metadata": {
    "papermill": {
     "duration": 0.004726,
     "end_time": "2022-12-14T16:42:18.200247",
     "exception": false,
     "start_time": "2022-12-14T16:42:18.195521",
     "status": "completed"
    },
    "tags": []
   },
   "source": [
    "### Save plots"
   ]
  },
  {
   "cell_type": "code",
   "execution_count": 10,
   "id": "53e3277f",
   "metadata": {
    "execution": {
     "iopub.execute_input": "2022-12-14T16:42:18.212445Z",
     "iopub.status.busy": "2022-12-14T16:42:18.211657Z",
     "iopub.status.idle": "2022-12-14T16:42:18.220354Z",
     "shell.execute_reply": "2022-12-14T16:42:18.219469Z"
    },
    "papermill": {
     "duration": 0.016852,
     "end_time": "2022-12-14T16:42:18.222341",
     "exception": false,
     "start_time": "2022-12-14T16:42:18.205489",
     "status": "completed"
    },
    "tags": []
   },
   "outputs": [],
   "source": [
    "def save_plots(history, output_folder, model_name, confusion_matrix_df):\n",
    "    plt.subplot(1, 2, 1)\n",
    "    # Loss\n",
    "    plt.plot(history.history[\"loss\"])\n",
    "    plt.plot(history.history[\"val_loss\"])\n",
    "    plt.title(\"Loss - \" + model_name)\n",
    "    plt.ylabel(\"loss\")\n",
    "    plt.xlabel(\"epoch\")\n",
    "    plt.legend([\"train\", \"validation\"], loc=\"upper left\")\n",
    "\n",
    "    # Accuracy\n",
    "    plt.subplot(1, 2, 2)\n",
    "    plt.plot(history.history[\"accuracy\"])\n",
    "    plt.plot(history.history[\"val_accuracy\"])\n",
    "    plt.title(\"Accuracy - \" + model_name)\n",
    "    plt.ylabel(\"accuracy\")\n",
    "    plt.xlabel(\"epoch\")\n",
    "    plt.legend([\"train\", \"validation\"], loc=\"upper left\")\n",
    "\n",
    "    #plt.show()\n",
    "    plt.savefig(output_folder + model_name + \"_training_curves.png\")\n",
    "    \n",
    "    # CONFUSION MATRIX IMAGE\n",
    "    plt.figure(figsize=(10, 7))\n",
    "    sns.set(font_scale=1)\n",
    "    sns.heatmap(confusion_matrix_df, annot=True, cmap=\"Blues\", annot_kws={\"size\": 9}, fmt=\"g\")\n",
    "    plt.ylabel(\"Label\")\n",
    "    plt.xlabel(\"Prediction\")\n",
    "    plt.title(\"Confusion matrix - \" + model_name)\n",
    "    #plt.show()\n",
    "    plt.savefig(output_folder + model_name + \"_confusion.png\")"
   ]
  },
  {
   "cell_type": "markdown",
   "id": "61958305",
   "metadata": {
    "papermill": {
     "duration": 0.005126,
     "end_time": "2022-12-14T16:42:18.232555",
     "exception": false,
     "start_time": "2022-12-14T16:42:18.227429",
     "status": "completed"
    },
    "tags": []
   },
   "source": [
    "### Save numerical results"
   ]
  },
  {
   "cell_type": "code",
   "execution_count": 11,
   "id": "bc45cd7e",
   "metadata": {
    "execution": {
     "iopub.execute_input": "2022-12-14T16:42:18.244651Z",
     "iopub.status.busy": "2022-12-14T16:42:18.243893Z",
     "iopub.status.idle": "2022-12-14T16:42:18.249341Z",
     "shell.execute_reply": "2022-12-14T16:42:18.248568Z"
    },
    "papermill": {
     "duration": 0.013647,
     "end_time": "2022-12-14T16:42:18.251429",
     "exception": false,
     "start_time": "2022-12-14T16:42:18.237782",
     "status": "completed"
    },
    "tags": []
   },
   "outputs": [],
   "source": [
    "def append_results_to_csv(csv_row):\n",
    "    print(\"---------SAVE RESULTS---------\")\n",
    "    \"\"\"Append the results to the csv file\n",
    "    csv_row: list, contains the information to append to the csv\"\"\"\n",
    "    \n",
    "    with open(\"./results.csv\", 'a+', newline='') as csvfile:\n",
    "        filewriter = csv.writer(csvfile, delimiter=',',\n",
    "                                quotechar='|', quoting=csv.QUOTE_MINIMAL)\n",
    "        # Create a row with the column names:\n",
    "        filewriter.writerow(csv_row)\n"
   ]
  },
  {
   "cell_type": "markdown",
   "id": "209404a6",
   "metadata": {
    "papermill": {
     "duration": 0.005231,
     "end_time": "2022-12-14T16:42:18.262038",
     "exception": false,
     "start_time": "2022-12-14T16:42:18.256807",
     "status": "completed"
    },
    "tags": []
   },
   "source": [
    "# EXPERIMENT VGG16-P1"
   ]
  },
  {
   "cell_type": "markdown",
   "id": "4c510180",
   "metadata": {
    "papermill": {
     "duration": 0.004988,
     "end_time": "2022-12-14T16:42:18.272445",
     "exception": false,
     "start_time": "2022-12-14T16:42:18.267457",
     "status": "completed"
    },
    "tags": []
   },
   "source": [
    "# Optimizer Nadam"
   ]
  },
  {
   "cell_type": "code",
   "execution_count": 12,
   "id": "bd0b92ef",
   "metadata": {
    "execution": {
     "iopub.execute_input": "2022-12-14T16:42:18.284915Z",
     "iopub.status.busy": "2022-12-14T16:42:18.284123Z",
     "iopub.status.idle": "2022-12-14T17:08:47.145880Z",
     "shell.execute_reply": "2022-12-14T17:08:47.144926Z"
    },
    "papermill": {
     "duration": 1588.870615,
     "end_time": "2022-12-14T17:08:47.148448",
     "exception": false,
     "start_time": "2022-12-14T16:42:18.277833",
     "status": "completed"
    },
    "tags": []
   },
   "outputs": [
    {
     "name": "stdout",
     "output_type": "stream",
     "text": [
      "-------- EXPERIMENT VGG16-P1_Final ----------\n",
      "Model: \"sequential\"\n",
      "_________________________________________________________________\n",
      "Layer (type)                 Output Shape              Param #   \n",
      "=================================================================\n",
      "conv2d (Conv2D)              (None, 224, 224, 64)      1792      \n",
      "_________________________________________________________________\n",
      "conv2d_1 (Conv2D)            (None, 224, 224, 64)      36928     \n",
      "_________________________________________________________________\n",
      "conv2d_2 (Conv2D)            (None, 224, 224, 128)     73856     \n",
      "_________________________________________________________________\n",
      "max_pooling2d (MaxPooling2D) (None, 56, 56, 128)       0         \n",
      "_________________________________________________________________\n",
      "conv2d_3 (Conv2D)            (None, 56, 56, 128)       147584    \n",
      "_________________________________________________________________\n",
      "conv2d_4 (Conv2D)            (None, 56, 56, 128)       147584    \n",
      "_________________________________________________________________\n",
      "conv2d_5 (Conv2D)            (None, 56, 56, 256)       295168    \n",
      "_________________________________________________________________\n",
      "max_pooling2d_1 (MaxPooling2 (None, 28, 28, 256)       0         \n",
      "_________________________________________________________________\n",
      "conv2d_6 (Conv2D)            (None, 28, 28, 256)       590080    \n",
      "_________________________________________________________________\n",
      "conv2d_7 (Conv2D)            (None, 28, 28, 256)       590080    \n",
      "_________________________________________________________________\n",
      "max_pooling2d_2 (MaxPooling2 (None, 14, 14, 256)       0         \n",
      "_________________________________________________________________\n",
      "flatten (Flatten)            (None, 50176)             0         \n",
      "_________________________________________________________________\n",
      "dense (Dense)                (None, 680)               34120360  \n",
      "_________________________________________________________________\n",
      "dropout (Dropout)            (None, 680)               0         \n",
      "_________________________________________________________________\n",
      "dense_1 (Dense)              (None, 180)               122580    \n",
      "_________________________________________________________________\n",
      "dense_2 (Dense)              (None, 21)                3801      \n",
      "=================================================================\n",
      "Total params: 36,129,813\n",
      "Trainable params: 36,129,813\n",
      "Non-trainable params: 0\n",
      "_________________________________________________________________\n",
      "---------MODEL COMPILE---------\n",
      "---------MODEL FIT---------\n",
      "Epoch 1/60\n",
      "230/230 [==============================] - 118s 438ms/step - loss: 0.0218 - accuracy: 0.0774 - auc: 0.5852 - val_loss: 0.0209 - val_accuracy: 0.1414 - val_auc: 0.7269\n",
      "Epoch 2/60\n",
      "230/230 [==============================] - 92s 399ms/step - loss: 0.0208 - accuracy: 0.1710 - auc: 0.7373 - val_loss: 0.0192 - val_accuracy: 0.2433 - val_auc: 0.8183\n",
      "Epoch 3/60\n",
      "230/230 [==============================] - 91s 396ms/step - loss: 0.0187 - accuracy: 0.2878 - auc: 0.8261 - val_loss: 0.0175 - val_accuracy: 0.3448 - val_auc: 0.8685\n",
      "Epoch 4/60\n",
      "230/230 [==============================] - 91s 397ms/step - loss: 0.0168 - accuracy: 0.3863 - auc: 0.8775 - val_loss: 0.0160 - val_accuracy: 0.4310 - val_auc: 0.8912\n",
      "Epoch 5/60\n",
      "230/230 [==============================] - 92s 398ms/step - loss: 0.0149 - accuracy: 0.4789 - auc: 0.9107 - val_loss: 0.0146 - val_accuracy: 0.4738 - val_auc: 0.9187\n",
      "Epoch 6/60\n",
      "230/230 [==============================] - 92s 398ms/step - loss: 0.0133 - accuracy: 0.5512 - auc: 0.9319 - val_loss: 0.0137 - val_accuracy: 0.5257 - val_auc: 0.9361\n",
      "Epoch 7/60\n",
      "230/230 [==============================] - 92s 398ms/step - loss: 0.0113 - accuracy: 0.6309 - auc: 0.9508 - val_loss: 0.0136 - val_accuracy: 0.5486 - val_auc: 0.9345\n",
      "Epoch 8/60\n",
      "230/230 [==============================] - 92s 399ms/step - loss: 0.0094 - accuracy: 0.7034 - auc: 0.9642 - val_loss: 0.0123 - val_accuracy: 0.6043 - val_auc: 0.9466\n",
      "Epoch 9/60\n",
      "230/230 [==============================] - 91s 398ms/step - loss: 0.0077 - accuracy: 0.7600 - auc: 0.9744 - val_loss: 0.0113 - val_accuracy: 0.6405 - val_auc: 0.9537\n",
      "Epoch 10/60\n",
      "230/230 [==============================] - 92s 399ms/step - loss: 0.0058 - accuracy: 0.8268 - auc: 0.9813 - val_loss: 0.0111 - val_accuracy: 0.6471 - val_auc: 0.9493\n",
      "Epoch 11/60\n",
      "230/230 [==============================] - 92s 399ms/step - loss: 0.0046 - accuracy: 0.8645 - auc: 0.9862 - val_loss: 0.0108 - val_accuracy: 0.6667 - val_auc: 0.9504\n",
      "Epoch 12/60\n",
      "230/230 [==============================] - 91s 396ms/step - loss: 0.0038 - accuracy: 0.8916 - auc: 0.9883 - val_loss: 0.0112 - val_accuracy: 0.6548 - val_auc: 0.9413\n",
      "Epoch 13/60\n",
      "230/230 [==============================] - 92s 398ms/step - loss: 0.0030 - accuracy: 0.9129 - auc: 0.9909 - val_loss: 0.0112 - val_accuracy: 0.6671 - val_auc: 0.9393\n",
      "Epoch 14/60\n",
      "230/230 [==============================] - 92s 398ms/step - loss: 0.0025 - accuracy: 0.9295 - auc: 0.9929 - val_loss: 0.0127 - val_accuracy: 0.6181 - val_auc: 0.9318\n",
      "Epoch 15/60\n",
      "230/230 [==============================] - 92s 398ms/step - loss: 0.0023 - accuracy: 0.9362 - auc: 0.9929 - val_loss: 0.0113 - val_accuracy: 0.6748 - val_auc: 0.9332\n",
      "Epoch 16/60\n",
      "230/230 [==============================] - 91s 397ms/step - loss: 0.0020 - accuracy: 0.9444 - auc: 0.9937 - val_loss: 0.0112 - val_accuracy: 0.6795 - val_auc: 0.9363\n",
      "Restoring model weights from the end of the best epoch.\n",
      "Epoch 00016: early stopping\n",
      "---------MODEL EVALUATE---------\n",
      "33/33 [==============================] - 13s 402ms/step - loss: 0.0106 - accuracy: 0.6686 - auc: 0.9503\n",
      "1050/1050 [==============================] - 4s 4ms/step\n",
      "              precision    recall  f1-score   support\n",
      "\n",
      "           0     0.0800    0.0800    0.0800        50\n",
      "           1     0.0182    0.0200    0.0190        50\n",
      "           2     0.0185    0.0200    0.0192        50\n",
      "           3     0.0606    0.0800    0.0690        50\n",
      "           4     0.0444    0.0400    0.0421        50\n",
      "           5     0.0192    0.0200    0.0196        50\n",
      "           6     0.0588    0.0800    0.0678        50\n",
      "           7     0.0000    0.0000    0.0000        50\n",
      "           8     0.0000    0.0000    0.0000        50\n",
      "           9     0.0200    0.0200    0.0200        50\n",
      "          10     0.0370    0.0400    0.0385        50\n",
      "          11     0.0526    0.0400    0.0455        50\n",
      "          12     0.0417    0.0200    0.0270        50\n",
      "          13     0.0638    0.0600    0.0619        50\n",
      "          14     0.0357    0.0200    0.0256        50\n",
      "          15     0.0000    0.0000    0.0000        50\n",
      "          16     0.0612    0.0600    0.0606        50\n",
      "          17     0.0323    0.0400    0.0357        50\n",
      "          18     0.0702    0.0800    0.0748        50\n",
      "          19     0.0000    0.0000    0.0000        50\n",
      "          20     0.0638    0.0600    0.0619        50\n",
      "\n",
      "    accuracy                         0.0371      1050\n",
      "   macro avg     0.0371    0.0371    0.0366      1050\n",
      "weighted avg     0.0371    0.0371    0.0366      1050\n",
      "\n",
      "---------SAVE RESULTS---------\n"
     ]
    },
    {
     "data": {
      "image/png": "[encoded data removed]",
      "text/plain": [
       "<Figure size 432x288 with 2 Axes>"
      ]
     },
     "metadata": {
      "needs_background": "light"
     },
     "output_type": "display_data"
    },
    {
     "data": {
      "image/png": "[encoded data removed]",
      "text/plain": [
       "<Figure size 720x504 with 2 Axes>"
      ]
     },
     "metadata": {
      "needs_background": "light"
     },
     "output_type": "display_data"
    }
   ],
   "source": [
    "model_id = \"VGG16-P1_Final\"\n",
    "model_name = model_id\n",
    "\n",
    "print(f\"-------- EXPERIMENT {model_id} ----------\")\n",
    "\n",
    "model = Sequential()\n",
    "\n",
    "# start of model\n",
    "model.add(Conv2D(input_shape=(224,224,3),filters=64, kernel_size=filter_size, padding=\"same\", activation=\"relu\"))\n",
    "model.add(Conv2D(filters=64, kernel_size=filter_size, padding=\"same\", activation=\"relu\"))\n",
    "model.add(Conv2D(filters=128, kernel_size=filter_size, padding=\"same\", activation=\"relu\"))\n",
    "model.add(MaxPool2D(pool_size=(4,4),strides=(4,4)))\n",
    "model.add(Conv2D(filters=128, kernel_size=filter_size, padding=\"same\", activation=\"relu\"))\n",
    "model.add(Conv2D(filters=128, kernel_size=filter_size, padding=\"same\", activation=\"relu\"))\n",
    "model.add(Conv2D(filters=256, kernel_size=filter_size, padding=\"same\", activation=\"relu\"))\n",
    "model.add(MaxPool2D(pool_size=(2,2),strides=(2,2)))\n",
    "model.add(Conv2D(filters=256, kernel_size=filter_size, padding=\"same\", activation=\"relu\"))\n",
    "model.add(Conv2D(filters=256, kernel_size=filter_size, padding=\"same\", activation=\"relu\"))\n",
    "model.add(MaxPool2D(pool_size=(2,2),strides=(2,2)))\n",
    "\n",
    "\n",
    "# add a flatten out layer, a dropout for regularization, a FC layer, and a final\n",
    "# 10-node softmax layer for the prediction.\n",
    "model.add(Flatten()) # just flattening operation, same numb. nodes kept\n",
    "# n. nodes chosen by keeping the drop in nodes ratio of the origina model (approx.)\n",
    "model.add(Dense(units=680, activation=\"relu\", kernel_initializer=\"he_normal\"))\n",
    "model.add(Dropout(0.5)) # MY ADDITION\n",
    "model.add(Dense(units=180, activation=\"relu\", kernel_initializer=\"he_normal\"))\n",
    "model.add(Dense(class_count, activation=\"softmax\"))\n",
    "\n",
    "\n",
    "model.summary()\n",
    "\n",
    "\n",
    "# Model COMPILE and FIT\n",
    "history, new_params = run_model(model, model_name, params)\n",
    "params = new_params\n",
    "# Model EVALUATE\n",
    "eval_metrics, cf_matrix, confusion_matrix_df, results_df = get_eval_metrics(history, model, test_set, params)\n",
    "\n",
    "save_plots(history, output_folder, model_name, confusion_matrix_df)\n",
    "\n",
    "params_to_save = params\n",
    "params_to_save[7] = str(params_to_save[7]).replace(',', \";\")\n",
    "\n",
    "new_row = [model_id,\n",
    "           model_name,\n",
    "           params_to_save,\n",
    "           eval_metrics,\n",
    "           7350, # number of images in the training set\n",
    "           1050, # number of images in the validation set\n",
    "           2100, # number of images in the test set\n",
    "          ]\n",
    "\n",
    "new_row = flatten(new_row)\n",
    "\n",
    "append_results_to_csv(new_row)\n"
   ]
  }
 ],
 "metadata": {
  "kernelspec": {
   "display_name": "Python 3",
   "language": "python",
   "name": "python3"
  },
  "language_info": {
   "codemirror_mode": {
    "name": "ipython",
    "version": 3
   },
   "file_extension": ".py",
   "mimetype": "text/x-python",
   "name": "python",
   "nbconvert_exporter": "python",
   "pygments_lexer": "ipython3",
   "version": "3.7.12"
  },
  "papermill": {
   "default_parameters": {},
   "duration": 1608.160991,
   "end_time": "2022-12-14T17:08:50.271932",
   "environment_variables": {},
   "exception": null,
   "input_path": "__notebook__.ipynb",
   "output_path": "__notebook__.ipynb",
   "parameters": {},
   "start_time": "2022-12-14T16:42:02.110941",
   "version": "2.3.4"
  }
 },
 "nbformat": 4,
 "nbformat_minor": 5
}
