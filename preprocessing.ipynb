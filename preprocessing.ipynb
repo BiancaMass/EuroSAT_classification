{
 "cells": [
  {
   "cell_type": "code",
   "execution_count": 1,
   "id": "24f26a74",
   "metadata": {
    "_cell_guid": "6bb72207-a7f3-4e29-a50a-42324aeddac5",
    "_uuid": "1347a733-fb43-4c3d-9e99-faf2fca435a1",
    "collapsed": false,
    "execution": {
     "iopub.execute_input": "2022-11-23T10:33:44.355549Z",
     "iopub.status.busy": "2022-11-23T10:33:44.354817Z",
     "iopub.status.idle": "2022-11-23T10:33:51.563588Z",
     "shell.execute_reply": "2022-11-23T10:33:51.561828Z"
    },
    "jupyter": {
     "outputs_hidden": false
    },
    "papermill": {
     "duration": 7.220309,
     "end_time": "2022-11-23T10:33:51.567604",
     "exception": false,
     "start_time": "2022-11-23T10:33:44.347295",
     "status": "completed"
    },
    "tags": []
   },
   "outputs": [],
   "source": [
    "# # Import packages\n",
    "import numpy as np\n",
    "import pandas as pd\n",
    "import matplotlib.pyplot as plt\n",
    "import seaborn as sns\n",
    "import cv2\n",
    "import os\n",
    "import random\n",
    "import tensorflow as tf\n",
    "import seaborn as sns\n",
    "\n",
    "from matplotlib import image\n",
    "from sklearn.metrics import confusion_matrix\n",
    "from keras.preprocessing.image import ImageDataGenerator\n",
    "from keras.applications.vgg16 import VGG16\n",
    "from keras.models import Sequential\n",
    "from keras.layers import Dense, Flatten, Dropout\n",
    "from keras.callbacks import ModelCheckpoint, ReduceLROnPlateau, EarlyStopping, ReduceLROnPlateau\n",
    "from tensorflow.keras.optimizers import Adam\n",
    "\n",
    "# Suppress keras warnings\n",
    "os.environ[\"TF_CPP_MIN_LOG_LEVEL\"] = \"3\""
   ]
  },
  {
   "cell_type": "code",
   "execution_count": 2,
   "id": "c3053a3f",
   "metadata": {
    "execution": {
     "iopub.execute_input": "2022-11-23T10:33:51.579758Z",
     "iopub.status.busy": "2022-11-23T10:33:51.578196Z",
     "iopub.status.idle": "2022-11-23T10:33:51.587471Z",
     "shell.execute_reply": "2022-11-23T10:33:51.586112Z"
    },
    "papermill": {
     "duration": 0.018902,
     "end_time": "2022-11-23T10:33:51.590893",
     "exception": false,
     "start_time": "2022-11-23T10:33:51.571991",
     "status": "completed"
    },
    "tags": []
   },
   "outputs": [],
   "source": [
    "def load_metadata(data_folder, train_file, validation_file, test_file, column_names):\n",
    "    \"\"\"Reads the .csv files containing metadata (e.g. file location, class label) about the data images.\n",
    "    \n",
    "    Parameters:\n",
    "    data_folder (str): file path to the folder containing the csv file.\n",
    "    train_file (str): file name of the file containing metadata for the training set.\n",
    "    validation_file (str): file name of the file containing metadata for the validation set.\n",
    "    test_file (str): file name of the file containing metadata for the test set.\n",
    "    column_names (list): array containing the column names for the csv files\n",
    "    \n",
    "    Returns:\n",
    "    the read trainig, validation, and test files.\n",
    "    \"\"\"\n",
    "    training_df = pd.read_csv(data_folder + train_file, names = column_names, skiprows=1)\n",
    "    validation_df = pd.read_csv(data_folder + validation_file, names = column_names, skiprows=1)\n",
    "    test_df = pd.read_csv(data_folder + test_file, names = column_names, skiprows=1)\n",
    "    \n",
    "    return training_df, validation_df, test_df\n"
   ]
  },
  {
   "cell_type": "code",
   "execution_count": 3,
   "id": "6f819aaf",
   "metadata": {
    "execution": {
     "iopub.execute_input": "2022-11-23T10:33:51.601616Z",
     "iopub.status.busy": "2022-11-23T10:33:51.601096Z",
     "iopub.status.idle": "2022-11-23T10:33:51.680885Z",
     "shell.execute_reply": "2022-11-23T10:33:51.679605Z"
    },
    "papermill": {
     "duration": 0.088387,
     "end_time": "2022-11-23T10:33:51.683821",
     "exception": false,
     "start_time": "2022-11-23T10:33:51.595434",
     "status": "completed"
    },
    "tags": []
   },
   "outputs": [],
   "source": [
    "input_folder = \"/kaggle/input/\"\n",
    "dataset_folder = input_folder + \"eurosat-dataset/\" + \"EuroSAT/\"\n",
    "column_names =  [\"id\", \"path\", \"class_id\", \"class_name\"]\n",
    "\n",
    "training_df, validation_df, test_df = load_metadata(dataset_folder,\n",
    "                                                    \"train.csv\",\n",
    "                                                    \"validation.csv\",\n",
    "                                                    \"test.csv\",\n",
    "                                                    column_names)"
   ]
  },
  {
   "cell_type": "code",
   "execution_count": 4,
   "id": "1eb7b49a",
   "metadata": {
    "execution": {
     "iopub.execute_input": "2022-11-23T10:33:51.694307Z",
     "iopub.status.busy": "2022-11-23T10:33:51.693493Z",
     "iopub.status.idle": "2022-11-23T10:33:51.707690Z",
     "shell.execute_reply": "2022-11-23T10:33:51.706623Z"
    },
    "papermill": {
     "duration": 0.022458,
     "end_time": "2022-11-23T10:33:51.710417",
     "exception": false,
     "start_time": "2022-11-23T10:33:51.687959",
     "status": "completed"
    },
    "tags": []
   },
   "outputs": [],
   "source": [
    "# Extract labels names\n",
    "labels = []\n",
    "for element in (training_df[\"class_name\"].unique()):\n",
    "    labels.append(element)"
   ]
  },
  {
   "cell_type": "markdown",
   "id": "b4e4a38d",
   "metadata": {
    "papermill": {
     "duration": 0.003421,
     "end_time": "2022-11-23T10:33:51.717782",
     "exception": false,
     "start_time": "2022-11-23T10:33:51.714361",
     "status": "completed"
    },
    "tags": []
   },
   "source": [
    "# Undersampling and Oversampling approach"
   ]
  },
  {
   "cell_type": "code",
   "execution_count": 5,
   "id": "82f4c6a1",
   "metadata": {
    "execution": {
     "iopub.execute_input": "2022-11-23T10:33:51.728069Z",
     "iopub.status.busy": "2022-11-23T10:33:51.727244Z",
     "iopub.status.idle": "2022-11-23T10:33:51.738862Z",
     "shell.execute_reply": "2022-11-23T10:33:51.737729Z"
    },
    "papermill": {
     "duration": 0.020263,
     "end_time": "2022-11-23T10:33:51.741769",
     "exception": false,
     "start_time": "2022-11-23T10:33:51.721506",
     "status": "completed"
    },
    "tags": []
   },
   "outputs": [],
   "source": [
    "# Define the functions\n",
    "\n",
    "def extract_unique_names(df, column=str):\n",
    "    \"\"\"\n",
    "    Extracts the unique labels for the dataframe\n",
    "    \n",
    "    df: the target dataframe for which to get labels\n",
    "    column: str, the column name containing lable information\n",
    "    \"\"\"\n",
    "    labels = []\n",
    "    for element in (df[column].unique()):\n",
    "        labels.append(element)\n",
    "    return labels\n",
    "\n",
    "def get_min(df, target_column=str, classes=list):\n",
    "    \"\"\"\n",
    "    Get the class with the least amount of instances in the dataset (minority class).\n",
    "    \n",
    "    df: the dataframe for which to find the minority class\n",
    "    target_column: str, df column containing information about classes/labels\n",
    "    classes: list, a list of all unique classes contained in the dataframe\n",
    "    \"\"\"\n",
    "    min_count = len(df)\n",
    "    for label in classes:\n",
    "        count = df[target_column].value_counts()[label]\n",
    "        if count < min_count:\n",
    "            min_count = count\n",
    "            min_variable = label\n",
    "    return min_count, min_variable\n",
    "\n",
    "def get_max(df, target_column=str, classes=list):\n",
    "    \"\"\"\n",
    "    Get the class with the most instances in the dataset (majority class).\n",
    "    \n",
    "    df: the dataframe for which to find the majority class\n",
    "    target_column: str, df column containing information about classes/labels\n",
    "    classes: list, a list of all unique classes contained in the dataframe\n",
    "    \"\"\"\n",
    "    max_count = 0\n",
    "    for label in classes:\n",
    "        count = df[target_column].value_counts()[label]\n",
    "        if count > max_count:\n",
    "            max_count = count\n",
    "            max_variable = label\n",
    "    return max_count, max_variable\n",
    "\n",
    "def undersample(df, target_column=str, classes=list):\n",
    "    \"\"\"\n",
    "    Undersample the dataset so that all labels have the same amount of instances.\n",
    "    This is recommended if one has a lot of data.\n",
    "    \n",
    "    df: the dataframe to undersample\n",
    "    target_column: str, the name of the column containing class/label information\n",
    "    classes: list, a list containing all unique classes present in the dataset\n",
    "    \n",
    "    Returns: a dataframe containing as many instances per class as the amount of instances of the\n",
    "    minority class (the class with the least instances) in the original data frame\n",
    "    \"\"\"\n",
    "    nMax, label = get_min(df, target_column, classes)\n",
    "    res = df.groupby(target_column).apply(lambda x: x.sample(n=min(nMax, len(x))))\n",
    "    return res"
   ]
  },
  {
   "cell_type": "markdown",
   "id": "2771d8f7",
   "metadata": {
    "papermill": {
     "duration": 0.003512,
     "end_time": "2022-11-23T10:33:51.749448",
     "exception": false,
     "start_time": "2022-11-23T10:33:51.745936",
     "status": "completed"
    },
    "tags": []
   },
   "source": [
    "## Undersampling"
   ]
  },
  {
   "cell_type": "code",
   "execution_count": 6,
   "id": "f332d022",
   "metadata": {
    "execution": {
     "iopub.execute_input": "2022-11-23T10:33:51.759076Z",
     "iopub.status.busy": "2022-11-23T10:33:51.758576Z",
     "iopub.status.idle": "2022-11-23T10:33:51.796653Z",
     "shell.execute_reply": "2022-11-23T10:33:51.795364Z"
    },
    "papermill": {
     "duration": 0.047002,
     "end_time": "2022-11-23T10:33:51.800289",
     "exception": false,
     "start_time": "2022-11-23T10:33:51.753287",
     "status": "completed"
    },
    "tags": []
   },
   "outputs": [
    {
     "name": "stdout",
     "output_type": "stream",
     "text": [
      "Min count, Min variable\n",
      "Train 1400 Pasture\n",
      "Valid 400 Pasture\n",
      "Test  200 Pasture\n"
     ]
    }
   ],
   "source": [
    "# Training set\n",
    "\n",
    "train_classes = extract_unique_names(training_df, \"class_name\")\n",
    "val_classes   = extract_unique_names(validation_df, \"class_name\")\n",
    "test_classes  = extract_unique_names(test_df, \"class_name\")\n",
    "\n",
    "if train_classes.sort() == val_classes.sort() == test_classes.sort():\n",
    "    classes = train_classes\n",
    "else:\n",
    "    print(\"!!Warning: Classes are different for the training, validation, and test sets!!\")\n",
    "\n",
    "train_min_count, train_min_variable = get_min(training_df, \"class_name\", classes)\n",
    "val_min_count, val_min_variable = get_min(validation_df, \"class_name\", classes)\n",
    "test_min_count, test_min_variable = get_min(test_df, \"class_name\", classes)\n",
    "\n",
    "print(\"Min count, Min variable\")\n",
    "print(\"Train\", train_min_count, train_min_variable)\n",
    "print(\"Valid\", val_min_count, val_min_variable)\n",
    "print(\"Test \", test_min_count, test_min_variable)\n"
   ]
  },
  {
   "cell_type": "code",
   "execution_count": 7,
   "id": "9e742239",
   "metadata": {
    "execution": {
     "iopub.execute_input": "2022-11-23T10:33:51.810599Z",
     "iopub.status.busy": "2022-11-23T10:33:51.809468Z",
     "iopub.status.idle": "2022-11-23T10:33:51.893205Z",
     "shell.execute_reply": "2022-11-23T10:33:51.891822Z"
    },
    "papermill": {
     "duration": 0.092436,
     "end_time": "2022-11-23T10:33:51.896677",
     "exception": false,
     "start_time": "2022-11-23T10:33:51.804241",
     "status": "completed"
    },
    "tags": []
   },
   "outputs": [
    {
     "name": "stdout",
     "output_type": "stream",
     "text": [
      "Undersampled training dataframe length: 14000\n",
      "\n",
      "Undersampled validation dataframe length: 4000\n",
      "\n",
      "Undersampled test dataframe length: 2000\n",
      "\n"
     ]
    }
   ],
   "source": [
    "# Perform undersampling on all classes\n",
    "\n",
    "train_df_under = undersample(training_df, \"class_name\", classes)\n",
    "val_df_under = undersample(validation_df, \"class_name\", classes)\n",
    "test_df_under = undersample(test_df, \"class_name\", classes)\n",
    "\n",
    "print(f\"Undersampled training dataframe length: {len(train_df_under)}\")\n",
    "# print(train_df_under['class_name'].value_counts())\n",
    "\n",
    "print(f\"\\nUndersampled validation dataframe length: {len(val_df_under)}\")\n",
    "# print(val_df_under['class_name'].value_counts())\n",
    "\n",
    "print(f\"\\nUndersampled test dataframe length: {len(test_df_under)}\\n\")\n",
    "# print(test_df_under['class_name'].value_counts())\n"
   ]
  },
  {
   "cell_type": "markdown",
   "id": "562d9f40",
   "metadata": {
    "papermill": {
     "duration": 0.003713,
     "end_time": "2022-11-23T10:33:51.905357",
     "exception": false,
     "start_time": "2022-11-23T10:33:51.901644",
     "status": "completed"
    },
    "tags": []
   },
   "source": [
    "### Start with the CNN part"
   ]
  },
  {
   "cell_type": "code",
   "execution_count": 8,
   "id": "47398c60",
   "metadata": {
    "execution": {
     "iopub.execute_input": "2022-11-23T10:33:51.915789Z",
     "iopub.status.busy": "2022-11-23T10:33:51.914891Z",
     "iopub.status.idle": "2022-11-23T10:33:51.921999Z",
     "shell.execute_reply": "2022-11-23T10:33:51.920956Z"
    },
    "papermill": {
     "duration": 0.015248,
     "end_time": "2022-11-23T10:33:51.924643",
     "exception": false,
     "start_time": "2022-11-23T10:33:51.909395",
     "status": "completed"
    },
    "tags": []
   },
   "outputs": [],
   "source": [
    "# The data is already normalized so that pixels values range from 0,255. We can rescale pixel value between\n",
    "# [0,1] by divinding by 255.\n",
    "\n",
    "rescaling_factor = 1. / 255\n",
    "# Generate batches of tensor image data by setting up the generators.\n",
    "# If you want to perform augmentation, add parameters to the training_generatorF\n",
    "training_generator = ImageDataGenerator(rescale=rescaling_factor)\n",
    "test_generator = ImageDataGenerator(rescale=rescaling_factor)\n",
    "\n",
    "# Size of input data is 64x64 pixels\n",
    "image_width, image_height = (64, 64)\n",
    "\n",
    "batch_size = 128 # How big of a set of data to use for every training epoch\n",
    "# 128 is a pretty standard value\n"
   ]
  }
 ],
 "metadata": {
  "kernelspec": {
   "display_name": "Python 3",
   "language": "python",
   "name": "python3"
  },
  "language_info": {
   "codemirror_mode": {
    "name": "ipython",
    "version": 3
   },
   "file_extension": ".py",
   "mimetype": "text/x-python",
   "name": "python",
   "nbconvert_exporter": "python",
   "pygments_lexer": "ipython3",
   "version": "3.7.12"
  },
  "papermill": {
   "default_parameters": {},
   "duration": 19.202281,
   "end_time": "2022-11-23T10:33:54.626050",
   "environment_variables": {},
   "exception": null,
   "input_path": "__notebook__.ipynb",
   "output_path": "__notebook__.ipynb",
   "parameters": {},
   "start_time": "2022-11-23T10:33:35.423769",
   "version": "2.3.4"
  }
 },
 "nbformat": 4,
 "nbformat_minor": 5
}
