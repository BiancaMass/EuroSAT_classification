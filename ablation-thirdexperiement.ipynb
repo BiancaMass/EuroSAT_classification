{
 "cells": [
  {
   "cell_type": "markdown",
   "id": "9fdd4c6f",
   "metadata": {
    "papermill": {
     "duration": 0.006967,
     "end_time": "2022-12-12T15:25:42.666841",
     "exception": false,
     "start_time": "2022-12-12T15:25:42.659874",
     "status": "completed"
    },
    "tags": []
   },
   "source": [
    "### Import packages"
   ]
  },
  {
   "cell_type": "code",
   "execution_count": 1,
   "id": "b5fa3077",
   "metadata": {
    "_kg_hide-input": false,
    "execution": {
     "iopub.execute_input": "2022-12-12T15:25:42.680099Z",
     "iopub.status.busy": "2022-12-12T15:25:42.679578Z",
     "iopub.status.idle": "2022-12-12T15:25:49.974951Z",
     "shell.execute_reply": "2022-12-12T15:25:49.973789Z"
    },
    "papermill": {
     "duration": 7.304997,
     "end_time": "2022-12-12T15:25:49.977578",
     "exception": false,
     "start_time": "2022-12-12T15:25:42.672581",
     "status": "completed"
    },
    "tags": []
   },
   "outputs": [
    {
     "name": "stdout",
     "output_type": "stream",
     "text": [
      "---------IMPORTING PACKAGES---------\n"
     ]
    }
   ],
   "source": [
    "# Import packages\n",
    "print(\"---------IMPORTING PACKAGES---------\")\n",
    "import numpy as np\n",
    "import pandas as pd\n",
    "import matplotlib.pyplot as plt\n",
    "import seaborn as sns\n",
    "import cv2\n",
    "import os\n",
    "import random\n",
    "import tensorflow as tf\n",
    "import seaborn as sns\n",
    "import random\n",
    "import csv\n",
    "import time\n",
    "import keras\n",
    "\n",
    "from sklearn.utils import shuffle\n",
    "from matplotlib import image\n",
    "from sklearn import metrics\n",
    "from sklearn.metrics import confusion_matrix\n",
    "from keras.preprocessing.image import ImageDataGenerator\n",
    "from keras.applications.vgg16 import VGG16\n",
    "from keras.models import Sequential\n",
    "from keras.layers import Dense, Flatten, Dropout, Conv2D, MaxPool2D\n",
    "from keras.callbacks import ModelCheckpoint, ReduceLROnPlateau, EarlyStopping, ReduceLROnPlateau\n",
    "from tensorflow.keras.optimizers import Adam, Nadam, Adamax, SGD\n",
    "\n",
    "# Suppress keras warnings\n",
    "os.environ[\"TF_CPP_MIN_LOG_LEVEL\"] = \"3\"\n",
    "random.seed(432)\n"
   ]
  },
  {
   "cell_type": "markdown",
   "id": "2e71928f",
   "metadata": {
    "papermill": {
     "duration": 0.005573,
     "end_time": "2022-12-12T15:25:49.989154",
     "exception": false,
     "start_time": "2022-12-12T15:25:49.983581",
     "status": "completed"
    },
    "tags": []
   },
   "source": [
    "### Define the changeable parameters"
   ]
  },
  {
   "cell_type": "code",
   "execution_count": 2,
   "id": "197ee576",
   "metadata": {
    "execution": {
     "iopub.execute_input": "2022-12-12T15:25:50.002748Z",
     "iopub.status.busy": "2022-12-12T15:25:50.002191Z",
     "iopub.status.idle": "2022-12-12T15:25:50.018760Z",
     "shell.execute_reply": "2022-12-12T15:25:50.017889Z"
    },
    "papermill": {
     "duration": 0.025793,
     "end_time": "2022-12-12T15:25:50.020878",
     "exception": false,
     "start_time": "2022-12-12T15:25:49.995085",
     "status": "completed"
    },
    "tags": []
   },
   "outputs": [],
   "source": [
    "#########################################################\n",
    "################### FIXED VARIABLES #####################\n",
    "#########################################################\n",
    "input_folder = \"/kaggle/input/\"\n",
    "#input_folder_undersampled = input_folder+\"eurosat-undersampled\"\n",
    "output_folder = \"/kaggle/working/\"\n",
    "verbose = 1 # 0-> dont print training info, 1-> print them\n",
    "n_epochs = 100\n",
    "\n",
    "# Model parameters\n",
    "pooling_kernel_size = (2,2)\n",
    "stride = (1,1)\n",
    "#########################################################\n",
    "\n",
    "\n",
    "\n",
    "##############################################################\n",
    "################### HYPERPARAMETER OPTIONS ###################\n",
    "##############################################################\n",
    "# Element [0] is default\n",
    "batch_size_opts = [128, 256, 64] # How big of a set of data to use for every training epoch\n",
    "loss_fun_opts = [\"categorical_crossentropy\",\n",
    "                 \"kl_divergence\",\n",
    "                 \"mean_absolute_error\",\n",
    "                 \"mean_squared_logarithmic_error\"]\n",
    "act_fun_opts = [\"relu\", \"elu\"]\n",
    "learn_rate_opts = [0.0001, 0.0007, 0.001]\n",
    "\n",
    "learn_rate = learn_rate_opts[0] # 2g # FIXED FOR NOW\n",
    "\n",
    "optmzer_opts = [Adam(learning_rate=learn_rate),\n",
    "                Nadam(learning_rate=learn_rate),\n",
    "                Adamax(learning_rate=learn_rate),\n",
    "                SGD(learning_rate=learn_rate)]\n",
    "\n",
    "# Model Architecture:\n",
    "n_convolutional_layers_opts = \"NA\"\n",
    "filter_size_opts = [(2,2), (3,3), (5,5)] # kernel size of the convolutional layer\n",
    "\n",
    "filter_number_opts = \"NA\"\n",
    "##############################################################\n",
    "\n",
    "\n",
    "\n",
    "##############################################################\n",
    "################### HYPERPARAMETER VALUES ####################\n",
    "##############################################################\n",
    "batch_size = batch_size_opts[0] # 2e\n",
    "loss_fun = loss_fun_opts[0] # FIXED FOR NOW\n",
    "act_fun = act_fun_opts[0] # 2d\n",
    "optmzer = optmzer_opts[0] # 2f\n",
    "n_convolutional_layers = \"current variable\" # 2a\n",
    "filter_size = filter_size_opts[1] # 2b\n",
    "filters_number = \"current variable\"\n",
    "\n",
    "\n",
    "params = [n_epochs,\n",
    "          batch_size,\n",
    "          loss_fun, \n",
    "          act_fun,\n",
    "          learn_rate, \n",
    "          optmzer,\n",
    "          n_convolutional_layers,\n",
    "          filter_size,\n",
    "          filters_number\n",
    "         ]"
   ]
  },
  {
   "cell_type": "markdown",
   "id": "5824bbdb",
   "metadata": {
    "papermill": {
     "duration": 0.005405,
     "end_time": "2022-12-12T15:25:50.032111",
     "exception": false,
     "start_time": "2022-12-12T15:25:50.026706",
     "status": "completed"
    },
    "tags": []
   },
   "source": [
    "For the number of filters, it makes sense to increase gradually. So that you could leave as a more fixed variable. \n",
    "start with few to get the rough features (line direction) and increase afterwards to pick up on the more abstract details. But don't go too big, else comp complexity spikes up."
   ]
  },
  {
   "cell_type": "markdown",
   "id": "76e47b84",
   "metadata": {
    "papermill": {
     "duration": 0.005391,
     "end_time": "2022-12-12T15:25:50.043057",
     "exception": false,
     "start_time": "2022-12-12T15:25:50.037666",
     "status": "completed"
    },
    "tags": []
   },
   "source": [
    "### Create a fine to save the results"
   ]
  },
  {
   "cell_type": "code",
   "execution_count": 3,
   "id": "e4ff41dd",
   "metadata": {
    "execution": {
     "iopub.execute_input": "2022-12-12T15:25:50.055259Z",
     "iopub.status.busy": "2022-12-12T15:25:50.054967Z",
     "iopub.status.idle": "2022-12-12T15:25:50.061392Z",
     "shell.execute_reply": "2022-12-12T15:25:50.060558Z"
    },
    "papermill": {
     "duration": 0.014761,
     "end_time": "2022-12-12T15:25:50.063333",
     "exception": false,
     "start_time": "2022-12-12T15:25:50.048572",
     "status": "completed"
    },
    "tags": []
   },
   "outputs": [],
   "source": [
    "# Open the excel file where I'll save all the test results (metrics)\n",
    "\n",
    "with open(\"./results.csv\", \"w\") as csvfile:\n",
    "    filewriter = csv.writer(csvfile, delimiter=',',\n",
    "                            quotechar='|', quoting=csv.QUOTE_MINIMAL)\n",
    "    # Create a row with the column names:\n",
    "    filewriter.writerow([\"experiment_ID\",\n",
    "                         \"model_name\", \n",
    "                         \"n_epochs\", # params[0]\n",
    "                         \"batch_size\", # params[1]\n",
    "                         \"loss_function\", # params[2]\n",
    "                         \"activation_fun\", # params[3]\n",
    "                         \"learning_rate\", # params[4]\n",
    "                         \"optimizer\", # params[5]\n",
    "                         \"num_conv_layers\", # params[6]\n",
    "                         \"kernel_size\", # params[7]\n",
    "                         \"filter_number\", # params[8]\n",
    "                         \"train_time_per_epoch\",\n",
    "                         \"num_epochs_run\", # epoch where it stopped automatically\n",
    "                         \"test_loss\",\n",
    "                         \"test_accuracy\",\n",
    "                         \"test_auc\",\n",
    "                         \"wa_precision\", # wa = weighted average\n",
    "                         \"wa_recall\",\n",
    "                         \"wa_f1_score\",\n",
    "                         \"wrong_preds\",\n",
    "                         \"total_preds\",\n",
    "                         \"num_train\", # number of images in the training set\n",
    "                         \"num_val\", # number of images in the validation set\n",
    "                         \"num_test\" # number of images in the test set  \n",
    "                        ])"
   ]
  },
  {
   "cell_type": "markdown",
   "id": "302f80ad",
   "metadata": {
    "papermill": {
     "duration": 0.005418,
     "end_time": "2022-12-12T15:25:50.074285",
     "exception": false,
     "start_time": "2022-12-12T15:25:50.068867",
     "status": "completed"
    },
    "tags": []
   },
   "source": [
    "### Define functions"
   ]
  },
  {
   "cell_type": "code",
   "execution_count": 4,
   "id": "735c8468",
   "metadata": {
    "_cell_guid": "b1076dfc-b9ad-4769-8c92-a6c4dae69d19",
    "_kg_hide-input": false,
    "_uuid": "8f2839f25d086af736a60e9eeb907d3b93b6e0e5",
    "execution": {
     "iopub.execute_input": "2022-12-12T15:25:50.087068Z",
     "iopub.status.busy": "2022-12-12T15:25:50.086806Z",
     "iopub.status.idle": "2022-12-12T15:25:50.101337Z",
     "shell.execute_reply": "2022-12-12T15:25:50.100474Z"
    },
    "papermill": {
     "duration": 0.02304,
     "end_time": "2022-12-12T15:25:50.103214",
     "exception": false,
     "start_time": "2022-12-12T15:25:50.080174",
     "status": "completed"
    },
    "tags": []
   },
   "outputs": [],
   "source": [
    "# https://stackoverflow.com/questions/39280813/visualization-of-convolutional-layer-in-keras-model\n",
    "# Merdan Memtimin https://stackoverflow.com/users/6565409/merdan-memtimin\n",
    "def plot_conv_weights(model, layer_name):\n",
    "    W = model.get_layer(name=layer_name).get_weights()[0]\n",
    "    if len(W.shape) == 4:\n",
    "        W = np.squeeze(W)\n",
    "        W = W.reshape((W.shape[0], W.shape[1], W.shape[2]*W.shape[3])) \n",
    "        fig, axs = plt.subplots(5,5, figsize=(8,8))\n",
    "        fig.subplots_adjust(hspace = .5, wspace=.001)\n",
    "        axs = axs.ravel()\n",
    "        for i in range(25):\n",
    "            axs[i].imshow(W[:,:,i])\n",
    "            axs[i].set_title(str(i))\n",
    "            \n",
    "            \n",
    "def load_metadata(data_folder, train_file, validation_file, test_file, column_names):\n",
    "    \"\"\"Reads the .csv files containing metadata (e.g. file location, class label) about the data images.\n",
    "    \n",
    "    Parameters:\n",
    "    data_folder (str): file path to the folder containing the csv file.\n",
    "    train_file (str): file name of the file containing metadata for the training set.\n",
    "    validation_file (str): file name of the file containing metadata for the validation set.\n",
    "    test_file (str): file name of the file containing metadata for the test set.\n",
    "    column_names (list): array containing the column names for the csv files\n",
    "    \n",
    "    Returns:\n",
    "    the read trainig, validation, and test files.\n",
    "    \"\"\"\n",
    "    training_df = pd.read_csv(data_folder + train_file, names = column_names, skiprows=1)\n",
    "    validation_df = pd.read_csv(data_folder + validation_file, names = column_names, skiprows=1)\n",
    "    test_df = pd.read_csv(data_folder + test_file, names = column_names, skiprows=1)\n",
    "    \n",
    "    return training_df, validation_df, test_df\n",
    "\n",
    "\n",
    "def flatten(d):\n",
    "    v = [[i] if not isinstance(i, list) else flatten(i) for i in d]\n",
    "    return [i for b in v for i in b]\n",
    "\n",
    "\n",
    "def precision(confusion_matrix):\n",
    "    \"\"\"Given a confusion matrix, calculates and returns precision for all classes\"\"\"\n",
    "    precision_list = []\n",
    "    for i in range(confusion_matrix.shape[1]):\n",
    "        current_col = confusion_matrix[:,[i]]\n",
    "        current_el = confusion_matrix[i,[i]]\n",
    "        current_precision = (float(current_el/sum(current_col)[0]))\n",
    "        current_precision = round(current_precision, 4)\n",
    "        precision_list.append(current_precision)\n",
    "    return precision_list\n",
    "\n",
    "def recall(confusion_matrix):\n",
    "    \"\"\"Given a confusion matrix, calculates and returns recall for all classes\"\"\"\n",
    "    recall_list = []\n",
    "    for i in range(confusion_matrix.shape[0]):\n",
    "        current_row = confusion_matrix[i,:]\n",
    "        current_el = confusion_matrix[i,i]\n",
    "        current_recall = round(current_el/sum(current_row), 4)\n",
    "        recall_list.append(current_recall)\n",
    "    return(recall_list)\n",
    "\n",
    "def f1_score(precision, recall):\n",
    "    \"\"\"Given a list of precision and recall values for a certain matrix,\n",
    "    returns f-1 values for each class\"\"\"\n",
    "    f1_scores = []\n",
    "    if len(precision) == len(recall):\n",
    "        for i in range(len(precision)):\n",
    "            current_f1 = 2*(precision[i]*recall[i])/(precision[i]+recall[i])\n",
    "            f1_scores.append(round(current_f1, 4))\n",
    "    else:\n",
    "        print(\"Error. Precision and Recall lists should be of equal lengths.\")\n",
    "    return f1_scores\n"
   ]
  },
  {
   "cell_type": "markdown",
   "id": "333593d7",
   "metadata": {
    "papermill": {
     "duration": 0.005386,
     "end_time": "2022-12-12T15:25:50.114197",
     "exception": false,
     "start_time": "2022-12-12T15:25:50.108811",
     "status": "completed"
    },
    "tags": []
   },
   "source": [
    "### Load data"
   ]
  },
  {
   "cell_type": "code",
   "execution_count": 5,
   "id": "d36fca6c",
   "metadata": {
    "execution": {
     "iopub.execute_input": "2022-12-12T15:25:50.128034Z",
     "iopub.status.busy": "2022-12-12T15:25:50.127269Z",
     "iopub.status.idle": "2022-12-12T15:25:50.197819Z",
     "shell.execute_reply": "2022-12-12T15:25:50.196070Z"
    },
    "papermill": {
     "duration": 0.080812,
     "end_time": "2022-12-12T15:25:50.200649",
     "exception": false,
     "start_time": "2022-12-12T15:25:50.119837",
     "status": "completed"
    },
    "tags": []
   },
   "outputs": [
    {
     "name": "stdout",
     "output_type": "stream",
     "text": [
      "---------LOADING DATA---------\n"
     ]
    }
   ],
   "source": [
    "print(\"---------LOADING DATA---------\")\n",
    "dataset_folder = input_folder + \"eurosat-dataset/\" + \"EuroSAT/\"\n",
    "column_names =  [\"id\", \"path\", \"class_id\", \"class_name\"]\n",
    "\n",
    "training_df, validation_df, test_df = load_metadata(dataset_folder,\n",
    "                                                    \"train.csv\",\n",
    "                                                    \"validation.csv\",\n",
    "                                                    \"test.csv\",\n",
    "                                                    column_names)"
   ]
  },
  {
   "cell_type": "markdown",
   "id": "fb30593d",
   "metadata": {
    "papermill": {
     "duration": 0.005492,
     "end_time": "2022-12-12T15:25:50.212191",
     "exception": false,
     "start_time": "2022-12-12T15:25:50.206699",
     "status": "completed"
    },
    "tags": []
   },
   "source": [
    "### Preprocessing"
   ]
  },
  {
   "cell_type": "code",
   "execution_count": 6,
   "id": "37ca2c20",
   "metadata": {
    "execution": {
     "iopub.execute_input": "2022-12-12T15:25:50.225705Z",
     "iopub.status.busy": "2022-12-12T15:25:50.224815Z",
     "iopub.status.idle": "2022-12-12T15:25:50.230787Z",
     "shell.execute_reply": "2022-12-12T15:25:50.229956Z"
    },
    "papermill": {
     "duration": 0.015047,
     "end_time": "2022-12-12T15:25:50.232810",
     "exception": false,
     "start_time": "2022-12-12T15:25:50.217763",
     "status": "completed"
    },
    "tags": []
   },
   "outputs": [],
   "source": [
    "# The data is already normalized so that pixels values range from 0,255. We can rescale pixel value between\n",
    "# [0,1] by divinding by 255.\n",
    "\n",
    "rescaling_factor = 1. / 255\n",
    "# Generate batches of tensor image data by setting up the generators.\n",
    "# If you want to perform augmentation, add parameters to the training_generatorF\n",
    "training_generator = ImageDataGenerator(rescale=rescaling_factor)\n",
    "test_generator = ImageDataGenerator(rescale=rescaling_factor)\n",
    "\n",
    "# Size of input data is 64x64 pixels\n",
    "image_width, image_height = (64, 64)"
   ]
  },
  {
   "cell_type": "markdown",
   "id": "e38833db",
   "metadata": {
    "papermill": {
     "duration": 0.005402,
     "end_time": "2022-12-12T15:25:50.243772",
     "exception": false,
     "start_time": "2022-12-12T15:25:50.238370",
     "status": "completed"
    },
    "tags": []
   },
   "source": [
    "### Build train, val, test sets"
   ]
  },
  {
   "cell_type": "code",
   "execution_count": 7,
   "id": "608c218f",
   "metadata": {
    "execution": {
     "iopub.execute_input": "2022-12-12T15:25:50.256676Z",
     "iopub.status.busy": "2022-12-12T15:25:50.255873Z",
     "iopub.status.idle": "2022-12-12T15:26:41.870882Z",
     "shell.execute_reply": "2022-12-12T15:26:41.869156Z"
    },
    "papermill": {
     "duration": 51.624197,
     "end_time": "2022-12-12T15:26:41.873580",
     "exception": false,
     "start_time": "2022-12-12T15:25:50.249383",
     "status": "completed"
    },
    "tags": []
   },
   "outputs": [
    {
     "name": "stdout",
     "output_type": "stream",
     "text": [
      "Building training set.\n",
      "Found 18900 validated image filenames belonging to 10 classes.\n",
      "\n",
      "Building validation set.\n",
      "Found 5400 validated image filenames belonging to 10 classes.\n",
      "\n",
      "Building test set\n",
      "Found 2700 validated image filenames belonging to 10 classes.\n"
     ]
    }
   ],
   "source": [
    "print(\"Building training set.\")\n",
    "training_set = training_generator.flow_from_dataframe(\n",
    "    dataframe=training_df,\n",
    "    x_col=\"path\",\n",
    "    y_col=\"class_name\",\n",
    "    directory=dataset_folder,\n",
    "    target_size=(image_height, image_width),\n",
    "    batch_size=batch_size,\n",
    "    class_mode=\"categorical\",\n",
    "    shuffle=False, # for replicability. Anyways they are already shuffled.\n",
    ")\n",
    "\n",
    "print(\"\\nBuilding validation set.\")\n",
    "validation_set = test_generator.flow_from_dataframe(\n",
    "    dataframe=validation_df,\n",
    "    x_col=\"path\",\n",
    "    y_col=\"class_name\",\n",
    "    directory=dataset_folder,\n",
    "    target_size=(image_height, image_width),\n",
    "    batch_size=batch_size,\n",
    "    class_mode=\"categorical\",\n",
    "    shuffle=False,\n",
    ")\n",
    "\n",
    "print(\"\\nBuilding test set\")\n",
    "test_set = test_generator.flow_from_dataframe(\n",
    "    dataframe=test_df,\n",
    "    x_col=\"path\",\n",
    "    y_col=\"class_name\",\n",
    "    directory=dataset_folder,\n",
    "    target_size=(image_height, image_width),\n",
    "    batch_size=batch_size,\n",
    "    class_mode=\"categorical\",\n",
    "    shuffle=False\n",
    ")\n",
    "\n",
    "\n",
    "\n",
    "\n",
    "class_name_list = np.array(list(training_set.class_indices.keys()))\n",
    "labels, count = np.unique(training_set.classes, return_counts=True)\n",
    "\n",
    "class_count = len(class_name_list)\n",
    "\n"
   ]
  },
  {
   "cell_type": "markdown",
   "id": "bf280eca",
   "metadata": {
    "papermill": {
     "duration": 0.006199,
     "end_time": "2022-12-12T15:26:41.886562",
     "exception": false,
     "start_time": "2022-12-12T15:26:41.880363",
     "status": "completed"
    },
    "tags": []
   },
   "source": [
    "# Ablation Study"
   ]
  },
  {
   "cell_type": "code",
   "execution_count": 8,
   "id": "fc48d315",
   "metadata": {
    "execution": {
     "iopub.execute_input": "2022-12-12T15:26:41.899563Z",
     "iopub.status.busy": "2022-12-12T15:26:41.899251Z",
     "iopub.status.idle": "2022-12-12T15:26:41.904399Z",
     "shell.execute_reply": "2022-12-12T15:26:41.903354Z"
    },
    "papermill": {
     "duration": 0.015641,
     "end_time": "2022-12-12T15:26:41.908158",
     "exception": false,
     "start_time": "2022-12-12T15:26:41.892517",
     "status": "completed"
    },
    "tags": []
   },
   "outputs": [
    {
     "name": "stdout",
     "output_type": "stream",
     "text": [
      "---------START OF ABLATION EXPERIMENTS---------\n"
     ]
    }
   ],
   "source": [
    "print(\"---------START OF ABLATION EXPERIMENTS---------\")"
   ]
  },
  {
   "cell_type": "markdown",
   "id": "fecb08fa",
   "metadata": {
    "papermill": {
     "duration": 0.005733,
     "end_time": "2022-12-12T15:26:41.920614",
     "exception": false,
     "start_time": "2022-12-12T15:26:41.914881",
     "status": "completed"
    },
    "tags": []
   },
   "source": [
    "## Define Functions\n",
    "### Compile and Fit"
   ]
  },
  {
   "cell_type": "markdown",
   "id": "c1c7e3fa",
   "metadata": {
    "papermill": {
     "duration": 0.005959,
     "end_time": "2022-12-12T15:26:41.933239",
     "exception": false,
     "start_time": "2022-12-12T15:26:41.927280",
     "status": "completed"
    },
    "tags": []
   },
   "source": [
    "Define Time History class to record time taken per epoch."
   ]
  },
  {
   "cell_type": "code",
   "execution_count": 9,
   "id": "bce547a0",
   "metadata": {
    "execution": {
     "iopub.execute_input": "2022-12-12T15:26:41.946852Z",
     "iopub.status.busy": "2022-12-12T15:26:41.946036Z",
     "iopub.status.idle": "2022-12-12T15:26:41.951953Z",
     "shell.execute_reply": "2022-12-12T15:26:41.951083Z"
    },
    "papermill": {
     "duration": 0.014726,
     "end_time": "2022-12-12T15:26:41.953834",
     "exception": false,
     "start_time": "2022-12-12T15:26:41.939108",
     "status": "completed"
    },
    "tags": []
   },
   "outputs": [],
   "source": [
    "class TimeHistory(keras.callbacks.Callback):\n",
    "    def on_train_begin(self, logs={}):\n",
    "        self.times = []\n",
    "\n",
    "    def on_epoch_begin(self, batch, logs={}):\n",
    "        self.epoch_time_start = time.time()\n",
    "\n",
    "    def on_epoch_end(self, batch, logs={}):\n",
    "        self.times.append(time.time() - self.epoch_time_start)"
   ]
  },
  {
   "cell_type": "code",
   "execution_count": 10,
   "id": "7767ae16",
   "metadata": {
    "execution": {
     "iopub.execute_input": "2022-12-12T15:26:41.966623Z",
     "iopub.status.busy": "2022-12-12T15:26:41.966337Z",
     "iopub.status.idle": "2022-12-12T15:26:41.975140Z",
     "shell.execute_reply": "2022-12-12T15:26:41.974048Z"
    },
    "papermill": {
     "duration": 0.017427,
     "end_time": "2022-12-12T15:26:41.977118",
     "exception": false,
     "start_time": "2022-12-12T15:26:41.959691",
     "status": "completed"
    },
    "tags": []
   },
   "outputs": [],
   "source": [
    "def run_model(model, model_name, params):\n",
    "    \"\"\"\n",
    "    Given a model architecture, the function compiles and fits the model.\n",
    "    \n",
    "    model: model architecture\n",
    "    model_name: \"str\", name used as model description in the output file\n",
    "    params: an array containing the values for the training parameters, namely:\n",
    "    [n_epochs, batch_size, loss_fun, act_fun, learn_rate, optmzer]\n",
    "    \"\"\"\n",
    "    # Path to save the model\n",
    "    model_path = \"/kaggle/working/eurosat_rgb_\" + model_name + \".h5\"\n",
    "    # Save the weigths of the best model\n",
    "    checkpoint = ModelCheckpoint(filepath=model_path, monitor=\"val_loss\", save_best_only=True)\n",
    "    # Reduce learning rate when val_loss stops improving for 5 epochs.\n",
    "    reduce_lr = ReduceLROnPlateau(monitor=\"val_loss\", factor=0.1, patience=5)\n",
    "    # Stop training if a val_loss has stopped improving for 8 epochs.\n",
    "    early_stopping = EarlyStopping(monitor=\"val_loss\", patience=8, restore_best_weights=True, verbose=verbose)\n",
    "    \n",
    "    time_callback = TimeHistory()\n",
    "    callback_list = [checkpoint, early_stopping, time_callback] #, reduce_lr]\n",
    "    \n",
    "    metrics=['accuracy',\n",
    "             tf.keras.metrics.AUC(from_logits=True)]\n",
    "    \n",
    "    print(\"---------MODEL COMPILE---------\")\n",
    "    model.compile(loss=params[2],\n",
    "                  optimizer=params[5],\n",
    "                  metrics=metrics)\n",
    "\n",
    "    print(\"---------MODEL FIT---------\")\n",
    "    \n",
    "    history = model.fit(\n",
    "        training_set,\n",
    "        validation_data=validation_set,\n",
    "        callbacks=callback_list,\n",
    "        epochs=params[0],\n",
    "        verbose=verbose,\n",
    "    )\n",
    "    \n",
    "    times = time_callback.times\n",
    "    avg_time_epoch = sum(times)/len(times)\n",
    "    new_params = params\n",
    "    new_params.append(avg_time_epoch)\n",
    "\n",
    "    return history, new_params"
   ]
  },
  {
   "cell_type": "markdown",
   "id": "59a4e124",
   "metadata": {
    "papermill": {
     "duration": 0.005708,
     "end_time": "2022-12-12T15:26:41.988810",
     "exception": false,
     "start_time": "2022-12-12T15:26:41.983102",
     "status": "completed"
    },
    "tags": []
   },
   "source": [
    "### Get Evaluation Metrics"
   ]
  },
  {
   "cell_type": "code",
   "execution_count": 11,
   "id": "4e71e56f",
   "metadata": {
    "execution": {
     "iopub.execute_input": "2022-12-12T15:26:42.002600Z",
     "iopub.status.busy": "2022-12-12T15:26:42.001771Z",
     "iopub.status.idle": "2022-12-12T15:26:42.012446Z",
     "shell.execute_reply": "2022-12-12T15:26:42.011558Z"
    },
    "papermill": {
     "duration": 0.019547,
     "end_time": "2022-12-12T15:26:42.014525",
     "exception": false,
     "start_time": "2022-12-12T15:26:41.994978",
     "status": "completed"
    },
    "tags": []
   },
   "outputs": [],
   "source": [
    "def get_eval_metrics(history, model, test_set, params):\n",
    "    \"\"\"\n",
    "    Given a trained model and a test set, the function returns model eval metrics.\n",
    "    \n",
    "    \n",
    "    \"\"\"\n",
    "    print(\"---------MODEL EVALUATE---------\")\n",
    "    \n",
    "    n_ran_epochs = len(history.history['loss'])\n",
    "    \n",
    "    loss, accuracy, auc = model.evaluate(test_set, verbose=verbose)\n",
    "    \n",
    "    test_set.reset()\n",
    "    predicted_probabilities = model.predict(test_set, steps=test_set.n, verbose=verbose)\n",
    "    predicted_class_ids = np.argmax(predicted_probabilities, axis=1)\n",
    "    report = metrics.classification_report(test_set.labels, predicted_class_ids, output_dict=True)\n",
    "    wa_prec = report[\"weighted avg\"][\"precision\"]\n",
    "    wa_rec = report[\"weighted avg\"][\"recall\"]\n",
    "    wa_f1 = report[\"weighted avg\"][\"f1-score\"]\n",
    "    cf_matrix = confusion_matrix(test_set.labels, predicted_class_ids)\n",
    "    confusion_matrix_df = pd.DataFrame(\n",
    "        data=cf_matrix, \n",
    "        index=class_name_list, \n",
    "        columns=class_name_list\n",
    "    )\n",
    "    results_df = pd.DataFrame(\n",
    "        {\n",
    "            \"label\": test_set.labels, \n",
    "            \"prediction\": predicted_class_ids, \n",
    "            \"path\": test_set.filepaths\n",
    "        }\n",
    "        )\n",
    "\n",
    "    mistakes = results_df[\"label\"] != results_df[\"prediction\"]\n",
    "    mistakes_df = results_df[mistakes]\n",
    "    wrong_preds = len(mistakes_df)\n",
    "    tot_preds = len(results_df)\n",
    "\n",
    "    print(metrics.classification_report(test_set.labels, predicted_class_ids, digits=4))\n",
    "    \n",
    "    \n",
    "    eval_metrics = [n_ran_epochs,\n",
    "                   loss,\n",
    "                   accuracy,\n",
    "                   auc,\n",
    "                   wa_prec,\n",
    "                   wa_rec,\n",
    "                   wa_f1,\n",
    "                   wrong_preds,\n",
    "                   tot_preds\n",
    "        ]\n",
    "    \n",
    "    return eval_metrics, cf_matrix, confusion_matrix_df, results_df"
   ]
  },
  {
   "cell_type": "markdown",
   "id": "27c3da85",
   "metadata": {
    "papermill": {
     "duration": 0.005674,
     "end_time": "2022-12-12T15:26:42.026224",
     "exception": false,
     "start_time": "2022-12-12T15:26:42.020550",
     "status": "completed"
    },
    "tags": []
   },
   "source": [
    "### Save plots"
   ]
  },
  {
   "cell_type": "code",
   "execution_count": 12,
   "id": "ca947cdc",
   "metadata": {
    "execution": {
     "iopub.execute_input": "2022-12-12T15:26:42.039356Z",
     "iopub.status.busy": "2022-12-12T15:26:42.038741Z",
     "iopub.status.idle": "2022-12-12T15:26:42.047326Z",
     "shell.execute_reply": "2022-12-12T15:26:42.046361Z"
    },
    "papermill": {
     "duration": 0.017168,
     "end_time": "2022-12-12T15:26:42.049284",
     "exception": false,
     "start_time": "2022-12-12T15:26:42.032116",
     "status": "completed"
    },
    "tags": []
   },
   "outputs": [],
   "source": [
    "def save_plots(history, output_folder, model_name, confusion_matrix_df):\n",
    "    plt.subplot(1, 2, 1)\n",
    "    # Loss\n",
    "    plt.plot(history.history[\"loss\"])\n",
    "    plt.plot(history.history[\"val_loss\"])\n",
    "    plt.title(\"Loss - \" + model_name)\n",
    "    plt.ylabel(\"loss\")\n",
    "    plt.xlabel(\"epoch\")\n",
    "    plt.legend([\"train\", \"validation\"], loc=\"upper left\")\n",
    "\n",
    "    # Accuracy\n",
    "    plt.subplot(1, 2, 2)\n",
    "    plt.plot(history.history[\"accuracy\"])\n",
    "    plt.plot(history.history[\"val_accuracy\"])\n",
    "    plt.title(\"Accuracy - \" + model_name)\n",
    "    plt.ylabel(\"accuracy\")\n",
    "    plt.xlabel(\"epoch\")\n",
    "    plt.legend([\"train\", \"validation\"], loc=\"upper left\")\n",
    "\n",
    "    #plt.show()\n",
    "    plt.savefig(output_folder + model_name + \"_training_curves.png\")\n",
    "    \n",
    "    # CONFUSION MATRIX IMAGE\n",
    "    plt.figure(figsize=(10, 7))\n",
    "    sns.set(font_scale=1)\n",
    "    sns.heatmap(confusion_matrix_df, annot=True, cmap=\"Blues\", annot_kws={\"size\": 9}, fmt=\"g\")\n",
    "    plt.ylabel(\"Label\")\n",
    "    plt.xlabel(\"Prediction\")\n",
    "    plt.title(\"Confusion matrix - \" + model_name)\n",
    "    #plt.show()\n",
    "    plt.savefig(output_folder + model_name + \"_confusion.png\")"
   ]
  },
  {
   "cell_type": "markdown",
   "id": "d815f102",
   "metadata": {
    "papermill": {
     "duration": 0.005985,
     "end_time": "2022-12-12T15:26:42.061143",
     "exception": false,
     "start_time": "2022-12-12T15:26:42.055158",
     "status": "completed"
    },
    "tags": []
   },
   "source": [
    "### Save numerical results"
   ]
  },
  {
   "cell_type": "code",
   "execution_count": 13,
   "id": "1ad941bf",
   "metadata": {
    "execution": {
     "iopub.execute_input": "2022-12-12T15:26:42.074246Z",
     "iopub.status.busy": "2022-12-12T15:26:42.073979Z",
     "iopub.status.idle": "2022-12-12T15:26:42.079046Z",
     "shell.execute_reply": "2022-12-12T15:26:42.078019Z"
    },
    "papermill": {
     "duration": 0.013926,
     "end_time": "2022-12-12T15:26:42.081058",
     "exception": false,
     "start_time": "2022-12-12T15:26:42.067132",
     "status": "completed"
    },
    "tags": []
   },
   "outputs": [],
   "source": [
    "def append_results_to_csv(csv_row):\n",
    "    print(\"---------SAVE RESULTS---------\")\n",
    "    \"\"\"Append the results to the csv file\n",
    "    csv_row: list, contains the information to append to the csv\"\"\"\n",
    "    \n",
    "    with open(\"./results.csv\", 'a+', newline='') as csvfile:\n",
    "        filewriter = csv.writer(csvfile, delimiter=',',\n",
    "                                quotechar='|', quoting=csv.QUOTE_MINIMAL)\n",
    "        # Create a row with the column names:\n",
    "        filewriter.writerow(csv_row)\n"
   ]
  },
  {
   "cell_type": "markdown",
   "id": "f102195e",
   "metadata": {
    "papermill": {
     "duration": 0.005833,
     "end_time": "2022-12-12T15:26:42.092985",
     "exception": false,
     "start_time": "2022-12-12T15:26:42.087152",
     "status": "completed"
    },
    "tags": []
   },
   "source": [
    "# EXPERIMENT VGG16-CONV1-CONV2"
   ]
  },
  {
   "cell_type": "code",
   "execution_count": 14,
   "id": "ec61f4c8",
   "metadata": {
    "execution": {
     "iopub.execute_input": "2022-12-12T15:26:42.106477Z",
     "iopub.status.busy": "2022-12-12T15:26:42.106203Z",
     "iopub.status.idle": "2022-12-12T15:26:42.115803Z",
     "shell.execute_reply": "2022-12-12T15:26:42.114914Z"
    },
    "papermill": {
     "duration": 0.018592,
     "end_time": "2022-12-12T15:26:42.117814",
     "exception": false,
     "start_time": "2022-12-12T15:26:42.099222",
     "status": "completed"
    },
    "tags": []
   },
   "outputs": [
    {
     "data": {
      "text/plain": [
       "'params = [n_epochs,\\n          batch_size,\\n          loss_fun, \\n          act_fun,\\n          learn_rate, \\n          optmzer,\\n          n_convolutional_layers,\\n          filter_size,\\n          filters_number\\n         ]\\n\\n\\nmodel_id = \"VGG16-CONV1-2\"\\nmodel_name = model_id\\n\\nn_layers = 9\\n\\nparams[6] = n_layers\\n\\nprint(f\"-------- EXPERIMENT {model_id} ----------\")\\n\\nmodel = Sequential()\\n\\n# start of model\\n#model.add(Conv2D(input_shape=(64,64,3),filters=64,kernel_size=(3,3),padding=\"same\", activation=\"relu\"))\\n#model.add(Conv2D(filters=64,kernel_size=(3,3),padding=\"same\", activation=\"relu\"))\\n#model.add(MaxPool2D(pool_size=(2,2),strides=(2,2)))\\n#model.add(Conv2D(filters=128, kernel_size=(3,3), padding=\"same\", activation=\"relu\"))\\n#model.add(Conv2D(filters=128, kernel_size=(3,3), padding=\"same\", activation=\"relu\"))\\n#model.add(MaxPool2D(pool_size=(2,2),strides=(2,2)))\\nmodel.add(Conv2D(input_shape=(64,64,3),filters=64, kernel_size=filter_size, padding=\"same\", activation=\"relu\"))\\nmodel.add(Conv2D(filters=64, kernel_size=filter_size, padding=\"same\", activation=\"relu\"))\\nmodel.add(Conv2D(filters=128, kernel_size=filter_size, padding=\"same\", activation=\"relu\"))\\nmodel.add(MaxPool2D(pool_size=(4,4),strides=(4,4)))\\nmodel.add(Conv2D(filters=128, kernel_size=filter_size, padding=\"same\", activation=\"relu\"))\\nmodel.add(Conv2D(filters=128, kernel_size=filter_size, padding=\"same\", activation=\"relu\"))\\nmodel.add(Conv2D(filters=256, kernel_size=filter_size, padding=\"same\", activation=\"relu\"))\\nmodel.add(MaxPool2D(pool_size=(2,2),strides=(2,2)))\\nmodel.add(Conv2D(filters=512, kernel_size=filter_size, padding=\"same\", activation=\"relu\"))\\nmodel.add(Conv2D(filters=512, kernel_size=filter_size, padding=\"same\", activation=\"relu\"))\\nmodel.add(Conv2D(filters=512, kernel_size=filter_size, padding=\"same\", activation=\"relu\"))\\nmodel.add(MaxPool2D(pool_size=(2,2),strides=(2,2)))\\n\\n\\n# add a flatten out layer, a dropout for regularization, a FC layer, and a final\\n# 10-node softmax layer for the prediction.\\nmodel.add(Flatten()) # just flattening operation, same numb. nodes kept\\n# n. nodes chosen by keeping the drop in nodes ratio of the origina model (approx.)\\nmodel.add(Dense(units=680, activation=\"relu\", kernel_initializer=\"he_normal\"))\\nmodel.add(Dropout(0.5)) # MY ADDITION\\nmodel.add(Dense(units=180, activation=\"relu\", kernel_initializer=\"he_normal\"))\\nmodel.add(Dense(class_count, activation=\"softmax\"))\\n\\n\\nmodel.summary()\\n\\n\\n# Model COMPILE and FIT\\nhistory, new_params = run_model(model, model_name, params)\\nparams = new_params\\n# Model EVALUATE\\neval_metrics, cf_matrix, confusion_matrix_df, results_df = get_eval_metrics(history, model, test_set, params)\\n\\nsave_plots(history, output_folder, model_name, confusion_matrix_df)\\n\\nparams_to_save = params\\nparams_to_save[7] = str(params_to_save[7]).replace(\\',\\', \";\")\\nparams_to_save[8] = str(params_to_save[8]).replace(\\',\\', \";\")\\nparams_to_save\\n\\nnew_row = [model_id,\\n           model_name,\\n           params_to_save,\\n           eval_metrics,\\n           len(training_df), # number of images in the training set\\n           len(validation_df), # number of images in the validation set\\n           len(test_df), # number of images in the test set\\n          ]\\n\\nnew_row = flatten(new_row)\\n\\nappend_results_to_csv(new_row)\\n'"
      ]
     },
     "execution_count": 14,
     "metadata": {},
     "output_type": "execute_result"
    }
   ],
   "source": [
    "\"\"\"params = [n_epochs,\n",
    "          batch_size,\n",
    "          loss_fun, \n",
    "          act_fun,\n",
    "          learn_rate, \n",
    "          optmzer,\n",
    "          n_convolutional_layers,\n",
    "          filter_size,\n",
    "          filters_number\n",
    "         ]\n",
    "\n",
    "\n",
    "model_id = \"VGG16-CONV1-2\"\n",
    "model_name = model_id\n",
    "\n",
    "n_layers = 9\n",
    "\n",
    "params[6] = n_layers\n",
    "\n",
    "print(f\"-------- EXPERIMENT {model_id} ----------\")\n",
    "\n",
    "model = Sequential()\n",
    "\n",
    "# start of model\n",
    "#model.add(Conv2D(input_shape=(64,64,3),filters=64,kernel_size=(3,3),padding=\"same\", activation=\"relu\"))\n",
    "#model.add(Conv2D(filters=64,kernel_size=(3,3),padding=\"same\", activation=\"relu\"))\n",
    "#model.add(MaxPool2D(pool_size=(2,2),strides=(2,2)))\n",
    "#model.add(Conv2D(filters=128, kernel_size=(3,3), padding=\"same\", activation=\"relu\"))\n",
    "#model.add(Conv2D(filters=128, kernel_size=(3,3), padding=\"same\", activation=\"relu\"))\n",
    "#model.add(MaxPool2D(pool_size=(2,2),strides=(2,2)))\n",
    "model.add(Conv2D(input_shape=(64,64,3),filters=64, kernel_size=filter_size, padding=\"same\", activation=\"relu\"))\n",
    "model.add(Conv2D(filters=64, kernel_size=filter_size, padding=\"same\", activation=\"relu\"))\n",
    "model.add(Conv2D(filters=128, kernel_size=filter_size, padding=\"same\", activation=\"relu\"))\n",
    "model.add(MaxPool2D(pool_size=(4,4),strides=(4,4)))\n",
    "model.add(Conv2D(filters=128, kernel_size=filter_size, padding=\"same\", activation=\"relu\"))\n",
    "model.add(Conv2D(filters=128, kernel_size=filter_size, padding=\"same\", activation=\"relu\"))\n",
    "model.add(Conv2D(filters=256, kernel_size=filter_size, padding=\"same\", activation=\"relu\"))\n",
    "model.add(MaxPool2D(pool_size=(2,2),strides=(2,2)))\n",
    "model.add(Conv2D(filters=512, kernel_size=filter_size, padding=\"same\", activation=\"relu\"))\n",
    "model.add(Conv2D(filters=512, kernel_size=filter_size, padding=\"same\", activation=\"relu\"))\n",
    "model.add(Conv2D(filters=512, kernel_size=filter_size, padding=\"same\", activation=\"relu\"))\n",
    "model.add(MaxPool2D(pool_size=(2,2),strides=(2,2)))\n",
    "\n",
    "\n",
    "# add a flatten out layer, a dropout for regularization, a FC layer, and a final\n",
    "# 10-node softmax layer for the prediction.\n",
    "model.add(Flatten()) # just flattening operation, same numb. nodes kept\n",
    "# n. nodes chosen by keeping the drop in nodes ratio of the origina model (approx.)\n",
    "model.add(Dense(units=680, activation=\"relu\", kernel_initializer=\"he_normal\"))\n",
    "model.add(Dropout(0.5)) # MY ADDITION\n",
    "model.add(Dense(units=180, activation=\"relu\", kernel_initializer=\"he_normal\"))\n",
    "model.add(Dense(class_count, activation=\"softmax\"))\n",
    "\n",
    "\n",
    "model.summary()\n",
    "\n",
    "\n",
    "# Model COMPILE and FIT\n",
    "history, new_params = run_model(model, model_name, params)\n",
    "params = new_params\n",
    "# Model EVALUATE\n",
    "eval_metrics, cf_matrix, confusion_matrix_df, results_df = get_eval_metrics(history, model, test_set, params)\n",
    "\n",
    "save_plots(history, output_folder, model_name, confusion_matrix_df)\n",
    "\n",
    "params_to_save = params\n",
    "params_to_save[7] = str(params_to_save[7]).replace(',', \";\")\n",
    "params_to_save[8] = str(params_to_save[8]).replace(',', \";\")\n",
    "params_to_save\n",
    "\n",
    "new_row = [model_id,\n",
    "           model_name,\n",
    "           params_to_save,\n",
    "           eval_metrics,\n",
    "           len(training_df), # number of images in the training set\n",
    "           len(validation_df), # number of images in the validation set\n",
    "           len(test_df), # number of images in the test set\n",
    "          ]\n",
    "\n",
    "new_row = flatten(new_row)\n",
    "\n",
    "append_results_to_csv(new_row)\n",
    "\"\"\""
   ]
  },
  {
   "cell_type": "markdown",
   "id": "8bd64ce5",
   "metadata": {
    "papermill": {
     "duration": 0.005818,
     "end_time": "2022-12-12T15:26:42.129648",
     "exception": false,
     "start_time": "2022-12-12T15:26:42.123830",
     "status": "completed"
    },
    "tags": []
   },
   "source": [
    "# 2.A.i.3"
   ]
  },
  {
   "cell_type": "code",
   "execution_count": 15,
   "id": "edbdaa71",
   "metadata": {
    "execution": {
     "iopub.execute_input": "2022-12-12T15:26:42.143153Z",
     "iopub.status.busy": "2022-12-12T15:26:42.142906Z",
     "iopub.status.idle": "2022-12-12T16:13:24.023376Z",
     "shell.execute_reply": "2022-12-12T16:13:24.022463Z"
    },
    "papermill": {
     "duration": 2801.889762,
     "end_time": "2022-12-12T16:13:24.025436",
     "exception": false,
     "start_time": "2022-12-12T15:26:42.135674",
     "status": "completed"
    },
    "tags": []
   },
   "outputs": [
    {
     "name": "stdout",
     "output_type": "stream",
     "text": [
      "-------- EXPERIMENT 2A.i.3 ----------\n",
      "Model: \"sequential\"\n",
      "_________________________________________________________________\n",
      "Layer (type)                 Output Shape              Param #   \n",
      "=================================================================\n",
      "conv2d (Conv2D)              (None, 64, 64, 32)        896       \n",
      "_________________________________________________________________\n",
      "max_pooling2d (MaxPooling2D) (None, 32, 32, 32)        0         \n",
      "_________________________________________________________________\n",
      "conv2d_1 (Conv2D)            (None, 32, 32, 32)        9248      \n",
      "_________________________________________________________________\n",
      "max_pooling2d_1 (MaxPooling2 (None, 16, 16, 32)        0         \n",
      "_________________________________________________________________\n",
      "conv2d_2 (Conv2D)            (None, 16, 16, 64)        18496     \n",
      "_________________________________________________________________\n",
      "max_pooling2d_2 (MaxPooling2 (None, 8, 8, 64)          0         \n",
      "_________________________________________________________________\n",
      "conv2d_3 (Conv2D)            (None, 8, 8, 64)          36928     \n",
      "_________________________________________________________________\n",
      "conv2d_4 (Conv2D)            (None, 8, 8, 128)         73856     \n",
      "_________________________________________________________________\n",
      "max_pooling2d_3 (MaxPooling2 (None, 4, 4, 128)         0         \n",
      "_________________________________________________________________\n",
      "flatten (Flatten)            (None, 2048)              0         \n",
      "_________________________________________________________________\n",
      "dense (Dense)                (None, 200)               409800    \n",
      "_________________________________________________________________\n",
      "dropout (Dropout)            (None, 200)               0         \n",
      "_________________________________________________________________\n",
      "dense_1 (Dense)              (None, 10)                2010      \n",
      "=================================================================\n",
      "Total params: 551,234\n",
      "Trainable params: 551,234\n",
      "Non-trainable params: 0\n",
      "_________________________________________________________________\n",
      "---------MODEL COMPILE---------\n",
      "---------MODEL FIT---------\n",
      "Epoch 1/100\n",
      "148/148 [==============================] - 112s 693ms/step - loss: 1.9982 - accuracy: 0.2333 - auc: 0.7314 - val_loss: 1.5206 - val_accuracy: 0.3839 - val_auc: 0.8772\n",
      "Epoch 2/100\n",
      "148/148 [==============================] - 25s 165ms/step - loss: 1.4473 - accuracy: 0.4300 - auc: 0.8817 - val_loss: 1.2434 - val_accuracy: 0.5672 - val_auc: 0.9179\n",
      "Epoch 3/100\n",
      "148/148 [==============================] - 24s 161ms/step - loss: 1.2810 - accuracy: 0.5112 - auc: 0.9079 - val_loss: 1.0846 - val_accuracy: 0.6215 - val_auc: 0.9366\n",
      "Epoch 4/100\n",
      "148/148 [==============================] - 24s 165ms/step - loss: 1.1335 - accuracy: 0.5865 - auc: 0.9277 - val_loss: 0.9743 - val_accuracy: 0.6194 - val_auc: 0.9475\n",
      "Epoch 5/100\n",
      "148/148 [==============================] - 24s 162ms/step - loss: 1.0227 - accuracy: 0.6363 - auc: 0.9406 - val_loss: 0.8535 - val_accuracy: 0.6994 - val_auc: 0.9602\n",
      "Epoch 6/100\n",
      "148/148 [==============================] - 24s 162ms/step - loss: 0.9501 - accuracy: 0.6680 - auc: 0.9484 - val_loss: 0.8186 - val_accuracy: 0.7137 - val_auc: 0.9631\n",
      "Epoch 7/100\n",
      "148/148 [==============================] - 24s 162ms/step - loss: 0.9148 - accuracy: 0.6768 - auc: 0.9513 - val_loss: 0.7850 - val_accuracy: 0.7206 - val_auc: 0.9661\n",
      "Epoch 8/100\n",
      "148/148 [==============================] - 23s 154ms/step - loss: 0.8696 - accuracy: 0.6980 - auc: 0.9559 - val_loss: 0.7740 - val_accuracy: 0.7161 - val_auc: 0.9659\n",
      "Epoch 9/100\n",
      "148/148 [==============================] - 23s 159ms/step - loss: 0.8436 - accuracy: 0.6999 - auc: 0.9584 - val_loss: 0.7714 - val_accuracy: 0.7178 - val_auc: 0.9659\n",
      "Epoch 10/100\n",
      "148/148 [==============================] - 23s 157ms/step - loss: 0.8198 - accuracy: 0.7090 - auc: 0.9609 - val_loss: 0.7338 - val_accuracy: 0.7307 - val_auc: 0.9690\n",
      "Epoch 11/100\n",
      "148/148 [==============================] - 23s 156ms/step - loss: 0.7959 - accuracy: 0.7157 - auc: 0.9627 - val_loss: 0.7476 - val_accuracy: 0.7215 - val_auc: 0.9685\n",
      "Epoch 12/100\n",
      "148/148 [==============================] - 23s 158ms/step - loss: 0.7795 - accuracy: 0.7232 - auc: 0.9642 - val_loss: 0.6981 - val_accuracy: 0.7456 - val_auc: 0.9716\n",
      "Epoch 13/100\n",
      "148/148 [==============================] - 24s 161ms/step - loss: 0.7671 - accuracy: 0.7258 - auc: 0.9653 - val_loss: 0.6698 - val_accuracy: 0.7531 - val_auc: 0.9742\n",
      "Epoch 14/100\n",
      "148/148 [==============================] - 24s 161ms/step - loss: 0.7625 - accuracy: 0.7267 - auc: 0.9656 - val_loss: 0.7161 - val_accuracy: 0.7304 - val_auc: 0.9710\n",
      "Epoch 15/100\n",
      "148/148 [==============================] - 24s 165ms/step - loss: 0.7492 - accuracy: 0.7330 - auc: 0.9668 - val_loss: 0.6588 - val_accuracy: 0.7552 - val_auc: 0.9754\n",
      "Epoch 16/100\n",
      "148/148 [==============================] - 25s 167ms/step - loss: 0.7303 - accuracy: 0.7346 - auc: 0.9685 - val_loss: 0.7014 - val_accuracy: 0.7393 - val_auc: 0.9713\n",
      "Epoch 17/100\n",
      "148/148 [==============================] - 24s 161ms/step - loss: 0.7196 - accuracy: 0.7389 - auc: 0.9693 - val_loss: 0.6406 - val_accuracy: 0.7609 - val_auc: 0.9766\n",
      "Epoch 18/100\n",
      "148/148 [==============================] - 24s 164ms/step - loss: 0.7102 - accuracy: 0.7446 - auc: 0.9700 - val_loss: 0.6743 - val_accuracy: 0.7472 - val_auc: 0.9741\n",
      "Epoch 19/100\n",
      "148/148 [==============================] - 24s 161ms/step - loss: 0.7078 - accuracy: 0.7424 - auc: 0.9702 - val_loss: 0.6228 - val_accuracy: 0.7698 - val_auc: 0.9778\n",
      "Epoch 20/100\n",
      "148/148 [==============================] - 24s 163ms/step - loss: 0.7073 - accuracy: 0.7417 - auc: 0.9701 - val_loss: 0.6225 - val_accuracy: 0.7681 - val_auc: 0.9777\n",
      "Epoch 21/100\n",
      "148/148 [==============================] - 24s 162ms/step - loss: 0.6848 - accuracy: 0.7518 - auc: 0.9718 - val_loss: 0.6129 - val_accuracy: 0.7674 - val_auc: 0.9780\n",
      "Epoch 22/100\n",
      "148/148 [==============================] - 24s 159ms/step - loss: 0.6728 - accuracy: 0.7566 - auc: 0.9730 - val_loss: 0.6116 - val_accuracy: 0.7722 - val_auc: 0.9780\n",
      "Epoch 23/100\n",
      "148/148 [==============================] - 24s 160ms/step - loss: 0.6905 - accuracy: 0.7465 - auc: 0.9715 - val_loss: 0.6160 - val_accuracy: 0.7669 - val_auc: 0.9777\n",
      "Epoch 24/100\n",
      "148/148 [==============================] - 24s 160ms/step - loss: 0.6715 - accuracy: 0.7522 - auc: 0.9728 - val_loss: 0.6555 - val_accuracy: 0.7576 - val_auc: 0.9751\n",
      "Epoch 25/100\n",
      "148/148 [==============================] - 23s 157ms/step - loss: 0.6543 - accuracy: 0.7623 - auc: 0.9744 - val_loss: 0.5815 - val_accuracy: 0.7811 - val_auc: 0.9799\n",
      "Epoch 26/100\n",
      "148/148 [==============================] - 23s 159ms/step - loss: 0.6407 - accuracy: 0.7679 - auc: 0.9752 - val_loss: 0.5973 - val_accuracy: 0.7757 - val_auc: 0.9787\n",
      "Epoch 27/100\n",
      "148/148 [==============================] - 24s 160ms/step - loss: 0.6587 - accuracy: 0.7582 - auc: 0.9741 - val_loss: 0.5924 - val_accuracy: 0.7800 - val_auc: 0.9797\n",
      "Epoch 28/100\n",
      "148/148 [==============================] - 24s 165ms/step - loss: 0.6242 - accuracy: 0.7759 - auc: 0.9763 - val_loss: 0.6490 - val_accuracy: 0.7667 - val_auc: 0.9746\n",
      "Epoch 29/100\n",
      "148/148 [==============================] - 23s 158ms/step - loss: 0.6503 - accuracy: 0.7629 - auc: 0.9743 - val_loss: 0.5728 - val_accuracy: 0.7900 - val_auc: 0.9804\n",
      "Epoch 30/100\n",
      "148/148 [==============================] - 23s 158ms/step - loss: 0.6176 - accuracy: 0.7761 - auc: 0.9766 - val_loss: 0.5671 - val_accuracy: 0.7911 - val_auc: 0.9807\n",
      "Epoch 31/100\n",
      "148/148 [==============================] - 23s 158ms/step - loss: 0.6134 - accuracy: 0.7774 - auc: 0.9770 - val_loss: 0.5818 - val_accuracy: 0.7919 - val_auc: 0.9797\n",
      "Epoch 32/100\n",
      "148/148 [==============================] - 24s 161ms/step - loss: 0.6089 - accuracy: 0.7777 - auc: 0.9772 - val_loss: 0.5522 - val_accuracy: 0.7991 - val_auc: 0.9819\n",
      "Epoch 33/100\n",
      "148/148 [==============================] - 24s 165ms/step - loss: 0.5961 - accuracy: 0.7853 - auc: 0.9782 - val_loss: 0.5310 - val_accuracy: 0.8019 - val_auc: 0.9829\n",
      "Epoch 34/100\n",
      "148/148 [==============================] - 24s 166ms/step - loss: 0.6031 - accuracy: 0.7789 - auc: 0.9778 - val_loss: 0.5298 - val_accuracy: 0.8069 - val_auc: 0.9831\n",
      "Epoch 35/100\n",
      "148/148 [==============================] - 25s 167ms/step - loss: 0.5828 - accuracy: 0.7868 - auc: 0.9791 - val_loss: 0.5262 - val_accuracy: 0.8065 - val_auc: 0.9830\n",
      "Epoch 36/100\n",
      "148/148 [==============================] - 25s 168ms/step - loss: 0.5815 - accuracy: 0.7883 - auc: 0.9791 - val_loss: 0.5726 - val_accuracy: 0.7856 - val_auc: 0.9800\n",
      "Epoch 37/100\n",
      "148/148 [==============================] - 25s 170ms/step - loss: 0.5703 - accuracy: 0.7928 - auc: 0.9799 - val_loss: 0.5480 - val_accuracy: 0.7935 - val_auc: 0.9807\n",
      "Epoch 38/100\n",
      "148/148 [==============================] - 25s 168ms/step - loss: 0.5820 - accuracy: 0.7910 - auc: 0.9790 - val_loss: 0.5116 - val_accuracy: 0.8124 - val_auc: 0.9841\n",
      "Epoch 39/100\n",
      "148/148 [==============================] - 24s 162ms/step - loss: 0.5633 - accuracy: 0.7966 - auc: 0.9804 - val_loss: 0.5143 - val_accuracy: 0.8133 - val_auc: 0.9836\n",
      "Epoch 40/100\n",
      "148/148 [==============================] - 24s 162ms/step - loss: 0.5595 - accuracy: 0.7962 - auc: 0.9803 - val_loss: 0.5180 - val_accuracy: 0.8126 - val_auc: 0.9839\n",
      "Epoch 41/100\n",
      "148/148 [==============================] - 24s 161ms/step - loss: 0.5524 - accuracy: 0.7998 - auc: 0.9809 - val_loss: 0.5114 - val_accuracy: 0.8163 - val_auc: 0.9841\n",
      "Epoch 42/100\n",
      "148/148 [==============================] - 24s 162ms/step - loss: 0.5533 - accuracy: 0.8017 - auc: 0.9807 - val_loss: 0.5130 - val_accuracy: 0.8165 - val_auc: 0.9842\n",
      "Epoch 43/100\n",
      "148/148 [==============================] - 25s 168ms/step - loss: 0.5418 - accuracy: 0.8031 - auc: 0.9813 - val_loss: 0.4994 - val_accuracy: 0.8198 - val_auc: 0.9844\n",
      "Epoch 44/100\n",
      "148/148 [==============================] - 24s 162ms/step - loss: 0.5483 - accuracy: 0.8023 - auc: 0.9811 - val_loss: 0.5461 - val_accuracy: 0.8057 - val_auc: 0.9808\n",
      "Epoch 45/100\n",
      "148/148 [==============================] - 24s 164ms/step - loss: 0.5340 - accuracy: 0.8070 - auc: 0.9817 - val_loss: 0.6245 - val_accuracy: 0.7739 - val_auc: 0.9753\n",
      "Epoch 46/100\n",
      "148/148 [==============================] - 24s 161ms/step - loss: 0.5378 - accuracy: 0.8062 - auc: 0.9816 - val_loss: 0.4985 - val_accuracy: 0.8226 - val_auc: 0.9846\n",
      "Epoch 47/100\n",
      "148/148 [==============================] - 25s 168ms/step - loss: 0.5264 - accuracy: 0.8094 - auc: 0.9827 - val_loss: 0.4779 - val_accuracy: 0.8256 - val_auc: 0.9858\n",
      "Epoch 48/100\n",
      "148/148 [==============================] - 26s 175ms/step - loss: 0.5179 - accuracy: 0.8146 - auc: 0.9827 - val_loss: 0.4751 - val_accuracy: 0.8276 - val_auc: 0.9855\n",
      "Epoch 49/100\n",
      "148/148 [==============================] - 25s 172ms/step - loss: 0.5219 - accuracy: 0.8116 - auc: 0.9826 - val_loss: 0.4881 - val_accuracy: 0.8196 - val_auc: 0.9845\n",
      "Epoch 50/100\n",
      "148/148 [==============================] - 26s 178ms/step - loss: 0.5147 - accuracy: 0.8182 - auc: 0.9832 - val_loss: 0.4841 - val_accuracy: 0.8235 - val_auc: 0.9849\n",
      "Epoch 51/100\n",
      "148/148 [==============================] - 26s 178ms/step - loss: 0.5072 - accuracy: 0.8189 - auc: 0.9834 - val_loss: 0.4827 - val_accuracy: 0.8287 - val_auc: 0.9850\n",
      "Epoch 52/100\n",
      "148/148 [==============================] - 24s 165ms/step - loss: 0.5221 - accuracy: 0.8130 - auc: 0.9825 - val_loss: 0.4651 - val_accuracy: 0.8293 - val_auc: 0.9860\n",
      "Epoch 53/100\n",
      "148/148 [==============================] - 25s 170ms/step - loss: 0.5013 - accuracy: 0.8195 - auc: 0.9838 - val_loss: 0.4633 - val_accuracy: 0.8339 - val_auc: 0.9859\n",
      "Epoch 54/100\n",
      "148/148 [==============================] - 24s 162ms/step - loss: 0.4916 - accuracy: 0.8242 - auc: 0.9845 - val_loss: 0.4508 - val_accuracy: 0.8339 - val_auc: 0.9868\n",
      "Epoch 55/100\n",
      "148/148 [==============================] - 24s 162ms/step - loss: 0.4944 - accuracy: 0.8266 - auc: 0.9840 - val_loss: 0.4523 - val_accuracy: 0.8409 - val_auc: 0.9871\n",
      "Epoch 56/100\n",
      "148/148 [==============================] - 24s 161ms/step - loss: 0.5010 - accuracy: 0.8190 - auc: 0.9836 - val_loss: 0.4610 - val_accuracy: 0.8326 - val_auc: 0.9867\n",
      "Epoch 57/100\n",
      "148/148 [==============================] - 24s 165ms/step - loss: 0.4873 - accuracy: 0.8287 - auc: 0.9845 - val_loss: 0.4474 - val_accuracy: 0.8370 - val_auc: 0.9866\n",
      "Epoch 58/100\n",
      "148/148 [==============================] - 24s 161ms/step - loss: 0.4802 - accuracy: 0.8314 - auc: 0.9849 - val_loss: 0.4671 - val_accuracy: 0.8359 - val_auc: 0.9854\n",
      "Epoch 59/100\n",
      "148/148 [==============================] - 24s 160ms/step - loss: 0.4811 - accuracy: 0.8266 - auc: 0.9847 - val_loss: 0.4389 - val_accuracy: 0.8415 - val_auc: 0.9870\n",
      "Epoch 60/100\n",
      "148/148 [==============================] - 25s 167ms/step - loss: 0.4675 - accuracy: 0.8346 - auc: 0.9854 - val_loss: 0.4354 - val_accuracy: 0.8407 - val_auc: 0.9873\n",
      "Epoch 61/100\n",
      "148/148 [==============================] - 24s 162ms/step - loss: 0.4727 - accuracy: 0.8324 - auc: 0.9852 - val_loss: 0.4609 - val_accuracy: 0.8333 - val_auc: 0.9858\n",
      "Epoch 62/100\n",
      "148/148 [==============================] - 24s 162ms/step - loss: 0.4674 - accuracy: 0.8336 - auc: 0.9856 - val_loss: 0.5234 - val_accuracy: 0.8161 - val_auc: 0.9813\n",
      "Epoch 63/100\n",
      "148/148 [==============================] - 23s 158ms/step - loss: 0.4843 - accuracy: 0.8277 - auc: 0.9846 - val_loss: 0.4349 - val_accuracy: 0.8398 - val_auc: 0.9877\n",
      "Epoch 64/100\n",
      "148/148 [==============================] - 23s 158ms/step - loss: 0.4646 - accuracy: 0.8324 - auc: 0.9859 - val_loss: 0.4371 - val_accuracy: 0.8467 - val_auc: 0.9873\n",
      "Epoch 65/100\n",
      "148/148 [==============================] - 24s 166ms/step - loss: 0.4682 - accuracy: 0.8330 - auc: 0.9854 - val_loss: 0.4170 - val_accuracy: 0.8511 - val_auc: 0.9884\n",
      "Epoch 66/100\n",
      "148/148 [==============================] - 24s 163ms/step - loss: 0.4557 - accuracy: 0.8380 - auc: 0.9860 - val_loss: 0.4122 - val_accuracy: 0.8485 - val_auc: 0.9887\n",
      "Epoch 67/100\n",
      "148/148 [==============================] - 24s 161ms/step - loss: 0.4555 - accuracy: 0.8412 - auc: 0.9860 - val_loss: 0.4473 - val_accuracy: 0.8446 - val_auc: 0.9860\n",
      "Epoch 68/100\n",
      "148/148 [==============================] - 24s 162ms/step - loss: 0.4556 - accuracy: 0.8383 - auc: 0.9861 - val_loss: 0.4383 - val_accuracy: 0.8411 - val_auc: 0.9866\n",
      "Epoch 69/100\n",
      "148/148 [==============================] - 24s 162ms/step - loss: 0.4501 - accuracy: 0.8420 - auc: 0.9864 - val_loss: 0.4226 - val_accuracy: 0.8478 - val_auc: 0.9878\n",
      "Epoch 70/100\n",
      "148/148 [==============================] - 24s 162ms/step - loss: 0.4358 - accuracy: 0.8476 - auc: 0.9872 - val_loss: 0.4205 - val_accuracy: 0.8522 - val_auc: 0.9877\n",
      "Epoch 71/100\n",
      "148/148 [==============================] - 24s 160ms/step - loss: 0.4414 - accuracy: 0.8454 - auc: 0.9867 - val_loss: 0.4262 - val_accuracy: 0.8461 - val_auc: 0.9874\n",
      "Epoch 72/100\n",
      "148/148 [==============================] - 24s 164ms/step - loss: 0.4441 - accuracy: 0.8458 - auc: 0.9864 - val_loss: 0.4158 - val_accuracy: 0.8491 - val_auc: 0.9883\n",
      "Epoch 73/100\n",
      "148/148 [==============================] - 24s 165ms/step - loss: 0.4407 - accuracy: 0.8441 - auc: 0.9871 - val_loss: 0.4472 - val_accuracy: 0.8419 - val_auc: 0.9858\n",
      "Epoch 74/100\n",
      "148/148 [==============================] - 23s 158ms/step - loss: 0.4399 - accuracy: 0.8460 - auc: 0.9868 - val_loss: 0.4079 - val_accuracy: 0.8559 - val_auc: 0.9884\n",
      "Epoch 75/100\n",
      "148/148 [==============================] - 24s 162ms/step - loss: 0.4302 - accuracy: 0.8495 - auc: 0.9872 - val_loss: 0.4259 - val_accuracy: 0.8452 - val_auc: 0.9875\n",
      "Epoch 76/100\n",
      "148/148 [==============================] - 24s 162ms/step - loss: 0.4218 - accuracy: 0.8522 - auc: 0.9879 - val_loss: 0.4077 - val_accuracy: 0.8546 - val_auc: 0.9887\n",
      "Epoch 77/100\n",
      "148/148 [==============================] - 24s 161ms/step - loss: 0.4193 - accuracy: 0.8520 - auc: 0.9882 - val_loss: 0.4045 - val_accuracy: 0.8556 - val_auc: 0.9888\n",
      "Epoch 78/100\n",
      "148/148 [==============================] - 24s 160ms/step - loss: 0.4227 - accuracy: 0.8521 - auc: 0.9876 - val_loss: 0.4038 - val_accuracy: 0.8509 - val_auc: 0.9889\n",
      "Epoch 79/100\n",
      "148/148 [==============================] - 24s 160ms/step - loss: 0.4249 - accuracy: 0.8499 - auc: 0.9876 - val_loss: 0.3962 - val_accuracy: 0.8600 - val_auc: 0.9892\n",
      "Epoch 80/100\n",
      "148/148 [==============================] - 23s 158ms/step - loss: 0.4185 - accuracy: 0.8522 - auc: 0.9880 - val_loss: 0.4035 - val_accuracy: 0.8581 - val_auc: 0.9885\n",
      "Epoch 81/100\n",
      "148/148 [==============================] - 23s 158ms/step - loss: 0.4071 - accuracy: 0.8585 - auc: 0.9887 - val_loss: 0.4282 - val_accuracy: 0.8444 - val_auc: 0.9869\n",
      "Epoch 82/100\n",
      "148/148 [==============================] - 24s 160ms/step - loss: 0.4098 - accuracy: 0.8563 - auc: 0.9885 - val_loss: 0.3793 - val_accuracy: 0.8633 - val_auc: 0.9897\n",
      "Epoch 83/100\n",
      "148/148 [==============================] - 23s 159ms/step - loss: 0.4150 - accuracy: 0.8543 - auc: 0.9881 - val_loss: 0.4020 - val_accuracy: 0.8556 - val_auc: 0.9883\n",
      "Epoch 84/100\n",
      "148/148 [==============================] - 25s 167ms/step - loss: 0.4078 - accuracy: 0.8594 - auc: 0.9883 - val_loss: 0.3842 - val_accuracy: 0.8600 - val_auc: 0.9894\n",
      "Epoch 85/100\n",
      "148/148 [==============================] - 25s 168ms/step - loss: 0.3940 - accuracy: 0.8608 - auc: 0.9895 - val_loss: 0.3721 - val_accuracy: 0.8652 - val_auc: 0.9899\n",
      "Epoch 86/100\n",
      "148/148 [==============================] - 26s 173ms/step - loss: 0.4063 - accuracy: 0.8566 - auc: 0.9882 - val_loss: 0.3817 - val_accuracy: 0.8622 - val_auc: 0.9894\n",
      "Epoch 87/100\n",
      "148/148 [==============================] - 25s 167ms/step - loss: 0.3961 - accuracy: 0.8638 - auc: 0.9889 - val_loss: 0.4387 - val_accuracy: 0.8448 - val_auc: 0.9865\n",
      "Epoch 88/100\n",
      "148/148 [==============================] - 25s 170ms/step - loss: 0.3909 - accuracy: 0.8624 - auc: 0.9895 - val_loss: 0.3677 - val_accuracy: 0.8672 - val_auc: 0.9900\n",
      "Epoch 89/100\n",
      "148/148 [==============================] - 25s 169ms/step - loss: 0.4146 - accuracy: 0.8581 - auc: 0.9879 - val_loss: 0.3927 - val_accuracy: 0.8600 - val_auc: 0.9900\n",
      "Epoch 90/100\n",
      "148/148 [==============================] - 24s 163ms/step - loss: 0.3920 - accuracy: 0.8629 - auc: 0.9894 - val_loss: 0.4059 - val_accuracy: 0.8531 - val_auc: 0.9882\n",
      "Epoch 91/100\n",
      "148/148 [==============================] - 25s 168ms/step - loss: 0.3910 - accuracy: 0.8623 - auc: 0.9896 - val_loss: 0.3961 - val_accuracy: 0.8598 - val_auc: 0.9888\n",
      "Epoch 92/100\n",
      "148/148 [==============================] - 25s 166ms/step - loss: 0.3903 - accuracy: 0.8633 - auc: 0.9892 - val_loss: 0.4018 - val_accuracy: 0.8550 - val_auc: 0.9883\n",
      "Epoch 93/100\n",
      "148/148 [==============================] - 25s 166ms/step - loss: 0.3771 - accuracy: 0.8685 - auc: 0.9902 - val_loss: 0.3708 - val_accuracy: 0.8685 - val_auc: 0.9901\n",
      "Epoch 94/100\n",
      "148/148 [==============================] - 24s 160ms/step - loss: 0.3712 - accuracy: 0.8695 - auc: 0.9903 - val_loss: 0.3861 - val_accuracy: 0.8607 - val_auc: 0.9887\n",
      "Epoch 95/100\n",
      "148/148 [==============================] - 24s 160ms/step - loss: 0.3764 - accuracy: 0.8688 - auc: 0.9896 - val_loss: 0.3731 - val_accuracy: 0.8698 - val_auc: 0.9894\n",
      "Epoch 96/100\n",
      "148/148 [==============================] - 25s 168ms/step - loss: 0.3653 - accuracy: 0.8716 - auc: 0.9902 - val_loss: 0.3546 - val_accuracy: 0.8741 - val_auc: 0.9906\n",
      "Epoch 97/100\n",
      "148/148 [==============================] - 24s 163ms/step - loss: 0.3679 - accuracy: 0.8713 - auc: 0.9906 - val_loss: 0.3639 - val_accuracy: 0.8674 - val_auc: 0.9900\n",
      "Epoch 98/100\n",
      "148/148 [==============================] - 24s 161ms/step - loss: 0.3687 - accuracy: 0.8723 - auc: 0.9902 - val_loss: 0.3577 - val_accuracy: 0.8752 - val_auc: 0.9901\n",
      "Epoch 99/100\n",
      "148/148 [==============================] - 24s 161ms/step - loss: 0.3649 - accuracy: 0.8742 - auc: 0.9902 - val_loss: 0.3669 - val_accuracy: 0.8641 - val_auc: 0.9902\n",
      "Epoch 100/100\n",
      "148/148 [==============================] - 24s 164ms/step - loss: 0.3673 - accuracy: 0.8724 - auc: 0.9903 - val_loss: 0.3593 - val_accuracy: 0.8709 - val_auc: 0.9908\n",
      "---------MODEL EVALUATE---------\n",
      "22/22 [==============================] - 14s 636ms/step - loss: 0.3457 - accuracy: 0.8774 - auc: 0.9915\n",
      "2700/2700 [==============================] - 3s 947us/step\n",
      "              precision    recall  f1-score   support\n",
      "\n",
      "           0     0.9493    0.8733    0.9097       300\n",
      "           1     0.9427    0.9867    0.9642       300\n",
      "           2     0.7901    0.8533    0.8205       300\n",
      "           3     0.7731    0.6680    0.7167       250\n",
      "           4     0.9655    0.8960    0.9295       250\n",
      "           5     0.8182    0.8550    0.8362       200\n",
      "           6     0.7519    0.8120    0.7808       250\n",
      "           7     0.9430    0.9933    0.9675       300\n",
      "           8     0.8032    0.8000    0.8016       250\n",
      "           9     0.9932    0.9733    0.9832       300\n",
      "\n",
      "    accuracy                         0.8774      2700\n",
      "   macro avg     0.8730    0.8711    0.8710      2700\n",
      "weighted avg     0.8787    0.8774    0.8770      2700\n",
      "\n",
      "---------SAVE RESULTS---------\n"
     ]
    },
    {
     "data": {
      "image/png": "[encoded data removed]",
      "text/plain": [
       "<Figure size 432x288 with 2 Axes>"
      ]
     },
     "metadata": {
      "needs_background": "light"
     },
     "output_type": "display_data"
    },
    {
     "data": {
      "image/png": "[encoded data removed]",
      "text/plain": [
       "<Figure size 720x504 with 2 Axes>"
      ]
     },
     "metadata": {
      "needs_background": "light"
     },
     "output_type": "display_data"
    }
   ],
   "source": [
    "params = [n_epochs,\n",
    "          batch_size,\n",
    "          loss_fun, \n",
    "          act_fun,\n",
    "          learn_rate, \n",
    "          optmzer,\n",
    "          n_convolutional_layers,\n",
    "          filter_size,\n",
    "          filters_number\n",
    "         ]\n",
    "\n",
    "n_layers = 5\n",
    "\n",
    "params[6] = n_layers\n",
    "\n",
    "model_id = \"2A.i.3\"\n",
    "model_name = f\"BNET-{model_id}\"\n",
    "\n",
    "print(f\"-------- EXPERIMENT {model_id} ----------\")\n",
    "\n",
    "\n",
    "model = Sequential()\n",
    "model.add(Conv2D(input_shape=(64,64,3),filters=32,kernel_size=filter_size,padding=\"same\", activation=act_fun))\n",
    "model.add(MaxPool2D(pool_size=(2,2),strides=(2,2)))\n",
    "model.add(Conv2D(filters=32, kernel_size=filter_size, padding=\"same\", activation=act_fun))\n",
    "model.add(MaxPool2D(pool_size=(2,2),strides=(2,2)))\n",
    "\n",
    "model.add(Conv2D(filters=64, kernel_size=filter_size, padding=\"same\", activation=act_fun))\n",
    "model.add(MaxPool2D(pool_size=(2,2),strides=(2,2)))\n",
    "model.add(Conv2D(filters=64, kernel_size=filter_size, padding=\"same\", activation=act_fun))\n",
    "model.add(Conv2D(filters=128, kernel_size=filter_size, padding=\"same\", activation=act_fun))\n",
    "model.add(MaxPool2D(pool_size=(2,2),strides=(2,2)))\n",
    "\n",
    "model.add(Flatten())\n",
    "model.add(Dense(units=200, activation=act_fun, kernel_initializer=\"he_normal\"))\n",
    "model.add(Dropout(0.5))\n",
    "model.add(Dense(class_count, activation=\"softmax\"))\n",
    "\n",
    "model.summary()\n",
    "\n",
    "# Model COMPILE and FIT\n",
    "history, new_params = run_model(model, model_name, params)\n",
    "params = new_params\n",
    "# Model EVALUATE\n",
    "eval_metrics, cf_matrix, confusion_matrix_df, results_df = get_eval_metrics(history, model, test_set, params)\n",
    "\n",
    "save_plots(history, output_folder, model_name, confusion_matrix_df)\n",
    "\n",
    "params_to_save = params\n",
    "params_to_save[7] = str(params_to_save[7]).replace(',', \";\")\n",
    "params_to_save[8] = str(params_to_save[8]).replace(',', \";\")\n",
    "params_to_save\n",
    "\n",
    "new_row = [model_id,\n",
    "           model_name,\n",
    "           params_to_save,\n",
    "           eval_metrics,\n",
    "           len(training_df), # number of images in the training set\n",
    "           len(validation_df), # number of images in the validation set\n",
    "           len(test_df), # number of images in the test set\n",
    "          ]\n",
    "\n",
    "new_row = flatten(new_row)\n",
    "\n",
    "append_results_to_csv(new_row)"
   ]
  }
 ],
 "metadata": {
  "kernelspec": {
   "display_name": "Python 3",
   "language": "python",
   "name": "python3"
  },
  "language_info": {
   "codemirror_mode": {
    "name": "ipython",
    "version": 3
   },
   "file_extension": ".py",
   "mimetype": "text/x-python",
   "name": "python",
   "nbconvert_exporter": "python",
   "pygments_lexer": "ipython3",
   "version": "3.7.12"
  },
  "papermill": {
   "default_parameters": {},
   "duration": 2873.322883,
   "end_time": "2022-12-12T16:13:27.757724",
   "environment_variables": {},
   "exception": null,
   "input_path": "__notebook__.ipynb",
   "output_path": "__notebook__.ipynb",
   "parameters": {},
   "start_time": "2022-12-12T15:25:34.434841",
   "version": "2.3.4"
  }
 },
 "nbformat": 4,
 "nbformat_minor": 5
}
