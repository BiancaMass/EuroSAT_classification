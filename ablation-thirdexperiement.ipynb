{
 "cells": [
  {
   "cell_type": "markdown",
   "id": "865b894c",
   "metadata": {
    "papermill": {
     "duration": 0.007667,
     "end_time": "2022-12-12T16:22:30.938999",
     "exception": false,
     "start_time": "2022-12-12T16:22:30.931332",
     "status": "completed"
    },
    "tags": []
   },
   "source": [
    "### Import packages"
   ]
  },
  {
   "cell_type": "code",
   "execution_count": 1,
   "id": "8641870a",
   "metadata": {
    "_kg_hide-input": false,
    "execution": {
     "iopub.execute_input": "2022-12-12T16:22:30.962865Z",
     "iopub.status.busy": "2022-12-12T16:22:30.961272Z",
     "iopub.status.idle": "2022-12-12T16:22:38.175514Z",
     "shell.execute_reply": "2022-12-12T16:22:38.174536Z"
    },
    "papermill": {
     "duration": 7.232852,
     "end_time": "2022-12-12T16:22:38.178144",
     "exception": false,
     "start_time": "2022-12-12T16:22:30.945292",
     "status": "completed"
    },
    "tags": []
   },
   "outputs": [
    {
     "name": "stdout",
     "output_type": "stream",
     "text": [
      "---------IMPORTING PACKAGES---------\n"
     ]
    }
   ],
   "source": [
    "# Import packages\n",
    "print(\"---------IMPORTING PACKAGES---------\")\n",
    "import numpy as np\n",
    "import pandas as pd\n",
    "import matplotlib.pyplot as plt\n",
    "import seaborn as sns\n",
    "import cv2\n",
    "import os\n",
    "import random\n",
    "import tensorflow as tf\n",
    "import seaborn as sns\n",
    "import random\n",
    "import csv\n",
    "import time\n",
    "import keras\n",
    "\n",
    "from sklearn.utils import shuffle\n",
    "from matplotlib import image\n",
    "from sklearn import metrics\n",
    "from sklearn.metrics import confusion_matrix\n",
    "from keras.preprocessing.image import ImageDataGenerator\n",
    "from keras.applications.vgg16 import VGG16\n",
    "from keras.models import Sequential\n",
    "from keras.layers import Dense, Flatten, Dropout, Conv2D, MaxPool2D\n",
    "from keras.callbacks import ModelCheckpoint, ReduceLROnPlateau, EarlyStopping, ReduceLROnPlateau\n",
    "from tensorflow.keras.optimizers import Adam, Nadam, Adamax, SGD\n",
    "\n",
    "# Suppress keras warnings\n",
    "os.environ[\"TF_CPP_MIN_LOG_LEVEL\"] = \"3\"\n",
    "random.seed(432)\n"
   ]
  },
  {
   "cell_type": "markdown",
   "id": "491331ed",
   "metadata": {
    "papermill": {
     "duration": 0.005696,
     "end_time": "2022-12-12T16:22:38.190107",
     "exception": false,
     "start_time": "2022-12-12T16:22:38.184411",
     "status": "completed"
    },
    "tags": []
   },
   "source": [
    "### Define the changeable parameters"
   ]
  },
  {
   "cell_type": "code",
   "execution_count": 2,
   "id": "942070b7",
   "metadata": {
    "execution": {
     "iopub.execute_input": "2022-12-12T16:22:38.203449Z",
     "iopub.status.busy": "2022-12-12T16:22:38.202930Z",
     "iopub.status.idle": "2022-12-12T16:22:38.220503Z",
     "shell.execute_reply": "2022-12-12T16:22:38.219669Z"
    },
    "papermill": {
     "duration": 0.026818,
     "end_time": "2022-12-12T16:22:38.222643",
     "exception": false,
     "start_time": "2022-12-12T16:22:38.195825",
     "status": "completed"
    },
    "tags": []
   },
   "outputs": [],
   "source": [
    "#########################################################\n",
    "################### FIXED VARIABLES #####################\n",
    "#########################################################\n",
    "input_folder = \"/kaggle/input/\"\n",
    "#input_folder_undersampled = input_folder+\"eurosat-undersampled\"\n",
    "output_folder = \"/kaggle/working/\"\n",
    "verbose = 1 # 0-> dont print training info, 1-> print them\n",
    "n_epochs = 100\n",
    "\n",
    "# Model parameters\n",
    "pooling_kernel_size = (2,2)\n",
    "stride = (1,1)\n",
    "#########################################################\n",
    "\n",
    "\n",
    "\n",
    "##############################################################\n",
    "################### HYPERPARAMETER OPTIONS ###################\n",
    "##############################################################\n",
    "# Element [0] is default\n",
    "batch_size_opts = [128, 256, 64] # How big of a set of data to use for every training epoch\n",
    "loss_fun_opts = [\"categorical_crossentropy\",\n",
    "                 \"kl_divergence\",\n",
    "                 \"mean_absolute_error\",\n",
    "                 \"mean_squared_logarithmic_error\"]\n",
    "act_fun_opts = [\"relu\", \"elu\"]\n",
    "learn_rate_opts = [0.0001, 0.0007, 0.001]\n",
    "\n",
    "learn_rate = learn_rate_opts[0] # 2g # FIXED FOR NOW\n",
    "\n",
    "optmzer_opts = [Adam(learning_rate=learn_rate),\n",
    "                Nadam(learning_rate=learn_rate),\n",
    "                Adamax(learning_rate=learn_rate),\n",
    "                SGD(learning_rate=learn_rate)]\n",
    "\n",
    "# Model Architecture:\n",
    "n_convolutional_layers_opts = \"NA\"\n",
    "filter_size_opts = [(2,2), (3,3), (5,5)] # kernel size of the convolutional layer\n",
    "\n",
    "filter_number_opts = \"NA\"\n",
    "##############################################################\n",
    "\n",
    "\n",
    "\n",
    "##############################################################\n",
    "################### HYPERPARAMETER VALUES ####################\n",
    "##############################################################\n",
    "batch_size = batch_size_opts[0] # 2e\n",
    "loss_fun = loss_fun_opts[0] # FIXED FOR NOW\n",
    "act_fun = act_fun_opts[0] # 2d\n",
    "optmzer = optmzer_opts[0] # 2f\n",
    "n_convolutional_layers = \"current variable\" # 2a\n",
    "filter_size = filter_size_opts[1] # 2b\n",
    "filters_number = \"current variable\"\n",
    "\n",
    "\n",
    "params = [n_epochs,\n",
    "          batch_size,\n",
    "          loss_fun, \n",
    "          act_fun,\n",
    "          learn_rate, \n",
    "          optmzer,\n",
    "          n_convolutional_layers,\n",
    "          filter_size,\n",
    "          filters_number\n",
    "         ]"
   ]
  },
  {
   "cell_type": "markdown",
   "id": "a6759ed2",
   "metadata": {
    "papermill": {
     "duration": 0.005736,
     "end_time": "2022-12-12T16:22:38.234145",
     "exception": false,
     "start_time": "2022-12-12T16:22:38.228409",
     "status": "completed"
    },
    "tags": []
   },
   "source": [
    "For the number of filters, it makes sense to increase gradually. So that you could leave as a more fixed variable. \n",
    "start with few to get the rough features (line direction) and increase afterwards to pick up on the more abstract details. But don't go too big, else comp complexity spikes up."
   ]
  },
  {
   "cell_type": "markdown",
   "id": "f3648e34",
   "metadata": {
    "papermill": {
     "duration": 0.005446,
     "end_time": "2022-12-12T16:22:38.245401",
     "exception": false,
     "start_time": "2022-12-12T16:22:38.239955",
     "status": "completed"
    },
    "tags": []
   },
   "source": [
    "### Create a fine to save the results"
   ]
  },
  {
   "cell_type": "code",
   "execution_count": 3,
   "id": "1000ee7b",
   "metadata": {
    "execution": {
     "iopub.execute_input": "2022-12-12T16:22:38.257995Z",
     "iopub.status.busy": "2022-12-12T16:22:38.257720Z",
     "iopub.status.idle": "2022-12-12T16:22:38.263954Z",
     "shell.execute_reply": "2022-12-12T16:22:38.263118Z"
    },
    "papermill": {
     "duration": 0.014915,
     "end_time": "2022-12-12T16:22:38.265897",
     "exception": false,
     "start_time": "2022-12-12T16:22:38.250982",
     "status": "completed"
    },
    "tags": []
   },
   "outputs": [],
   "source": [
    "# Open the excel file where I'll save all the test results (metrics)\n",
    "\n",
    "with open(\"./results.csv\", \"w\") as csvfile:\n",
    "    filewriter = csv.writer(csvfile, delimiter=',',\n",
    "                            quotechar='|', quoting=csv.QUOTE_MINIMAL)\n",
    "    # Create a row with the column names:\n",
    "    filewriter.writerow([\"experiment_ID\",\n",
    "                         \"model_name\", \n",
    "                         \"n_epochs\", # params[0]\n",
    "                         \"batch_size\", # params[1]\n",
    "                         \"loss_function\", # params[2]\n",
    "                         \"activation_fun\", # params[3]\n",
    "                         \"learning_rate\", # params[4]\n",
    "                         \"optimizer\", # params[5]\n",
    "                         \"num_conv_layers\", # params[6]\n",
    "                         \"kernel_size\", # params[7]\n",
    "                         \"filter_number\", # params[8]\n",
    "                         \"train_time_per_epoch\",\n",
    "                         \"num_epochs_run\", # epoch where it stopped automatically\n",
    "                         \"test_loss\",\n",
    "                         \"test_accuracy\",\n",
    "                         \"test_auc\",\n",
    "                         \"wa_precision\", # wa = weighted average\n",
    "                         \"wa_recall\",\n",
    "                         \"wa_f1_score\",\n",
    "                         \"wrong_preds\",\n",
    "                         \"total_preds\",\n",
    "                         \"num_train\", # number of images in the training set\n",
    "                         \"num_val\", # number of images in the validation set\n",
    "                         \"num_test\" # number of images in the test set  \n",
    "                        ])"
   ]
  },
  {
   "cell_type": "markdown",
   "id": "3415e8ef",
   "metadata": {
    "papermill": {
     "duration": 0.005611,
     "end_time": "2022-12-12T16:22:38.278954",
     "exception": false,
     "start_time": "2022-12-12T16:22:38.273343",
     "status": "completed"
    },
    "tags": []
   },
   "source": [
    "### Define functions"
   ]
  },
  {
   "cell_type": "code",
   "execution_count": 4,
   "id": "1b527ac4",
   "metadata": {
    "_cell_guid": "b1076dfc-b9ad-4769-8c92-a6c4dae69d19",
    "_kg_hide-input": false,
    "_uuid": "8f2839f25d086af736a60e9eeb907d3b93b6e0e5",
    "execution": {
     "iopub.execute_input": "2022-12-12T16:22:38.292123Z",
     "iopub.status.busy": "2022-12-12T16:22:38.291832Z",
     "iopub.status.idle": "2022-12-12T16:22:38.306333Z",
     "shell.execute_reply": "2022-12-12T16:22:38.305305Z"
    },
    "papermill": {
     "duration": 0.023651,
     "end_time": "2022-12-12T16:22:38.308230",
     "exception": false,
     "start_time": "2022-12-12T16:22:38.284579",
     "status": "completed"
    },
    "tags": []
   },
   "outputs": [],
   "source": [
    "# https://stackoverflow.com/questions/39280813/visualization-of-convolutional-layer-in-keras-model\n",
    "# Merdan Memtimin https://stackoverflow.com/users/6565409/merdan-memtimin\n",
    "def plot_conv_weights(model, layer_name):\n",
    "    W = model.get_layer(name=layer_name).get_weights()[0]\n",
    "    if len(W.shape) == 4:\n",
    "        W = np.squeeze(W)\n",
    "        W = W.reshape((W.shape[0], W.shape[1], W.shape[2]*W.shape[3])) \n",
    "        fig, axs = plt.subplots(5,5, figsize=(8,8))\n",
    "        fig.subplots_adjust(hspace = .5, wspace=.001)\n",
    "        axs = axs.ravel()\n",
    "        for i in range(25):\n",
    "            axs[i].imshow(W[:,:,i])\n",
    "            axs[i].set_title(str(i))\n",
    "            \n",
    "            \n",
    "def load_metadata(data_folder, train_file, validation_file, test_file, column_names):\n",
    "    \"\"\"Reads the .csv files containing metadata (e.g. file location, class label) about the data images.\n",
    "    \n",
    "    Parameters:\n",
    "    data_folder (str): file path to the folder containing the csv file.\n",
    "    train_file (str): file name of the file containing metadata for the training set.\n",
    "    validation_file (str): file name of the file containing metadata for the validation set.\n",
    "    test_file (str): file name of the file containing metadata for the test set.\n",
    "    column_names (list): array containing the column names for the csv files\n",
    "    \n",
    "    Returns:\n",
    "    the read trainig, validation, and test files.\n",
    "    \"\"\"\n",
    "    training_df = pd.read_csv(data_folder + train_file, names = column_names, skiprows=1)\n",
    "    validation_df = pd.read_csv(data_folder + validation_file, names = column_names, skiprows=1)\n",
    "    test_df = pd.read_csv(data_folder + test_file, names = column_names, skiprows=1)\n",
    "    \n",
    "    return training_df, validation_df, test_df\n",
    "\n",
    "\n",
    "def flatten(d):\n",
    "    v = [[i] if not isinstance(i, list) else flatten(i) for i in d]\n",
    "    return [i for b in v for i in b]\n",
    "\n",
    "\n",
    "def precision(confusion_matrix):\n",
    "    \"\"\"Given a confusion matrix, calculates and returns precision for all classes\"\"\"\n",
    "    precision_list = []\n",
    "    for i in range(confusion_matrix.shape[1]):\n",
    "        current_col = confusion_matrix[:,[i]]\n",
    "        current_el = confusion_matrix[i,[i]]\n",
    "        current_precision = (float(current_el/sum(current_col)[0]))\n",
    "        current_precision = round(current_precision, 4)\n",
    "        precision_list.append(current_precision)\n",
    "    return precision_list\n",
    "\n",
    "def recall(confusion_matrix):\n",
    "    \"\"\"Given a confusion matrix, calculates and returns recall for all classes\"\"\"\n",
    "    recall_list = []\n",
    "    for i in range(confusion_matrix.shape[0]):\n",
    "        current_row = confusion_matrix[i,:]\n",
    "        current_el = confusion_matrix[i,i]\n",
    "        current_recall = round(current_el/sum(current_row), 4)\n",
    "        recall_list.append(current_recall)\n",
    "    return(recall_list)\n",
    "\n",
    "def f1_score(precision, recall):\n",
    "    \"\"\"Given a list of precision and recall values for a certain matrix,\n",
    "    returns f-1 values for each class\"\"\"\n",
    "    f1_scores = []\n",
    "    if len(precision) == len(recall):\n",
    "        for i in range(len(precision)):\n",
    "            current_f1 = 2*(precision[i]*recall[i])/(precision[i]+recall[i])\n",
    "            f1_scores.append(round(current_f1, 4))\n",
    "    else:\n",
    "        print(\"Error. Precision and Recall lists should be of equal lengths.\")\n",
    "    return f1_scores\n"
   ]
  },
  {
   "cell_type": "markdown",
   "id": "ac3e5010",
   "metadata": {
    "papermill": {
     "duration": 0.005565,
     "end_time": "2022-12-12T16:22:38.319634",
     "exception": false,
     "start_time": "2022-12-12T16:22:38.314069",
     "status": "completed"
    },
    "tags": []
   },
   "source": [
    "### Load data"
   ]
  },
  {
   "cell_type": "code",
   "execution_count": 5,
   "id": "9ea6743c",
   "metadata": {
    "execution": {
     "iopub.execute_input": "2022-12-12T16:22:38.332923Z",
     "iopub.status.busy": "2022-12-12T16:22:38.332059Z",
     "iopub.status.idle": "2022-12-12T16:22:38.408981Z",
     "shell.execute_reply": "2022-12-12T16:22:38.407563Z"
    },
    "papermill": {
     "duration": 0.085725,
     "end_time": "2022-12-12T16:22:38.411132",
     "exception": false,
     "start_time": "2022-12-12T16:22:38.325407",
     "status": "completed"
    },
    "tags": []
   },
   "outputs": [
    {
     "name": "stdout",
     "output_type": "stream",
     "text": [
      "---------LOADING DATA---------\n"
     ]
    }
   ],
   "source": [
    "print(\"---------LOADING DATA---------\")\n",
    "dataset_folder = input_folder + \"eurosat-dataset/\" + \"EuroSAT/\"\n",
    "column_names =  [\"id\", \"path\", \"class_id\", \"class_name\"]\n",
    "\n",
    "training_df, validation_df, test_df = load_metadata(dataset_folder,\n",
    "                                                    \"train.csv\",\n",
    "                                                    \"validation.csv\",\n",
    "                                                    \"test.csv\",\n",
    "                                                    column_names)"
   ]
  },
  {
   "cell_type": "markdown",
   "id": "ffc790ab",
   "metadata": {
    "papermill": {
     "duration": 0.00551,
     "end_time": "2022-12-12T16:22:38.422501",
     "exception": false,
     "start_time": "2022-12-12T16:22:38.416991",
     "status": "completed"
    },
    "tags": []
   },
   "source": [
    "### Preprocessing"
   ]
  },
  {
   "cell_type": "code",
   "execution_count": 6,
   "id": "9c153990",
   "metadata": {
    "execution": {
     "iopub.execute_input": "2022-12-12T16:22:38.436196Z",
     "iopub.status.busy": "2022-12-12T16:22:38.435414Z",
     "iopub.status.idle": "2022-12-12T16:22:38.441112Z",
     "shell.execute_reply": "2022-12-12T16:22:38.440120Z"
    },
    "papermill": {
     "duration": 0.014841,
     "end_time": "2022-12-12T16:22:38.443006",
     "exception": false,
     "start_time": "2022-12-12T16:22:38.428165",
     "status": "completed"
    },
    "tags": []
   },
   "outputs": [],
   "source": [
    "# The data is already normalized so that pixels values range from 0,255. We can rescale pixel value between\n",
    "# [0,1] by divinding by 255.\n",
    "\n",
    "rescaling_factor = 1. / 255\n",
    "# Generate batches of tensor image data by setting up the generators.\n",
    "# If you want to perform augmentation, add parameters to the training_generatorF\n",
    "training_generator = ImageDataGenerator(rescale=rescaling_factor)\n",
    "test_generator = ImageDataGenerator(rescale=rescaling_factor)\n",
    "\n",
    "# Size of input data is 64x64 pixels\n",
    "image_width, image_height = (64, 64)"
   ]
  },
  {
   "cell_type": "markdown",
   "id": "d2400058",
   "metadata": {
    "papermill": {
     "duration": 0.007542,
     "end_time": "2022-12-12T16:22:38.456106",
     "exception": false,
     "start_time": "2022-12-12T16:22:38.448564",
     "status": "completed"
    },
    "tags": []
   },
   "source": [
    "### Build train, val, test sets"
   ]
  },
  {
   "cell_type": "code",
   "execution_count": 7,
   "id": "d4701a46",
   "metadata": {
    "execution": {
     "iopub.execute_input": "2022-12-12T16:22:38.472600Z",
     "iopub.status.busy": "2022-12-12T16:22:38.471758Z",
     "iopub.status.idle": "2022-12-12T16:22:59.683374Z",
     "shell.execute_reply": "2022-12-12T16:22:59.681992Z"
    },
    "papermill": {
     "duration": 21.221921,
     "end_time": "2022-12-12T16:22:59.686257",
     "exception": false,
     "start_time": "2022-12-12T16:22:38.464336",
     "status": "completed"
    },
    "tags": []
   },
   "outputs": [
    {
     "name": "stdout",
     "output_type": "stream",
     "text": [
      "Building training set.\n",
      "Found 18900 validated image filenames belonging to 10 classes.\n",
      "\n",
      "Building validation set.\n",
      "Found 5400 validated image filenames belonging to 10 classes.\n",
      "\n",
      "Building test set\n",
      "Found 2700 validated image filenames belonging to 10 classes.\n"
     ]
    }
   ],
   "source": [
    "print(\"Building training set.\")\n",
    "training_set = training_generator.flow_from_dataframe(\n",
    "    dataframe=training_df,\n",
    "    x_col=\"path\",\n",
    "    y_col=\"class_name\",\n",
    "    directory=dataset_folder,\n",
    "    target_size=(image_height, image_width),\n",
    "    batch_size=batch_size,\n",
    "    class_mode=\"categorical\",\n",
    "    shuffle=False, # for replicability. Anyways they are already shuffled.\n",
    ")\n",
    "\n",
    "print(\"\\nBuilding validation set.\")\n",
    "validation_set = test_generator.flow_from_dataframe(\n",
    "    dataframe=validation_df,\n",
    "    x_col=\"path\",\n",
    "    y_col=\"class_name\",\n",
    "    directory=dataset_folder,\n",
    "    target_size=(image_height, image_width),\n",
    "    batch_size=batch_size,\n",
    "    class_mode=\"categorical\",\n",
    "    shuffle=False,\n",
    ")\n",
    "\n",
    "print(\"\\nBuilding test set\")\n",
    "test_set = test_generator.flow_from_dataframe(\n",
    "    dataframe=test_df,\n",
    "    x_col=\"path\",\n",
    "    y_col=\"class_name\",\n",
    "    directory=dataset_folder,\n",
    "    target_size=(image_height, image_width),\n",
    "    batch_size=batch_size,\n",
    "    class_mode=\"categorical\",\n",
    "    shuffle=False\n",
    ")\n",
    "\n",
    "\n",
    "\n",
    "\n",
    "class_name_list = np.array(list(training_set.class_indices.keys()))\n",
    "labels, count = np.unique(training_set.classes, return_counts=True)\n",
    "\n",
    "class_count = len(class_name_list)\n",
    "\n"
   ]
  },
  {
   "cell_type": "markdown",
   "id": "c8d65d2b",
   "metadata": {
    "papermill": {
     "duration": 0.006762,
     "end_time": "2022-12-12T16:22:59.700050",
     "exception": false,
     "start_time": "2022-12-12T16:22:59.693288",
     "status": "completed"
    },
    "tags": []
   },
   "source": [
    "# Ablation Study"
   ]
  },
  {
   "cell_type": "code",
   "execution_count": 8,
   "id": "c1c4df52",
   "metadata": {
    "execution": {
     "iopub.execute_input": "2022-12-12T16:22:59.716790Z",
     "iopub.status.busy": "2022-12-12T16:22:59.716409Z",
     "iopub.status.idle": "2022-12-12T16:22:59.722149Z",
     "shell.execute_reply": "2022-12-12T16:22:59.721118Z"
    },
    "papermill": {
     "duration": 0.01643,
     "end_time": "2022-12-12T16:22:59.724447",
     "exception": false,
     "start_time": "2022-12-12T16:22:59.708017",
     "status": "completed"
    },
    "tags": []
   },
   "outputs": [
    {
     "name": "stdout",
     "output_type": "stream",
     "text": [
      "---------START OF ABLATION EXPERIMENTS---------\n"
     ]
    }
   ],
   "source": [
    "print(\"---------START OF ABLATION EXPERIMENTS---------\")"
   ]
  },
  {
   "cell_type": "markdown",
   "id": "c7adbd5c",
   "metadata": {
    "papermill": {
     "duration": 0.006381,
     "end_time": "2022-12-12T16:22:59.737425",
     "exception": false,
     "start_time": "2022-12-12T16:22:59.731044",
     "status": "completed"
    },
    "tags": []
   },
   "source": [
    "## Define Functions\n",
    "### Compile and Fit"
   ]
  },
  {
   "cell_type": "markdown",
   "id": "57b9297e",
   "metadata": {
    "papermill": {
     "duration": 0.006658,
     "end_time": "2022-12-12T16:22:59.750904",
     "exception": false,
     "start_time": "2022-12-12T16:22:59.744246",
     "status": "completed"
    },
    "tags": []
   },
   "source": [
    "Define Time History class to record time taken per epoch."
   ]
  },
  {
   "cell_type": "code",
   "execution_count": 9,
   "id": "46a0d7c5",
   "metadata": {
    "execution": {
     "iopub.execute_input": "2022-12-12T16:22:59.766519Z",
     "iopub.status.busy": "2022-12-12T16:22:59.765521Z",
     "iopub.status.idle": "2022-12-12T16:22:59.772379Z",
     "shell.execute_reply": "2022-12-12T16:22:59.771358Z"
    },
    "papermill": {
     "duration": 0.016442,
     "end_time": "2022-12-12T16:22:59.774400",
     "exception": false,
     "start_time": "2022-12-12T16:22:59.757958",
     "status": "completed"
    },
    "tags": []
   },
   "outputs": [],
   "source": [
    "class TimeHistory(keras.callbacks.Callback):\n",
    "    def on_train_begin(self, logs={}):\n",
    "        self.times = []\n",
    "\n",
    "    def on_epoch_begin(self, batch, logs={}):\n",
    "        self.epoch_time_start = time.time()\n",
    "\n",
    "    def on_epoch_end(self, batch, logs={}):\n",
    "        self.times.append(time.time() - self.epoch_time_start)"
   ]
  },
  {
   "cell_type": "code",
   "execution_count": 10,
   "id": "dcd22b81",
   "metadata": {
    "execution": {
     "iopub.execute_input": "2022-12-12T16:22:59.788304Z",
     "iopub.status.busy": "2022-12-12T16:22:59.787983Z",
     "iopub.status.idle": "2022-12-12T16:22:59.796802Z",
     "shell.execute_reply": "2022-12-12T16:22:59.795902Z"
    },
    "papermill": {
     "duration": 0.018045,
     "end_time": "2022-12-12T16:22:59.798912",
     "exception": false,
     "start_time": "2022-12-12T16:22:59.780867",
     "status": "completed"
    },
    "tags": []
   },
   "outputs": [],
   "source": [
    "def run_model(model, model_name, params):\n",
    "    \"\"\"\n",
    "    Given a model architecture, the function compiles and fits the model.\n",
    "    \n",
    "    model: model architecture\n",
    "    model_name: \"str\", name used as model description in the output file\n",
    "    params: an array containing the values for the training parameters, namely:\n",
    "    [n_epochs, batch_size, loss_fun, act_fun, learn_rate, optmzer]\n",
    "    \"\"\"\n",
    "    # Path to save the model\n",
    "    model_path = \"/kaggle/working/eurosat_rgb_\" + model_name + \".h5\"\n",
    "    # Save the weigths of the best model\n",
    "    checkpoint = ModelCheckpoint(filepath=model_path, monitor=\"val_loss\", save_best_only=True)\n",
    "    # Reduce learning rate when val_loss stops improving for 5 epochs.\n",
    "    reduce_lr = ReduceLROnPlateau(monitor=\"val_loss\", factor=0.3, patience=5)\n",
    "    # Stop training if a val_loss has stopped improving for 8 epochs.\n",
    "    early_stopping = EarlyStopping(monitor=\"val_loss\", patience=8, restore_best_weights=True, verbose=verbose)\n",
    "    \n",
    "    time_callback = TimeHistory()\n",
    "    callback_list = [checkpoint, early_stopping, time_callback] #, reduce_lr]\n",
    "    \n",
    "    metrics=['accuracy',\n",
    "             tf.keras.metrics.AUC(from_logits=True)]\n",
    "    \n",
    "    print(\"---------MODEL COMPILE---------\")\n",
    "    model.compile(loss=params[2],\n",
    "                  optimizer=params[5],\n",
    "                  metrics=metrics)\n",
    "\n",
    "    print(\"---------MODEL FIT---------\")\n",
    "    \n",
    "    history = model.fit(\n",
    "        training_set,\n",
    "        validation_data=validation_set,\n",
    "        callbacks=callback_list,\n",
    "        epochs=params[0],\n",
    "        verbose=verbose,\n",
    "    )\n",
    "    \n",
    "    times = time_callback.times\n",
    "    avg_time_epoch = sum(times)/len(times)\n",
    "    new_params = params\n",
    "    new_params.append(avg_time_epoch)\n",
    "\n",
    "    return history, new_params"
   ]
  },
  {
   "cell_type": "markdown",
   "id": "505e944b",
   "metadata": {
    "papermill": {
     "duration": 0.006131,
     "end_time": "2022-12-12T16:22:59.811485",
     "exception": false,
     "start_time": "2022-12-12T16:22:59.805354",
     "status": "completed"
    },
    "tags": []
   },
   "source": [
    "### Get Evaluation Metrics"
   ]
  },
  {
   "cell_type": "code",
   "execution_count": 11,
   "id": "f4f779f0",
   "metadata": {
    "execution": {
     "iopub.execute_input": "2022-12-12T16:22:59.826130Z",
     "iopub.status.busy": "2022-12-12T16:22:59.825249Z",
     "iopub.status.idle": "2022-12-12T16:22:59.837206Z",
     "shell.execute_reply": "2022-12-12T16:22:59.835981Z"
    },
    "papermill": {
     "duration": 0.021144,
     "end_time": "2022-12-12T16:22:59.839285",
     "exception": false,
     "start_time": "2022-12-12T16:22:59.818141",
     "status": "completed"
    },
    "tags": []
   },
   "outputs": [],
   "source": [
    "def get_eval_metrics(history, model, test_set, params):\n",
    "    \"\"\"\n",
    "    Given a trained model and a test set, the function returns model eval metrics.\n",
    "    \n",
    "    \n",
    "    \"\"\"\n",
    "    print(\"---------MODEL EVALUATE---------\")\n",
    "    \n",
    "    n_ran_epochs = len(history.history['loss'])\n",
    "    \n",
    "    loss, accuracy, auc = model.evaluate(test_set, verbose=verbose)\n",
    "    \n",
    "    test_set.reset()\n",
    "    predicted_probabilities = model.predict(test_set, steps=test_set.n, verbose=verbose)\n",
    "    predicted_class_ids = np.argmax(predicted_probabilities, axis=1)\n",
    "    report = metrics.classification_report(test_set.labels, predicted_class_ids, output_dict=True)\n",
    "    wa_prec = report[\"weighted avg\"][\"precision\"]\n",
    "    wa_rec = report[\"weighted avg\"][\"recall\"]\n",
    "    wa_f1 = report[\"weighted avg\"][\"f1-score\"]\n",
    "    cf_matrix = confusion_matrix(test_set.labels, predicted_class_ids)\n",
    "    confusion_matrix_df = pd.DataFrame(\n",
    "        data=cf_matrix, \n",
    "        index=class_name_list, \n",
    "        columns=class_name_list\n",
    "    )\n",
    "    results_df = pd.DataFrame(\n",
    "        {\n",
    "            \"label\": test_set.labels, \n",
    "            \"prediction\": predicted_class_ids, \n",
    "            \"path\": test_set.filepaths\n",
    "        }\n",
    "        )\n",
    "\n",
    "    mistakes = results_df[\"label\"] != results_df[\"prediction\"]\n",
    "    mistakes_df = results_df[mistakes]\n",
    "    wrong_preds = len(mistakes_df)\n",
    "    tot_preds = len(results_df)\n",
    "\n",
    "    print(metrics.classification_report(test_set.labels, predicted_class_ids, digits=4))\n",
    "    \n",
    "    \n",
    "    eval_metrics = [n_ran_epochs,\n",
    "                   loss,\n",
    "                   accuracy,\n",
    "                   auc,\n",
    "                   wa_prec,\n",
    "                   wa_rec,\n",
    "                   wa_f1,\n",
    "                   wrong_preds,\n",
    "                   tot_preds\n",
    "        ]\n",
    "    \n",
    "    return eval_metrics, cf_matrix, confusion_matrix_df, results_df"
   ]
  },
  {
   "cell_type": "markdown",
   "id": "ec9d2c45",
   "metadata": {
    "papermill": {
     "duration": 0.006002,
     "end_time": "2022-12-12T16:22:59.851404",
     "exception": false,
     "start_time": "2022-12-12T16:22:59.845402",
     "status": "completed"
    },
    "tags": []
   },
   "source": [
    "### Save plots"
   ]
  },
  {
   "cell_type": "code",
   "execution_count": 12,
   "id": "69cb9321",
   "metadata": {
    "execution": {
     "iopub.execute_input": "2022-12-12T16:22:59.865851Z",
     "iopub.status.busy": "2022-12-12T16:22:59.864967Z",
     "iopub.status.idle": "2022-12-12T16:22:59.874912Z",
     "shell.execute_reply": "2022-12-12T16:22:59.873922Z"
    },
    "papermill": {
     "duration": 0.019266,
     "end_time": "2022-12-12T16:22:59.877021",
     "exception": false,
     "start_time": "2022-12-12T16:22:59.857755",
     "status": "completed"
    },
    "tags": []
   },
   "outputs": [],
   "source": [
    "def save_plots(history, output_folder, model_name, confusion_matrix_df):\n",
    "    plt.subplot(1, 2, 1)\n",
    "    # Loss\n",
    "    plt.plot(history.history[\"loss\"])\n",
    "    plt.plot(history.history[\"val_loss\"])\n",
    "    plt.title(\"Loss - \" + model_name)\n",
    "    plt.ylabel(\"loss\")\n",
    "    plt.xlabel(\"epoch\")\n",
    "    plt.legend([\"train\", \"validation\"], loc=\"upper left\")\n",
    "\n",
    "    # Accuracy\n",
    "    plt.subplot(1, 2, 2)\n",
    "    plt.plot(history.history[\"accuracy\"])\n",
    "    plt.plot(history.history[\"val_accuracy\"])\n",
    "    plt.title(\"Accuracy - \" + model_name)\n",
    "    plt.ylabel(\"accuracy\")\n",
    "    plt.xlabel(\"epoch\")\n",
    "    plt.legend([\"train\", \"validation\"], loc=\"upper left\")\n",
    "\n",
    "    #plt.show()\n",
    "    plt.savefig(output_folder + model_name + \"_training_curves.png\")\n",
    "    \n",
    "    # CONFUSION MATRIX IMAGE\n",
    "    plt.figure(figsize=(10, 7))\n",
    "    sns.set(font_scale=1)\n",
    "    sns.heatmap(confusion_matrix_df, annot=True, cmap=\"Blues\", annot_kws={\"size\": 9}, fmt=\"g\")\n",
    "    plt.ylabel(\"Label\")\n",
    "    plt.xlabel(\"Prediction\")\n",
    "    plt.title(\"Confusion matrix - \" + model_name)\n",
    "    #plt.show()\n",
    "    plt.savefig(output_folder + model_name + \"_confusion.png\")"
   ]
  },
  {
   "cell_type": "markdown",
   "id": "3e56a9d7",
   "metadata": {
    "papermill": {
     "duration": 0.006297,
     "end_time": "2022-12-12T16:22:59.889882",
     "exception": false,
     "start_time": "2022-12-12T16:22:59.883585",
     "status": "completed"
    },
    "tags": []
   },
   "source": [
    "### Save numerical results"
   ]
  },
  {
   "cell_type": "code",
   "execution_count": 13,
   "id": "ed542f73",
   "metadata": {
    "execution": {
     "iopub.execute_input": "2022-12-12T16:22:59.905090Z",
     "iopub.status.busy": "2022-12-12T16:22:59.904206Z",
     "iopub.status.idle": "2022-12-12T16:22:59.910321Z",
     "shell.execute_reply": "2022-12-12T16:22:59.909388Z"
    },
    "papermill": {
     "duration": 0.015558,
     "end_time": "2022-12-12T16:22:59.912420",
     "exception": false,
     "start_time": "2022-12-12T16:22:59.896862",
     "status": "completed"
    },
    "tags": []
   },
   "outputs": [],
   "source": [
    "def append_results_to_csv(csv_row):\n",
    "    print(\"---------SAVE RESULTS---------\")\n",
    "    \"\"\"Append the results to the csv file\n",
    "    csv_row: list, contains the information to append to the csv\"\"\"\n",
    "    \n",
    "    with open(\"./results.csv\", 'a+', newline='') as csvfile:\n",
    "        filewriter = csv.writer(csvfile, delimiter=',',\n",
    "                                quotechar='|', quoting=csv.QUOTE_MINIMAL)\n",
    "        # Create a row with the column names:\n",
    "        filewriter.writerow(csv_row)\n"
   ]
  },
  {
   "cell_type": "markdown",
   "id": "a881442f",
   "metadata": {
    "papermill": {
     "duration": 0.006375,
     "end_time": "2022-12-12T16:22:59.925236",
     "exception": false,
     "start_time": "2022-12-12T16:22:59.918861",
     "status": "completed"
    },
    "tags": []
   },
   "source": [
    "# EXPERIMENT VGG16-CONV1-CONV2"
   ]
  },
  {
   "cell_type": "code",
   "execution_count": 14,
   "id": "b8e2039c",
   "metadata": {
    "execution": {
     "iopub.execute_input": "2022-12-12T16:22:59.940050Z",
     "iopub.status.busy": "2022-12-12T16:22:59.939754Z",
     "iopub.status.idle": "2022-12-12T16:46:35.516986Z",
     "shell.execute_reply": "2022-12-12T16:46:35.515987Z"
    },
    "papermill": {
     "duration": 1415.587153,
     "end_time": "2022-12-12T16:46:35.519194",
     "exception": false,
     "start_time": "2022-12-12T16:22:59.932041",
     "status": "completed"
    },
    "tags": []
   },
   "outputs": [
    {
     "name": "stdout",
     "output_type": "stream",
     "text": [
      "-------- EXPERIMENT VGG16-CONV1-2 ----------\n",
      "Model: \"sequential\"\n",
      "_________________________________________________________________\n",
      "Layer (type)                 Output Shape              Param #   \n",
      "=================================================================\n",
      "conv2d (Conv2D)              (None, 64, 64, 64)        1792      \n",
      "_________________________________________________________________\n",
      "conv2d_1 (Conv2D)            (None, 64, 64, 64)        36928     \n",
      "_________________________________________________________________\n",
      "conv2d_2 (Conv2D)            (None, 64, 64, 128)       73856     \n",
      "_________________________________________________________________\n",
      "max_pooling2d (MaxPooling2D) (None, 16, 16, 128)       0         \n",
      "_________________________________________________________________\n",
      "conv2d_3 (Conv2D)            (None, 16, 16, 128)       147584    \n",
      "_________________________________________________________________\n",
      "conv2d_4 (Conv2D)            (None, 16, 16, 128)       147584    \n",
      "_________________________________________________________________\n",
      "conv2d_5 (Conv2D)            (None, 16, 16, 256)       295168    \n",
      "_________________________________________________________________\n",
      "max_pooling2d_1 (MaxPooling2 (None, 8, 8, 256)         0         \n",
      "_________________________________________________________________\n",
      "conv2d_6 (Conv2D)            (None, 8, 8, 512)         1180160   \n",
      "_________________________________________________________________\n",
      "conv2d_7 (Conv2D)            (None, 8, 8, 512)         2359808   \n",
      "_________________________________________________________________\n",
      "conv2d_8 (Conv2D)            (None, 8, 8, 512)         2359808   \n",
      "_________________________________________________________________\n",
      "max_pooling2d_2 (MaxPooling2 (None, 4, 4, 512)         0         \n",
      "_________________________________________________________________\n",
      "flatten (Flatten)            (None, 8192)              0         \n",
      "_________________________________________________________________\n",
      "dense (Dense)                (None, 680)               5571240   \n",
      "_________________________________________________________________\n",
      "dropout (Dropout)            (None, 680)               0         \n",
      "_________________________________________________________________\n",
      "dense_1 (Dense)              (None, 180)               122580    \n",
      "_________________________________________________________________\n",
      "dense_2 (Dense)              (None, 10)                1810      \n",
      "=================================================================\n",
      "Total params: 12,298,318\n",
      "Trainable params: 12,298,318\n",
      "Non-trainable params: 0\n",
      "_________________________________________________________________\n",
      "---------MODEL COMPILE---------\n",
      "---------MODEL FIT---------\n",
      "Epoch 1/100\n",
      "148/148 [==============================] - 96s 558ms/step - loss: 1.7586 - accuracy: 0.2883 - auc: 0.8073 - val_loss: 1.3313 - val_accuracy: 0.4152 - val_auc: 0.9021\n",
      "Epoch 2/100\n",
      "148/148 [==============================] - 28s 185ms/step - loss: 1.1944 - accuracy: 0.5329 - auc: 0.9187 - val_loss: 0.9551 - val_accuracy: 0.6365 - val_auc: 0.9487\n",
      "Epoch 3/100\n",
      "148/148 [==============================] - 28s 185ms/step - loss: 0.9162 - accuracy: 0.6634 - auc: 0.9515 - val_loss: 0.7660 - val_accuracy: 0.7202 - val_auc: 0.9658\n",
      "Epoch 4/100\n",
      "148/148 [==============================] - 28s 190ms/step - loss: 0.7812 - accuracy: 0.7142 - auc: 0.9641 - val_loss: 0.7067 - val_accuracy: 0.7291 - val_auc: 0.9703\n",
      "Epoch 5/100\n",
      "148/148 [==============================] - 28s 188ms/step - loss: 0.7110 - accuracy: 0.7422 - auc: 0.9694 - val_loss: 0.6643 - val_accuracy: 0.7557 - val_auc: 0.9728\n",
      "Epoch 6/100\n",
      "148/148 [==============================] - 27s 182ms/step - loss: 0.6311 - accuracy: 0.7716 - auc: 0.9757 - val_loss: 0.5628 - val_accuracy: 0.7909 - val_auc: 0.9805\n",
      "Epoch 7/100\n",
      "148/148 [==============================] - 28s 190ms/step - loss: 0.5944 - accuracy: 0.7825 - auc: 0.9781 - val_loss: 0.5089 - val_accuracy: 0.8119 - val_auc: 0.9833\n",
      "Epoch 8/100\n",
      "148/148 [==============================] - 27s 183ms/step - loss: 0.5554 - accuracy: 0.8007 - auc: 0.9804 - val_loss: 0.4788 - val_accuracy: 0.8265 - val_auc: 0.9851\n",
      "Epoch 9/100\n",
      "148/148 [==============================] - 28s 186ms/step - loss: 0.5255 - accuracy: 0.8122 - auc: 0.9822 - val_loss: 0.4705 - val_accuracy: 0.8280 - val_auc: 0.9849\n",
      "Epoch 10/100\n",
      "148/148 [==============================] - 27s 183ms/step - loss: 0.4731 - accuracy: 0.8353 - auc: 0.9849 - val_loss: 0.4457 - val_accuracy: 0.8456 - val_auc: 0.9871\n",
      "Epoch 11/100\n",
      "148/148 [==============================] - 27s 182ms/step - loss: 0.4480 - accuracy: 0.8421 - auc: 0.9863 - val_loss: 0.4882 - val_accuracy: 0.8324 - val_auc: 0.9826\n",
      "Epoch 12/100\n",
      "148/148 [==============================] - 27s 184ms/step - loss: 0.4332 - accuracy: 0.8476 - auc: 0.9872 - val_loss: 0.3939 - val_accuracy: 0.8557 - val_auc: 0.9887\n",
      "Epoch 13/100\n",
      "148/148 [==============================] - 27s 185ms/step - loss: 0.3875 - accuracy: 0.8653 - auc: 0.9891 - val_loss: 0.4054 - val_accuracy: 0.8615 - val_auc: 0.9864\n",
      "Epoch 14/100\n",
      "148/148 [==============================] - 27s 182ms/step - loss: 0.3815 - accuracy: 0.8680 - auc: 0.9889 - val_loss: 0.3486 - val_accuracy: 0.8737 - val_auc: 0.9909\n",
      "Epoch 15/100\n",
      "148/148 [==============================] - 28s 190ms/step - loss: 0.3465 - accuracy: 0.8794 - auc: 0.9908 - val_loss: 0.3353 - val_accuracy: 0.8830 - val_auc: 0.9912\n",
      "Epoch 16/100\n",
      "148/148 [==============================] - 28s 187ms/step - loss: 0.3295 - accuracy: 0.8886 - auc: 0.9913 - val_loss: 0.3149 - val_accuracy: 0.8881 - val_auc: 0.9914\n",
      "Epoch 17/100\n",
      "148/148 [==============================] - 27s 182ms/step - loss: 0.3066 - accuracy: 0.8956 - auc: 0.9921 - val_loss: 0.3076 - val_accuracy: 0.8952 - val_auc: 0.9915\n",
      "Epoch 18/100\n",
      "148/148 [==============================] - 27s 182ms/step - loss: 0.2890 - accuracy: 0.9015 - auc: 0.9930 - val_loss: 0.3363 - val_accuracy: 0.8909 - val_auc: 0.9889\n",
      "Epoch 19/100\n",
      "148/148 [==============================] - 27s 183ms/step - loss: 0.2663 - accuracy: 0.9094 - auc: 0.9940 - val_loss: 0.2788 - val_accuracy: 0.9056 - val_auc: 0.9925\n",
      "Epoch 20/100\n",
      "148/148 [==============================] - 28s 186ms/step - loss: 0.2658 - accuracy: 0.9091 - auc: 0.9937 - val_loss: 0.2776 - val_accuracy: 0.9056 - val_auc: 0.9924\n",
      "Epoch 21/100\n",
      "148/148 [==============================] - 28s 186ms/step - loss: 0.2469 - accuracy: 0.9169 - auc: 0.9945 - val_loss: 0.2515 - val_accuracy: 0.9193 - val_auc: 0.9923\n",
      "Epoch 22/100\n",
      "148/148 [==============================] - 28s 186ms/step - loss: 0.2269 - accuracy: 0.9236 - auc: 0.9951 - val_loss: 0.3279 - val_accuracy: 0.8904 - val_auc: 0.9897\n",
      "Epoch 23/100\n",
      "148/148 [==============================] - 27s 185ms/step - loss: 0.2084 - accuracy: 0.9295 - auc: 0.9957 - val_loss: 0.2113 - val_accuracy: 0.9289 - val_auc: 0.9948\n",
      "Epoch 24/100\n",
      "148/148 [==============================] - 28s 186ms/step - loss: 0.1986 - accuracy: 0.9308 - auc: 0.9961 - val_loss: 0.2296 - val_accuracy: 0.9198 - val_auc: 0.9947\n",
      "Epoch 25/100\n",
      "148/148 [==============================] - 27s 179ms/step - loss: 0.1946 - accuracy: 0.9328 - auc: 0.9957 - val_loss: 0.2294 - val_accuracy: 0.9163 - val_auc: 0.9944\n",
      "Epoch 26/100\n",
      "148/148 [==============================] - 27s 184ms/step - loss: 0.1727 - accuracy: 0.9414 - auc: 0.9967 - val_loss: 0.2171 - val_accuracy: 0.9265 - val_auc: 0.9938\n",
      "Epoch 27/100\n",
      "148/148 [==============================] - 27s 183ms/step - loss: 0.1761 - accuracy: 0.9390 - auc: 0.9967 - val_loss: 0.1999 - val_accuracy: 0.9315 - val_auc: 0.9951\n",
      "Epoch 28/100\n",
      "148/148 [==============================] - 27s 184ms/step - loss: 0.1534 - accuracy: 0.9470 - auc: 0.9973 - val_loss: 0.2043 - val_accuracy: 0.9313 - val_auc: 0.9943\n",
      "Epoch 29/100\n",
      "148/148 [==============================] - 28s 185ms/step - loss: 0.1473 - accuracy: 0.9496 - auc: 0.9974 - val_loss: 0.1658 - val_accuracy: 0.9446 - val_auc: 0.9954\n",
      "Epoch 30/100\n",
      "148/148 [==============================] - 28s 187ms/step - loss: 0.1489 - accuracy: 0.9494 - auc: 0.9973 - val_loss: 0.2317 - val_accuracy: 0.9256 - val_auc: 0.9929\n",
      "Epoch 31/100\n",
      "148/148 [==============================] - 27s 184ms/step - loss: 0.1509 - accuracy: 0.9479 - auc: 0.9974 - val_loss: 0.2103 - val_accuracy: 0.9319 - val_auc: 0.9941\n",
      "Epoch 32/100\n",
      "148/148 [==============================] - 27s 183ms/step - loss: 0.1324 - accuracy: 0.9550 - auc: 0.9975 - val_loss: 0.2668 - val_accuracy: 0.9152 - val_auc: 0.9910\n",
      "Epoch 33/100\n",
      "148/148 [==============================] - 27s 185ms/step - loss: 0.1235 - accuracy: 0.9580 - auc: 0.9980 - val_loss: 0.1791 - val_accuracy: 0.9404 - val_auc: 0.9956\n",
      "Epoch 34/100\n",
      "148/148 [==============================] - 27s 184ms/step - loss: 0.1219 - accuracy: 0.9563 - auc: 0.9978 - val_loss: 0.1773 - val_accuracy: 0.9394 - val_auc: 0.9951\n",
      "Epoch 35/100\n",
      "148/148 [==============================] - 28s 186ms/step - loss: 0.1095 - accuracy: 0.9606 - auc: 0.9984 - val_loss: 0.1631 - val_accuracy: 0.9504 - val_auc: 0.9958\n",
      "Epoch 36/100\n",
      "148/148 [==============================] - 27s 184ms/step - loss: 0.1134 - accuracy: 0.9618 - auc: 0.9983 - val_loss: 0.2010 - val_accuracy: 0.9398 - val_auc: 0.9931\n",
      "Epoch 37/100\n",
      "148/148 [==============================] - 27s 182ms/step - loss: 0.1137 - accuracy: 0.9608 - auc: 0.9981 - val_loss: 0.1550 - val_accuracy: 0.9511 - val_auc: 0.9957\n",
      "Epoch 38/100\n",
      "148/148 [==============================] - 28s 186ms/step - loss: 0.0861 - accuracy: 0.9700 - auc: 0.9987 - val_loss: 0.1676 - val_accuracy: 0.9500 - val_auc: 0.9945\n",
      "Epoch 39/100\n",
      "148/148 [==============================] - 27s 183ms/step - loss: 0.0854 - accuracy: 0.9704 - auc: 0.9988 - val_loss: 0.1715 - val_accuracy: 0.9448 - val_auc: 0.9948\n",
      "Epoch 40/100\n",
      "148/148 [==============================] - 28s 187ms/step - loss: 0.0913 - accuracy: 0.9678 - auc: 0.9986 - val_loss: 0.1655 - val_accuracy: 0.9500 - val_auc: 0.9946\n",
      "Epoch 41/100\n",
      "148/148 [==============================] - 28s 186ms/step - loss: 0.0854 - accuracy: 0.9705 - auc: 0.9986 - val_loss: 0.1711 - val_accuracy: 0.9456 - val_auc: 0.9952\n",
      "Epoch 42/100\n",
      "148/148 [==============================] - 27s 185ms/step - loss: 0.0881 - accuracy: 0.9699 - auc: 0.9987 - val_loss: 0.1568 - val_accuracy: 0.9507 - val_auc: 0.9956\n",
      "Epoch 43/100\n",
      "148/148 [==============================] - 28s 189ms/step - loss: 0.0854 - accuracy: 0.9718 - auc: 0.9985 - val_loss: 0.1788 - val_accuracy: 0.9419 - val_auc: 0.9947\n",
      "Epoch 44/100\n",
      "148/148 [==============================] - 29s 193ms/step - loss: 0.0879 - accuracy: 0.9701 - auc: 0.9986 - val_loss: 0.2132 - val_accuracy: 0.9363 - val_auc: 0.9923\n",
      "Epoch 45/100\n",
      "148/148 [==============================] - 27s 182ms/step - loss: 0.0653 - accuracy: 0.9775 - auc: 0.9991 - val_loss: 0.1979 - val_accuracy: 0.9426 - val_auc: 0.9928\n",
      "Restoring model weights from the end of the best epoch.\n",
      "Epoch 00045: early stopping\n",
      "---------MODEL EVALUATE---------\n",
      "22/22 [==============================] - 11s 515ms/step - loss: 0.1409 - accuracy: 0.9541 - auc: 0.9959\n",
      "2700/2700 [==============================] - 3s 1ms/step\n",
      "              precision    recall  f1-score   support\n",
      "\n",
      "           0     0.9439    0.9533    0.9486       300\n",
      "           1     0.9803    0.9933    0.9868       300\n",
      "           2     0.9189    0.9067    0.9128       300\n",
      "           3     0.9414    0.9640    0.9526       250\n",
      "           4     0.9877    0.9640    0.9757       250\n",
      "           5     0.9524    0.9000    0.9254       200\n",
      "           6     0.8923    0.9280    0.9098       250\n",
      "           7     0.9645    0.9967    0.9803       300\n",
      "           8     0.9622    0.9160    0.9385       250\n",
      "           9     0.9933    0.9933    0.9933       300\n",
      "\n",
      "    accuracy                         0.9541      2700\n",
      "   macro avg     0.9537    0.9515    0.9524      2700\n",
      "weighted avg     0.9543    0.9541    0.9540      2700\n",
      "\n",
      "---------SAVE RESULTS---------\n"
     ]
    },
    {
     "data": {
      "image/png": "[encoded data removed]",
      "text/plain": [
       "<Figure size 432x288 with 2 Axes>"
      ]
     },
     "metadata": {
      "needs_background": "light"
     },
     "output_type": "display_data"
    },
    {
     "data": {
      "image/png": "[encoded data removed]",
      "text/plain": [
       "<Figure size 720x504 with 2 Axes>"
      ]
     },
     "metadata": {
      "needs_background": "light"
     },
     "output_type": "display_data"
    }
   ],
   "source": [
    "params = [n_epochs,\n",
    "          batch_size,\n",
    "          loss_fun, \n",
    "          act_fun,\n",
    "          learn_rate, \n",
    "          optmzer,\n",
    "          n_convolutional_layers,\n",
    "          filter_size,\n",
    "          filters_number\n",
    "         ]\n",
    "\n",
    "\n",
    "model_id = \"VGG16-CONV1-2\"\n",
    "model_name = model_id\n",
    "\n",
    "n_layers = 9\n",
    "\n",
    "params[6] = n_layers\n",
    "\n",
    "print(f\"-------- EXPERIMENT {model_id} ----------\")\n",
    "\n",
    "model = Sequential()\n",
    "\n",
    "# start of model\n",
    "#model.add(Conv2D(input_shape=(64,64,3),filters=64,kernel_size=(3,3),padding=\"same\", activation=\"relu\"))\n",
    "#model.add(Conv2D(filters=64,kernel_size=(3,3),padding=\"same\", activation=\"relu\"))\n",
    "#model.add(MaxPool2D(pool_size=(2,2),strides=(2,2)))\n",
    "#model.add(Conv2D(filters=128, kernel_size=(3,3), padding=\"same\", activation=\"relu\"))\n",
    "#model.add(Conv2D(filters=128, kernel_size=(3,3), padding=\"same\", activation=\"relu\"))\n",
    "#model.add(MaxPool2D(pool_size=(2,2),strides=(2,2)))\n",
    "model.add(Conv2D(input_shape=(64,64,3),filters=64, kernel_size=filter_size, padding=\"same\", activation=\"relu\"))\n",
    "model.add(Conv2D(filters=64, kernel_size=filter_size, padding=\"same\", activation=\"relu\"))\n",
    "model.add(Conv2D(filters=128, kernel_size=filter_size, padding=\"same\", activation=\"relu\"))\n",
    "model.add(MaxPool2D(pool_size=(4,4),strides=(4,4)))\n",
    "model.add(Conv2D(filters=128, kernel_size=filter_size, padding=\"same\", activation=\"relu\"))\n",
    "model.add(Conv2D(filters=128, kernel_size=filter_size, padding=\"same\", activation=\"relu\"))\n",
    "model.add(Conv2D(filters=256, kernel_size=filter_size, padding=\"same\", activation=\"relu\"))\n",
    "model.add(MaxPool2D(pool_size=(2,2),strides=(2,2)))\n",
    "model.add(Conv2D(filters=512, kernel_size=filter_size, padding=\"same\", activation=\"relu\"))\n",
    "model.add(Conv2D(filters=512, kernel_size=filter_size, padding=\"same\", activation=\"relu\"))\n",
    "model.add(Conv2D(filters=512, kernel_size=filter_size, padding=\"same\", activation=\"relu\"))\n",
    "model.add(MaxPool2D(pool_size=(2,2),strides=(2,2)))\n",
    "\n",
    "\n",
    "# add a flatten out layer, a dropout for regularization, a FC layer, and a final\n",
    "# 10-node softmax layer for the prediction.\n",
    "model.add(Flatten()) # just flattening operation, same numb. nodes kept\n",
    "# n. nodes chosen by keeping the drop in nodes ratio of the origina model (approx.)\n",
    "model.add(Dense(units=680, activation=\"relu\", kernel_initializer=\"he_normal\"))\n",
    "model.add(Dropout(0.5)) # MY ADDITION\n",
    "model.add(Dense(units=180, activation=\"relu\", kernel_initializer=\"he_normal\"))\n",
    "model.add(Dense(class_count, activation=\"softmax\"))\n",
    "\n",
    "\n",
    "model.summary()\n",
    "\n",
    "\n",
    "# Model COMPILE and FIT\n",
    "history, new_params = run_model(model, model_name, params)\n",
    "params = new_params\n",
    "# Model EVALUATE\n",
    "eval_metrics, cf_matrix, confusion_matrix_df, results_df = get_eval_metrics(history, model, test_set, params)\n",
    "\n",
    "save_plots(history, output_folder, model_name, confusion_matrix_df)\n",
    "\n",
    "params_to_save = params\n",
    "params_to_save[7] = str(params_to_save[7]).replace(',', \";\")\n",
    "params_to_save[8] = str(params_to_save[8]).replace(',', \";\")\n",
    "params_to_save\n",
    "\n",
    "new_row = [model_id,\n",
    "           model_name,\n",
    "           params_to_save,\n",
    "           eval_metrics,\n",
    "           len(training_df), # number of images in the training set\n",
    "           len(validation_df), # number of images in the validation set\n",
    "           len(test_df), # number of images in the test set\n",
    "          ]\n",
    "\n",
    "new_row = flatten(new_row)\n",
    "\n",
    "append_results_to_csv(new_row)\n"
   ]
  },
  {
   "cell_type": "markdown",
   "id": "9d8f687d",
   "metadata": {
    "papermill": {
     "duration": 0.408484,
     "end_time": "2022-12-12T16:46:36.289830",
     "exception": false,
     "start_time": "2022-12-12T16:46:35.881346",
     "status": "completed"
    },
    "tags": []
   },
   "source": [
    "# 2.A.i.3"
   ]
  },
  {
   "cell_type": "code",
   "execution_count": 15,
   "id": "936d023a",
   "metadata": {
    "execution": {
     "iopub.execute_input": "2022-12-12T16:46:37.044363Z",
     "iopub.status.busy": "2022-12-12T16:46:37.043966Z",
     "iopub.status.idle": "2022-12-12T17:34:23.914884Z",
     "shell.execute_reply": "2022-12-12T17:34:23.912437Z"
    },
    "papermill": {
     "duration": 2867.247521,
     "end_time": "2022-12-12T17:34:23.917342",
     "exception": false,
     "start_time": "2022-12-12T16:46:36.669821",
     "status": "completed"
    },
    "tags": []
   },
   "outputs": [
    {
     "name": "stdout",
     "output_type": "stream",
     "text": [
      "-------- EXPERIMENT 2A.i.3 ----------\n",
      "Model: \"sequential_1\"\n",
      "_________________________________________________________________\n",
      "Layer (type)                 Output Shape              Param #   \n",
      "=================================================================\n",
      "conv2d_9 (Conv2D)            (None, 64, 64, 32)        896       \n",
      "_________________________________________________________________\n",
      "max_pooling2d_3 (MaxPooling2 (None, 32, 32, 32)        0         \n",
      "_________________________________________________________________\n",
      "conv2d_10 (Conv2D)           (None, 32, 32, 32)        9248      \n",
      "_________________________________________________________________\n",
      "max_pooling2d_4 (MaxPooling2 (None, 16, 16, 32)        0         \n",
      "_________________________________________________________________\n",
      "conv2d_11 (Conv2D)           (None, 16, 16, 64)        18496     \n",
      "_________________________________________________________________\n",
      "max_pooling2d_5 (MaxPooling2 (None, 8, 8, 64)          0         \n",
      "_________________________________________________________________\n",
      "conv2d_12 (Conv2D)           (None, 8, 8, 64)          36928     \n",
      "_________________________________________________________________\n",
      "conv2d_13 (Conv2D)           (None, 8, 8, 128)         73856     \n",
      "_________________________________________________________________\n",
      "max_pooling2d_6 (MaxPooling2 (None, 4, 4, 128)         0         \n",
      "_________________________________________________________________\n",
      "flatten_1 (Flatten)          (None, 2048)              0         \n",
      "_________________________________________________________________\n",
      "dense_3 (Dense)              (None, 200)               409800    \n",
      "_________________________________________________________________\n",
      "dropout_1 (Dropout)          (None, 200)               0         \n",
      "_________________________________________________________________\n",
      "dense_4 (Dense)              (None, 10)                2010      \n",
      "=================================================================\n",
      "Total params: 551,234\n",
      "Trainable params: 551,234\n",
      "Non-trainable params: 0\n",
      "_________________________________________________________________\n",
      "---------MODEL COMPILE---------\n",
      "---------MODEL FIT---------\n",
      "Epoch 1/100\n",
      "148/148 [==============================] - 27s 172ms/step - loss: 1.7418 - accuracy: 0.3230 - auc_1: 0.8163 - val_loss: 1.3302 - val_accuracy: 0.4852 - val_auc_1: 0.9029\n",
      "Epoch 2/100\n",
      "148/148 [==============================] - 25s 169ms/step - loss: 1.3024 - accuracy: 0.5078 - auc_1: 0.9042 - val_loss: 1.0756 - val_accuracy: 0.6080 - val_auc_1: 0.9375\n",
      "Epoch 3/100\n",
      "148/148 [==============================] - 25s 172ms/step - loss: 1.1027 - accuracy: 0.5962 - auc_1: 0.9312 - val_loss: 0.9030 - val_accuracy: 0.6667 - val_auc_1: 0.9555\n",
      "Epoch 4/100\n",
      "148/148 [==============================] - 26s 174ms/step - loss: 0.9983 - accuracy: 0.6452 - auc_1: 0.9430 - val_loss: 0.8341 - val_accuracy: 0.7000 - val_auc_1: 0.9626\n",
      "Epoch 5/100\n",
      "148/148 [==============================] - 28s 187ms/step - loss: 0.9181 - accuracy: 0.6744 - auc_1: 0.9515 - val_loss: 0.7566 - val_accuracy: 0.7306 - val_auc_1: 0.9686\n",
      "Epoch 6/100\n",
      "148/148 [==============================] - 25s 170ms/step - loss: 0.8548 - accuracy: 0.6986 - auc_1: 0.9575 - val_loss: 0.7117 - val_accuracy: 0.7452 - val_auc_1: 0.9716\n",
      "Epoch 7/100\n",
      "148/148 [==============================] - 25s 170ms/step - loss: 0.8179 - accuracy: 0.7111 - auc_1: 0.9610 - val_loss: 0.7278 - val_accuracy: 0.7365 - val_auc_1: 0.9697\n",
      "Epoch 8/100\n",
      "148/148 [==============================] - 25s 168ms/step - loss: 0.7930 - accuracy: 0.7196 - auc_1: 0.9633 - val_loss: 0.6924 - val_accuracy: 0.7463 - val_auc_1: 0.9723\n",
      "Epoch 9/100\n",
      "148/148 [==============================] - 25s 170ms/step - loss: 0.7748 - accuracy: 0.7263 - auc_1: 0.9648 - val_loss: 0.6574 - val_accuracy: 0.7589 - val_auc_1: 0.9751\n",
      "Epoch 10/100\n",
      "148/148 [==============================] - 25s 166ms/step - loss: 0.7434 - accuracy: 0.7379 - auc_1: 0.9673 - val_loss: 0.6330 - val_accuracy: 0.7719 - val_auc_1: 0.9773\n",
      "Epoch 11/100\n",
      "148/148 [==============================] - 25s 166ms/step - loss: 0.7253 - accuracy: 0.7410 - auc_1: 0.9686 - val_loss: 0.6313 - val_accuracy: 0.7670 - val_auc_1: 0.9769\n",
      "Epoch 12/100\n",
      "148/148 [==============================] - 25s 166ms/step - loss: 0.7159 - accuracy: 0.7459 - auc_1: 0.9692 - val_loss: 0.6200 - val_accuracy: 0.7754 - val_auc_1: 0.9775\n",
      "Epoch 13/100\n",
      "148/148 [==============================] - 25s 168ms/step - loss: 0.6914 - accuracy: 0.7553 - auc_1: 0.9713 - val_loss: 0.6223 - val_accuracy: 0.7707 - val_auc_1: 0.9768\n",
      "Epoch 14/100\n",
      "148/148 [==============================] - 25s 167ms/step - loss: 0.6927 - accuracy: 0.7514 - auc_1: 0.9712 - val_loss: 0.5996 - val_accuracy: 0.7785 - val_auc_1: 0.9791\n",
      "Epoch 15/100\n",
      "148/148 [==============================] - 25s 166ms/step - loss: 0.6771 - accuracy: 0.7625 - auc_1: 0.9723 - val_loss: 0.6087 - val_accuracy: 0.7737 - val_auc_1: 0.9778\n",
      "Epoch 16/100\n",
      "148/148 [==============================] - 25s 166ms/step - loss: 0.6637 - accuracy: 0.7630 - auc_1: 0.9734 - val_loss: 0.6193 - val_accuracy: 0.7694 - val_auc_1: 0.9767\n",
      "Epoch 17/100\n",
      "148/148 [==============================] - 25s 169ms/step - loss: 0.6525 - accuracy: 0.7672 - auc_1: 0.9742 - val_loss: 0.5816 - val_accuracy: 0.7876 - val_auc_1: 0.9791\n",
      "Epoch 18/100\n",
      "148/148 [==============================] - 25s 171ms/step - loss: 0.6605 - accuracy: 0.7644 - auc_1: 0.9733 - val_loss: 0.5843 - val_accuracy: 0.7870 - val_auc_1: 0.9798\n",
      "Epoch 19/100\n",
      "148/148 [==============================] - 25s 167ms/step - loss: 0.6411 - accuracy: 0.7736 - auc_1: 0.9750 - val_loss: 0.5841 - val_accuracy: 0.7867 - val_auc_1: 0.9798\n",
      "Epoch 20/100\n",
      "148/148 [==============================] - 24s 165ms/step - loss: 0.6404 - accuracy: 0.7723 - auc_1: 0.9749 - val_loss: 0.5498 - val_accuracy: 0.8022 - val_auc_1: 0.9820\n",
      "Epoch 21/100\n",
      "148/148 [==============================] - 25s 168ms/step - loss: 0.6258 - accuracy: 0.7781 - auc_1: 0.9759 - val_loss: 0.5415 - val_accuracy: 0.8011 - val_auc_1: 0.9828\n",
      "Epoch 22/100\n",
      "148/148 [==============================] - 25s 167ms/step - loss: 0.6143 - accuracy: 0.7847 - auc_1: 0.9768 - val_loss: 0.6121 - val_accuracy: 0.7793 - val_auc_1: 0.9767\n",
      "Epoch 23/100\n",
      "148/148 [==============================] - 25s 167ms/step - loss: 0.6039 - accuracy: 0.7884 - auc_1: 0.9776 - val_loss: 0.5341 - val_accuracy: 0.8028 - val_auc_1: 0.9827\n",
      "Epoch 24/100\n",
      "148/148 [==============================] - 24s 163ms/step - loss: 0.5963 - accuracy: 0.7892 - auc_1: 0.9779 - val_loss: 0.5286 - val_accuracy: 0.8059 - val_auc_1: 0.9830\n",
      "Epoch 25/100\n",
      "148/148 [==============================] - 25s 167ms/step - loss: 0.5900 - accuracy: 0.7916 - auc_1: 0.9783 - val_loss: 0.5215 - val_accuracy: 0.8091 - val_auc_1: 0.9834\n",
      "Epoch 26/100\n",
      "148/148 [==============================] - 24s 163ms/step - loss: 0.5852 - accuracy: 0.7952 - auc_1: 0.9784 - val_loss: 0.5240 - val_accuracy: 0.8115 - val_auc_1: 0.9822\n",
      "Epoch 27/100\n",
      "148/148 [==============================] - 25s 167ms/step - loss: 0.5740 - accuracy: 0.7990 - auc_1: 0.9791 - val_loss: 0.5117 - val_accuracy: 0.8148 - val_auc_1: 0.9835\n",
      "Epoch 28/100\n",
      "148/148 [==============================] - 24s 166ms/step - loss: 0.5726 - accuracy: 0.7977 - auc_1: 0.9790 - val_loss: 0.5460 - val_accuracy: 0.8019 - val_auc_1: 0.9813\n",
      "Epoch 29/100\n",
      "148/148 [==============================] - 25s 166ms/step - loss: 0.5638 - accuracy: 0.8008 - auc_1: 0.9799 - val_loss: 0.5141 - val_accuracy: 0.8150 - val_auc_1: 0.9834\n",
      "Epoch 30/100\n",
      "148/148 [==============================] - 24s 165ms/step - loss: 0.5571 - accuracy: 0.8052 - auc_1: 0.9805 - val_loss: 0.5000 - val_accuracy: 0.8194 - val_auc_1: 0.9841\n",
      "Epoch 31/100\n",
      "148/148 [==============================] - 25s 169ms/step - loss: 0.5494 - accuracy: 0.8071 - auc_1: 0.9806 - val_loss: 0.5001 - val_accuracy: 0.8165 - val_auc_1: 0.9846\n",
      "Epoch 32/100\n",
      "148/148 [==============================] - 25s 166ms/step - loss: 0.5465 - accuracy: 0.8073 - auc_1: 0.9813 - val_loss: 0.5139 - val_accuracy: 0.8183 - val_auc_1: 0.9838\n",
      "Epoch 33/100\n",
      "148/148 [==============================] - 24s 165ms/step - loss: 0.5453 - accuracy: 0.8094 - auc_1: 0.9810 - val_loss: 0.5136 - val_accuracy: 0.8150 - val_auc_1: 0.9828\n",
      "Epoch 34/100\n",
      "148/148 [==============================] - 25s 168ms/step - loss: 0.5412 - accuracy: 0.8093 - auc_1: 0.9812 - val_loss: 0.4897 - val_accuracy: 0.8272 - val_auc_1: 0.9848\n",
      "Epoch 35/100\n",
      "148/148 [==============================] - 25s 168ms/step - loss: 0.5407 - accuracy: 0.8087 - auc_1: 0.9813 - val_loss: 0.5002 - val_accuracy: 0.8217 - val_auc_1: 0.9843\n",
      "Epoch 36/100\n",
      "148/148 [==============================] - 25s 169ms/step - loss: 0.5223 - accuracy: 0.8194 - auc_1: 0.9823 - val_loss: 0.5067 - val_accuracy: 0.8220 - val_auc_1: 0.9831\n",
      "Epoch 37/100\n",
      "148/148 [==============================] - 27s 182ms/step - loss: 0.5361 - accuracy: 0.8097 - auc_1: 0.9818 - val_loss: 0.4654 - val_accuracy: 0.8300 - val_auc_1: 0.9863\n",
      "Epoch 38/100\n",
      "148/148 [==============================] - 27s 183ms/step - loss: 0.5218 - accuracy: 0.8177 - auc_1: 0.9826 - val_loss: 0.4649 - val_accuracy: 0.8324 - val_auc_1: 0.9860\n",
      "Epoch 39/100\n",
      "148/148 [==============================] - 25s 172ms/step - loss: 0.5172 - accuracy: 0.8179 - auc_1: 0.9826 - val_loss: 0.4661 - val_accuracy: 0.8285 - val_auc_1: 0.9858\n",
      "Epoch 40/100\n",
      "148/148 [==============================] - 26s 174ms/step - loss: 0.5072 - accuracy: 0.8238 - auc_1: 0.9834 - val_loss: 0.4623 - val_accuracy: 0.8307 - val_auc_1: 0.9858\n",
      "Epoch 41/100\n",
      "148/148 [==============================] - 26s 174ms/step - loss: 0.5193 - accuracy: 0.8192 - auc_1: 0.9821 - val_loss: 0.4589 - val_accuracy: 0.8363 - val_auc_1: 0.9861\n",
      "Epoch 42/100\n",
      "148/148 [==============================] - 25s 167ms/step - loss: 0.5158 - accuracy: 0.8198 - auc_1: 0.9828 - val_loss: 0.4940 - val_accuracy: 0.8233 - val_auc_1: 0.9840\n",
      "Epoch 43/100\n",
      "148/148 [==============================] - 25s 166ms/step - loss: 0.4898 - accuracy: 0.8305 - auc_1: 0.9844 - val_loss: 0.4460 - val_accuracy: 0.8398 - val_auc_1: 0.9867\n",
      "Epoch 44/100\n",
      "148/148 [==============================] - 25s 167ms/step - loss: 0.5118 - accuracy: 0.8208 - auc_1: 0.9827 - val_loss: 0.4517 - val_accuracy: 0.8374 - val_auc_1: 0.9868\n",
      "Epoch 45/100\n",
      "148/148 [==============================] - 25s 167ms/step - loss: 0.5029 - accuracy: 0.8268 - auc_1: 0.9835 - val_loss: 0.5116 - val_accuracy: 0.8150 - val_auc_1: 0.9824\n",
      "Epoch 46/100\n",
      "148/148 [==============================] - 24s 164ms/step - loss: 0.4948 - accuracy: 0.8246 - auc_1: 0.9837 - val_loss: 0.4842 - val_accuracy: 0.8278 - val_auc_1: 0.9848\n",
      "Epoch 47/100\n",
      "148/148 [==============================] - 25s 167ms/step - loss: 0.4923 - accuracy: 0.8286 - auc_1: 0.9839 - val_loss: 0.4981 - val_accuracy: 0.8180 - val_auc_1: 0.9834\n",
      "Epoch 48/100\n",
      "148/148 [==============================] - 25s 171ms/step - loss: 0.4826 - accuracy: 0.8316 - auc_1: 0.9846 - val_loss: 0.4400 - val_accuracy: 0.8433 - val_auc_1: 0.9865\n",
      "Epoch 49/100\n",
      "148/148 [==============================] - 25s 168ms/step - loss: 0.4747 - accuracy: 0.8353 - auc_1: 0.9852 - val_loss: 0.4816 - val_accuracy: 0.8274 - val_auc_1: 0.9836\n",
      "Epoch 50/100\n",
      "148/148 [==============================] - 24s 165ms/step - loss: 0.4732 - accuracy: 0.8322 - auc_1: 0.9848 - val_loss: 0.4589 - val_accuracy: 0.8354 - val_auc_1: 0.9857\n",
      "Epoch 51/100\n",
      "148/148 [==============================] - 25s 169ms/step - loss: 0.4721 - accuracy: 0.8361 - auc_1: 0.9853 - val_loss: 0.4451 - val_accuracy: 0.8404 - val_auc_1: 0.9862\n",
      "Epoch 52/100\n",
      "148/148 [==============================] - 25s 168ms/step - loss: 0.4841 - accuracy: 0.8333 - auc_1: 0.9843 - val_loss: 0.4338 - val_accuracy: 0.8439 - val_auc_1: 0.9873\n",
      "Epoch 53/100\n",
      "148/148 [==============================] - 26s 174ms/step - loss: 0.4691 - accuracy: 0.8377 - auc_1: 0.9855 - val_loss: 0.4390 - val_accuracy: 0.8415 - val_auc_1: 0.9865\n",
      "Epoch 54/100\n",
      "148/148 [==============================] - 25s 172ms/step - loss: 0.4663 - accuracy: 0.8360 - auc_1: 0.9856 - val_loss: 0.4275 - val_accuracy: 0.8433 - val_auc_1: 0.9875\n",
      "Epoch 55/100\n",
      "148/148 [==============================] - 25s 171ms/step - loss: 0.4601 - accuracy: 0.8399 - auc_1: 0.9857 - val_loss: 0.4257 - val_accuracy: 0.8463 - val_auc_1: 0.9872\n",
      "Epoch 56/100\n",
      "148/148 [==============================] - 25s 167ms/step - loss: 0.4539 - accuracy: 0.8420 - auc_1: 0.9861 - val_loss: 0.4388 - val_accuracy: 0.8459 - val_auc_1: 0.9867\n",
      "Epoch 57/100\n",
      "148/148 [==============================] - 25s 168ms/step - loss: 0.4510 - accuracy: 0.8442 - auc_1: 0.9862 - val_loss: 0.4316 - val_accuracy: 0.8426 - val_auc_1: 0.9871\n",
      "Epoch 58/100\n",
      "148/148 [==============================] - 25s 168ms/step - loss: 0.4577 - accuracy: 0.8430 - auc_1: 0.9858 - val_loss: 0.4272 - val_accuracy: 0.8481 - val_auc_1: 0.9875\n",
      "Epoch 59/100\n",
      "148/148 [==============================] - 24s 165ms/step - loss: 0.4592 - accuracy: 0.8397 - auc_1: 0.9857 - val_loss: 0.4382 - val_accuracy: 0.8385 - val_auc_1: 0.9867\n",
      "Epoch 60/100\n",
      "148/148 [==============================] - 25s 169ms/step - loss: 0.4508 - accuracy: 0.8411 - auc_1: 0.9863 - val_loss: 0.4289 - val_accuracy: 0.8422 - val_auc_1: 0.9866\n",
      "Epoch 61/100\n",
      "148/148 [==============================] - 25s 167ms/step - loss: 0.4574 - accuracy: 0.8396 - auc_1: 0.9860 - val_loss: 0.4420 - val_accuracy: 0.8400 - val_auc_1: 0.9859\n",
      "Epoch 62/100\n",
      "148/148 [==============================] - 25s 167ms/step - loss: 0.4388 - accuracy: 0.8468 - auc_1: 0.9869 - val_loss: 0.4256 - val_accuracy: 0.8433 - val_auc_1: 0.9871\n",
      "Epoch 63/100\n",
      "148/148 [==============================] - 25s 169ms/step - loss: 0.4455 - accuracy: 0.8461 - auc_1: 0.9868 - val_loss: 0.4138 - val_accuracy: 0.8515 - val_auc_1: 0.9877\n",
      "Epoch 64/100\n",
      "148/148 [==============================] - 26s 173ms/step - loss: 0.4326 - accuracy: 0.8492 - auc_1: 0.9872 - val_loss: 0.4191 - val_accuracy: 0.8502 - val_auc_1: 0.9876\n",
      "Epoch 65/100\n",
      "148/148 [==============================] - 25s 168ms/step - loss: 0.4414 - accuracy: 0.8459 - auc_1: 0.9865 - val_loss: 0.4965 - val_accuracy: 0.8231 - val_auc_1: 0.9832\n",
      "Epoch 66/100\n",
      "148/148 [==============================] - 28s 189ms/step - loss: 0.4267 - accuracy: 0.8528 - auc_1: 0.9874 - val_loss: 0.4096 - val_accuracy: 0.8559 - val_auc_1: 0.9880\n",
      "Epoch 67/100\n",
      "148/148 [==============================] - 26s 179ms/step - loss: 0.4312 - accuracy: 0.8504 - auc_1: 0.9874 - val_loss: 0.4271 - val_accuracy: 0.8470 - val_auc_1: 0.9873\n",
      "Epoch 68/100\n",
      "148/148 [==============================] - 25s 170ms/step - loss: 0.4405 - accuracy: 0.8469 - auc_1: 0.9866 - val_loss: 0.4046 - val_accuracy: 0.8552 - val_auc_1: 0.9887\n",
      "Epoch 69/100\n",
      "148/148 [==============================] - 24s 165ms/step - loss: 0.4187 - accuracy: 0.8535 - auc_1: 0.9882 - val_loss: 0.4001 - val_accuracy: 0.8550 - val_auc_1: 0.9884\n",
      "Epoch 70/100\n",
      "148/148 [==============================] - 24s 161ms/step - loss: 0.4206 - accuracy: 0.8538 - auc_1: 0.9878 - val_loss: 0.4022 - val_accuracy: 0.8552 - val_auc_1: 0.9885\n",
      "Epoch 71/100\n",
      "148/148 [==============================] - 25s 166ms/step - loss: 0.4206 - accuracy: 0.8544 - auc_1: 0.9876 - val_loss: 0.4402 - val_accuracy: 0.8415 - val_auc_1: 0.9857\n",
      "Epoch 72/100\n",
      "148/148 [==============================] - 24s 165ms/step - loss: 0.4100 - accuracy: 0.8575 - auc_1: 0.9885 - val_loss: 0.4066 - val_accuracy: 0.8561 - val_auc_1: 0.9879\n",
      "Epoch 73/100\n",
      "148/148 [==============================] - 25s 167ms/step - loss: 0.4137 - accuracy: 0.8573 - auc_1: 0.9883 - val_loss: 0.3958 - val_accuracy: 0.8587 - val_auc_1: 0.9886\n",
      "Epoch 74/100\n",
      "148/148 [==============================] - 25s 169ms/step - loss: 0.4054 - accuracy: 0.8581 - auc_1: 0.9884 - val_loss: 0.3867 - val_accuracy: 0.8637 - val_auc_1: 0.9893\n",
      "Epoch 75/100\n",
      "148/148 [==============================] - 25s 170ms/step - loss: 0.4162 - accuracy: 0.8542 - auc_1: 0.9881 - val_loss: 0.3939 - val_accuracy: 0.8606 - val_auc_1: 0.9888\n",
      "Epoch 76/100\n",
      "148/148 [==============================] - 24s 164ms/step - loss: 0.4021 - accuracy: 0.8599 - auc_1: 0.9885 - val_loss: 0.4644 - val_accuracy: 0.8350 - val_auc_1: 0.9845\n",
      "Epoch 77/100\n",
      "148/148 [==============================] - 25s 168ms/step - loss: 0.4078 - accuracy: 0.8604 - auc_1: 0.9884 - val_loss: 0.4077 - val_accuracy: 0.8531 - val_auc_1: 0.9885\n",
      "Epoch 78/100\n",
      "148/148 [==============================] - 24s 164ms/step - loss: 0.4026 - accuracy: 0.8618 - auc_1: 0.9886 - val_loss: 0.3801 - val_accuracy: 0.8643 - val_auc_1: 0.9893\n",
      "Epoch 79/100\n",
      "148/148 [==============================] - 27s 181ms/step - loss: 0.3977 - accuracy: 0.8604 - auc_1: 0.9888 - val_loss: 0.3749 - val_accuracy: 0.8661 - val_auc_1: 0.9893\n",
      "Epoch 80/100\n",
      "148/148 [==============================] - 25s 170ms/step - loss: 0.3922 - accuracy: 0.8635 - auc_1: 0.9892 - val_loss: 0.3821 - val_accuracy: 0.8633 - val_auc_1: 0.9895\n",
      "Epoch 81/100\n",
      "148/148 [==============================] - 26s 179ms/step - loss: 0.3898 - accuracy: 0.8650 - auc_1: 0.9894 - val_loss: 0.3684 - val_accuracy: 0.8706 - val_auc_1: 0.9902\n",
      "Epoch 82/100\n",
      "148/148 [==============================] - 25s 172ms/step - loss: 0.3849 - accuracy: 0.8651 - auc_1: 0.9895 - val_loss: 0.3913 - val_accuracy: 0.8589 - val_auc_1: 0.9879\n",
      "Epoch 83/100\n",
      "148/148 [==============================] - 25s 169ms/step - loss: 0.3951 - accuracy: 0.8650 - auc_1: 0.9888 - val_loss: 0.3836 - val_accuracy: 0.8628 - val_auc_1: 0.9894\n",
      "Epoch 84/100\n",
      "148/148 [==============================] - 25s 170ms/step - loss: 0.3890 - accuracy: 0.8671 - auc_1: 0.9893 - val_loss: 0.3861 - val_accuracy: 0.8569 - val_auc_1: 0.9888\n",
      "Epoch 85/100\n",
      "148/148 [==============================] - 25s 166ms/step - loss: 0.3898 - accuracy: 0.8664 - auc_1: 0.9888 - val_loss: 0.4210 - val_accuracy: 0.8452 - val_auc_1: 0.9871\n",
      "Epoch 86/100\n",
      "148/148 [==============================] - 25s 169ms/step - loss: 0.3840 - accuracy: 0.8664 - auc_1: 0.9900 - val_loss: 0.3649 - val_accuracy: 0.8700 - val_auc_1: 0.9901\n",
      "Epoch 87/100\n",
      "148/148 [==============================] - 25s 169ms/step - loss: 0.3827 - accuracy: 0.8690 - auc_1: 0.9895 - val_loss: 0.3678 - val_accuracy: 0.8693 - val_auc_1: 0.9900\n",
      "Epoch 88/100\n",
      "148/148 [==============================] - 25s 167ms/step - loss: 0.3818 - accuracy: 0.8675 - auc_1: 0.9895 - val_loss: 0.3836 - val_accuracy: 0.8626 - val_auc_1: 0.9893\n",
      "Epoch 89/100\n",
      "148/148 [==============================] - 25s 168ms/step - loss: 0.3807 - accuracy: 0.8676 - auc_1: 0.9893 - val_loss: 0.3710 - val_accuracy: 0.8650 - val_auc_1: 0.9892\n",
      "Epoch 90/100\n",
      "148/148 [==============================] - 25s 168ms/step - loss: 0.3702 - accuracy: 0.8738 - auc_1: 0.9902 - val_loss: 0.3621 - val_accuracy: 0.8711 - val_auc_1: 0.9900\n",
      "Epoch 91/100\n",
      "148/148 [==============================] - 25s 166ms/step - loss: 0.3721 - accuracy: 0.8722 - auc_1: 0.9902 - val_loss: 0.3725 - val_accuracy: 0.8646 - val_auc_1: 0.9897\n",
      "Epoch 92/100\n",
      "148/148 [==============================] - 26s 173ms/step - loss: 0.3591 - accuracy: 0.8757 - auc_1: 0.9908 - val_loss: 0.3530 - val_accuracy: 0.8739 - val_auc_1: 0.9907\n",
      "Epoch 93/100\n",
      "148/148 [==============================] - 25s 171ms/step - loss: 0.3559 - accuracy: 0.8760 - auc_1: 0.9911 - val_loss: 0.3561 - val_accuracy: 0.8739 - val_auc_1: 0.9907\n",
      "Epoch 94/100\n",
      "148/148 [==============================] - 25s 170ms/step - loss: 0.3657 - accuracy: 0.8741 - auc_1: 0.9901 - val_loss: 0.3529 - val_accuracy: 0.8746 - val_auc_1: 0.9906\n",
      "Epoch 95/100\n",
      "148/148 [==============================] - 25s 170ms/step - loss: 0.3587 - accuracy: 0.8756 - auc_1: 0.9907 - val_loss: 0.3559 - val_accuracy: 0.8731 - val_auc_1: 0.9900\n",
      "Epoch 96/100\n",
      "148/148 [==============================] - 26s 173ms/step - loss: 0.3549 - accuracy: 0.8774 - auc_1: 0.9910 - val_loss: 0.3620 - val_accuracy: 0.8685 - val_auc_1: 0.9901\n",
      "Epoch 97/100\n",
      "148/148 [==============================] - 25s 170ms/step - loss: 0.3498 - accuracy: 0.8777 - auc_1: 0.9913 - val_loss: 0.3467 - val_accuracy: 0.8783 - val_auc_1: 0.9909\n",
      "Epoch 98/100\n",
      "148/148 [==============================] - 25s 167ms/step - loss: 0.3631 - accuracy: 0.8738 - auc_1: 0.9904 - val_loss: 0.3488 - val_accuracy: 0.8750 - val_auc_1: 0.9907\n",
      "Epoch 99/100\n",
      "148/148 [==============================] - 24s 165ms/step - loss: 0.3513 - accuracy: 0.8798 - auc_1: 0.9910 - val_loss: 0.3467 - val_accuracy: 0.8756 - val_auc_1: 0.9910\n",
      "Epoch 100/100\n",
      "148/148 [==============================] - 25s 170ms/step - loss: 0.3507 - accuracy: 0.8778 - auc_1: 0.9911 - val_loss: 0.3467 - val_accuracy: 0.8774 - val_auc_1: 0.9907\n",
      "---------MODEL EVALUATE---------\n",
      "22/22 [==============================] - 5s 223ms/step - loss: 0.3343 - accuracy: 0.8848 - auc_1: 0.9915\n",
      "2700/2700 [==============================] - 3s 1ms/step\n",
      "              precision    recall  f1-score   support\n",
      "\n",
      "           0     0.9255    0.8700    0.8969       300\n",
      "           1     0.9866    0.9800    0.9833       300\n",
      "           2     0.8607    0.8033    0.8310       300\n",
      "           3     0.6902    0.7040    0.6970       250\n",
      "           4     0.9302    0.9600    0.9449       250\n",
      "           5     0.8578    0.8750    0.8663       200\n",
      "           6     0.7612    0.8160    0.7876       250\n",
      "           7     0.9799    0.9767    0.9783       300\n",
      "           8     0.8132    0.8360    0.8245       250\n",
      "           9     0.9900    0.9867    0.9883       300\n",
      "\n",
      "    accuracy                         0.8848      2700\n",
      "   macro avg     0.8795    0.8808    0.8798      2700\n",
      "weighted avg     0.8863    0.8848    0.8852      2700\n",
      "\n",
      "---------SAVE RESULTS---------\n"
     ]
    },
    {
     "data": {
      "image/png": "[encoded data removed]",
      "text/plain": [
       "<Figure size 432x288 with 2 Axes>"
      ]
     },
     "metadata": {},
     "output_type": "display_data"
    },
    {
     "data": {
      "image/png": "[encoded data removed]",
      "text/plain": [
       "<Figure size 720x504 with 2 Axes>"
      ]
     },
     "metadata": {},
     "output_type": "display_data"
    }
   ],
   "source": [
    "params = [n_epochs,\n",
    "          batch_size,\n",
    "          loss_fun, \n",
    "          act_fun,\n",
    "          learn_rate, \n",
    "          optmzer,\n",
    "          n_convolutional_layers,\n",
    "          filter_size,\n",
    "          filters_number\n",
    "         ]\n",
    "\n",
    "n_layers = 5\n",
    "\n",
    "params[6] = n_layers\n",
    "\n",
    "model_id = \"2A.i.3\"\n",
    "model_name = f\"BNET-{model_id}\"\n",
    "\n",
    "print(f\"-------- EXPERIMENT {model_id} ----------\")\n",
    "\n",
    "\n",
    "model = Sequential()\n",
    "model.add(Conv2D(input_shape=(64,64,3),filters=32,kernel_size=filter_size,padding=\"same\", activation=act_fun))\n",
    "model.add(MaxPool2D(pool_size=(2,2),strides=(2,2)))\n",
    "model.add(Conv2D(filters=32, kernel_size=filter_size, padding=\"same\", activation=act_fun))\n",
    "model.add(MaxPool2D(pool_size=(2,2),strides=(2,2)))\n",
    "\n",
    "model.add(Conv2D(filters=64, kernel_size=filter_size, padding=\"same\", activation=act_fun))\n",
    "model.add(MaxPool2D(pool_size=(2,2),strides=(2,2)))\n",
    "model.add(Conv2D(filters=64, kernel_size=filter_size, padding=\"same\", activation=act_fun))\n",
    "model.add(Conv2D(filters=128, kernel_size=filter_size, padding=\"same\", activation=act_fun))\n",
    "model.add(MaxPool2D(pool_size=(2,2),strides=(2,2)))\n",
    "\n",
    "model.add(Flatten())\n",
    "model.add(Dense(units=200, activation=act_fun, kernel_initializer=\"he_normal\"))\n",
    "model.add(Dropout(0.5))\n",
    "model.add(Dense(class_count, activation=\"softmax\"))\n",
    "\n",
    "model.summary()\n",
    "\n",
    "# Model COMPILE and FIT\n",
    "history, new_params = run_model(model, model_name, params)\n",
    "params = new_params\n",
    "# Model EVALUATE\n",
    "eval_metrics, cf_matrix, confusion_matrix_df, results_df = get_eval_metrics(history, model, test_set, params)\n",
    "\n",
    "save_plots(history, output_folder, model_name, confusion_matrix_df)\n",
    "\n",
    "params_to_save = params\n",
    "params_to_save[7] = str(params_to_save[7]).replace(',', \";\")\n",
    "params_to_save[8] = str(params_to_save[8]).replace(',', \";\")\n",
    "params_to_save\n",
    "\n",
    "new_row = [model_id,\n",
    "           model_name,\n",
    "           params_to_save,\n",
    "           eval_metrics,\n",
    "           len(training_df), # number of images in the training set\n",
    "           len(validation_df), # number of images in the validation set\n",
    "           len(test_df), # number of images in the test set\n",
    "          ]\n",
    "\n",
    "new_row = flatten(new_row)\n",
    "\n",
    "append_results_to_csv(new_row)"
   ]
  }
 ],
 "metadata": {
  "kernelspec": {
   "display_name": "Python 3",
   "language": "python",
   "name": "python3"
  },
  "language_info": {
   "codemirror_mode": {
    "name": "ipython",
    "version": 3
   },
   "file_extension": ".py",
   "mimetype": "text/x-python",
   "name": "python",
   "nbconvert_exporter": "python",
   "pygments_lexer": "ipython3",
   "version": "3.7.12"
  },
  "papermill": {
   "default_parameters": {},
   "duration": 4325.758509,
   "end_time": "2022-12-12T17:34:28.125465",
   "environment_variables": {},
   "exception": null,
   "input_path": "__notebook__.ipynb",
   "output_path": "__notebook__.ipynb",
   "parameters": {},
   "start_time": "2022-12-12T16:22:22.366956",
   "version": "2.3.4"
  }
 },
 "nbformat": 4,
 "nbformat_minor": 5
}
